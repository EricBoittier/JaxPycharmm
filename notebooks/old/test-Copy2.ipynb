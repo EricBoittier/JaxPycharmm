{
 "cells": [
  {
   "cell_type": "code",
   "execution_count": 1,
   "id": "3b921362-cde4-4eee-a271-6cc5f60c360b",
   "metadata": {
    "scrolled": true
   },
   "outputs": [
    {
     "name": "stdout",
     "output_type": "stream",
     "text": [
      "[CudaDevice(id=0)]\n",
      "gpu\n",
      "[CudaDevice(id=0)]\n"
     ]
    },
    {
     "data": {
      "text/plain": [
       "<Figure size 100x100 with 0 Axes>"
      ]
     },
     "metadata": {},
     "output_type": "display_data"
    }
   ],
   "source": [
    "%load_ext autoreload\n",
    "%autoreload 2\n",
    "import os\n",
    "# Set environment variables\n",
    "os.environ[\"XLA_PYTHON_CLIENT_MEM_FRACTION\"] = \".99\"\n",
    "os.environ[\"CUDA_VISIBLE_DEVICES\"] = \"1\"\n",
    "import jax\n",
    "# from jax import config\n",
    "# config.update('jax_enable_x64', True)\n",
    "\n",
    "# Check JAX configuration\n",
    "devices = jax.local_devices()\n",
    "print(devices)\n",
    "print(jax.default_backend())\n",
    "print(jax.devices())\n",
    "\n",
    "\n",
    "from model import *\n",
    "from model import EF, train_model\n",
    "import jax\n",
    "import optax\n",
    "import e3x\n",
    "\n",
    "from dcmnet.analysis import create_model_and_params\n",
    "from dcmnet.data import prepare_batches, prepare_datasets\n",
    "import numpy as np"
   ]
  },
  {
   "cell_type": "code",
   "execution_count": null,
   "id": "6e906124-ae47-4de5-b47b-8d559924a859",
   "metadata": {},
   "outputs": [],
   "source": []
  },
  {
   "cell_type": "code",
   "execution_count": 2,
   "id": "2a322ffa-e951-41d7-b02e-f5158cb1bc3c",
   "metadata": {},
   "outputs": [
    {
     "name": "stderr",
     "output_type": "stream",
     "text": [
      "2024-11-20 13:12:04.122358: W external/xla/xla/service/gpu/nvptx_compiler.cc:930] The NVIDIA driver's CUDA version is 12.4 which is older than the PTX compiler version 12.6.77. Because the driver is older than the PTX compiler version, XLA is disabling parallel compilation, which may slow down compilation. You should update your NVIDIA driver or use the NVIDIA-provided CUDA forward compatibility packages.\n"
     ]
    }
   ],
   "source": [
    "data_key, train_key = jax.random.split(\n",
    "    jax.random.PRNGKey(19), 2)"
   ]
  },
  {
   "cell_type": "code",
   "execution_count": 3,
   "id": "256970dd-8bbb-4c6b-bc6d-6b634307e279",
   "metadata": {},
   "outputs": [],
   "source": [
    "files = [\"/pchem-data/meuwly/boittier/home/dataset_aaa.npz\"]"
   ]
  },
  {
   "cell_type": "code",
   "execution_count": 4,
   "id": "7cb0cefc-9350-4d10-90aa-8bee860ce2c6",
   "metadata": {},
   "outputs": [
    {
     "data": {
      "text/plain": [
       "array([34, 34, 34, ..., 34, 34, 34])"
      ]
     },
     "execution_count": 4,
     "metadata": {},
     "output_type": "execute_result"
    }
   ],
   "source": [
    "_ = np.load(files[0])\n",
    "_[\"N\"]"
   ]
  },
  {
   "cell_type": "code",
   "execution_count": 5,
   "id": "fefefdd1-f0f4-47d6-8bde-161652d256d8",
   "metadata": {},
   "outputs": [],
   "source": [
    "files = [\"/pchem-data/meuwly/boittier/home/dataset_aaa.npz\"]"
   ]
  },
  {
   "cell_type": "code",
   "execution_count": 6,
   "id": "f93c3356-c571-4ced-86d8-025ce983e274",
   "metadata": {},
   "outputs": [],
   "source": [
    "NATOMS = 34"
   ]
  },
  {
   "cell_type": "code",
   "execution_count": 7,
   "id": "4db96e82-3c8c-4c35-8b34-b46740a539e2",
   "metadata": {},
   "outputs": [
    {
     "name": "stdout",
     "output_type": "stream",
     "text": [
      "shape (12500, 34, 3) not failed [    0     1     2 ... 12497 12498 12499]\n",
      "dataR (12500, 34, 3)\n",
      "D (12500, 3)\n",
      "Q 1 (12500,) 12500\n",
      "Q (12500,)\n",
      "R (12500, 34, 3)\n",
      "(12500, 34, 3)\n",
      "['R', 'Z', 'F', 'E', 'N', 'D', 'Q']\n",
      "12500\n",
      "0 R 12500 (12500, 34, 3)\n",
      "1 Z 12500 (12500, 34)\n",
      "2 F 12500 (12500, 34, 3)\n",
      "3 E 12500 (12500, 1)\n",
      "4 N 12500 (12500, 1)\n",
      "5 D 12500 (12500, 3)\n",
      "6 Q 12500 (12500,)\n"
     ]
    }
   ],
   "source": [
    "train_data, valid_data = prepare_datasets(data_key, 10000, 2500,\n",
    "                                          files, \n",
    "                                          clip_esp=False, natoms=NATOMS, clean=False)"
   ]
  },
  {
   "cell_type": "code",
   "execution_count": 8,
   "id": "5f6f797c-e361-4a33-94b7-7411f99f6fff",
   "metadata": {},
   "outputs": [
    {
     "data": {
      "text/plain": [
       "EF(\n",
       "    # attributes\n",
       "    features = 64\n",
       "    max_degree = 2\n",
       "    num_iterations = 2\n",
       "    num_basis_functions = 64\n",
       "    cutoff = 12.0\n",
       "    max_atomic_number = 32\n",
       "    charges = False\n",
       ")"
      ]
     },
     "execution_count": 8,
     "metadata": {},
     "output_type": "execute_result"
    }
   ],
   "source": [
    "model = EF(\n",
    "    # attributes\n",
    "    features = 64,\n",
    "    max_degree = 2,\n",
    "    num_iterations = 2,\n",
    "    num_basis_functions = 64,\n",
    "    cutoff = 12.0,\n",
    "    max_atomic_number = 32,\n",
    "    charges = False,\n",
    ")\n",
    "model"
   ]
  },
  {
   "cell_type": "code",
   "execution_count": 9,
   "id": "a2c2b0ac-f2b0-4c31-8d5d-953848543bf0",
   "metadata": {},
   "outputs": [],
   "source": [
    "batch_size = 1"
   ]
  },
  {
   "cell_type": "code",
   "execution_count": 10,
   "id": "d3c00952-8051-420e-a2ea-f7a8d70b8f6b",
   "metadata": {},
   "outputs": [
    {
     "name": "stdout",
     "output_type": "stream",
     "text": [
      "R (34, 3) float64\n",
      "Z (34,) int64\n",
      "F (34, 3) float64\n",
      "E (1, 1) float64\n",
      "dst_idx (1122,) int32\n",
      "src_idx (1122,) int32\n",
      "batch_segments (34,) int32\n"
     ]
    }
   ],
   "source": [
    "train_batches = prepare_batches(data_key, train_data, batch_size, \n",
    "                                data_keys=[\"Z\", \"R\", \"E\", \"F\"], \n",
    "                                    num_atoms=NATOMS)\n",
    "for _ in train_batches[0].keys():\n",
    "    print(_,train_batches[0][_].shape, train_batches[0][_].dtype)"
   ]
  },
  {
   "cell_type": "code",
   "execution_count": 139,
   "id": "5dcfeaac-c35e-497a-8594-fd6c1415a73a",
   "metadata": {},
   "outputs": [
    {
     "data": {
      "text/plain": [
       "(dtype('float64'), dtype('float64'))"
      ]
     },
     "execution_count": 139,
     "metadata": {},
     "output_type": "execute_result"
    }
   ],
   "source": [
    "train_batches[0][\"F\"].dtype,train_batches[1][\"F\"].dtype"
   ]
  },
  {
   "cell_type": "code",
   "execution_count": null,
   "id": "06571396-b897-4b4a-9081-b53e9650413c",
   "metadata": {
    "scrolled": true
   },
   "outputs": [
    {
     "name": "stdout",
     "output_type": "stream",
     "text": [
      "init_key.dtype uint32\n",
      "epoch:   1                    train:   valid:\n",
      "    loss [a.u.]              2102.744  711.781\n",
      "    energy mae [kcal/mol]      4.309    2.309\n",
      "    forces mae [kcal/mol/Å]    0.583    0.376\n",
      "epoch:   2                    train:   valid:\n",
      "    loss [a.u.]              454.231  338.514\n",
      "    energy mae [kcal/mol]      1.589    0.997\n",
      "    forces mae [kcal/mol/Å]    0.297    0.261\n"
     ]
    }
   ],
   "source": [
    "batch_size = 1\n",
    "params = train_model(\n",
    "    train_key,\n",
    "    model,\n",
    "    train_data,\n",
    "    valid_data,\n",
    "    5,\n",
    "    0.0001, \n",
    "    5000,\n",
    "    0,\n",
    "    batch_size,\n",
    "    num_atoms=NATOMS,\n",
    "    # restart = params,\n",
    ")"
   ]
  },
  {
   "cell_type": "code",
   "execution_count": 268,
   "id": "21df3035-822a-43e5-8144-2133b06e9c41",
   "metadata": {},
   "outputs": [],
   "source": [
    "# params2 = train_model(\n",
    "#     train_key,\n",
    "#     model,\n",
    "#     train_data,\n",
    "#     valid_data,\n",
    "#     2000,\n",
    "#     0.0001, \n",
    "#     50,\n",
    "#     batch_size,\n",
    "#     num_atoms=NATOMS,\n",
    "#     restart = params,\n",
    "# )\n",
    "batch_size = 50"
   ]
  },
  {
   "cell_type": "code",
   "execution_count": 269,
   "id": "009c9d84-7ae6-4c3d-9239-8a4af18ab739",
   "metadata": {
    "scrolled": true
   },
   "outputs": [],
   "source": [
    "valid_batches = prepare_batches(data_key, valid_data, batch_size,\n",
    "                              num_atoms=NATOMS, \n",
    "                              data_keys=['R', 'Z', 'F', 'E',\n",
    "                               'dst_idx', 'src_idx', 'batch_segments'])\n",
    "# @jax.jit\n",
    "def eval():\n",
    "    Es, predEs, Fs, predFs = [], [], [], []\n",
    "    for i, batch in enumerate(valid_batches[:]):\n",
    "      energy, forces = model.apply(\n",
    "        params,\n",
    "        atomic_numbers=batch['Z'],\n",
    "        positions=batch['R'],\n",
    "        dst_idx=batch['dst_idx'],\n",
    "        src_idx=batch['src_idx'],\n",
    "        batch_segments=batch['batch_segments'],\n",
    "        batch_size=batch_size\n",
    "      )\n",
    "      Es.append(batch[\"E\"])\n",
    "      predEs.append(energy)\n",
    "      Fs.append(batch[\"F\"])\n",
    "      predFs.append(forces)\n",
    "    \n",
    "    Es = np.array(Es).flatten()\n",
    "    predEs = np.array(predEs).flatten()\n",
    "    Fs = np.array(Fs).flatten()\n",
    "    predFs = np.array(predFs).flatten()\n",
    "    return Es, predEs, Fs, predFs \n",
    "\n",
    "\n",
    "Es, predEs, Fs, predFs = eval()\n",
    "\n",
    "Es = Es /(ase.units.kcal/ase.units.mol)\n",
    "predEs = predEs /(ase.units.kcal/ase.units.mol)\n",
    "Fs = Fs /(ase.units.kcal/ase.units.mol)\n",
    "predFs = predFs /(ase.units.kcal/ase.units.mol)"
   ]
  },
  {
   "cell_type": "code",
   "execution_count": 270,
   "id": "cfeb4970-2f3d-48ac-b98e-19add52b6e9a",
   "metadata": {},
   "outputs": [
    {
     "data": {
      "text/plain": [
       "536.7342"
      ]
     },
     "execution_count": 270,
     "metadata": {},
     "output_type": "execute_result"
    }
   ],
   "source": [
    "predFs.max()"
   ]
  },
  {
   "cell_type": "code",
   "execution_count": 271,
   "id": "b42a4128-33ec-4eed-8c27-973211e6185c",
   "metadata": {},
   "outputs": [
    {
     "name": "stdout",
     "output_type": "stream",
     "text": [
      "1.394978407373119 1.2899259469717228\n"
     ]
    },
    {
     "data": {
      "image/png": "[encoded data removed]",
      "text/plain": [
       "<Figure size 640x480 with 1 Axes>"
      ]
     },
     "metadata": {},
     "output_type": "display_data"
    },
    {
     "name": "stdout",
     "output_type": "stream",
     "text": [
      "0.8558507778601097 0.5807556923595959\n"
     ]
    },
    {
     "data": {
      "image/png": "[encoded data removed]",
      "text/plain": [
       "<Figure size 640x480 with 1 Axes>"
      ]
     },
     "metadata": {},
     "output_type": "display_data"
    }
   ],
   "source": [
    "import ase\n",
    "\n",
    "import matplotlib.pyplot as plt\n",
    "ERROR = Es - predEs\n",
    "RMSE = np.mean(ERROR**2)**0.5\n",
    "MAE = np.mean(abs(ERROR))\n",
    "print(RMSE, MAE)\n",
    "\n",
    "plt.scatter(Es, predEs, alpha=0.05)\n",
    "ax = plt.gca()\n",
    "ax.set_aspect(\"equal\")\n",
    "plt.show()\n",
    "plt.scatter(Fs, predFs, alpha=0.01)\n",
    "ax = plt.gca()\n",
    "ax.set_aspect(\"equal\")\n",
    "\n",
    "ERROR = Fs - predFs\n",
    "RMSE = np.mean(ERROR**2)**0.5\n",
    "MAE = np.mean(abs(ERROR))\n",
    "print(RMSE, MAE)"
   ]
  },
  {
   "cell_type": "code",
   "execution_count": 267,
   "id": "be678a77-e01e-44e0-a680-5a2f657648e3",
   "metadata": {},
   "outputs": [],
   "source": [
    "import pickle\n",
    "with open(f\"checkpoints/test2.pkl\", \"wb\") as file:\n",
    "    pickle.dump(params, file)"
   ]
  },
  {
   "cell_type": "code",
   "execution_count": 252,
   "id": "11e3d793-6b87-4b49-8d3a-889a9244dd5c",
   "metadata": {},
   "outputs": [],
   "source": [
    "# @jax.jit\n",
    "# def evaluate_energies_and_forces(atomic_numbers, positions, dst_idx, src_idx):\n",
    "#   return model.apply(params,\n",
    "#     atomic_numbers=atomic_numbers,\n",
    "#     positions=positions,\n",
    "#     dst_idx=dst_idx,\n",
    "#     src_idx=src_idx,\n",
    "#   )\n"
   ]
  },
  {
   "cell_type": "code",
   "execution_count": null,
   "id": "34527f9d-25dd-48ab-bf73-fd50a477139c",
   "metadata": {},
   "outputs": [],
   "source": []
  },
  {
   "cell_type": "code",
   "execution_count": null,
   "id": "042a4c62-d75e-44af-8859-9ce7d30b1456",
   "metadata": {},
   "outputs": [],
   "source": []
  },
  {
   "cell_type": "code",
   "execution_count": null,
   "id": "6c7eaa76-a0ab-47e2-9d44-fd4d51f51a0c",
   "metadata": {},
   "outputs": [],
   "source": []
  },
  {
   "cell_type": "code",
   "execution_count": null,
   "id": "6d8297b9-4c0f-4d4d-9d5b-a8ecd56d99d3",
   "metadata": {},
   "outputs": [],
   "source": []
  },
  {
   "cell_type": "code",
   "execution_count": 253,
   "id": "ac3a1492-cbcb-47d9-bdd1-488aac1aeec4",
   "metadata": {},
   "outputs": [],
   "source": [
    "import io\n",
    "import ase\n",
    "import ase.calculators.calculator as ase_calc\n",
    "import ase.io as ase_io\n",
    "from ase.md.velocitydistribution import MaxwellBoltzmannDistribution, Stationary, ZeroRotation\n",
    "from ase.md.verlet import VelocityVerlet\n",
    "import ase.optimize as ase_opt\n",
    "import matplotlib.pyplot as plt\n",
    "import py3Dmol"
   ]
  },
  {
   "cell_type": "code",
   "execution_count": 254,
   "id": "7fa26f2c-b971-4a57-96f9-4dc08cc3360d",
   "metadata": {},
   "outputs": [],
   "source": [
    "@jax.jit\n",
    "def evaluate_energies_and_forces(atomic_numbers, positions, dst_idx, src_idx):\n",
    "  return model.apply(params,\n",
    "    atomic_numbers=atomic_numbers,\n",
    "    positions=positions,\n",
    "    dst_idx=dst_idx,\n",
    "    src_idx=src_idx,\n",
    "  )\n",
    "\n",
    "\n",
    "class MessagePassingCalculator(ase_calc.Calculator):\n",
    "  implemented_properties = [\"energy\", \"forces\"]\n",
    "\n",
    "  def calculate(self, atoms, properties, system_changes = ase.calculators.calculator.all_changes):\n",
    "    ase_calc.Calculator.calculate(self, atoms, properties, system_changes)\n",
    "    dst_idx, src_idx = e3x.ops.sparse_pairwise_indices(len(atoms))\n",
    "    energy, forces = evaluate_energies_and_forces(\n",
    "      atomic_numbers=atoms.get_atomic_numbers(),\n",
    "      positions=atoms.get_positions(),\n",
    "      dst_idx=dst_idx,\n",
    "      src_idx=src_idx\n",
    "    )\n",
    "\n",
    "    self.results['energy'] = energy.squeeze() #* (ase.units.kcal/ase.units.mol)\n",
    "    self.results['forces'] = forces #* (ase.units.kcal/ase.units.mol) #/ase.units.Angstrom"
   ]
  },
  {
   "cell_type": "code",
   "execution_count": 255,
   "id": "8156d1b8-e9fc-47eb-8843-788032a00c49",
   "metadata": {
    "scrolled": true
   },
   "outputs": [
    {
     "data": {
      "application/3dmoljs_load.v0": "<div id=\"3dmolviewer_17321015140235202\"  style=\"position: relative; width: 640px; height: 480px;\">\n        <p id=\"3dmolwarning_17321015140235202\" style=\"background-color:#ffcccc;color:black\">3Dmol.js failed to load for some reason.  Please check your browser console for error messages.<br></p>\n        </div>\n<script>\n\nvar loadScriptAsync = function(uri){\n  return new Promise((resolve, reject) => {\n    //this is to ignore the existence of requirejs amd\n    var savedexports, savedmodule;\n    if (typeof exports !== 'undefined') savedexports = exports;\n    else exports = {}\n    if (typeof module !== 'undefined') savedmodule = module;\n    else module = {}\n\n    var tag = document.createElement('script');\n    tag.src = uri;\n    tag.async = true;\n    tag.onload = () => {\n        exports = savedexports;\n        module = savedmodule;\n        resolve();\n    };\n  var firstScriptTag = document.getElementsByTagName('script')[0];\n  firstScriptTag.parentNode.insertBefore(tag, firstScriptTag);\n});\n};\n\nif(typeof $3Dmolpromise === 'undefined') {\n$3Dmolpromise = null;\n  $3Dmolpromise = loadScriptAsync('https://cdnjs.cloudflare.com/ajax/libs/3Dmol/2.4.2/3Dmol-min.js');\n}\n\nvar viewer_17321015140235202 = null;\nvar warn = document.getElementById(\"3dmolwarning_17321015140235202\");\nif(warn) {\n    warn.parentNode.removeChild(warn);\n}\n$3Dmolpromise.then(function() {\nviewer_17321015140235202 = $3Dmol.createViewer(document.getElementById(\"3dmolviewer_17321015140235202\"),{backgroundColor:\"white\"});\nviewer_17321015140235202.zoomTo();\n\tviewer_17321015140235202.addModel(\"34\\n\\nN       4.575416838147623     -1.752816406900392      0.543455699787421\\nH       5.581787859418375     -1.404456106836305      0.504472473964972\\nH       4.417969976880533     -2.014910308534608     -0.439607849015909\\nH       4.414149557569010     -2.609505263978944      0.981540480957312\\nC       3.560003315427286     -0.686778573209748      0.935744205818457\\nH       3.670308147885782     -0.528643814737306      1.961828032837195\\nC       3.786517416455728      0.526219191139236      0.032563427791876\\nH       3.634918486096841      0.197295026963248     -1.041357597007471\\nH       3.200809036710245      1.374909313505187      0.429021219120306\\nH       4.756462370374186      0.949336024110808      0.247271815643591\\nC       2.105300461270792     -1.118729201967225      0.851079384193701\\nO       1.753496681668741     -2.301933852846131      0.899254123077673\\nN       1.194598232724649     -0.041668115074143      0.735305169925970\\nH       1.572921430089457      0.829796286409392      0.371500173912329\\nC      -0.244318012750762     -0.248077688629136      0.973998109207434\\nH      -0.609115953228491     -1.284176794702516      0.788742700920386\\nC      -0.639824743053930      0.248285250847831      2.335692445144934\\nH      -1.771282042047995      0.394579501932158      2.391184846267981\\nH      -0.318597658208626     -0.586655227357850      3.151222268448157\\nH      -0.109569067738074      1.246308120077148      2.515828887329382\\nC      -0.929435218355673      0.596694858854308     -0.023735647692400\\nO      -0.352402018985766      1.470891388242736     -0.667741497649866\\nN      -2.178284967920797      0.167648660128608     -0.336382722153383\\nH      -2.579130137941855     -0.527110962087617      0.242658118114752\\nC      -2.941592896959799      0.735328288858428     -1.461991628303247\\nH      -2.328393901369589      1.473391803091064     -2.111386736526208\\nC      -3.295109237215537     -0.374372212106690     -2.445407827987390\\nH      -2.306628430864828     -0.650128273183808     -2.919517716064172\\nH      -3.883443082354086     -1.259511915857301     -2.056172093047815\\nH      -3.786838973543662     -0.066141536349759     -3.352537592544275\\nC      -4.304257596514242      1.442688496892943     -0.886902114047723\\nO      -4.684160436174887      1.438161881750121      0.245171109543127\\nO      -5.050367558977621      2.039032133405700     -1.891360839500147\\nH      -5.911907876513022      2.325050028150573     -1.503432830466944\\n\",\"xyz\");\n\tviewer_17321015140235202.setStyle({\"stick\": {\"radius\": 0.15}, \"sphere\": {\"scale\": 0.25}});\nviewer_17321015140235202.render();\n});\n</script>",
      "text/html": [
       "<div id=\"3dmolviewer_17321015140235202\"  style=\"position: relative; width: 640px; height: 480px;\">\n",
       "        <p id=\"3dmolwarning_17321015140235202\" style=\"background-color:#ffcccc;color:black\">3Dmol.js failed to load for some reason.  Please check your browser console for error messages.<br></p>\n",
       "        </div>\n",
       "<script>\n",
       "\n",
       "var loadScriptAsync = function(uri){\n",
       "  return new Promise((resolve, reject) => {\n",
       "    //this is to ignore the existence of requirejs amd\n",
       "    var savedexports, savedmodule;\n",
       "    if (typeof exports !== 'undefined') savedexports = exports;\n",
       "    else exports = {}\n",
       "    if (typeof module !== 'undefined') savedmodule = module;\n",
       "    else module = {}\n",
       "\n",
       "    var tag = document.createElement('script');\n",
       "    tag.src = uri;\n",
       "    tag.async = true;\n",
       "    tag.onload = () => {\n",
       "        exports = savedexports;\n",
       "        module = savedmodule;\n",
       "        resolve();\n",
       "    };\n",
       "  var firstScriptTag = document.getElementsByTagName('script')[0];\n",
       "  firstScriptTag.parentNode.insertBefore(tag, firstScriptTag);\n",
       "});\n",
       "};\n",
       "\n",
       "if(typeof $3Dmolpromise === 'undefined') {\n",
       "$3Dmolpromise = null;\n",
       "  $3Dmolpromise = loadScriptAsync('https://cdnjs.cloudflare.com/ajax/libs/3Dmol/2.4.2/3Dmol-min.js');\n",
       "}\n",
       "\n",
       "var viewer_17321015140235202 = null;\n",
       "var warn = document.getElementById(\"3dmolwarning_17321015140235202\");\n",
       "if(warn) {\n",
       "    warn.parentNode.removeChild(warn);\n",
       "}\n",
       "$3Dmolpromise.then(function() {\n",
       "viewer_17321015140235202 = $3Dmol.createViewer(document.getElementById(\"3dmolviewer_17321015140235202\"),{backgroundColor:\"white\"});\n",
       "viewer_17321015140235202.zoomTo();\n",
       "\tviewer_17321015140235202.addModel(\"34\\n\\nN       4.575416838147623     -1.752816406900392      0.543455699787421\\nH       5.581787859418375     -1.404456106836305      0.504472473964972\\nH       4.417969976880533     -2.014910308534608     -0.439607849015909\\nH       4.414149557569010     -2.609505263978944      0.981540480957312\\nC       3.560003315427286     -0.686778573209748      0.935744205818457\\nH       3.670308147885782     -0.528643814737306      1.961828032837195\\nC       3.786517416455728      0.526219191139236      0.032563427791876\\nH       3.634918486096841      0.197295026963248     -1.041357597007471\\nH       3.200809036710245      1.374909313505187      0.429021219120306\\nH       4.756462370374186      0.949336024110808      0.247271815643591\\nC       2.105300461270792     -1.118729201967225      0.851079384193701\\nO       1.753496681668741     -2.301933852846131      0.899254123077673\\nN       1.194598232724649     -0.041668115074143      0.735305169925970\\nH       1.572921430089457      0.829796286409392      0.371500173912329\\nC      -0.244318012750762     -0.248077688629136      0.973998109207434\\nH      -0.609115953228491     -1.284176794702516      0.788742700920386\\nC      -0.639824743053930      0.248285250847831      2.335692445144934\\nH      -1.771282042047995      0.394579501932158      2.391184846267981\\nH      -0.318597658208626     -0.586655227357850      3.151222268448157\\nH      -0.109569067738074      1.246308120077148      2.515828887329382\\nC      -0.929435218355673      0.596694858854308     -0.023735647692400\\nO      -0.352402018985766      1.470891388242736     -0.667741497649866\\nN      -2.178284967920797      0.167648660128608     -0.336382722153383\\nH      -2.579130137941855     -0.527110962087617      0.242658118114752\\nC      -2.941592896959799      0.735328288858428     -1.461991628303247\\nH      -2.328393901369589      1.473391803091064     -2.111386736526208\\nC      -3.295109237215537     -0.374372212106690     -2.445407827987390\\nH      -2.306628430864828     -0.650128273183808     -2.919517716064172\\nH      -3.883443082354086     -1.259511915857301     -2.056172093047815\\nH      -3.786838973543662     -0.066141536349759     -3.352537592544275\\nC      -4.304257596514242      1.442688496892943     -0.886902114047723\\nO      -4.684160436174887      1.438161881750121      0.245171109543127\\nO      -5.050367558977621      2.039032133405700     -1.891360839500147\\nH      -5.911907876513022      2.325050028150573     -1.503432830466944\\n\",\"xyz\");\n",
       "\tviewer_17321015140235202.setStyle({\"stick\": {\"radius\": 0.15}, \"sphere\": {\"scale\": 0.25}});\n",
       "viewer_17321015140235202.render();\n",
       "});\n",
       "</script>"
      ]
     },
     "metadata": {},
     "output_type": "display_data"
    }
   ],
   "source": [
    "# Initialize atoms object and attach calculator.\n",
    "i = 1\n",
    "\n",
    "Natoms = int(train_data['N'][i])\n",
    "R = train_data['R'][i][:Natoms] - np.mean(train_data['R'][i][:Natoms], axis=0)\n",
    "# print(R)\n",
    "atoms = ase.Atoms(train_data['Z'][i][:Natoms], R )\n",
    "atoms.set_calculator(MessagePassingCalculator())\n",
    "\n",
    "# Write structure to xyz file.\n",
    "xyz = io.StringIO()\n",
    "ase_io.write(xyz, atoms, format='xyz')\n",
    "\n",
    "# Visualize the structure with py3Dmol.\n",
    "view = py3Dmol.view()\n",
    "view.addModel(xyz.getvalue(), 'xyz')\n",
    "view.setStyle({'stick': {'radius': 0.15}, 'sphere': {'scale': 0.25}})\n",
    "view.show()\n",
    "\n"
   ]
  },
  {
   "cell_type": "code",
   "execution_count": 256,
   "id": "a3bc1af5-d283-489e-b00a-7e6d0b644d38",
   "metadata": {
    "scrolled": true
   },
   "outputs": [
    {
     "name": "stdout",
     "output_type": "stream",
     "text": [
      "      Step     Time          Energy          fmax\n",
      "BFGS:    0 12:18:36     -133.316544        3.548657\n",
      "BFGS:    1 12:18:36     -134.246887        3.093190\n",
      "BFGS:    2 12:18:37     -134.761444        1.757648\n",
      "BFGS:    3 12:18:37     -135.109268        1.573385\n",
      "BFGS:    4 12:18:37     -135.271072        1.053639\n",
      "BFGS:    5 12:18:37     -135.353394        0.567863\n",
      "BFGS:    6 12:18:37     -135.397003        0.464565\n",
      "BFGS:    7 12:18:37     -135.438400        0.619007\n",
      "BFGS:    8 12:18:37     -135.474487        0.472463\n",
      "BFGS:    9 12:18:37     -135.508789        0.349117\n",
      "BFGS:   10 12:18:37     -135.539658        0.427012\n",
      "BFGS:   11 12:18:37     -135.567383        0.505469\n",
      "BFGS:   12 12:18:37     -135.591812        0.318123\n",
      "BFGS:   13 12:18:37     -135.612274        0.403930\n",
      "BFGS:   14 12:18:37     -135.634979        0.465900\n",
      "BFGS:   15 12:18:37     -135.658432        0.555564\n",
      "BFGS:   16 12:18:37     -135.677826        0.280459\n",
      "BFGS:   17 12:18:37     -135.688477        0.265986\n",
      "BFGS:   18 12:18:37     -135.698578        0.295631\n",
      "BFGS:   19 12:18:37     -135.710037        0.423091\n",
      "BFGS:   20 12:18:37     -135.722290        0.336525\n",
      "BFGS:   21 12:18:37     -135.736801        0.245573\n",
      "BFGS:   22 12:18:37     -135.743866        0.213718\n",
      "BFGS:   23 12:18:37     -135.752853        0.341947\n",
      "BFGS:   24 12:18:37     -135.763489        0.326689\n",
      "BFGS:   25 12:18:37     -135.775375        0.212743\n",
      "BFGS:   26 12:18:37     -135.785080        0.235894\n",
      "BFGS:   27 12:18:38     -135.800674        0.318909\n",
      "BFGS:   28 12:18:38     -135.810760        0.369958\n",
      "BFGS:   29 12:18:38     -135.827301        0.240967\n",
      "BFGS:   30 12:18:38     -135.838104        0.285459\n",
      "BFGS:   31 12:18:38     -135.852097        0.238877\n",
      "BFGS:   32 12:18:38     -135.859772        0.280968\n",
      "BFGS:   33 12:18:38     -135.864883        0.158075\n",
      "BFGS:   34 12:18:38     -135.872940        0.120422\n",
      "BFGS:   35 12:18:38     -135.876999        0.160703\n",
      "BFGS:   36 12:18:38     -135.880646        0.172952\n",
      "BFGS:   37 12:18:38     -135.880707        0.099714\n",
      "BFGS:   38 12:18:38     -135.883804        0.081163\n",
      "BFGS:   39 12:18:38     -135.884415        0.101373\n",
      "BFGS:   40 12:18:38     -135.886841        0.121534\n",
      "BFGS:   41 12:18:38     -135.890625        0.081289\n",
      "BFGS:   42 12:18:38     -135.889862        0.074010\n",
      "BFGS:   43 12:18:38     -135.892365        0.087808\n",
      "BFGS:   44 12:18:38     -135.894775        0.115766\n",
      "BFGS:   45 12:18:38     -135.895844        0.084077\n",
      "BFGS:   46 12:18:38     -135.897812        0.071488\n",
      "BFGS:   47 12:18:38     -135.896545        0.074618\n",
      "BFGS:   48 12:18:38     -135.900284        0.106915\n",
      "BFGS:   49 12:18:38     -135.901505        0.097015\n",
      "BFGS:   50 12:18:39     -135.902985        0.079167\n",
      "BFGS:   51 12:18:39     -135.904343        0.086951\n",
      "BFGS:   52 12:18:39     -135.904953        0.109832\n",
      "BFGS:   53 12:18:39     -135.910873        0.128246\n",
      "BFGS:   54 12:18:39     -135.912430        0.083125\n",
      "BFGS:   55 12:18:39     -135.914276        0.078936\n",
      "BFGS:   56 12:18:39     -135.914856        0.070191\n",
      "BFGS:   57 12:18:39     -135.916275        0.077482\n",
      "BFGS:   58 12:18:39     -135.916519        0.057237\n",
      "BFGS:   59 12:18:39     -135.917130        0.053213\n",
      "BFGS:   60 12:18:39     -135.920563        0.052403\n",
      "BFGS:   61 12:18:39     -135.919891        0.052437\n",
      "BFGS:   62 12:18:39     -135.920883        0.049297\n",
      "BFGS:   63 12:18:39     -135.921524        0.051851\n",
      "BFGS:   64 12:18:39     -135.921692        0.050088\n",
      "BFGS:   65 12:18:39     -135.922150        0.055416\n",
      "BFGS:   66 12:18:39     -135.921082        0.048967\n",
      "BFGS:   67 12:18:39     -135.923126        0.071618\n",
      "BFGS:   68 12:18:39     -135.924973        0.090595\n",
      "BFGS:   69 12:18:39     -135.923569        0.082601\n",
      "BFGS:   70 12:18:39     -135.926102        0.084585\n",
      "BFGS:   71 12:18:39     -135.926865        0.069435\n",
      "BFGS:   72 12:18:39     -135.931061        0.068272\n",
      "BFGS:   73 12:18:40     -135.926834        0.067036\n",
      "BFGS:   74 12:18:40     -135.930008        0.053956\n",
      "BFGS:   75 12:18:40     -135.930603        0.062690\n",
      "BFGS:   76 12:18:40     -135.932083        0.057513\n",
      "BFGS:   77 12:18:40     -135.931137        0.077938\n",
      "BFGS:   78 12:18:40     -135.932693        0.071252\n",
      "BFGS:   79 12:18:40     -135.933701        0.064201\n",
      "BFGS:   80 12:18:40     -135.934601        0.084147\n",
      "BFGS:   81 12:18:40     -135.936447        0.087573\n",
      "BFGS:   82 12:18:40     -135.936737        0.094687\n",
      "BFGS:   83 12:18:40     -135.938278        0.079628\n",
      "BFGS:   84 12:18:40     -135.940048        0.063188\n",
      "BFGS:   85 12:18:40     -135.940765        0.059333\n",
      "BFGS:   86 12:18:40     -135.940475        0.059889\n",
      "BFGS:   87 12:18:40     -135.942123        0.050661\n",
      "BFGS:   88 12:18:40     -135.942505        0.051284\n",
      "BFGS:   89 12:18:40     -135.943863        0.049531\n",
      "BFGS:   90 12:18:40     -135.942871        0.042721\n",
      "BFGS:   91 12:18:40     -135.946976        0.043376\n",
      "BFGS:   92 12:18:40     -135.944504        0.050697\n",
      "BFGS:   93 12:18:40     -135.947083        0.064962\n",
      "BFGS:   94 12:18:40     -135.949493        0.078005\n",
      "BFGS:   95 12:18:40     -135.952713        0.067629\n",
      "BFGS:   96 12:18:40     -135.952988        0.078295\n",
      "BFGS:   97 12:18:40     -135.951843        0.063038\n",
      "BFGS:   98 12:18:41     -135.953506        0.063180\n",
      "BFGS:   99 12:18:41     -135.955292        0.078181\n",
      "BFGS:  100 12:18:41     -135.957031        0.067222\n",
      "BFGS:  101 12:18:41     -135.957565        0.060753\n",
      "BFGS:  102 12:18:41     -135.958618        0.052561\n",
      "BFGS:  103 12:18:41     -135.958679        0.075300\n",
      "BFGS:  104 12:18:41     -135.959167        0.078192\n",
      "BFGS:  105 12:18:41     -135.962723        0.051141\n",
      "BFGS:  106 12:18:41     -135.960571        0.040965\n",
      "BFGS:  107 12:18:41     -135.960297        0.041557\n",
      "BFGS:  108 12:18:41     -135.960068        0.046641\n",
      "BFGS:  109 12:18:41     -135.964188        0.050127\n",
      "BFGS:  110 12:18:41     -135.963974        0.047474\n",
      "BFGS:  111 12:18:41     -135.963730        0.052190\n",
      "BFGS:  112 12:18:41     -135.964951        0.050498\n",
      "BFGS:  113 12:18:41     -135.963303        0.059921\n",
      "BFGS:  114 12:18:41     -135.966568        0.061958\n",
      "BFGS:  115 12:18:41     -135.969421        0.083116\n",
      "BFGS:  116 12:18:41     -135.968170        0.060974\n",
      "BFGS:  117 12:18:41     -135.968781        0.072626\n",
      "BFGS:  118 12:18:41     -135.971985        0.076133\n",
      "BFGS:  119 12:18:41     -135.972626        0.062849\n",
      "BFGS:  120 12:18:41     -135.973206        0.057808\n",
      "BFGS:  121 12:18:42     -135.973862        0.063519\n",
      "BFGS:  122 12:18:42     -135.975250        0.065097\n",
      "BFGS:  123 12:18:42     -135.976868        0.062143\n",
      "BFGS:  124 12:18:42     -135.979065        0.059555\n",
      "BFGS:  125 12:18:42     -135.975525        0.062258\n",
      "BFGS:  126 12:18:42     -135.979599        0.067598\n",
      "BFGS:  127 12:18:42     -135.980927        0.082341\n",
      "BFGS:  128 12:18:42     -135.982590        0.059098\n",
      "BFGS:  129 12:18:42     -135.984375        0.059960\n",
      "BFGS:  130 12:18:42     -135.982834        0.057249\n",
      "BFGS:  131 12:18:42     -135.985519        0.065141\n",
      "BFGS:  132 12:18:42     -135.985657        0.108109\n",
      "BFGS:  133 12:18:42     -135.986328        0.085982\n",
      "BFGS:  134 12:18:42     -135.989212        0.065925\n",
      "BFGS:  135 12:18:42     -135.988968        0.079749\n",
      "BFGS:  136 12:18:42     -135.991104        0.066742\n",
      "BFGS:  137 12:18:42     -135.989319        0.067393\n",
      "BFGS:  138 12:18:42     -135.991898        0.066281\n",
      "BFGS:  139 12:18:42     -135.994064        0.062924\n",
      "BFGS:  140 12:18:42     -135.995834        0.079312\n",
      "BFGS:  141 12:18:42     -135.996262        0.114732\n",
      "BFGS:  142 12:18:42     -135.996231        0.080186\n",
      "BFGS:  143 12:18:42     -135.995667        0.065625\n",
      "BFGS:  144 12:18:42     -135.998947        0.062690\n",
      "BFGS:  145 12:18:43     -135.999832        0.081629\n",
      "BFGS:  146 12:18:43     -136.002991        0.101340\n",
      "BFGS:  147 12:18:43     -136.002502        0.058328\n",
      "BFGS:  148 12:18:43     -136.003174        0.061568\n",
      "BFGS:  149 12:18:43     -136.003632        0.069261\n",
      "BFGS:  150 12:18:43     -136.005508        0.078608\n",
      "BFGS:  151 12:18:43     -136.007767        0.079710\n",
      "BFGS:  152 12:18:43     -136.003998        0.135542\n",
      "BFGS:  153 12:18:43     -136.006195        0.095686\n",
      "BFGS:  154 12:18:43     -136.009109        0.093355\n",
      "BFGS:  155 12:18:43     -136.008865        0.087321\n",
      "BFGS:  156 12:18:43     -136.010864        0.115291\n",
      "BFGS:  157 12:18:43     -136.012711        0.094659\n",
      "BFGS:  158 12:18:43     -136.016937        0.085943\n",
      "BFGS:  159 12:18:43     -136.018753        0.095649\n",
      "BFGS:  160 12:18:43     -136.020218        0.101483\n",
      "BFGS:  161 12:18:43     -136.021103        0.111624\n",
      "BFGS:  162 12:18:43     -136.022919        0.079771\n",
      "BFGS:  163 12:18:43     -136.021027        0.091852\n",
      "BFGS:  164 12:18:43     -136.023895        0.077175\n",
      "BFGS:  165 12:18:43     -136.023575        0.053542\n",
      "BFGS:  166 12:18:43     -136.025864        0.064836\n",
      "BFGS:  167 12:18:43     -136.026779        0.051630\n",
      "BFGS:  168 12:18:43     -136.027893        0.048845\n",
      "BFGS:  169 12:18:43     -136.028900        0.046869\n",
      "BFGS:  170 12:18:44     -136.028458        0.060042\n",
      "BFGS:  171 12:18:44     -136.030151        0.063049\n",
      "BFGS:  172 12:18:44     -136.031876        0.070386\n",
      "BFGS:  173 12:18:44     -136.032028        0.057909\n",
      "BFGS:  174 12:18:44     -136.035172        0.066695\n",
      "BFGS:  175 12:18:44     -136.036392        0.073512\n",
      "BFGS:  176 12:18:44     -136.037415        0.091800\n",
      "BFGS:  177 12:18:44     -136.034210        0.071527\n",
      "BFGS:  178 12:18:44     -136.038361        0.068603\n",
      "BFGS:  179 12:18:44     -136.037888        0.058719\n",
      "BFGS:  180 12:18:44     -136.039612        0.071641\n",
      "BFGS:  181 12:18:44     -136.041443        0.063208\n",
      "BFGS:  182 12:18:44     -136.040894        0.060219\n",
      "BFGS:  183 12:18:44     -136.041016        0.053356\n",
      "BFGS:  184 12:18:44     -136.040802        0.059543\n",
      "BFGS:  185 12:18:44     -136.043579        0.046651\n",
      "BFGS:  186 12:18:44     -136.043365        0.049824\n",
      "BFGS:  187 12:18:44     -136.043701        0.061409\n",
      "BFGS:  188 12:18:44     -136.045380        0.062828\n",
      "BFGS:  189 12:18:44     -136.044754        0.056045\n",
      "BFGS:  190 12:18:44     -136.045517        0.051049\n",
      "BFGS:  191 12:18:44     -136.045609        0.049090\n",
      "BFGS:  192 12:18:44     -136.046875        0.041781\n",
      "BFGS:  193 12:18:44     -136.047012        0.064878\n",
      "BFGS:  194 12:18:44     -136.046814        0.054758\n",
      "BFGS:  195 12:18:44     -136.049240        0.047985\n",
      "BFGS:  196 12:18:44     -136.047791        0.047467\n",
      "BFGS:  197 12:18:45     -136.051453        0.049048\n",
      "BFGS:  198 12:18:45     -136.048920        0.060899\n",
      "BFGS:  199 12:18:45     -136.049973        0.045973\n",
      "BFGS:  200 12:18:45     -136.049789        0.049077\n",
      "BFGS:  201 12:18:45     -136.052750        0.040796\n",
      "BFGS:  202 12:18:45     -136.051483        0.052857\n",
      "BFGS:  203 12:18:45     -136.052719        0.046223\n",
      "BFGS:  204 12:18:45     -136.051498        0.056117\n",
      "BFGS:  205 12:18:45     -136.051529        0.037610\n",
      "BFGS:  206 12:18:45     -136.051926        0.040389\n",
      "BFGS:  207 12:18:45     -136.053726        0.047918\n",
      "BFGS:  208 12:18:45     -136.054062        0.037044\n",
      "BFGS:  209 12:18:45     -136.053589        0.021250\n",
      "BFGS:  210 12:18:45     -136.055008        0.024990\n",
      "BFGS:  211 12:18:45     -136.053314        0.026983\n",
      "BFGS:  212 12:18:45     -136.054138        0.026594\n",
      "BFGS:  213 12:18:45     -136.055069        0.028291\n",
      "BFGS:  214 12:18:45     -136.054276        0.025685\n",
      "BFGS:  215 12:18:45     -136.054794        0.029316\n",
      "BFGS:  216 12:18:45     -136.056396        0.036501\n",
      "BFGS:  217 12:18:45     -136.056168        0.035577\n",
      "BFGS:  218 12:18:45     -136.054337        0.032586\n",
      "BFGS:  219 12:18:45     -136.058243        0.028882\n",
      "BFGS:  220 12:18:45     -136.058517        0.037391\n",
      "BFGS:  221 12:18:45     -136.059891        0.046344\n",
      "BFGS:  222 12:18:45     -136.059357        0.035276\n",
      "BFGS:  223 12:18:46     -136.059036        0.037975\n",
      "BFGS:  224 12:18:46     -136.057968        0.032240\n",
      "BFGS:  225 12:18:46     -136.057587        0.025018\n",
      "BFGS:  226 12:18:46     -136.058044        0.024248\n",
      "BFGS:  227 12:18:46     -136.059448        0.021175\n",
      "BFGS:  228 12:18:46     -136.057877        0.019356\n",
      "BFGS:  229 12:18:46     -136.057983        0.019530\n",
      "BFGS:  230 12:18:46     -136.057388        0.015389\n",
      "BFGS:  231 12:18:46     -136.058594        0.015416\n",
      "BFGS:  232 12:18:46     -136.060120        0.015066\n",
      "BFGS:  233 12:18:46     -136.059662        0.021003\n",
      "BFGS:  234 12:18:46     -136.060440        0.022336\n",
      "BFGS:  235 12:18:46     -136.059692        0.020309\n",
      "BFGS:  236 12:18:46     -136.060089        0.021076\n",
      "BFGS:  237 12:18:46     -136.060043        0.022855\n",
      "BFGS:  238 12:18:46     -136.060547        0.021376\n",
      "BFGS:  239 12:18:46     -136.060989        0.030543\n",
      "BFGS:  240 12:18:46     -136.060287        0.037318\n",
      "BFGS:  241 12:18:46     -136.061111        0.026981\n",
      "BFGS:  242 12:18:46     -136.059479        0.020430\n",
      "BFGS:  243 12:18:46     -136.060410        0.019775\n",
      "BFGS:  244 12:18:46     -136.061218        0.020004\n",
      "BFGS:  245 12:18:46     -136.059464        0.020803\n",
      "BFGS:  246 12:18:46     -136.061417        0.020562\n",
      "BFGS:  247 12:18:46     -136.062653        0.015295\n",
      "BFGS:  248 12:18:46     -136.061188        0.014140\n",
      "BFGS:  249 12:18:47     -136.060013        0.016286\n",
      "BFGS:  250 12:18:47     -136.060806        0.020622\n",
      "BFGS:  251 12:18:47     -136.060547        0.022662\n",
      "BFGS:  252 12:18:47     -136.058990        0.022469\n",
      "BFGS:  253 12:18:47     -136.059219        0.022589\n",
      "BFGS:  254 12:18:47     -136.060104        0.026756\n",
      "BFGS:  255 12:18:47     -136.061340        0.024481\n",
      "BFGS:  256 12:18:47     -136.060257        0.022994\n",
      "BFGS:  257 12:18:47     -136.062637        0.025858\n",
      "BFGS:  258 12:18:47     -136.060608        0.028805\n",
      "BFGS:  259 12:18:47     -136.060471        0.020255\n",
      "BFGS:  260 12:18:47     -136.060547        0.014350\n",
      "BFGS:  261 12:18:47     -136.060440        0.016916\n",
      "BFGS:  262 12:18:47     -136.059692        0.016394\n",
      "BFGS:  263 12:18:47     -136.061264        0.021755\n",
      "BFGS:  264 12:18:47     -136.060883        0.022922\n",
      "BFGS:  265 12:18:47     -136.060989        0.020168\n",
      "BFGS:  266 12:18:47     -136.060059        0.019941\n",
      "BFGS:  267 12:18:47     -136.062378        0.020983\n",
      "BFGS:  268 12:18:47     -136.061417        0.027503\n",
      "BFGS:  269 12:18:47     -136.062378        0.031026\n",
      "BFGS:  270 12:18:47     -136.061264        0.041063\n",
      "BFGS:  271 12:18:47     -136.063660        0.033340\n",
      "BFGS:  272 12:18:47     -136.062286        0.018160\n",
      "BFGS:  273 12:18:47     -136.063217        0.013625\n",
      "BFGS:  274 12:18:48     -136.066269        0.014717\n",
      "BFGS:  275 12:18:48     -136.063965        0.017575\n",
      "BFGS:  276 12:18:48     -136.063156        0.020573\n",
      "BFGS:  277 12:18:48     -136.063019        0.018609\n",
      "BFGS:  278 12:18:48     -136.063553        0.020379\n",
      "BFGS:  279 12:18:48     -136.064056        0.021470\n",
      "BFGS:  280 12:18:48     -136.064972        0.028470\n",
      "BFGS:  281 12:18:48     -136.065201        0.028546\n",
      "BFGS:  282 12:18:48     -136.066833        0.026240\n",
      "BFGS:  283 12:18:48     -136.064407        0.022002\n",
      "BFGS:  284 12:18:48     -136.063751        0.018740\n",
      "BFGS:  285 12:18:48     -136.064301        0.024858\n",
      "BFGS:  286 12:18:48     -136.063217        0.025992\n",
      "BFGS:  287 12:18:48     -136.063446        0.034298\n",
      "BFGS:  288 12:18:48     -136.063156        0.025073\n",
      "BFGS:  289 12:18:48     -136.066010        0.011748\n",
      "BFGS:  290 12:18:48     -136.066147        0.008448\n",
      "BFGS:  291 12:18:48     -136.064316        0.005684\n",
      "BFGS:  292 12:18:48     -136.063095        0.005622\n",
      "BFGS:  293 12:18:48     -136.064041        0.012104\n",
      "BFGS:  294 12:18:48     -136.065140        0.010231\n",
      "BFGS:  295 12:18:48     -136.065643        0.009244\n",
      "BFGS:  296 12:18:48     -136.063583        0.013234\n",
      "BFGS:  297 12:18:49     -136.063492        0.010412\n",
      "BFGS:  298 12:18:49     -136.063431        0.011962\n",
      "BFGS:  299 12:18:49     -136.062393        0.011667\n",
      "BFGS:  300 12:18:49     -136.063538        0.018482\n",
      "BFGS:  301 12:18:49     -136.062836        0.016026\n",
      "BFGS:  302 12:18:49     -136.063690        0.013095\n",
      "BFGS:  303 12:18:49     -136.064774        0.016496\n",
      "BFGS:  304 12:18:49     -136.064774        0.012100\n",
      "BFGS:  305 12:18:49     -136.065445        0.012784\n",
      "BFGS:  306 12:18:49     -136.065735        0.009436\n",
      "BFGS:  307 12:18:49     -136.064957        0.009728\n",
      "BFGS:  308 12:18:49     -136.066483        0.009641\n",
      "BFGS:  309 12:18:49     -136.065033        0.011484\n",
      "BFGS:  310 12:18:49     -136.064804        0.006543\n",
      "BFGS:  311 12:18:49     -136.067078        0.006613\n",
      "BFGS:  312 12:18:49     -136.066559        0.005102\n",
      "BFGS:  313 12:18:49     -136.068069        0.005695\n",
      "BFGS:  314 12:18:49     -136.064453        0.008969\n",
      "BFGS:  315 12:18:49     -136.065994        0.009951\n",
      "BFGS:  316 12:18:49     -136.066437        0.010506\n",
      "BFGS:  317 12:18:49     -136.065308        0.014612\n",
      "BFGS:  318 12:18:49     -136.064804        0.019397\n",
      "BFGS:  319 12:18:49     -136.065918        0.027010\n",
      "BFGS:  320 12:18:50     -136.065186        0.030070\n",
      "BFGS:  321 12:18:50     -136.066971        0.018638\n",
      "BFGS:  322 12:18:50     -136.066422        0.017036\n",
      "BFGS:  323 12:18:50     -136.066589        0.016501\n",
      "BFGS:  324 12:18:50     -136.065628        0.015995\n",
      "BFGS:  325 12:18:50     -136.066757        0.013935\n",
      "BFGS:  326 12:18:50     -136.065872        0.008274\n",
      "BFGS:  327 12:18:50     -136.064240        0.004817\n",
      "BFGS:  328 12:18:50     -136.066391        0.003544\n",
      "BFGS:  329 12:18:50     -136.066925        0.002392\n",
      "BFGS:  330 12:18:50     -136.066406        0.002684\n",
      "BFGS:  331 12:18:50     -136.066925        0.003454\n",
      "BFGS:  332 12:18:50     -136.066849        0.002911\n",
      "BFGS:  333 12:18:50     -136.066238        0.003486\n",
      "BFGS:  334 12:18:50     -136.066635        0.002852\n",
      "BFGS:  335 12:18:50     -136.066620        0.003573\n",
      "BFGS:  336 12:18:50     -136.066772        0.002399\n",
      "BFGS:  337 12:18:50     -136.066666        0.005224\n",
      "BFGS:  338 12:18:50     -136.066544        0.002098\n",
      "BFGS:  339 12:18:50     -136.067444        0.003695\n",
      "BFGS:  340 12:18:50     -136.066544        0.001883\n",
      "BFGS:  341 12:18:50     -136.066299        0.010611\n",
      "BFGS:  342 12:18:51     -136.065994        0.001942\n",
      "BFGS:  343 12:18:51     -136.067688        0.003284\n",
      "BFGS:  344 12:18:51     -136.066101        0.001554\n",
      "BFGS:  345 12:18:51     -136.064865        0.013747\n",
      "BFGS:  346 12:18:51     -136.066620        0.002815\n",
      "BFGS:  347 12:18:51     -136.067535        0.003339\n",
      "BFGS:  348 12:18:51     -136.066849        0.002523\n",
      "BFGS:  349 12:18:51     -136.065231        0.021786\n",
      "BFGS:  350 12:18:51     -136.066315        0.002248\n",
      "BFGS:  351 12:18:51     -136.067062        0.001840\n",
      "BFGS:  352 12:18:51     -136.067215        0.002759\n",
      "BFGS:  353 12:18:51     -136.067627        0.004958\n",
      "BFGS:  354 12:18:51     -136.067383        0.002463\n",
      "BFGS:  355 12:18:51     -136.063736        0.005522\n",
      "BFGS:  356 12:18:51     -136.066528        0.002265\n",
      "BFGS:  357 12:18:51     -136.066391        0.003379\n",
      "BFGS:  358 12:18:51     -136.067490        0.003069\n",
      "BFGS:  359 12:18:51     -136.065262        0.003574\n",
      "BFGS:  360 12:18:51     -136.065704        0.005470\n",
      "BFGS:  361 12:18:51     -136.064682        0.002497\n",
      "BFGS:  362 12:18:51     -136.066757        0.005150\n",
      "BFGS:  363 12:18:51     -136.066177        0.003252\n",
      "BFGS:  364 12:18:51     -136.065735        0.005240\n",
      "BFGS:  365 12:18:51     -136.065460        0.003561\n",
      "BFGS:  366 12:18:51     -136.065689        0.013553\n",
      "BFGS:  367 12:18:52     -136.065674        0.006194\n",
      "BFGS:  368 12:18:52     -136.067459        0.005052\n",
      "BFGS:  369 12:18:52     -136.066238        0.003406\n",
      "BFGS:  370 12:18:52     -136.066162        0.007647\n",
      "BFGS:  371 12:18:52     -136.067505        0.003324\n",
      "BFGS:  372 12:18:52     -136.065231        0.003256\n",
      "BFGS:  373 12:18:52     -136.065643        0.002550\n",
      "BFGS:  374 12:18:52     -136.065506        0.002342\n",
      "BFGS:  375 12:18:52     -136.066376        0.001950\n",
      "BFGS:  376 12:18:52     -136.065170        0.002193\n",
      "BFGS:  377 12:18:52     -136.066376        0.002840\n",
      "BFGS:  378 12:18:52     -136.066086        0.001807\n",
      "BFGS:  379 12:18:52     -136.066345        0.003010\n",
      "BFGS:  380 12:18:52     -136.065613        0.001417\n",
      "BFGS:  381 12:18:52     -136.065948        0.002128\n",
      "BFGS:  382 12:18:52     -136.066193        0.001247\n",
      "BFGS:  383 12:18:52     -136.066422        0.001489\n",
      "BFGS:  384 12:18:52     -136.066422        0.001838\n",
      "BFGS:  385 12:18:52     -136.066055        0.002512\n",
      "BFGS:  386 12:18:52     -136.066879        0.002898\n",
      "BFGS:  387 12:18:52     -136.065323        0.003252\n",
      "BFGS:  388 12:18:52     -136.065674        0.002041\n",
      "BFGS:  389 12:18:52     -136.064911        0.002828\n",
      "BFGS:  390 12:18:53     -136.066086        0.002585\n",
      "BFGS:  391 12:18:53     -136.066025        0.002598\n",
      "BFGS:  392 12:18:53     -136.066864        0.002391\n",
      "BFGS:  393 12:18:53     -136.067200        0.003662\n",
      "BFGS:  394 12:18:53     -136.067505        0.002345\n",
      "BFGS:  395 12:18:53     -136.065857        0.002106\n",
      "BFGS:  396 12:18:53     -136.065628        0.002433\n",
      "BFGS:  397 12:18:53     -136.065933        0.003025\n",
      "BFGS:  398 12:18:53     -136.065384        0.004737\n",
      "BFGS:  399 12:18:53     -136.065857        0.002976\n",
      "BFGS:  400 12:18:53     -136.066666        0.002883\n",
      "BFGS:  401 12:18:53     -136.066177        0.002551\n",
      "BFGS:  402 12:18:53     -136.065475        0.003483\n",
      "BFGS:  403 12:18:53     -136.066040        0.002193\n",
      "BFGS:  404 12:18:53     -136.065079        0.002989\n",
      "BFGS:  405 12:18:53     -136.066010        0.002049\n",
      "BFGS:  406 12:18:53     -136.066269        0.005670\n",
      "BFGS:  407 12:18:53     -136.066132        0.003608\n",
      "BFGS:  408 12:18:53     -136.066635        0.003846\n",
      "BFGS:  409 12:18:53     -136.067551        0.003274\n",
      "BFGS:  410 12:18:53     -136.066956        0.005187\n",
      "BFGS:  411 12:18:54     -136.068222        0.003792\n",
      "BFGS:  412 12:18:54     -136.067413        0.003381\n",
      "BFGS:  413 12:18:54     -136.065628        0.003188\n",
      "BFGS:  414 12:18:54     -136.065567        0.002990\n",
      "BFGS:  415 12:18:54     -136.065521        0.003231\n",
      "BFGS:  416 12:18:54     -136.066605        0.002478\n",
      "BFGS:  417 12:18:54     -136.064026        0.002862\n",
      "BFGS:  418 12:18:54     -136.065460        0.001254\n",
      "BFGS:  419 12:18:54     -136.065491        0.002140\n",
      "BFGS:  420 12:18:54     -136.066635        0.001829\n",
      "BFGS:  421 12:18:54     -136.066025        0.001953\n",
      "BFGS:  422 12:18:54     -136.066376        0.001451\n",
      "BFGS:  423 12:18:54     -136.065887        0.003736\n",
      "BFGS:  424 12:18:54     -136.065567        0.002354\n",
      "BFGS:  425 12:18:54     -136.066711        0.003999\n",
      "BFGS:  426 12:18:54     -136.067322        0.001740\n",
      "BFGS:  427 12:18:54     -136.065659        0.002789\n",
      "BFGS:  428 12:18:54     -136.067078        0.001803\n",
      "BFGS:  429 12:18:54     -136.064743        0.002643\n",
      "BFGS:  430 12:18:54     -136.066498        0.001550\n",
      "BFGS:  431 12:18:54     -136.066605        0.003315\n",
      "BFGS:  432 12:18:54     -136.067245        0.002019\n",
      "BFGS:  433 12:18:54     -136.067001        0.003727\n",
      "BFGS:  434 12:18:55     -136.066711        0.001456\n",
      "BFGS:  435 12:18:55     -136.066177        0.002499\n",
      "BFGS:  436 12:18:55     -136.067108        0.001790\n",
      "BFGS:  437 12:18:55     -136.066193        0.002481\n",
      "BFGS:  438 12:18:55     -136.066406        0.001925\n",
      "BFGS:  439 12:18:55     -136.066406        0.002840\n",
      "BFGS:  440 12:18:55     -136.067093        0.001209\n",
      "BFGS:  441 12:18:55     -136.066025        0.002364\n",
      "BFGS:  442 12:18:55     -136.067230        0.001443\n",
      "BFGS:  443 12:18:55     -136.066483        0.002261\n",
      "BFGS:  444 12:18:55     -136.066895        0.001082\n",
      "BFGS:  445 12:18:55     -136.067383        0.001899\n",
      "BFGS:  446 12:18:55     -136.066650        0.001911\n",
      "BFGS:  447 12:18:55     -136.066177        0.002779\n",
      "BFGS:  448 12:18:55     -136.065445        0.002254\n",
      "BFGS:  449 12:18:55     -136.066696        0.002499\n",
      "BFGS:  450 12:18:55     -136.065613        0.002423\n",
      "BFGS:  451 12:18:55     -136.066452        0.002563\n",
      "BFGS:  452 12:18:55     -136.065781        0.002376\n",
      "BFGS:  453 12:18:55     -136.065552        0.002493\n",
      "BFGS:  454 12:18:55     -136.066147        0.002528\n",
      "BFGS:  455 12:18:55     -136.066315        0.002381\n",
      "BFGS:  456 12:18:55     -136.066940        0.001622\n",
      "BFGS:  457 12:18:55     -136.067291        0.001513\n",
      "BFGS:  458 12:18:55     -136.066467        0.001942\n",
      "BFGS:  459 12:18:56     -136.065445        0.003026\n",
      "BFGS:  460 12:18:56     -136.066101        0.001840\n",
      "BFGS:  461 12:18:56     -136.066391        0.002254\n",
      "BFGS:  462 12:18:56     -136.066376        0.001877\n",
      "BFGS:  463 12:18:56     -136.065155        0.002184\n",
      "BFGS:  464 12:18:56     -136.066086        0.002090\n",
      "BFGS:  465 12:18:56     -136.066696        0.002459\n",
      "BFGS:  466 12:18:56     -136.066193        0.001897\n",
      "BFGS:  467 12:18:56     -136.065857        0.001565\n",
      "BFGS:  468 12:18:56     -136.065735        0.002339\n",
      "BFGS:  469 12:18:56     -136.065094        0.002024\n",
      "BFGS:  470 12:18:56     -136.065613        0.002056\n",
      "BFGS:  471 12:18:56     -136.066345        0.001711\n",
      "BFGS:  472 12:18:56     -136.066071        0.001795\n",
      "BFGS:  473 12:18:56     -136.066605        0.001665\n",
      "BFGS:  474 12:18:56     -136.065186        0.002846\n",
      "BFGS:  475 12:18:56     -136.066391        0.001322\n",
      "BFGS:  476 12:18:56     -136.065964        0.001474\n",
      "BFGS:  477 12:18:56     -136.066544        0.001035\n",
      "BFGS:  478 12:18:56     -136.066940        0.002501\n",
      "BFGS:  479 12:18:56     -136.066269        0.001451\n",
      "BFGS:  480 12:18:56     -136.065369        0.005119\n",
      "BFGS:  481 12:18:56     -136.065964        0.001774\n",
      "BFGS:  482 12:18:56     -136.065674        0.001817\n",
      "BFGS:  483 12:18:56     -136.066788        0.002155\n",
      "BFGS:  484 12:18:57     -136.065918        0.001567\n",
      "BFGS:  485 12:18:57     -136.065720        0.002851\n",
      "BFGS:  486 12:18:57     -136.067078        0.001604\n",
      "BFGS:  487 12:18:57     -136.066498        0.002747\n",
      "BFGS:  488 12:18:57     -136.066360        0.001049\n",
      "BFGS:  489 12:18:57     -136.064926        0.011999\n",
      "BFGS:  490 12:18:57     -136.066132        0.001938\n",
      "BFGS:  491 12:18:57     -136.066757        0.001971\n",
      "BFGS:  492 12:18:57     -136.066040        0.001202\n",
      "BFGS:  493 12:18:57     -136.065750        0.002079\n",
      "BFGS:  494 12:18:57     -136.064774        0.001203\n",
      "BFGS:  495 12:18:57     -136.066345        0.003536\n",
      "BFGS:  496 12:18:57     -136.065857        0.001922\n",
      "BFGS:  497 12:18:57     -136.065491        0.002408\n",
      "BFGS:  498 12:18:57     -136.066040        0.001408\n",
      "BFGS:  499 12:18:57     -136.065582        0.002782\n",
      "BFGS:  500 12:18:57     -136.066483        0.001380\n",
      "BFGS:  501 12:18:57     -136.065552        0.001498\n",
      "BFGS:  502 12:18:57     -136.065384        0.001177\n",
      "BFGS:  503 12:18:57     -136.065918        0.002368\n",
      "BFGS:  504 12:18:57     -136.066116        0.001336\n",
      "BFGS:  505 12:18:57     -136.065521        0.002306\n",
      "BFGS:  506 12:18:57     -136.065948        0.001077\n",
      "BFGS:  507 12:18:57     -136.065475        0.002451\n",
      "BFGS:  508 12:18:57     -136.066055        0.001142\n",
      "BFGS:  509 12:18:58     -136.066147        0.001397\n",
      "BFGS:  510 12:18:58     -136.065826        0.001832\n",
      "BFGS:  511 12:18:58     -136.066193        0.001521\n",
      "BFGS:  512 12:18:58     -136.066208        0.001742\n",
      "BFGS:  513 12:18:58     -136.066956        0.001502\n",
      "BFGS:  514 12:18:58     -136.066162        0.000954\n"
     ]
    }
   ],
   "source": [
    "# Run structure optimization with BFGS.\n",
    "_ = ase_opt.BFGS(atoms).run(fmax=0.001)"
   ]
  },
  {
   "cell_type": "code",
   "execution_count": 263,
   "id": "e7261984-4d3d-47ff-b623-fa6f3e8aae7c",
   "metadata": {},
   "outputs": [
    {
     "data": {
      "application/3dmoljs_load.v0": "<div id=\"3dmolviewer_17321018693534281\"  style=\"position: relative; width: 640px; height: 480px;\">\n        <p id=\"3dmolwarning_17321018693534281\" style=\"background-color:#ffcccc;color:black\">3Dmol.js failed to load for some reason.  Please check your browser console for error messages.<br></p>\n        </div>\n<script>\n\nvar loadScriptAsync = function(uri){\n  return new Promise((resolve, reject) => {\n    //this is to ignore the existence of requirejs amd\n    var savedexports, savedmodule;\n    if (typeof exports !== 'undefined') savedexports = exports;\n    else exports = {}\n    if (typeof module !== 'undefined') savedmodule = module;\n    else module = {}\n\n    var tag = document.createElement('script');\n    tag.src = uri;\n    tag.async = true;\n    tag.onload = () => {\n        exports = savedexports;\n        module = savedmodule;\n        resolve();\n    };\n  var firstScriptTag = document.getElementsByTagName('script')[0];\n  firstScriptTag.parentNode.insertBefore(tag, firstScriptTag);\n});\n};\n\nif(typeof $3Dmolpromise === 'undefined') {\n$3Dmolpromise = null;\n  $3Dmolpromise = loadScriptAsync('https://cdnjs.cloudflare.com/ajax/libs/3Dmol/2.4.2/3Dmol-min.js');\n}\n\nvar viewer_17321018693534281 = null;\nvar warn = document.getElementById(\"3dmolwarning_17321018693534281\");\nif(warn) {\n    warn.parentNode.removeChild(warn);\n}\n$3Dmolpromise.then(function() {\nviewer_17321018693534281 = $3Dmol.createViewer(document.getElementById(\"3dmolviewer_17321018693534281\"),{backgroundColor:\"white\"});\nviewer_17321018693534281.zoomTo();\n\tviewer_17321018693534281.addModel(\"34\\n\\nN       4.380659103393555     -1.347985506057739      1.097657442092896\\nH       4.551604747772217     -1.633198618888855      2.060126781463623\\nH       5.305780887603760     -1.296340703964233      0.666934490203857\\nH       3.813313484191895     -2.123878479003906      0.809452652931213\\nC       3.513021230697632     -0.139722570776939      0.797973275184631\\nH       3.668188571929932      0.671111881732941      1.536288976669312\\nC       3.868673324584961      0.306082665920258     -0.617323994636536\\nH       3.575912475585938     -0.426344037055969     -1.401902437210083\\nH       3.304648160934448      1.227800607681274     -0.715454399585724\\nH       4.894788265228271      0.597539305686951     -0.715122163295746\\nC       2.093963146209717     -0.770759642124176      0.912172436714172\\nO       2.053676366806030     -2.001914978027344      0.666941106319427\\nN       1.021013736724854     -0.050111014395952      1.227760553359985\\nH       1.051334142684937      0.979199171066284      1.192705154418945\\nC      -0.339491128921509     -0.513159573078156      0.959028661251068\\nH      -0.281617671251297     -1.465810298919678      0.415164470672607\\nC      -0.977657318115234     -0.593391180038452      2.325439691543579\\nH      -1.916326999664307     -1.174173593521118      2.308330535888672\\nH      -0.281821846961975     -1.184535264968872      2.983526468276978\\nH      -1.096433401107788      0.426120191812515      2.696061134338379\\nC      -0.932267665863037      0.562851905822754      0.083748221397400\\nO      -0.542463541030884      1.737372994422913      0.009419254027307\\nN      -2.028945446014404      0.095598638057709     -0.576848089694977\\nH      -2.502625226974487     -0.785388886928558     -0.229223310947418\\nC      -2.958793640136719      1.049093484878540     -1.254095792770386\\nH      -2.769642353057861      2.015169382095337     -0.776521027088165\\nC      -2.733166694641113      1.172054290771484     -2.737890243530273\\nH      -1.739197373390198      1.494325041770935     -3.106805086135864\\nH      -2.955952644348145      0.301686465740204     -3.290518522262573\\nH      -3.570025682449341      1.732911467552185     -3.207917928695679\\nC      -4.359517097473145      0.574084937572479     -0.896361529827118\\nO      -4.588494300842285     -0.516803383827209     -0.346657365560532\\nO      -5.280315876007080      1.484245300292969     -1.192101001739502\\nH      -6.058292388916016      1.093994975090027     -0.734569072723389\\n\",\"xyz\");\n\tviewer_17321018693534281.setStyle({\"stick\": {\"radius\": 0.15}, \"sphere\": {\"scale\": 0.25}});\nviewer_17321018693534281.render();\n});\n</script>",
      "text/html": [
       "<div id=\"3dmolviewer_17321018693534281\"  style=\"position: relative; width: 640px; height: 480px;\">\n",
       "        <p id=\"3dmolwarning_17321018693534281\" style=\"background-color:#ffcccc;color:black\">3Dmol.js failed to load for some reason.  Please check your browser console for error messages.<br></p>\n",
       "        </div>\n",
       "<script>\n",
       "\n",
       "var loadScriptAsync = function(uri){\n",
       "  return new Promise((resolve, reject) => {\n",
       "    //this is to ignore the existence of requirejs amd\n",
       "    var savedexports, savedmodule;\n",
       "    if (typeof exports !== 'undefined') savedexports = exports;\n",
       "    else exports = {}\n",
       "    if (typeof module !== 'undefined') savedmodule = module;\n",
       "    else module = {}\n",
       "\n",
       "    var tag = document.createElement('script');\n",
       "    tag.src = uri;\n",
       "    tag.async = true;\n",
       "    tag.onload = () => {\n",
       "        exports = savedexports;\n",
       "        module = savedmodule;\n",
       "        resolve();\n",
       "    };\n",
       "  var firstScriptTag = document.getElementsByTagName('script')[0];\n",
       "  firstScriptTag.parentNode.insertBefore(tag, firstScriptTag);\n",
       "});\n",
       "};\n",
       "\n",
       "if(typeof $3Dmolpromise === 'undefined') {\n",
       "$3Dmolpromise = null;\n",
       "  $3Dmolpromise = loadScriptAsync('https://cdnjs.cloudflare.com/ajax/libs/3Dmol/2.4.2/3Dmol-min.js');\n",
       "}\n",
       "\n",
       "var viewer_17321018693534281 = null;\n",
       "var warn = document.getElementById(\"3dmolwarning_17321018693534281\");\n",
       "if(warn) {\n",
       "    warn.parentNode.removeChild(warn);\n",
       "}\n",
       "$3Dmolpromise.then(function() {\n",
       "viewer_17321018693534281 = $3Dmol.createViewer(document.getElementById(\"3dmolviewer_17321018693534281\"),{backgroundColor:\"white\"});\n",
       "viewer_17321018693534281.zoomTo();\n",
       "\tviewer_17321018693534281.addModel(\"34\\n\\nN       4.380659103393555     -1.347985506057739      1.097657442092896\\nH       4.551604747772217     -1.633198618888855      2.060126781463623\\nH       5.305780887603760     -1.296340703964233      0.666934490203857\\nH       3.813313484191895     -2.123878479003906      0.809452652931213\\nC       3.513021230697632     -0.139722570776939      0.797973275184631\\nH       3.668188571929932      0.671111881732941      1.536288976669312\\nC       3.868673324584961      0.306082665920258     -0.617323994636536\\nH       3.575912475585938     -0.426344037055969     -1.401902437210083\\nH       3.304648160934448      1.227800607681274     -0.715454399585724\\nH       4.894788265228271      0.597539305686951     -0.715122163295746\\nC       2.093963146209717     -0.770759642124176      0.912172436714172\\nO       2.053676366806030     -2.001914978027344      0.666941106319427\\nN       1.021013736724854     -0.050111014395952      1.227760553359985\\nH       1.051334142684937      0.979199171066284      1.192705154418945\\nC      -0.339491128921509     -0.513159573078156      0.959028661251068\\nH      -0.281617671251297     -1.465810298919678      0.415164470672607\\nC      -0.977657318115234     -0.593391180038452      2.325439691543579\\nH      -1.916326999664307     -1.174173593521118      2.308330535888672\\nH      -0.281821846961975     -1.184535264968872      2.983526468276978\\nH      -1.096433401107788      0.426120191812515      2.696061134338379\\nC      -0.932267665863037      0.562851905822754      0.083748221397400\\nO      -0.542463541030884      1.737372994422913      0.009419254027307\\nN      -2.028945446014404      0.095598638057709     -0.576848089694977\\nH      -2.502625226974487     -0.785388886928558     -0.229223310947418\\nC      -2.958793640136719      1.049093484878540     -1.254095792770386\\nH      -2.769642353057861      2.015169382095337     -0.776521027088165\\nC      -2.733166694641113      1.172054290771484     -2.737890243530273\\nH      -1.739197373390198      1.494325041770935     -3.106805086135864\\nH      -2.955952644348145      0.301686465740204     -3.290518522262573\\nH      -3.570025682449341      1.732911467552185     -3.207917928695679\\nC      -4.359517097473145      0.574084937572479     -0.896361529827118\\nO      -4.588494300842285     -0.516803383827209     -0.346657365560532\\nO      -5.280315876007080      1.484245300292969     -1.192101001739502\\nH      -6.058292388916016      1.093994975090027     -0.734569072723389\\n\",\"xyz\");\n",
       "\tviewer_17321018693534281.setStyle({\"stick\": {\"radius\": 0.15}, \"sphere\": {\"scale\": 0.25}});\n",
       "viewer_17321018693534281.render();\n",
       "});\n",
       "</script>"
      ]
     },
     "metadata": {},
     "output_type": "display_data"
    }
   ],
   "source": [
    "# Write structure to xyz file.\n",
    "xyz = io.StringIO()\n",
    "ase_io.write(xyz, atoms, format='xyz')\n",
    "\n",
    "# Visualize the structure with py3Dmol.\n",
    "view = py3Dmol.view()\n",
    "view.addModel(xyz.getvalue(), 'xyz')\n",
    "view.setStyle({'stick': {'radius': 0.15}, 'sphere': {'scale': 0.25}})\n",
    "view.show()"
   ]
  },
  {
   "cell_type": "code",
   "execution_count": 261,
   "id": "be89647c-2e11-47c3-8f3d-f6b5a506a977",
   "metadata": {},
   "outputs": [
    {
     "name": "stdout",
     "output_type": "stream",
     "text": [
      "step     0 epot -135.465 ekin  1.521 etot -133.944\n",
      "step  1000 epot -134.970 ekin  1.029 etot -133.941\n",
      "step  2000 epot -135.043 ekin  1.099 etot -133.944\n",
      "step  3000 epot -135.211 ekin  1.265 etot -133.947\n",
      "step  4000 epot -135.121 ekin  1.177 etot -133.944\n"
     ]
    }
   ],
   "source": [
    "# Parameters.\n",
    "temperature = 300\n",
    "timestep_fs = 0.5\n",
    "num_steps = 50_00\n",
    "\n",
    "# Draw initial momenta.\n",
    "MaxwellBoltzmannDistribution(atoms, temperature_K=temperature)\n",
    "Stationary(atoms)  # Remove center of mass translation.\n",
    "ZeroRotation(atoms)  # Remove rotations.\n",
    "\n",
    "# Initialize Velocity Verlet integrator.\n",
    "integrator = VelocityVerlet(atoms, timestep=timestep_fs*ase.units.fs)\n",
    "\n",
    "# Run molecular dynamics.\n",
    "frames = np.zeros((num_steps, len(atoms), 3))\n",
    "potential_energy = np.zeros((num_steps,))\n",
    "kinetic_energy = np.zeros((num_steps,))\n",
    "total_energy = np.zeros((num_steps,))\n",
    "for i in range(num_steps):\n",
    "  # Run 1 time step.\n",
    "  integrator.run(1)\n",
    "  # Save current frame and keep track of energies.\n",
    "  frames[i] = atoms.get_positions()\n",
    "  potential_energy[i] = atoms.get_potential_energy()\n",
    "  kinetic_energy[i] = atoms.get_kinetic_energy()\n",
    "  total_energy[i] = atoms.get_total_energy()\n",
    "  # Occasionally print progress.q\n",
    "  if i % 1000 == 0:\n",
    "    print(f\"step {i:5d} epot {potential_energy[i]: 5.3f} ekin {kinetic_energy[i]: 5.3f} etot {total_energy[i]: 5.3f}\")"
   ]
  },
  {
   "cell_type": "code",
   "execution_count": 259,
   "id": "d4bbed81-f7a7-40a3-a973-4bc1a559e939",
   "metadata": {},
   "outputs": [],
   "source": [
    "# view.getModel().setCoordinates(frames[::10], 'array')\n",
    "# view.animate({'loop': None, 'interval': 0.1})\n",
    "# view.show()"
   ]
  },
  {
   "cell_type": "code",
   "execution_count": 262,
   "id": "aea337ee-da91-432e-9da4-7d7fa240ae3d",
   "metadata": {},
   "outputs": [
    {
     "data": {
      "image/png": "[encoded data removed]",
      "text/plain": [
       "<Figure size 640x480 with 1 Axes>"
      ]
     },
     "metadata": {},
     "output_type": "display_data"
    },
    {
     "data": {
      "image/png": "[encoded data removed]",
      "text/plain": [
       "<Figure size 640x480 with 1 Axes>"
      ]
     },
     "metadata": {},
     "output_type": "display_data"
    }
   ],
   "source": [
    "%matplotlib inline\n",
    "plt.subplots_adjust(left=0, right=1, bottom=0, top=1)\n",
    "plt.xlabel('time [fs]')\n",
    "plt.ylabel('energy [eV]')\n",
    "time = np.arange(num_steps) * timestep_fs\n",
    "plt.plot(time, potential_energy, label='potential energy')\n",
    "plt.plot(time, kinetic_energy, label='kinetic energy')\n",
    "plt.legend()\n",
    "plt.grid()\n",
    "plt.show()\n",
    "plt.plot(time, total_energy, label='total energy')\n",
    "plt.legend()\n",
    "plt.grid()"
   ]
  },
  {
   "cell_type": "code",
   "execution_count": 217,
   "id": "fade1249-9fe0-460b-a3e5-05ad6552a17d",
   "metadata": {},
   "outputs": [
    {
     "data": {
      "image/png": "[encoded data removed]",
      "text/plain": [
       "<Figure size 640x480 with 1 Axes>"
      ]
     },
     "metadata": {},
     "output_type": "display_data"
    }
   ],
   "source": [
    "r = frames[:,-3] - frames[:,-2]\n",
    "for i in range(3):\n",
    "    plt.plot(r[:,i])"
   ]
  },
  {
   "cell_type": "code",
   "execution_count": null,
   "id": "2c04a4bc-7117-435c-b498-4fa9e6b7b4e7",
   "metadata": {},
   "outputs": [],
   "source": [
    "from statsmodels.tsa.stattools import acovf\n",
    "10**6/1000"
   ]
  },
  {
   "cell_type": "code",
   "execution_count": 131,
   "id": "6d07bb58-fc2a-44a1-a992-ee86adce0569",
   "metadata": {},
   "outputs": [
    {
     "name": "stdout",
     "output_type": "stream",
     "text": [
      "Nframes:  100000\n"
     ]
    }
   ],
   "source": [
    "# total_dipole_vectors = total_dipole_vectors[NSKIP::]\n",
    "from ase import units\n",
    "\n",
    "# Time for speed of light in vacuum to travel 1cm (0.01) in 1fs (1e15)\n",
    "jiffy = 0.01 / units._c * 1e12\n",
    "\n",
    "# dipo_list = np.array(total_dipole_vectors)\n",
    "dtime = timestep_fs * 0.001\n",
    "# Frequency range in cm^-1\n",
    "Nframes = len(r)\n",
    "print(\"Nframes: \", Nframes)\n",
    "Nfreq = int(Nframes / 2) + 1\n",
    "\n",
    "freq = np.arange(Nfreq) / float(Nframes) / dtime * jiffy\n",
    "\n",
    "# Dipole-Dipole autocorrelation function\n",
    "acvx = acovf(r[:, 0], fft=True)\n",
    "acvy = acovf(r[:, 1], fft=True)\n",
    "acvz = acovf(r[:, 2], fft=True)\n",
    "acv = acvx + acvy + acvz\n",
    "\n",
    "acv = acv * np.blackman(len(r))\n",
    "spectra = np.abs(np.fft.rfftn(acv)) "
   ]
  },
  {
   "cell_type": "code",
   "execution_count": 132,
   "id": "f6842324-33e6-43bd-a365-09ec47795e22",
   "metadata": {
    "scrolled": true
   },
   "outputs": [
    {
     "data": {
      "text/plain": [
       "(0.0, 4000.0)"
      ]
     },
     "execution_count": 132,
     "metadata": {},
     "output_type": "execute_result"
    },
    {
     "data": {
      "image/png": "[encoded data removed]",
      "text/plain": [
       "<Figure size 640x480 with 1 Axes>"
      ]
     },
     "metadata": {},
     "output_type": "display_data"
    }
   ],
   "source": [
    "plt.plot(freq, 100*spectra)\n",
    "# plt.ylim(0,0.0000005)\n",
    "# plt.xlim(100, 150)\n",
    "# plt.yscale(\"log\")\n",
    "plt.ylim(0,100)\n",
    "plt.xlim(0, 4000)"
   ]
  }
 ],
 "metadata": {
  "kernelspec": {
   "display_name": "myenv",
   "language": "python",
   "name": "myenv"
  },
  "language_info": {
   "codemirror_mode": {
    "name": "ipython",
    "version": 3
   },
   "file_extension": ".py",
   "mimetype": "text/x-python",
   "name": "python",
   "nbconvert_exporter": "python",
   "pygments_lexer": "ipython3",
   "version": "3.12.7"
  }
 },
 "nbformat": 4,
 "nbformat_minor": 5
}
