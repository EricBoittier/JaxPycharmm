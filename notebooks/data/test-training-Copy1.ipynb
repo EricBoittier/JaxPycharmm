{
 "cells": [
  {
   "cell_type": "code",
   "execution_count": 1,
   "id": "426384c3-5d35-444a-8f0a-48a7ce94795a",
   "metadata": {},
   "source": [
    "%load_ext autoreload\n",
    "%autoreload 2\n",
    "import os\n",
    "# Set environment variables\n",
    "os.environ[\"XLA_PYTHON_CLIENT_MEM_FRACTION\"] = \".99\"\n",
    "os.environ[\"CUDA_VISIBLE_DEVICES\"] = \"1\"\n",
    "import jax\n",
    "# from jax import config\n",
    "# config.update('jax_enable_x64', True)\n",
    "# Check JAX configuration\n",
    "devices = jax.local_devices()\n",
    "print(devices)\n",
    "print(jax.default_backend())\n",
    "print(jax.devices())\n",
    "import sys\n",
    "# Add custom path\n",
    "sys.path.append(\"/pchem-data/meuwly/boittier/home/pycharmm_test/src\")\n",
    "# from model import EF\n",
    "# from loss import dipole_calc\n",
    "# from  training import train_model # from model import dipole_calc\n",
    "import jax\n",
    "import optax\n",
    "import e3x\n",
    "# from dcmnet.analysis import create_model_and_params\n",
    "# from data import prepare_batches, prepare_datasets\n",
    "import numpy as np\n",
    "\n",
    "import orbax\n",
    "from orbax.checkpoint import PyTreeCheckpointer\n",
    "orbax_checkpointer = orbax.checkpoint.PyTreeCheckpointer()\n",
    "import jax\n",
    "import jax.numpy as jnp\n",
    "import flax.linen as nn\n",
    "import networkx as nx\n",
    "import matplotlib.pyplot as plt\n",
    "%load_ext autoreload\n",
    "%autoreload 2\n",
    "import os\n",
    "# Set environment variables\n",
    "os.environ[\"XLA_PYTHON_CLIENT_MEM_FRACTION\"] = \".99\"\n",
    "os.environ[\"CUDA_VISIBLE_DEVICES\"] = \"1\"\n",
    "import jax\n",
    "# from jax import config\n",
    "# config.update('jax_enable_x64', True)\n",
    "# Check JAX configuration\n",
    "devices = jax.local_devices()\n",
    "print(devices)\n",
    "print(jax.default_backend())\n",
    "print(jax.devices())\n",
    "import sys\n",
    "# Add custom path\n",
    "sys.path.append(\"/pchem-data/meuwly/boittier/home/pycharmm_test/src\")\n",
    "# from model import EF\n",
    "# from loss import dipole_calc\n",
    "# from  training import train_model # from model import dipole_calc\n",
    "import jax\n",
    "import optax\n",
    "import e3x\n",
    "# from dcmnet.analysis import create_model_and_params\n",
    "# from data import prepare_batches, prepare_datasets\n",
    "import numpy as np\n",
    "from physnetjax.models.model import EF\n",
    "from physnetjax.training.loss import dipole_calc\n",
    "from  physnetjax.training.training import train_model # from model import dipole_calc\n",
    "from physnetjax.data.data import prepare_batches, prepare_datasets\n",
    "import orbax\n",
    "from orbax.checkpoint import PyTreeCheckpointer\n",
    "orbax_checkpointer = orbax.checkpoint.PyTreeCheckpointer()\n",
    "from pathlib import Path\n",
    "# from physnetjax.analysis import *\n",
    "import polars as pl\n",
    "from tensorboard.backend.event_processing.event_accumulator import EventAccumulator\n",
    "from tensorflow.python.summary.summary_iterator import summary_iterator"
   ],
   "outputs": []
  },
  {
   "cell_type": "code",
   "execution_count": 2,
   "id": "74336040-1c5a-43d8-bc88-959f0d1564cc",
   "metadata": {},
   "source": [
    "\n",
    "data_key, train_key = jax.random.split(jax.random.PRNGKey(42), 2)\n",
    "\n",
    "\n",
    "NATOMS = 30\n",
    "files = [Path('/pchem-data/meuwly/boittier/home/pycharmm_test/data/basepairs/at_prod.npz'),\n",
    " Path('/pchem-data/meuwly/boittier/home/pycharmm_test/data/basepairs/at_reag.npz'),\n",
    " Path('/pchem-data/meuwly/boittier/home/pycharmm_test/data/basepairs/at_retune.npz'),\n",
    " Path('/pchem-data/meuwly/boittier/home/pycharmm_test/data/basepairs/rattle_neb_at.npz'),\n",
    " Path('/pchem-data/meuwly/boittier/home/pycharmm_test/data/basepairs/rattle_neb_gc.npz')]\n",
    "\n",
    "\n",
    "train_data, valid_data = prepare_datasets(\n",
    "    data_key,\n",
    "    1220,\n",
    "    20,\n",
    "    files,\n",
    "    clip_esp=False,\n",
    "    natoms=NATOMS,\n",
    "    clean=False,\n",
    "    subtract_atom_energies=True,\n",
    "    verbose=True,\n",
    "    #    data_key, 27, 20, files, clip_esp=False, natoms=NATOMS, clean=False\n",
    ")\n",
    "\n",
    "ntest = len(valid_data[\"E\"]) // 2\n",
    "test_data = {k: v[ntest:] for k, v in valid_data.items()}\n",
    "valid_data = {k: v[:ntest] for k, v in valid_data.items()}\n"
   ],
   "outputs": []
  },
  {
   "cell_type": "code",
   "execution_count": 3,
   "id": "493229eb-40b9-43f2-8fc0-e7fcf4e11fc9",
   "metadata": {},
   "source": [
    "data_keys = (\"R\", \"Z\", \"F\", \"E\", \"D\", \"N\", \"dst_idx\", \"src_idx\", \"batch_segments\")\n",
    "\n",
    "batch_size = 10\n",
    "test_batches = prepare_batches(data_key, test_data, batch_size,\n",
    "                              num_atoms=NATOMS, \n",
    "                              data_keys=data_keys)\n",
    "\n",
    "train_batches = prepare_batches(data_key, train_data, batch_size,\n",
    "                              num_atoms=NATOMS, \n",
    "                              data_keys=data_keys)\n",
    "\n",
    "valid_batches = prepare_batches(data_key, valid_data, batch_size,\n",
    "                              num_atoms=NATOMS, \n",
    "                              data_keys=data_keys)\n",
    "\n",
    "# params = pd.read_pickle(\"/pchem-data/meuwly/boittier/home/pycharmm_test/checkpoints/diox-q3.2.pkl\")\n",
    "# for _ in test_batches[0].keys():\n",
    "#     print(_, test_batches[0][_].shape)\n",
    "# valid_batches"
   ],
   "outputs": []
  },
  {
   "cell_type": "code",
   "execution_count": 4,
   "id": "833ebd04-dd63-4e8e-853e-5bac4601ccb1",
   "metadata": {
    "scrolled": true
   },
   "source": [
    "# valid_batches[0]"
   ],
   "outputs": []
  },
  {
   "cell_type": "code",
   "execution_count": 5,
   "id": "2eb1ce62-0373-4465-a47f-210076c623e9",
   "metadata": {},
   "source": [
    "combined = test_batches+ valid_batches #+ train_batches\n",
    "len(combined)"
   ],
   "outputs": []
  },
  {
   "cell_type": "code",
   "execution_count": 6,
   "id": "27d94602-34b8-4cf5-9fc8-f786e94ecd97",
   "metadata": {},
   "source": [
    "\n",
    "from physnetjax.restart.restart import get_last, get_files, get_params_model\n",
    "from physnetjax.analysis.analysis import plot_stats\n",
    "restart = \"/pchem-data/meuwly/boittier/home/pycharmm_test/ckpts/efa0basepairs-1619ffed-2265-42ff-991a-37adcb30ff3c/\"\n",
    "restart = get_last(restart)\n",
    "\n",
    "params,model = get_params_model(restart)\n",
    "model.natoms = 30\n",
    "print(model)\n",
    "\n",
    "output = plot_stats(combined[:], model, params, _set=\"Test\", \n",
    "               do_kde=False, batch_size=batch_size)"
   ],
   "outputs": []
  },
  {
   "cell_type": "code",
   "execution_count": null,
   "id": "3c08a120-b952-4e00-803d-ad2ed3125a88",
   "metadata": {},
   "source": [],
   "outputs": []
  },
  {
   "cell_type": "code",
   "execution_count": null,
   "id": "ffbff4f2-8b51-4436-b2c3-6d5fbb955d50",
   "metadata": {},
   "source": [],
   "outputs": []
  },
  {
   "cell_type": "code",
   "execution_count": 141,
   "id": "920d8b34-4564-483a-ab1e-2d04aa922361",
   "metadata": {},
   "source": [
    "from ebc.Clustering import EBC\n",
    "energies = np.array([_[\"E\"] for _ in combined])\n",
    "atomic_numbers = np.array([_[\"Z\"] for _ in combined])"
   ],
   "outputs": []
  },
  {
   "cell_type": "code",
   "execution_count": 142,
   "id": "4e933243-0daa-40d9-b0e3-0d214b665510",
   "metadata": {},
   "source": [
    "plt.plot(np.arange(energies.shape[0]), energies.flatten(), alpha=0.1)\n",
    "plt.scatter(np.arange(energies.shape[0]), energies.flatten(), alpha=0.5, s=0.51)"
   ],
   "outputs": []
  },
  {
   "cell_type": "code",
   "execution_count": 143,
   "id": "a7194a91-7369-4627-a368-a347e4b97b39",
   "metadata": {},
   "source": [
    "plt.hist(energies.flatten())"
   ],
   "outputs": []
  },
  {
   "cell_type": "code",
   "execution_count": 144,
   "id": "0c8b9b4d-7f34-4949-bc31-36b767fdfa44",
   "metadata": {},
   "source": [
    "from physnetjax.analysis.analysis  import remove_mean_from_multimodal_distribution\n",
    "\n",
    "energies_mean_removed = remove_mean_from_multimodal_distribution(energies.flatten())\n",
    "\n",
    "plt.hist(energies_mean_removed)"
   ],
   "outputs": []
  },
  {
   "cell_type": "code",
   "execution_count": 145,
   "id": "728668a4-fdf9-447a-b5bb-f85ab5442053",
   "metadata": {},
   "source": [
    "import seaborn as sns\n",
    "sns.stripplot(energies_mean_removed, c=ebc.state_labels, cmap=\"Set2\", jitter=0.4, dodge=True, orient=\"h\")\n"
   ],
   "outputs": []
  },
  {
   "cell_type": "code",
   "execution_count": 146,
   "id": "da2268df-0d84-43fd-aaf8-e311b0868bd3",
   "metadata": {},
   "source": [
    "dir(ebc)\n",
    "# ebc.proto_labels\n",
    "ebc.state_labels.shape"
   ],
   "outputs": []
  },
  {
   "cell_type": "code",
   "execution_count": 178,
   "id": "93dfc050-fdd2-4ac4-9bb5-9b7b2be2d6b0",
   "metadata": {},
   "source": [
    "from physnetjax.analysis.analysis import *\n",
    "from physnetjax.analysis.povray_tool import *"
   ],
   "outputs": []
  },
  {
   "cell_type": "code",
   "execution_count": null,
   "id": "505e4500-b675-44dc-9012-b5d8f030e05a",
   "metadata": {},
   "source": [],
   "outputs": []
  },
  {
   "cell_type": "code",
   "execution_count": 218,
   "id": "1daf8ee9-bb17-4228-8673-613022389d87",
   "metadata": {},
   "source": [
    "species = np.unique(np.concatenate(atomic_numbers))\n",
    "# Apply PCA\n",
    "labels = None\n",
    "soap_descr, ase_atoms = compute_soap_descriptors(\n",
    "    coordinates, atomic_numbers, species, \n",
    "    r_cut=10.0, n_max=16, l_max=4, sigma=1.0)"
   ],
   "outputs": []
  },
  {
   "cell_type": "code",
   "execution_count": 219,
   "id": "0ae50311-9a19-448e-a013-14eb309d2ceb",
   "metadata": {},
   "source": [
    "reduced_data_pca, model_pca = process_data(soap_descr, apply_pca, n_components=2)"
   ],
   "outputs": []
  },
  {
   "cell_type": "code",
   "execution_count": 220,
   "id": "9848b216-dd9a-41ad-ad20-2a9d8b77603d",
   "metadata": {},
   "source": [
    "visualize_projection(reduced_data_pca, labels,\n",
    "                     title=\"PCA Projection\", c=energies_mean_removed)"
   ],
   "outputs": []
  },
  {
   "cell_type": "code",
   "execution_count": 223,
   "id": "1e126a33-28a1-46ca-bac2-adb9247f89e5",
   "metadata": {},
   "source": [
    "n = 4\n",
    "ebc = EBC(n_clusters=n) \n",
    "labels = ebc.fit_transform(soap_descr[:,:], energies)\n",
    "_ = ebc.show()\n",
    "# plt.show()\n",
    "cluster_members_energy = {_:float(energies_mean_removed[_]) for _ in range(int(ebc._proto_2D.shape[0]))}\n",
    "_cluster_members_energy = np.array([v for v in \n",
    "                                    cluster_members_energy.values()])\n",
    "# plt.scatter(ebc._proto_2D[:, 0], ebc._proto_2D[:, 1], alpha=0.1, c=errors, zorder=-1)\n",
    "s = plt.scatter(ebc._proto_2D[:, 0][::], ebc._proto_2D[:, 1][::], alpha=1, c=[cluster_members_energy[_]\n",
    "                for _ in range(int(ebc._proto_2D.shape[0]))], \n",
    "                vmin=_cluster_members_energy.min(), vmax=_cluster_members_energy.max(), \n",
    "                zorder=-1, cmap=\"jet\",s=10)\n",
    "plt.colorbar(s)\n",
    "plt.show()"
   ],
   "outputs": []
  },
  {
   "cell_type": "code",
   "execution_count": 222,
   "id": "02606c5f-63bd-4515-8de5-5c74c2c39932",
   "metadata": {},
   "source": [
    "annotate_ebc(ebc, energies, ase_atoms)"
   ],
   "outputs": []
  },
  {
   "cell_type": "code",
   "execution_count": null,
   "id": "5ddf3bba-3e64-44cd-944a-63b795a9e8b2",
   "metadata": {},
   "source": [],
   "outputs": []
  }
 ],
 "metadata": {
  "kernelspec": {
   "display_name": "physnetjax",
   "language": "python",
   "name": "jaxphyscharmm"
  },
  "language_info": {
   "codemirror_mode": {
    "name": "ipython",
    "version": 3
   },
   "file_extension": ".py",
   "mimetype": "text/x-python",
   "name": "python",
   "nbconvert_exporter": "python",
   "pygments_lexer": "ipython3",
   "version": "3.12.7"
  }
 },
 "nbformat": 4,
 "nbformat_minor": 5
}
