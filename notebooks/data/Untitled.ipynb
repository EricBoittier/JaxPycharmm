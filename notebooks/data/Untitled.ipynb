{
 "cells": [
  {
   "cell_type": "code",
   "execution_count": 16,
   "id": "426384c3-5d35-444a-8f0a-48a7ce94795a",
   "metadata": {},
   "outputs": [
    {
     "name": "stdout",
     "output_type": "stream",
     "text": [
      "The autoreload extension is already loaded. To reload it, use:\n",
      "  %reload_ext autoreload\n",
      "[CpuDevice(id=0)]\n",
      "cpu\n",
      "[CpuDevice(id=0)]\n",
      "The autoreload extension is already loaded. To reload it, use:\n",
      "  %reload_ext autoreload\n",
      "[CpuDevice(id=0)]\n",
      "cpu\n",
      "[CpuDevice(id=0)]\n"
     ]
    }
   ],
   "source": [
    "%load_ext autoreload\n",
    "%autoreload 2\n",
    "import os\n",
    "# Set environment variables\n",
    "os.environ[\"XLA_PYTHON_CLIENT_MEM_FRACTION\"] = \".99\"\n",
    "os.environ[\"CUDA_VISIBLE_DEVICES\"] = \"1\"\n",
    "import jax\n",
    "# from jax import config\n",
    "# config.update('jax_enable_x64', True)\n",
    "\n",
    "# Check JAX configuration\n",
    "devices = jax.local_devices()\n",
    "print(devices)\n",
    "print(jax.default_backend())\n",
    "print(jax.devices())\n",
    "\n",
    "import sys\n",
    "# Add custom path\n",
    "sys.path.append(\"/pchem-data/meuwly/boittier/home/pycharmm_test/src\")\n",
    "\n",
    "# from model import EF\n",
    "# from loss import dipole_calc\n",
    "# from  training import train_model # from model import dipole_calc\n",
    "import jax\n",
    "import optax\n",
    "import e3x\n",
    "\n",
    "# from dcmnet.analysis import create_model_and_params\n",
    "# from data import prepare_batches, prepare_datasets\n",
    "import numpy as np\n",
    "\n",
    "from physnetjax.model import EF\n",
    "from physnetjax.loss import dipole_calc\n",
    "from  physnetjax.training import train_model # from model import dipole_calc\n",
    "from physnetjax.data import prepare_batches, prepare_datasets\n",
    "\n",
    "\n",
    "import orbax\n",
    "from orbax.checkpoint import PyTreeCheckpointer\n",
    "orbax_checkpointer = orbax.checkpoint.PyTreeCheckpointer()\n",
    "\n",
    "import jax\n",
    "import jax.numpy as jnp\n",
    "import flax.linen as nn\n",
    "import networkx as nx\n",
    "import matplotlib.pyplot as plt\n",
    "\n",
    "%load_ext autoreload\n",
    "%autoreload 2\n",
    "import os\n",
    "# Set environment variables\n",
    "os.environ[\"XLA_PYTHON_CLIENT_MEM_FRACTION\"] = \".99\"\n",
    "os.environ[\"CUDA_VISIBLE_DEVICES\"] = \"1\"\n",
    "import jax\n",
    "# from jax import config\n",
    "# config.update('jax_enable_x64', True)\n",
    "\n",
    "# Check JAX configuration\n",
    "devices = jax.local_devices()\n",
    "print(devices)\n",
    "print(jax.default_backend())\n",
    "print(jax.devices())\n",
    "\n",
    "import sys\n",
    "# Add custom path\n",
    "sys.path.append(\"/pchem-data/meuwly/boittier/home/pycharmm_test/src\")\n",
    "\n",
    "# from model import EF\n",
    "# from loss import dipole_calc\n",
    "# from  training import train_model # from model import dipole_calc\n",
    "import jax\n",
    "import optax\n",
    "import e3x\n",
    "\n",
    "# from dcmnet.analysis import create_model_and_params\n",
    "# from data import prepare_batches, prepare_datasets\n",
    "import numpy as np\n",
    "\n",
    "from physnetjax.model import EF\n",
    "from physnetjax.loss import dipole_calc\n",
    "from  physnetjax.training import train_model # from model import dipole_calc\n",
    "from physnetjax.data import prepare_batches, prepare_datasets\n",
    "\n",
    "\n",
    "import orbax\n",
    "from orbax.checkpoint import PyTreeCheckpointer\n",
    "orbax_checkpointer = orbax.checkpoint.PyTreeCheckpointer()\n",
    "\n",
    "# from physnetjax.analysis import *\n",
    "\n",
    "import polars as pl\n",
    "from tensorboard.backend.event_processing.event_accumulator import EventAccumulator\n",
    "\n",
    "from tensorflow.python.summary.summary_iterator import summary_iterator"
   ]
  },
  {
   "cell_type": "code",
   "execution_count": 17,
   "id": "4de7a898-fcf2-4166-9e54-6c9f033bbe06",
   "metadata": {},
   "outputs": [
    {
     "name": "stderr",
     "output_type": "stream",
     "text": [
      "\u001b[32m2024-12-07 15:23:52.693\u001b[0m | \u001b[1mINFO    \u001b[0m | \u001b[36mopenqdc.datasets.base\u001b[0m:\u001b[36mread_preprocess\u001b[0m:\u001b[36m435\u001b[0m - \u001b[1mReading preprocessed data.\u001b[0m\n",
      "\u001b[32m2024-12-07 15:23:52.693\u001b[0m | \u001b[1mINFO    \u001b[0m | \u001b[36mopenqdc.datasets.base\u001b[0m:\u001b[36mread_preprocess\u001b[0m:\u001b[36m436\u001b[0m - \u001b[1mDataset spice with the following units:\n",
      "                     Energy: hartree,\n",
      "                     Distance: bohr,\n",
      "                     Forces: hartree/bohr\u001b[0m\n",
      "\u001b[32m2024-12-07 15:23:54.017\u001b[0m | \u001b[1mINFO    \u001b[0m | \u001b[36mopenqdc.datasets.base\u001b[0m:\u001b[36mread_preprocess\u001b[0m:\u001b[36m452\u001b[0m - \u001b[1mLoaded atomic_inputs with shape (33175288, 5), dtype float32\u001b[0m\n",
      "\u001b[32m2024-12-07 15:23:54.018\u001b[0m | \u001b[1mINFO    \u001b[0m | \u001b[36mopenqdc.datasets.base\u001b[0m:\u001b[36mread_preprocess\u001b[0m:\u001b[36m452\u001b[0m - \u001b[1mLoaded position_idx_range with shape (1110165, 2), dtype int32\u001b[0m\n",
      "\u001b[32m2024-12-07 15:23:54.019\u001b[0m | \u001b[1mINFO    \u001b[0m | \u001b[36mopenqdc.datasets.base\u001b[0m:\u001b[36mread_preprocess\u001b[0m:\u001b[36m452\u001b[0m - \u001b[1mLoaded energies with shape (1110165, 1), dtype float64\u001b[0m\n",
      "\u001b[32m2024-12-07 15:23:54.019\u001b[0m | \u001b[1mINFO    \u001b[0m | \u001b[36mopenqdc.datasets.base\u001b[0m:\u001b[36mread_preprocess\u001b[0m:\u001b[36m452\u001b[0m - \u001b[1mLoaded forces with shape (33175288, 3, 1), dtype float32\u001b[0m\n",
      "\u001b[32m2024-12-07 15:23:54.020\u001b[0m | \u001b[1mINFO    \u001b[0m | \u001b[36mopenqdc.datasets.base\u001b[0m:\u001b[36mread_preprocess\u001b[0m:\u001b[36m452\u001b[0m - \u001b[1mLoaded n_atoms with shape (1110165,), dtype int32\u001b[0m\n",
      "\u001b[32m2024-12-07 15:23:54.020\u001b[0m | \u001b[1mINFO    \u001b[0m | \u001b[36mopenqdc.datasets.base\u001b[0m:\u001b[36mread_preprocess\u001b[0m:\u001b[36m452\u001b[0m - \u001b[1mLoaded subset with shape (1110165,), dtype <U20\u001b[0m\n",
      "\u001b[32m2024-12-07 15:23:54.020\u001b[0m | \u001b[1mINFO    \u001b[0m | \u001b[36mopenqdc.datasets.base\u001b[0m:\u001b[36mread_preprocess\u001b[0m:\u001b[36m452\u001b[0m - \u001b[1mLoaded name with shape (1110165,), dtype <U632\u001b[0m\n",
      "\u001b[32m2024-12-07 15:24:30.805\u001b[0m | \u001b[1mINFO    \u001b[0m | \u001b[36mopenqdc.datasets.statistics\u001b[0m:\u001b[36mrun_calculators\u001b[0m:\u001b[36m153\u001b[0m - \u001b[1mProcessing dataset statistics\u001b[0m\n",
      "\u001b[32m2024-12-07 15:24:30.807\u001b[0m | \u001b[1mINFO    \u001b[0m | \u001b[36mopenqdc.datasets.statistics\u001b[0m:\u001b[36mattempt_load\u001b[0m:\u001b[36m277\u001b[0m - \u001b[1mStatistics for forcescalculatorstats loaded successfully\u001b[0m\n",
      "\u001b[32m2024-12-07 15:24:30.808\u001b[0m | \u001b[1mINFO    \u001b[0m | \u001b[36mopenqdc.datasets.statistics\u001b[0m:\u001b[36mattempt_load\u001b[0m:\u001b[36m277\u001b[0m - \u001b[1mStatistics for totalenergystats loaded successfully\u001b[0m\n",
      "\u001b[32m2024-12-07 15:24:30.810\u001b[0m | \u001b[1mINFO    \u001b[0m | \u001b[36mopenqdc.datasets.statistics\u001b[0m:\u001b[36mattempt_load\u001b[0m:\u001b[36m277\u001b[0m - \u001b[1mStatistics for formationenergystats_formation loaded successfully\u001b[0m\n",
      "\u001b[32m2024-12-07 15:24:30.811\u001b[0m | \u001b[1mINFO    \u001b[0m | \u001b[36mopenqdc.datasets.statistics\u001b[0m:\u001b[36mattempt_load\u001b[0m:\u001b[36m277\u001b[0m - \u001b[1mStatistics for peratomformationenergystats_formation loaded successfully\u001b[0m\n",
      "\u001b[32m2024-12-07 15:24:30.813\u001b[0m | \u001b[1mINFO    \u001b[0m | \u001b[36mopenqdc.datasets.base\u001b[0m:\u001b[36m_convert_data\u001b[0m:\u001b[36m253\u001b[0m - \u001b[1mConverting spice data to the following units:\n",
      "                     Energy: ev,\n",
      "                     Distance: ang,\n",
      "                     Forces: ev/ang\u001b[0m\n"
     ]
    }
   ],
   "source": [
    "from openqdc.datasets import Spice\n",
    "ds = Spice(\n",
    "    energy_unit=\"ev\",\n",
    "    distance_unit=\"ang\",\n",
    "    array_format = \"jax\"\n",
    ")\n"
   ]
  },
  {
   "cell_type": "code",
   "execution_count": 19,
   "id": "94c7acc5-6f38-450b-8a2a-e2439ef2c754",
   "metadata": {},
   "outputs": [],
   "source": [
    "from physnetjax.savepad import process_in_memory"
   ]
  },
  {
   "cell_type": "code",
   "execution_count": 21,
   "id": "3d595f64-f0b1-4e95-b282-98a05c8c68fb",
   "metadata": {},
   "outputs": [
    {
     "ename": "TypeError",
     "evalue": "unhashable type: 'jaxlib.xla_extension.ArrayImpl'",
     "output_type": "error",
     "traceback": [
      "\u001b[0;31m---------------------------------------------------------------------------\u001b[0m",
      "\u001b[0;31mTypeError\u001b[0m                                 Traceback (most recent call last)",
      "Cell \u001b[0;32mIn[21], line 1\u001b[0m\n\u001b[0;32m----> 1\u001b[0m \u001b[43mprocess_in_memory\u001b[49m\u001b[43m(\u001b[49m\u001b[43mds\u001b[49m\u001b[43m)\u001b[49m\n",
      "File \u001b[0;32m~/pycharmm_test/physnetjax/savepad.py:320\u001b[0m, in \u001b[0;36mprocess_in_memory\u001b[0;34m(data)\u001b[0m\n\u001b[1;32m    317\u001b[0m     \u001b[38;5;28;01mreturn\u001b[39;00m \u001b[38;5;28;01mNone\u001b[39;00m\n\u001b[1;32m    319\u001b[0m \u001b[38;5;28;01mif\u001b[39;00m check_keys(Z_KEYS, data[\u001b[38;5;241m0\u001b[39m]) \u001b[38;5;129;01mis\u001b[39;00m \u001b[38;5;129;01mnot\u001b[39;00m \u001b[38;5;28;01mNone\u001b[39;00m:\n\u001b[0;32m--> 320\u001b[0m     Z \u001b[38;5;241m=\u001b[39m [\u001b[43md\u001b[49m\u001b[43m[\u001b[49m\u001b[43mcheck_keys\u001b[49m\u001b[43m(\u001b[49m\u001b[43mZ_KEYS\u001b[49m\u001b[43m,\u001b[49m\u001b[43m \u001b[49m\u001b[43md\u001b[49m\u001b[43m)\u001b[49m\u001b[43m]\u001b[49m \u001b[38;5;28;01mfor\u001b[39;00m d \u001b[38;5;129;01min\u001b[39;00m data]\n\u001b[1;32m    321\u001b[0m     output[MolecularData\u001b[38;5;241m.\u001b[39mATOMIC_NUMBERS] \u001b[38;5;241m=\u001b[39m np\u001b[38;5;241m.\u001b[39marray(\n\u001b[1;32m    322\u001b[0m         [pad_atomic_numbers(Z[i], MAX_N_ATOMS) \u001b[38;5;28;01mfor\u001b[39;00m i \u001b[38;5;129;01min\u001b[39;00m \u001b[38;5;28mrange\u001b[39m(\u001b[38;5;28mlen\u001b[39m(Z))]\n\u001b[1;32m    323\u001b[0m     )\n\u001b[1;32m    324\u001b[0m \u001b[38;5;28;01mif\u001b[39;00m check_keys(R_KEYS, data[\u001b[38;5;241m0\u001b[39m]) \u001b[38;5;129;01mis\u001b[39;00m \u001b[38;5;129;01mnot\u001b[39;00m \u001b[38;5;28;01mNone\u001b[39;00m:\n",
      "File \u001b[0;32m~/miniforge3/envs/jaxphyscharmm/lib/python3.12/site-packages/sklearn/utils/_bunch.py:34\u001b[0m, in \u001b[0;36mBunch.__getitem__\u001b[0;34m(self, key)\u001b[0m\n\u001b[1;32m     33\u001b[0m \u001b[38;5;28;01mdef\u001b[39;00m \u001b[38;5;21m__getitem__\u001b[39m(\u001b[38;5;28mself\u001b[39m, key):\n\u001b[0;32m---> 34\u001b[0m     \u001b[38;5;28;01mif\u001b[39;00m \u001b[43mkey\u001b[49m\u001b[43m \u001b[49m\u001b[38;5;129;43;01min\u001b[39;49;00m\u001b[43m \u001b[49m\u001b[38;5;28;43mself\u001b[39;49m\u001b[38;5;241;43m.\u001b[39;49m\u001b[38;5;18;43m__dict__\u001b[39;49m\u001b[38;5;241;43m.\u001b[39;49m\u001b[43mget\u001b[49m\u001b[43m(\u001b[49m\u001b[38;5;124;43m\"\u001b[39;49m\u001b[38;5;124;43m_deprecated_key_to_warnings\u001b[39;49m\u001b[38;5;124;43m\"\u001b[39;49m\u001b[43m,\u001b[49m\u001b[43m \u001b[49m\u001b[43m{\u001b[49m\u001b[43m}\u001b[49m\u001b[43m)\u001b[49m:\n\u001b[1;32m     35\u001b[0m         warnings\u001b[38;5;241m.\u001b[39mwarn(\n\u001b[1;32m     36\u001b[0m             \u001b[38;5;28mself\u001b[39m\u001b[38;5;241m.\u001b[39m_deprecated_key_to_warnings[key],\n\u001b[1;32m     37\u001b[0m             \u001b[38;5;167;01mFutureWarning\u001b[39;00m,\n\u001b[1;32m     38\u001b[0m         )\n\u001b[1;32m     39\u001b[0m     \u001b[38;5;28;01mreturn\u001b[39;00m \u001b[38;5;28msuper\u001b[39m()\u001b[38;5;241m.\u001b[39m\u001b[38;5;21m__getitem__\u001b[39m(key)\n",
      "\u001b[0;31mTypeError\u001b[0m: unhashable type: 'jaxlib.xla_extension.ArrayImpl'"
     ]
    }
   ],
   "source": []
  },
  {
   "cell_type": "code",
   "execution_count": 24,
   "id": "c79afa3d-9bfb-44db-87d1-1d46b26a49e2",
   "metadata": {},
   "outputs": [
    {
     "data": {
      "text/plain": [
       "['__average_nb_atoms__',\n",
       " '__class__',\n",
       " '__delattr__',\n",
       " '__dict__',\n",
       " '__dir__',\n",
       " '__distance_unit__',\n",
       " '__doc__',\n",
       " '__energy_methods__',\n",
       " '__energy_unit__',\n",
       " '__eq__',\n",
       " '__force_mask__',\n",
       " '__force_methods__',\n",
       " '__forces_unit__',\n",
       " '__format__',\n",
       " '__ge__',\n",
       " '__getattribute__',\n",
       " '__getitem__',\n",
       " '__getstate__',\n",
       " '__gt__',\n",
       " '__hash__',\n",
       " '__init__',\n",
       " '__init_subclass__',\n",
       " '__isolated_atom_energies__',\n",
       " '__iter__',\n",
       " '__le__',\n",
       " '__len__',\n",
       " '__links__',\n",
       " '__lt__',\n",
       " '__module__',\n",
       " '__name__',\n",
       " '__ne__',\n",
       " '__new__',\n",
       " '__reduce__',\n",
       " '__reduce_ex__',\n",
       " '__repr__',\n",
       " '__setattr__',\n",
       " '__sizeof__',\n",
       " '__smiles_converter__',\n",
       " '__str__',\n",
       " '__subclasshook__',\n",
       " '__weakref__',\n",
       " '_compute_average_nb_atoms',\n",
       " '_convert_array',\n",
       " '_convert_data',\n",
       " '_convert_on_loading',\n",
       " '_dataset_wrapper',\n",
       " '_e0s_dispatcher',\n",
       " '_fn_distance',\n",
       " '_fn_energy',\n",
       " '_fn_forces',\n",
       " '_init_lambda_fn',\n",
       " '_original_unit',\n",
       " '_post_init',\n",
       " '_precompute_statistics',\n",
       " '_set_isolated_atom_energies',\n",
       " '_set_units',\n",
       " '_stats',\n",
       " 'array_format',\n",
       " 'as_iter',\n",
       " 'atom_energies',\n",
       " 'atoms_per_molecules',\n",
       " 'average_n_atoms',\n",
       " 'calculate_descriptors',\n",
       " 'charges',\n",
       " 'chemical_species',\n",
       " 'collate_list',\n",
       " 'config',\n",
       " 'convert_distance',\n",
       " 'convert_energy',\n",
       " 'convert_forces',\n",
       " 'data',\n",
       " 'data_keys',\n",
       " 'data_shapes',\n",
       " 'data_types',\n",
       " 'dataset_wrapper',\n",
       " 'distance_unit',\n",
       " 'e0s_dispatcher',\n",
       " 'energy_methods',\n",
       " 'energy_target_names',\n",
       " 'energy_type',\n",
       " 'energy_unit',\n",
       " 'fetch',\n",
       " 'force_mask',\n",
       " 'force_methods',\n",
       " 'force_target_names',\n",
       " 'force_unit',\n",
       " 'get_ase_atoms',\n",
       " 'get_statistics',\n",
       " 'is_cached',\n",
       " 'is_preprocessed',\n",
       " 'min_max_charges',\n",
       " 'no_init',\n",
       " 'numbers',\n",
       " 'pkl_data_keys',\n",
       " 'pkl_data_types',\n",
       " 'preprocess',\n",
       " 'preprocess_path',\n",
       " 'read_as_zarr',\n",
       " 'read_preprocess',\n",
       " 'read_raw_entries',\n",
       " 'recompute_statistics',\n",
       " 'refit_e0s',\n",
       " 'regressor_kwargs',\n",
       " 'root',\n",
       " 'save_preprocess',\n",
       " 'save_xyz',\n",
       " 'set_array_format',\n",
       " 'set_distance_unit',\n",
       " 'set_energy_unit',\n",
       " 'skip_statistics',\n",
       " 'statistics',\n",
       " 'subsample',\n",
       " 'subset_mapping',\n",
       " 'to_xyz',\n",
       " 'transform',\n",
       " 'upload']"
      ]
     },
     "execution_count": 24,
     "metadata": {},
     "output_type": "execute_result"
    }
   ],
   "source": [
    "dir(ds)"
   ]
  },
  {
   "cell_type": "code",
   "execution_count": 27,
   "id": "39837c08-d982-45c3-ae6e-07a0f392e061",
   "metadata": {},
   "outputs": [
    {
     "data": {
      "text/plain": [
       "['atomic_inputs', 'position_idx_range', 'energies', 'forces']"
      ]
     },
     "execution_count": 27,
     "metadata": {},
     "output_type": "execute_result"
    }
   ],
   "source": [
    "ds.data_keys"
   ]
  },
  {
   "cell_type": "code",
   "execution_count": 29,
   "id": "f40b6d44-aedb-4e04-b60f-54926dc3c425",
   "metadata": {},
   "outputs": [
    {
     "name": "stderr",
     "output_type": "stream",
     "text": [
      "\u001b[32m2024-12-07 15:28:03.438\u001b[0m | \u001b[1mINFO    \u001b[0m | \u001b[36mopenqdc.datasets.base\u001b[0m:\u001b[36mread_preprocess\u001b[0m:\u001b[36m435\u001b[0m - \u001b[1mReading preprocessed data.\u001b[0m\n",
      "\u001b[32m2024-12-07 15:28:03.439\u001b[0m | \u001b[1mINFO    \u001b[0m | \u001b[36mopenqdc.datasets.base\u001b[0m:\u001b[36mread_preprocess\u001b[0m:\u001b[36m436\u001b[0m - \u001b[1mDataset spice with the following units:\n",
      "                     Energy: ev,\n",
      "                     Distance: ang,\n",
      "                     Forces: ev/ang\u001b[0m\n",
      "\u001b[32m2024-12-07 15:28:04.759\u001b[0m | \u001b[1mINFO    \u001b[0m | \u001b[36mopenqdc.datasets.base\u001b[0m:\u001b[36mread_preprocess\u001b[0m:\u001b[36m452\u001b[0m - \u001b[1mLoaded atomic_inputs with shape (33175288, 5), dtype float32\u001b[0m\n",
      "\u001b[32m2024-12-07 15:28:04.760\u001b[0m | \u001b[1mINFO    \u001b[0m | \u001b[36mopenqdc.datasets.base\u001b[0m:\u001b[36mread_preprocess\u001b[0m:\u001b[36m452\u001b[0m - \u001b[1mLoaded position_idx_range with shape (1110165, 2), dtype int32\u001b[0m\n",
      "\u001b[32m2024-12-07 15:28:04.761\u001b[0m | \u001b[1mINFO    \u001b[0m | \u001b[36mopenqdc.datasets.base\u001b[0m:\u001b[36mread_preprocess\u001b[0m:\u001b[36m452\u001b[0m - \u001b[1mLoaded energies with shape (1110165, 1), dtype float64\u001b[0m\n",
      "\u001b[32m2024-12-07 15:28:04.761\u001b[0m | \u001b[1mINFO    \u001b[0m | \u001b[36mopenqdc.datasets.base\u001b[0m:\u001b[36mread_preprocess\u001b[0m:\u001b[36m452\u001b[0m - \u001b[1mLoaded forces with shape (33175288, 3, 1), dtype float32\u001b[0m\n",
      "\u001b[32m2024-12-07 15:28:04.762\u001b[0m | \u001b[1mINFO    \u001b[0m | \u001b[36mopenqdc.datasets.base\u001b[0m:\u001b[36mread_preprocess\u001b[0m:\u001b[36m452\u001b[0m - \u001b[1mLoaded n_atoms with shape (1110165,), dtype int32\u001b[0m\n",
      "\u001b[32m2024-12-07 15:28:04.763\u001b[0m | \u001b[1mINFO    \u001b[0m | \u001b[36mopenqdc.datasets.base\u001b[0m:\u001b[36mread_preprocess\u001b[0m:\u001b[36m452\u001b[0m - \u001b[1mLoaded subset with shape (1110165,), dtype <U20\u001b[0m\n",
      "\u001b[32m2024-12-07 15:28:04.763\u001b[0m | \u001b[1mINFO    \u001b[0m | \u001b[36mopenqdc.datasets.base\u001b[0m:\u001b[36mread_preprocess\u001b[0m:\u001b[36m452\u001b[0m - \u001b[1mLoaded name with shape (1110165,), dtype <U632\u001b[0m\n"
     ]
    }
   ],
   "source": [
    "ds.read_preprocess()"
   ]
  },
  {
   "cell_type": "code",
   "execution_count": 30,
   "id": "76b7103f-18f6-4be8-99d4-d209835f4ff4",
   "metadata": {},
   "outputs": [
    {
     "ename": "NameError",
     "evalue": "name 'dataset' is not defined",
     "output_type": "error",
     "traceback": [
      "\u001b[0;31m---------------------------------------------------------------------------\u001b[0m",
      "\u001b[0;31mNameError\u001b[0m                                 Traceback (most recent call last)",
      "Cell \u001b[0;32mIn[30], line 1\u001b[0m\n\u001b[0;32m----> 1\u001b[0m \u001b[38;5;28;01mfor\u001b[39;00m data \u001b[38;5;129;01min\u001b[39;00m \u001b[43mdataset\u001b[49m\u001b[38;5;241m.\u001b[39mas_iter(atoms\u001b[38;5;241m=\u001b[39m\u001b[38;5;28;01mTrue\u001b[39;00m):\n\u001b[1;32m      2\u001b[0m     \u001b[38;5;28mprint\u001b[39m(data)\n",
      "\u001b[0;31mNameError\u001b[0m: name 'dataset' is not defined"
     ]
    }
   ],
   "source": [
    "for data in ds.as_iter(atoms=True):\n",
    "    print(data)"
   ]
  },
  {
   "cell_type": "code",
   "execution_count": 38,
   "id": "570a2395-a0fa-4c91-9380-8ab8ceb35984",
   "metadata": {},
   "outputs": [],
   "source": [
    "datadicts = [dict(ds[_]) for _ in ds.subsample(10)]"
   ]
  },
  {
   "cell_type": "code",
   "execution_count": 42,
   "id": "c6ce46cb-ad63-4227-82d8-d203b213e3f6",
   "metadata": {},
   "outputs": [
    {
     "ename": "AttributeError",
     "evalue": "'dict' object has no attribute 'ndim'",
     "output_type": "error",
     "traceback": [
      "\u001b[0;31m---------------------------------------------------------------------------\u001b[0m",
      "\u001b[0;31mAttributeError\u001b[0m                            Traceback (most recent call last)",
      "Cell \u001b[0;32mIn[42], line 1\u001b[0m\n\u001b[0;32m----> 1\u001b[0m \u001b[43mprocess_in_memory\u001b[49m\u001b[43m(\u001b[49m\u001b[43mdatadicts\u001b[49m\u001b[43m)\u001b[49m\n",
      "File \u001b[0;32m~/pycharmm_test/physnetjax/savepad.py:322\u001b[0m, in \u001b[0;36mprocess_in_memory\u001b[0;34m(data)\u001b[0m\n\u001b[1;32m    319\u001b[0m \u001b[38;5;28;01mif\u001b[39;00m check_keys(Z_KEYS, data[\u001b[38;5;241m0\u001b[39m]) \u001b[38;5;129;01mis\u001b[39;00m \u001b[38;5;129;01mnot\u001b[39;00m \u001b[38;5;28;01mNone\u001b[39;00m:\n\u001b[1;32m    320\u001b[0m     Z \u001b[38;5;241m=\u001b[39m [d  \u001b[38;5;28;01mfor\u001b[39;00m d \u001b[38;5;129;01min\u001b[39;00m data]\n\u001b[1;32m    321\u001b[0m     output[MolecularData\u001b[38;5;241m.\u001b[39mATOMIC_NUMBERS] \u001b[38;5;241m=\u001b[39m np\u001b[38;5;241m.\u001b[39marray(\n\u001b[0;32m--> 322\u001b[0m         [\u001b[43mpad_atomic_numbers\u001b[49m\u001b[43m(\u001b[49m\u001b[43mZ\u001b[49m\u001b[43m[\u001b[49m\u001b[43mi\u001b[49m\u001b[43m]\u001b[49m\u001b[43m,\u001b[49m\u001b[43m \u001b[49m\u001b[43mMAX_N_ATOMS\u001b[49m\u001b[43m)\u001b[49m \u001b[38;5;28;01mfor\u001b[39;00m i \u001b[38;5;129;01min\u001b[39;00m \u001b[38;5;28mrange\u001b[39m(\u001b[38;5;28mlen\u001b[39m(Z))]\n\u001b[1;32m    323\u001b[0m     )\n\u001b[1;32m    324\u001b[0m \u001b[38;5;28;01mif\u001b[39;00m check_keys(R_KEYS, data[\u001b[38;5;241m0\u001b[39m]) \u001b[38;5;129;01mis\u001b[39;00m \u001b[38;5;129;01mnot\u001b[39;00m \u001b[38;5;28;01mNone\u001b[39;00m:\n\u001b[1;32m    325\u001b[0m     output[MolecularData\u001b[38;5;241m.\u001b[39mCOORDINATES] \u001b[38;5;241m=\u001b[39m np\u001b[38;5;241m.\u001b[39marray(\n\u001b[1;32m    326\u001b[0m         [pad_coordinates(d, MAX_N_ATOMS) \u001b[38;5;28;01mfor\u001b[39;00m d \u001b[38;5;129;01min\u001b[39;00m data]\n\u001b[1;32m    327\u001b[0m     )\n",
      "File \u001b[0;32m~/pycharmm_test/physnetjax/savepad.py:135\u001b[0m, in \u001b[0;36mpad_atomic_numbers\u001b[0;34m(atomic_numbers, max_atoms)\u001b[0m\n\u001b[1;32m    124\u001b[0m \u001b[38;5;28;01mdef\u001b[39;00m \u001b[38;5;21mpad_atomic_numbers\u001b[39m(atomic_numbers: NDArray, max_atoms: \u001b[38;5;28mint\u001b[39m) \u001b[38;5;241m-\u001b[39m\u001b[38;5;241m>\u001b[39m NDArray:\n\u001b[1;32m    125\u001b[0m \u001b[38;5;250m    \u001b[39m\u001b[38;5;124;03m\"\"\"\u001b[39;00m\n\u001b[1;32m    126\u001b[0m \u001b[38;5;124;03m    Pad atomic numbers array to maximum number of atoms.\u001b[39;00m\n\u001b[1;32m    127\u001b[0m \n\u001b[0;32m   (...)\u001b[0m\n\u001b[1;32m    133\u001b[0m \u001b[38;5;124;03m        Padded atomic numbers array\u001b[39;00m\n\u001b[1;32m    134\u001b[0m \u001b[38;5;124;03m    \"\"\"\u001b[39;00m\n\u001b[0;32m--> 135\u001b[0m     \u001b[38;5;28;01mreturn\u001b[39;00m \u001b[43mpad_array\u001b[49m\u001b[43m(\u001b[49m\u001b[43matomic_numbers\u001b[49m\u001b[43m,\u001b[49m\u001b[43m \u001b[49m\u001b[43mmax_atoms\u001b[49m\u001b[43m,\u001b[49m\u001b[43m \u001b[49m\u001b[43mpad_value\u001b[49m\u001b[38;5;241;43m=\u001b[39;49m\u001b[38;5;241;43m0\u001b[39;49m\u001b[43m)\u001b[49m\n",
      "File \u001b[0;32m~/pycharmm_test/physnetjax/savepad.py:89\u001b[0m, in \u001b[0;36mpad_array\u001b[0;34m(arr, max_size, axis, pad_value)\u001b[0m\n\u001b[1;32m     74\u001b[0m \u001b[38;5;28;01mdef\u001b[39;00m \u001b[38;5;21mpad_array\u001b[39m(\n\u001b[1;32m     75\u001b[0m     arr: NDArray, max_size: \u001b[38;5;28mint\u001b[39m, axis: \u001b[38;5;28mint\u001b[39m \u001b[38;5;241m=\u001b[39m \u001b[38;5;241m0\u001b[39m, pad_value: \u001b[38;5;28mfloat\u001b[39m \u001b[38;5;241m=\u001b[39m \u001b[38;5;241m0.0\u001b[39m\n\u001b[1;32m     76\u001b[0m ) \u001b[38;5;241m-\u001b[39m\u001b[38;5;241m>\u001b[39m NDArray:\n\u001b[1;32m     77\u001b[0m \u001b[38;5;250m    \u001b[39m\u001b[38;5;124;03m\"\"\"\u001b[39;00m\n\u001b[1;32m     78\u001b[0m \u001b[38;5;124;03m    Pad a numpy array along specified axis to a maximum size.\u001b[39;00m\n\u001b[1;32m     79\u001b[0m \n\u001b[0;32m   (...)\u001b[0m\n\u001b[1;32m     87\u001b[0m \u001b[38;5;124;03m        Padded array\u001b[39;00m\n\u001b[1;32m     88\u001b[0m \u001b[38;5;124;03m    \"\"\"\u001b[39;00m\n\u001b[0;32m---> 89\u001b[0m     pad_width \u001b[38;5;241m=\u001b[39m [(\u001b[38;5;241m0\u001b[39m, \u001b[38;5;241m0\u001b[39m)] \u001b[38;5;241m*\u001b[39m \u001b[43marr\u001b[49m\u001b[38;5;241;43m.\u001b[39;49m\u001b[43mndim\u001b[49m\n\u001b[1;32m     90\u001b[0m     pad_width[axis] \u001b[38;5;241m=\u001b[39m (\u001b[38;5;241m0\u001b[39m, max_size \u001b[38;5;241m-\u001b[39m arr\u001b[38;5;241m.\u001b[39mshape[axis])\n\u001b[1;32m     91\u001b[0m     \u001b[38;5;28;01mreturn\u001b[39;00m np\u001b[38;5;241m.\u001b[39mpad(arr, pad_width, mode\u001b[38;5;241m=\u001b[39m\u001b[38;5;124m\"\u001b[39m\u001b[38;5;124mconstant\u001b[39m\u001b[38;5;124m\"\u001b[39m, constant_values\u001b[38;5;241m=\u001b[39mpad_value)\n",
      "\u001b[0;31mAttributeError\u001b[0m: 'dict' object has no attribute 'ndim'"
     ]
    }
   ],
   "source": [
    "process_in_memory(datadicts)"
   ]
  },
  {
   "cell_type": "code",
   "execution_count": null,
   "id": "f85213cc-ad53-4d85-87a3-fa00768cec82",
   "metadata": {},
   "outputs": [],
   "source": []
  }
 ],
 "metadata": {
  "kernelspec": {
   "display_name": "physnetjax",
   "language": "python",
   "name": "jaxphyscharmm"
  },
  "language_info": {
   "codemirror_mode": {
    "name": "ipython",
    "version": 3
   },
   "file_extension": ".py",
   "mimetype": "text/x-python",
   "name": "python",
   "nbconvert_exporter": "python",
   "pygments_lexer": "ipython3",
   "version": "3.12.7"
  }
 },
 "nbformat": 4,
 "nbformat_minor": 5
}
