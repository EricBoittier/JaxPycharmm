{
 "cells": [
  {
   "cell_type": "code",
   "execution_count": 5,
   "id": "426384c3-5d35-444a-8f0a-48a7ce94795a",
   "metadata": {
    "jupyter": {
     "is_executing": true
    }
   },
   "outputs": [
    {
     "name": "stdout",
     "output_type": "stream",
     "text": [
      "The autoreload extension is already loaded. To reload it, use:\n",
      "  %reload_ext autoreload\n",
      "[CudaDevice(id=0)]\n",
      "gpu\n",
      "[CudaDevice(id=0)]\n"
     ]
    },
    {
     "ename": "ModuleNotFoundError",
     "evalue": "No module named 'physnetjax.model'",
     "output_type": "error",
     "traceback": [
      "\u001b[0;31m---------------------------------------------------------------------------\u001b[0m",
      "\u001b[0;31mModuleNotFoundError\u001b[0m                       Traceback (most recent call last)",
      "Cell \u001b[0;32mIn[5], line 27\u001b[0m\n\u001b[1;32m     24\u001b[0m \u001b[38;5;66;03m# from dcmnet.analysis import create_model_and_params\u001b[39;00m\n\u001b[1;32m     25\u001b[0m \u001b[38;5;66;03m# from data import prepare_batches, prepare_datasets\u001b[39;00m\n\u001b[1;32m     26\u001b[0m \u001b[38;5;28;01mimport\u001b[39;00m \u001b[38;5;21;01mnumpy\u001b[39;00m \u001b[38;5;28;01mas\u001b[39;00m \u001b[38;5;21;01mnp\u001b[39;00m\n\u001b[0;32m---> 27\u001b[0m \u001b[38;5;28;01mfrom\u001b[39;00m \u001b[38;5;21;01mphysnetjax\u001b[39;00m\u001b[38;5;21;01m.\u001b[39;00m\u001b[38;5;21;01mmodel\u001b[39;00m \u001b[38;5;28;01mimport\u001b[39;00m EF\n\u001b[1;32m     28\u001b[0m \u001b[38;5;28;01mfrom\u001b[39;00m \u001b[38;5;21;01mphysnetjax\u001b[39;00m\u001b[38;5;21;01m.\u001b[39;00m\u001b[38;5;21;01mloss\u001b[39;00m \u001b[38;5;28;01mimport\u001b[39;00m dipole_calc\n\u001b[1;32m     29\u001b[0m \u001b[38;5;28;01mfrom\u001b[39;00m  \u001b[38;5;21;01mphysnetjax\u001b[39;00m\u001b[38;5;21;01m.\u001b[39;00m\u001b[38;5;21;01mtraining\u001b[39;00m \u001b[38;5;28;01mimport\u001b[39;00m train_model \u001b[38;5;66;03m# from model import dipole_calc\u001b[39;00m\n",
      "\u001b[0;31mModuleNotFoundError\u001b[0m: No module named 'physnetjax.model'"
     ]
    }
   ],
   "source": [
    "%load_ext autoreload\n",
    "%autoreload 2\n",
    "import os\n",
    "# Set environment variables\n",
    "os.environ[\"XLA_PYTHON_CLIENT_MEM_FRACTION\"] = \".99\"\n",
    "os.environ[\"CUDA_VISIBLE_DEVICES\"] = \"1\"\n",
    "import jax\n",
    "# from jax import config\n",
    "# config.update('jax_enable_x64', True)\n",
    "# Check JAX configuration\n",
    "devices = jax.local_devices()\n",
    "print(devices)\n",
    "print(jax.default_backend())\n",
    "print(jax.devices())\n",
    "import sys\n",
    "# Add custom path\n",
    "sys.path.append(\"/pchem-data/meuwly/boittier/home/pycharmm_test/src\")\n",
    "# from model import EF\n",
    "# from loss import dipole_calc\n",
    "# from  training import train_model # from model import dipole_calc\n",
    "import jax\n",
    "import optax\n",
    "import e3x\n",
    "# from dcmnet.analysis import create_model_and_params\n",
    "# from data import prepare_batches, prepare_datasets\n",
    "import numpy as np\n",
    "from physnetjax.model import EF\n",
    "from physnetjax.loss import dipole_calc\n",
    "from  physnetjax.training import train_model # from model import dipole_calc\n",
    "from physnetjax.data import prepare_batches, prepare_datasets\n",
    "import orbax\n",
    "from orbax.checkpoint import PyTreeCheckpointer\n",
    "orbax_checkpointer = orbax.checkpoint.PyTreeCheckpointer()\n",
    "import jax\n",
    "import jax.numpy as jnp\n",
    "import flax.linen as nn\n",
    "import networkx as nx\n",
    "import matplotlib.pyplot as plt\n",
    "%load_ext autoreload\n",
    "%autoreload 2\n",
    "import os\n",
    "# Set environment variables\n",
    "os.environ[\"XLA_PYTHON_CLIENT_MEM_FRACTION\"] = \".99\"\n",
    "os.environ[\"CUDA_VISIBLE_DEVICES\"] = \"1\"\n",
    "import jax\n",
    "# from jax import config\n",
    "# config.update('jax_enable_x64', True)\n",
    "# Check JAX configuration\n",
    "devices = jax.local_devices()\n",
    "print(devices)\n",
    "print(jax.default_backend())\n",
    "print(jax.devices())\n",
    "import sys\n",
    "# Add custom path\n",
    "sys.path.append(\"/pchem-data/meuwly/boittier/home/pycharmm_test/src\")\n",
    "# from model import EF\n",
    "# from loss import dipole_calc\n",
    "# from  training import train_model # from model import dipole_calc\n",
    "import jax\n",
    "import optax\n",
    "import e3x\n",
    "# from dcmnet.analysis import create_model_and_params\n",
    "# from data import prepare_batches, prepare_datasets\n",
    "import numpy as np\n",
    "from physnetjax.data.datasets import process_in_memory\n",
    "from physnetjax.models.model import EF\n",
    "from physnetjax.training.training import train_model\n",
    "# from physnetjax.loss import dipole_calc\n",
    "# from  physnetjax.training import train_model # from model import dipole_calc\n",
    "from physnetjax.data.data import prepare_batches, prepare_datasets\n",
    "import orbax\n",
    "from orbax.checkpoint import PyTreeCheckpointer\n",
    "orbax_checkpointer = orbax.checkpoint.PyTreeCheckpointer()\n",
    "# from physnetjax.analysis import *\n",
    "import polars as pl\n",
    "from tensorboard.backend.event_processing.event_accumulator import EventAccumulator\n",
    "from tensorflow.python.summary.summary_iterator import summary_iterator"
<<<<<<< HEAD
   ],
   "execution_count": null,
   "outputs": []
=======
   ]
>>>>>>> 75f2a00960de5adde7409e367e53809c0e45bbe0
  },
  {
   "cell_type": "code",
   "execution_count": null,
   "id": "4de7a898-fcf2-4166-9e54-6c9f033bbe06",
   "metadata": {},
<<<<<<< HEAD
   "outputs": [],
=======
<<<<<<< HEAD
=======
   "outputs": [
    {
     "name": "stderr",
     "output_type": "stream",
     "text": [
      "\u001b[32m2024-12-09 07:29:45.979\u001b[0m | \u001b[1mINFO    \u001b[0m | \u001b[36mopenqdc.datasets.base\u001b[0m:\u001b[36mread_preprocess\u001b[0m:\u001b[36m435\u001b[0m - \u001b[1mReading preprocessed data.\u001b[0m\n",
      "\u001b[32m2024-12-09 07:29:45.980\u001b[0m | \u001b[1mINFO    \u001b[0m | \u001b[36mopenqdc.datasets.base\u001b[0m:\u001b[36mread_preprocess\u001b[0m:\u001b[36m436\u001b[0m - \u001b[1mDataset spice with the following units:\n",
      "                     Energy: hartree,\n",
      "                     Distance: bohr,\n",
      "                     Forces: hartree/bohr\u001b[0m\n",
      "\u001b[32m2024-12-09 07:29:47.351\u001b[0m | \u001b[1mINFO    \u001b[0m | \u001b[36mopenqdc.datasets.base\u001b[0m:\u001b[36mread_preprocess\u001b[0m:\u001b[36m452\u001b[0m - \u001b[1mLoaded atomic_inputs with shape (33175288, 5), dtype float32\u001b[0m\n",
      "\u001b[32m2024-12-09 07:29:47.351\u001b[0m | \u001b[1mINFO    \u001b[0m | \u001b[36mopenqdc.datasets.base\u001b[0m:\u001b[36mread_preprocess\u001b[0m:\u001b[36m452\u001b[0m - \u001b[1mLoaded position_idx_range with shape (1110165, 2), dtype int32\u001b[0m\n",
      "\u001b[32m2024-12-09 07:29:47.352\u001b[0m | \u001b[1mINFO    \u001b[0m | \u001b[36mopenqdc.datasets.base\u001b[0m:\u001b[36mread_preprocess\u001b[0m:\u001b[36m452\u001b[0m - \u001b[1mLoaded energies with shape (1110165, 1), dtype float64\u001b[0m\n",
      "\u001b[32m2024-12-09 07:29:47.352\u001b[0m | \u001b[1mINFO    \u001b[0m | \u001b[36mopenqdc.datasets.base\u001b[0m:\u001b[36mread_preprocess\u001b[0m:\u001b[36m452\u001b[0m - \u001b[1mLoaded forces with shape (33175288, 3, 1), dtype float32\u001b[0m\n",
      "\u001b[32m2024-12-09 07:29:47.353\u001b[0m | \u001b[1mINFO    \u001b[0m | \u001b[36mopenqdc.datasets.base\u001b[0m:\u001b[36mread_preprocess\u001b[0m:\u001b[36m452\u001b[0m - \u001b[1mLoaded n_atoms with shape (1110165,), dtype int32\u001b[0m\n",
      "\u001b[32m2024-12-09 07:29:47.353\u001b[0m | \u001b[1mINFO    \u001b[0m | \u001b[36mopenqdc.datasets.base\u001b[0m:\u001b[36mread_preprocess\u001b[0m:\u001b[36m452\u001b[0m - \u001b[1mLoaded subset with shape (1110165,), dtype <U20\u001b[0m\n",
      "\u001b[32m2024-12-09 07:29:47.354\u001b[0m | \u001b[1mINFO    \u001b[0m | \u001b[36mopenqdc.datasets.base\u001b[0m:\u001b[36mread_preprocess\u001b[0m:\u001b[36m452\u001b[0m - \u001b[1mLoaded name with shape (1110165,), dtype <U632\u001b[0m\n",
      "\u001b[32m2024-12-09 07:29:48.436\u001b[0m | \u001b[1mINFO    \u001b[0m | \u001b[36mopenqdc.datasets.statistics\u001b[0m:\u001b[36mrun_calculators\u001b[0m:\u001b[36m153\u001b[0m - \u001b[1mProcessing dataset statistics\u001b[0m\n",
      "\u001b[32m2024-12-09 07:29:48.438\u001b[0m | \u001b[1mINFO    \u001b[0m | \u001b[36mopenqdc.datasets.statistics\u001b[0m:\u001b[36mattempt_load\u001b[0m:\u001b[36m277\u001b[0m - \u001b[1mStatistics for forcescalculatorstats loaded successfully\u001b[0m\n",
      "\u001b[32m2024-12-09 07:29:48.439\u001b[0m | \u001b[1mINFO    \u001b[0m | \u001b[36mopenqdc.datasets.statistics\u001b[0m:\u001b[36mattempt_load\u001b[0m:\u001b[36m277\u001b[0m - \u001b[1mStatistics for totalenergystats loaded successfully\u001b[0m\n",
      "\u001b[32m2024-12-09 07:29:48.440\u001b[0m | \u001b[1mINFO    \u001b[0m | \u001b[36mopenqdc.datasets.statistics\u001b[0m:\u001b[36mattempt_load\u001b[0m:\u001b[36m277\u001b[0m - \u001b[1mStatistics for formationenergystats_formation loaded successfully\u001b[0m\n",
      "\u001b[32m2024-12-09 07:29:48.441\u001b[0m | \u001b[1mINFO    \u001b[0m | \u001b[36mopenqdc.datasets.statistics\u001b[0m:\u001b[36mattempt_load\u001b[0m:\u001b[36m277\u001b[0m - \u001b[1mStatistics for peratomformationenergystats_formation loaded successfully\u001b[0m\n",
      "\u001b[32m2024-12-09 07:29:48.443\u001b[0m | \u001b[1mINFO    \u001b[0m | \u001b[36mopenqdc.datasets.base\u001b[0m:\u001b[36m_convert_data\u001b[0m:\u001b[36m253\u001b[0m - \u001b[1mConverting spice data to the following units:\n",
      "                     Energy: ev,\n",
      "                     Distance: ang,\n",
      "                     Forces: ev/ang\u001b[0m\n",
      "\u001b[32m2024-12-09 07:29:49.736\u001b[0m | \u001b[1mINFO    \u001b[0m | \u001b[36mopenqdc.datasets.base\u001b[0m:\u001b[36mread_preprocess\u001b[0m:\u001b[36m435\u001b[0m - \u001b[1mReading preprocessed data.\u001b[0m\n",
      "\u001b[32m2024-12-09 07:29:49.737\u001b[0m | \u001b[1mINFO    \u001b[0m | \u001b[36mopenqdc.datasets.base\u001b[0m:\u001b[36mread_preprocess\u001b[0m:\u001b[36m436\u001b[0m - \u001b[1mDataset spice with the following units:\n",
      "                     Energy: ev,\n",
      "                     Distance: ang,\n",
      "                     Forces: ev/ang\u001b[0m\n",
      "\u001b[32m2024-12-09 07:29:51.267\u001b[0m | \u001b[1mINFO    \u001b[0m | \u001b[36mopenqdc.datasets.base\u001b[0m:\u001b[36mread_preprocess\u001b[0m:\u001b[36m452\u001b[0m - \u001b[1mLoaded atomic_inputs with shape (33175288, 5), dtype float32\u001b[0m\n",
      "\u001b[32m2024-12-09 07:29:51.268\u001b[0m | \u001b[1mINFO    \u001b[0m | \u001b[36mopenqdc.datasets.base\u001b[0m:\u001b[36mread_preprocess\u001b[0m:\u001b[36m452\u001b[0m - \u001b[1mLoaded position_idx_range with shape (1110165, 2), dtype int32\u001b[0m\n",
      "\u001b[32m2024-12-09 07:29:51.269\u001b[0m | \u001b[1mINFO    \u001b[0m | \u001b[36mopenqdc.datasets.base\u001b[0m:\u001b[36mread_preprocess\u001b[0m:\u001b[36m452\u001b[0m - \u001b[1mLoaded energies with shape (1110165, 1), dtype float64\u001b[0m\n",
      "\u001b[32m2024-12-09 07:29:51.269\u001b[0m | \u001b[1mINFO    \u001b[0m | \u001b[36mopenqdc.datasets.base\u001b[0m:\u001b[36mread_preprocess\u001b[0m:\u001b[36m452\u001b[0m - \u001b[1mLoaded forces with shape (33175288, 3, 1), dtype float32\u001b[0m\n",
      "\u001b[32m2024-12-09 07:29:51.270\u001b[0m | \u001b[1mINFO    \u001b[0m | \u001b[36mopenqdc.datasets.base\u001b[0m:\u001b[36mread_preprocess\u001b[0m:\u001b[36m452\u001b[0m - \u001b[1mLoaded n_atoms with shape (1110165,), dtype int32\u001b[0m\n",
      "\u001b[32m2024-12-09 07:29:51.270\u001b[0m | \u001b[1mINFO    \u001b[0m | \u001b[36mopenqdc.datasets.base\u001b[0m:\u001b[36mread_preprocess\u001b[0m:\u001b[36m452\u001b[0m - \u001b[1mLoaded subset with shape (1110165,), dtype <U20\u001b[0m\n",
      "\u001b[32m2024-12-09 07:29:51.270\u001b[0m | \u001b[1mINFO    \u001b[0m | \u001b[36mopenqdc.datasets.base\u001b[0m:\u001b[36mread_preprocess\u001b[0m:\u001b[36m452\u001b[0m - \u001b[1mLoaded name with shape (1110165,), dtype <U632\u001b[0m\n"
     ]
    }
   ],
>>>>>>> 75f2a00960de5adde7409e367e53809c0e45bbe0
>>>>>>> 006a123d84886492563369769045a5c0c0f054b2
   "source": [
    "# from openqdc.datasets import Spice\n",
    "# from physnetjax.savepad import * \n",
    "\n",
    "# NATOMS = 96\n",
    "\n",
<<<<<<< HEAD
    "# ds = Spice(\n",
    "#     energy_unit=\"ev\",\n",
    "#     distance_unit=\"ang\",\n",
    "#     # array_format = \"jax\"\n",
    "# )\n",
    "# ds.read_preprocess()\n",
    "# datadicts = [dict(ds[_]) for _ in ds.subsample(5000)]\n",
    "# output1 = process_in_memory(datadicts, max_atoms=NATOMS)\n",
    "# datadicts = [dict(ds[_]) for _ in ds.subsample(500)]\n",
    "# output2 = process_in_memory(datadicts, max_atoms=NATOMS)"
   ]
=======
    "ds = Spice(\n",
    "    energy_unit=\"ev\",\n",
    "    distance_unit=\"ang\",\n",
    "    # array_format = \"jax\"\n",
    ")\n",
    "ds.read_preprocess()\n",
    "datadicts = [dict(ds[_]) for _ in ds.subsample(5000)]\n",
    "output1 = process_in_memory(datadicts, max_atoms=NATOMS)\n",
    "datadicts = [dict(ds[_]) for _ in ds.subsample(500)]\n",
    "output2 = process_in_memory(datadicts, max_atoms=NATOMS)"
   ],
   "outputs": []
  },
  {
   "cell_type": "code",
   "execution_count": 3,
   "id": "495fc174-4981-4a84-8fa3-5386274d1d66",
   "metadata": {},
   "source": [
    "type(datadicts)"
   ],
   "outputs": []
>>>>>>> 006a123d84886492563369769045a5c0c0f054b2
  },
  {
   "cell_type": "code",
   "execution_count": 4,
   "id": "495fc174-4981-4a84-8fa3-5386274d1d66",
   "metadata": {},
<<<<<<< HEAD
   "outputs": [
    {
     "ename": "NameError",
     "evalue": "name 'Path' is not defined",
     "output_type": "error",
     "traceback": [
      "\u001b[0;31m---------------------------------------------------------------------------\u001b[0m",
      "\u001b[0;31mNameError\u001b[0m                                 Traceback (most recent call last)",
      "Cell \u001b[0;32mIn[4], line 2\u001b[0m\n\u001b[1;32m      1\u001b[0m files \u001b[38;5;241m=\u001b[39m [\n\u001b[0;32m----> 2\u001b[0m     \u001b[43mPath\u001b[49m(\u001b[38;5;124m\"\u001b[39m\u001b[38;5;124m/pchem-data/meuwly/boittier/home/pycharmm_test/data/datasets/dcm-round2-dimer41950.npz\u001b[39m\u001b[38;5;124m\"\u001b[39m),\n\u001b[1;32m      3\u001b[0m \n\u001b[1;32m      4\u001b[0m ]\n",
      "\u001b[0;31mNameError\u001b[0m: name 'Path' is not defined"
     ]
    }
   ],
=======
>>>>>>> 006a123d84886492563369769045a5c0c0f054b2
   "source": [
    "files = [\n",
    "    Path(\"/pchem-data/meuwly/boittier/home/pycharmm_test/data/datasets/dcm-round2-dimer41950.npz\"),\n",
    "\n",
    "]"
   ]
  },
  {
   "cell_type": "code",
   "execution_count": 3,
   "id": "4fa8f8f0-bf79-4ec7-83f5-635c1d75772e",
   "metadata": {},
   "outputs": [],
   "source": [
    "data_key, train_key = jax.random.split(\n",
    "    jax.random.PRNGKey(42), 2)"
   ],
   "outputs": []
  },
  {
   "cell_type": "code",
   "execution_count": null,
   "id": "08b47ce5-e1c8-40c9-a843-a95d31013698",
   "metadata": {},
   "outputs": [],
   "source": [
    "train_data, valid_data = prepare_datasets(\n",
    "    data_key,\n",
    "    16801,\n",
    "     4200,\n",
    "    files,\n",
    "    clip_esp=False,\n",
    "    natoms=NATOMS,\n",
    "    clean=False,\n",
    "    subtract_atom_energies=False,\n",
    "    verbose=True,\n",
    ")\n",
    "\n",
    "ntest = len(valid_data[\"E\"]) // 3\n",
    "test_data = {k: v[ntest:] for k, v in valid_data.items()}\n",
    "valid_data = {k: v[:ntest] for k, v in valid_data.items()}\n",
    "\n",
    "DEFAULT_DATA_KEYS = [\"Z\", \"R\", \"D\", \"E\", \"F\", \"N\"]\n",
    "batch_size = 11\n",
    "\n",
    "test_batches = prepare_batches(data_key, test_data, batch_size,\n",
    "                              num_atoms=NATOMS,\n",
    "                              data_keys=DEFAULT_DATA_KEYS)\n",
    "\n",
    "train_batches = prepare_batches(data_key, train_data, batch_size,\n",
    "                              num_atoms=NATOMS,\n",
    "                              data_keys=DEFAULT_DATA_KEYS)\n",
    "\n",
    "valid_batches = prepare_batches(data_key, valid_data, batch_size,\n",
    "                              num_atoms=NATOMS,\n",
    "                              data_keys=DEFAULT_DATA_KEYS)"
   ]
  },
  {
   "cell_type": "code",
   "execution_count": 5,
   "id": "d0087ff7-f6e3-4ede-b716-6006225ab285",
   "metadata": {},
   "source": [
    "from physnetjax.model import EF\n",
    "from physnetjax.training import train_model \n"
   ],
   "outputs": []
  },
  {
   "cell_type": "code",
   "execution_count": null,
   "id": "2a076b2a-069d-48fe-9b50-877a3034ca2c",
   "metadata": {
    "scrolled": true
   },
<<<<<<< HEAD
=======
   "outputs": [
    {
     "name": "stdout",
     "output_type": "stream",
     "text": [
      "Training Routine\n",
      "Optimizer:\n",
      "  init: <function chain.<locals>.init_fn at 0x14e284fe7560> init_fn\n",
      "  update: <function chain.<locals>.update_fn at 0x14e284fe72e0> update_fn\n",
      "Transform:\n",
      "  init: <function reduce_on_plateau.<locals>.init_fn at 0x14e284fe7740> init_fn\n",
      "  update: <function reduce_on_plateau.<locals>.update_fn at 0x14e284fe7ba0> update_fn\n",
      "Schedule_fn: <function constant_schedule.<locals>.<lambda> at 0x14e1aaf9cc20> <lambda>\n"
     ]
    },
    {
     "data": {
      "text/html": [
       "<pre style=\"white-space:pre;overflow-x:auto;line-height:normal;font-family:Menlo,'DejaVu Sans Mono',consolas,'Courier New',monospace\"><span style=\"font-style: italic\">                                        PhysNetJax Training Initialization                                         </span>\n",
       "┏━━━━━━━━━━━━━━━┳━━━━━━━━━━━━━━━┳━━━━━━━━━━━━━━━━━━┳━━━━━━━━━━━━━━━━━━┳━━━━━━━━━━━━━━━━━━┳━━━━━━━━━━━━┳━━━━━━━━━━━┓\n",
       "┃<span style=\"font-weight: bold\"> Learning Rate </span>┃<span style=\"font-weight: bold\"> Energy Weight </span>┃<span style=\"font-weight: bold\"> Forces Weight    </span>┃<span style=\"font-weight: bold\"> Dipole Weight    </span>┃<span style=\"font-weight: bold\"> Charges Weight   </span>┃<span style=\"font-weight: bold\"> Batch Size </span>┃<span style=\"font-weight: bold\"> Num Atoms </span>┃\n",
       "┡━━━━━━━━━━━━━━━╇━━━━━━━━━━━━━━━╇━━━━━━━━━━━━━━━━━━╇━━━━━━━━━━━━━━━━━━╇━━━━━━━━━━━━━━━━━━╇━━━━━━━━━━━━╇━━━━━━━━━━━┩\n",
       "│<span style=\"color: #008080; text-decoration-color: #008080\"> 0.001         </span>│<span style=\"color: #800080; text-decoration-color: #800080\"> 96            </span>│<span style=\"color: #008000; text-decoration-color: #008000\"> 52.917721056384… </span>│<span style=\"color: #800000; text-decoration-color: #800000\"> 27.211386024367… </span>│<span style=\"color: #000080; text-decoration-color: #000080\"> 14.399645351950… </span>│<span style=\"color: #008080; text-decoration-color: #008080\"> 10         </span>│<span style=\"color: #800080; text-decoration-color: #800080\"> 96        </span>│\n",
       "└───────────────┴───────────────┴──────────────────┴──────────────────┴──────────────────┴────────────┴───────────┘\n",
       "</pre>\n"
      ],
      "text/plain": [
       "\u001b[3m                                        PhysNetJax Training Initialization                                         \u001b[0m\n",
       "┏━━━━━━━━━━━━━━━┳━━━━━━━━━━━━━━━┳━━━━━━━━━━━━━━━━━━┳━━━━━━━━━━━━━━━━━━┳━━━━━━━━━━━━━━━━━━┳━━━━━━━━━━━━┳━━━━━━━━━━━┓\n",
       "┃\u001b[1m \u001b[0m\u001b[1mLearning Rate\u001b[0m\u001b[1m \u001b[0m┃\u001b[1m \u001b[0m\u001b[1mEnergy Weight\u001b[0m\u001b[1m \u001b[0m┃\u001b[1m \u001b[0m\u001b[1mForces Weight   \u001b[0m\u001b[1m \u001b[0m┃\u001b[1m \u001b[0m\u001b[1mDipole Weight   \u001b[0m\u001b[1m \u001b[0m┃\u001b[1m \u001b[0m\u001b[1mCharges Weight  \u001b[0m\u001b[1m \u001b[0m┃\u001b[1m \u001b[0m\u001b[1mBatch Size\u001b[0m\u001b[1m \u001b[0m┃\u001b[1m \u001b[0m\u001b[1mNum Atoms\u001b[0m\u001b[1m \u001b[0m┃\n",
       "┡━━━━━━━━━━━━━━━╇━━━━━━━━━━━━━━━╇━━━━━━━━━━━━━━━━━━╇━━━━━━━━━━━━━━━━━━╇━━━━━━━━━━━━━━━━━━╇━━━━━━━━━━━━╇━━━━━━━━━━━┩\n",
       "│\u001b[36m \u001b[0m\u001b[36m0.001        \u001b[0m\u001b[36m \u001b[0m│\u001b[35m \u001b[0m\u001b[35m96           \u001b[0m\u001b[35m \u001b[0m│\u001b[32m \u001b[0m\u001b[32m52.917721056384…\u001b[0m\u001b[32m \u001b[0m│\u001b[31m \u001b[0m\u001b[31m27.211386024367…\u001b[0m\u001b[31m \u001b[0m│\u001b[34m \u001b[0m\u001b[34m14.399645351950…\u001b[0m\u001b[34m \u001b[0m│\u001b[36m \u001b[0m\u001b[36m10        \u001b[0m\u001b[36m \u001b[0m│\u001b[35m \u001b[0m\u001b[35m96       \u001b[0m\u001b[35m \u001b[0m│\n",
       "└───────────────┴───────────────┴──────────────────┴──────────────────┴──────────────────┴────────────┴───────────┘\n"
      ]
     },
     "metadata": {},
     "output_type": "display_data"
    },
    {
     "data": {
      "text/html": [
       "<pre style=\"white-space:pre;overflow-x:auto;line-height:normal;font-family:Menlo,'DejaVu Sans Mono',consolas,'Courier New',monospace\"><span style=\"font-style: italic\">                                        PhysNetJax Training Initialization                                         </span>\n",
       "┏━━━━━━━━━┳━━━━━━━━━┳━━━━━━━━━┳━━━━━━┳━━━━━━━━━┳━━━━━━━━━┳━━━━━━━━━┳━━━━━━━━┳━━━━━━━━━┳━━━━━━━━┳━━━━━━━━━┳━━━━━━━━┓\n",
       "┃<span style=\"font-weight: bold\">         </span>┃<span style=\"font-weight: bold\">         </span>┃<span style=\"font-weight: bold\">         </span>┃<span style=\"font-weight: bold\">      </span>┃<span style=\"font-weight: bold\">         </span>┃<span style=\"font-weight: bold\">         </span>┃<span style=\"font-weight: bold\">         </span>┃<span style=\"font-weight: bold\">        </span>┃<span style=\"font-weight: bold\"> Train   </span>┃<span style=\"font-weight: bold\"> Valid  </span>┃<span style=\"font-weight: bold\">         </span>┃<span style=\"font-weight: bold\">        </span>┃\n",
       "┃<span style=\"font-weight: bold\">         </span>┃<span style=\"font-weight: bold\">         </span>┃<span style=\"font-weight: bold\"> Print   </span>┃<span style=\"font-weight: bold\">      </span>┃<span style=\"font-weight: bold\">         </span>┃<span style=\"font-weight: bold\">         </span>┃<span style=\"font-weight: bold\"> Data    </span>┃<span style=\"font-weight: bold\"> Ckpt   </span>┃<span style=\"font-weight: bold\"> Data    </span>┃<span style=\"font-weight: bold\"> Data   </span>┃<span style=\"font-weight: bold\">         </span>┃<span style=\"font-weight: bold\">        </span>┃\n",
       "┃<span style=\"font-weight: bold\"> Restart </span>┃<span style=\"font-weight: bold\"> Conver… </span>┃<span style=\"font-weight: bold\"> Freq    </span>┃<span style=\"font-weight: bold\"> Name </span>┃<span style=\"font-weight: bold\"> Best    </span>┃<span style=\"font-weight: bold\"> Object… </span>┃<span style=\"font-weight: bold\"> Keys    </span>┃<span style=\"font-weight: bold\"> Dir    </span>┃<span style=\"font-weight: bold\"> Keys    </span>┃<span style=\"font-weight: bold\"> Keys   </span>┃<span style=\"font-weight: bold\"> Object… </span>┃<span style=\"font-weight: bold\"> Saving </span>┃\n",
       "┡━━━━━━━━━╇━━━━━━━━━╇━━━━━━━━━╇━━━━━━╇━━━━━━━━━╇━━━━━━━━━╇━━━━━━━━━╇━━━━━━━━╇━━━━━━━━━╇━━━━━━━━╇━━━━━━━━━╇━━━━━━━━┩\n",
       "│<span style=\"color: #008000; text-decoration-color: #008000\"> False   </span>│<span style=\"color: #800000; text-decoration-color: #800000\"> {'ener… </span>│<span style=\"color: #000080; text-decoration-color: #000080\"> 1       </span>│<span style=\"color: #008080; text-decoration-color: #008080\"> test </span>│<span style=\"color: #800080; text-decoration-color: #800080\"> 100000… </span>│<span style=\"color: #008000; text-decoration-color: #008000\"> valid_… </span>│<span style=\"color: #800000; text-decoration-color: #800000\"> ['Z',   </span>│<span style=\"color: #000080; text-decoration-color: #000080\"> /pche… </span>│<span style=\"color: #008080; text-decoration-color: #008080\"> dict_k… </span>│<span style=\"color: #800080; text-decoration-color: #800080\"> dict_… </span>│<span style=\"color: #008000; text-decoration-color: #008000\"> valid_… </span>│<span style=\"color: #800000; text-decoration-color: #800000\"> Saving </span>│\n",
       "│<span style=\"color: #008000; text-decoration-color: #008000\">         </span>│<span style=\"color: #800000; text-decoration-color: #800000\"> 23.060… </span>│<span style=\"color: #000080; text-decoration-color: #000080\">         </span>│<span style=\"color: #008080; text-decoration-color: #008080\">      </span>│<span style=\"color: #800080; text-decoration-color: #800080\">         </span>│<span style=\"color: #008000; text-decoration-color: #008000\">         </span>│<span style=\"color: #800000; text-decoration-color: #800000\"> 'R',    </span>│<span style=\"color: #000080; text-decoration-color: #000080\">        </span>│<span style=\"color: #008080; text-decoration-color: #008080\"> 'N',    </span>│<span style=\"color: #800080; text-decoration-color: #800080\"> 'N',   </span>│<span style=\"color: #008000; text-decoration-color: #008000\">         </span>│<span style=\"color: #800000; text-decoration-color: #800000\"> a      </span>│\n",
       "│<span style=\"color: #008000; text-decoration-color: #008000\">         </span>│<span style=\"color: #800000; text-decoration-color: #800000\"> 'force… </span>│<span style=\"color: #000080; text-decoration-color: #000080\">         </span>│<span style=\"color: #008080; text-decoration-color: #008080\">      </span>│<span style=\"color: #800080; text-decoration-color: #800080\">         </span>│<span style=\"color: #008000; text-decoration-color: #008000\">         </span>│<span style=\"color: #800000; text-decoration-color: #800000\"> 'D',    </span>│<span style=\"color: #000080; text-decoration-color: #000080\">        </span>│<span style=\"color: #008080; text-decoration-color: #008080\"> 'R',    </span>│<span style=\"color: #800080; text-decoration-color: #800080\"> 'R',   </span>│<span style=\"color: #008000; text-decoration-color: #008000\">         </span>│<span style=\"color: #800000; text-decoration-color: #800000\"> resta… </span>│\n",
       "│<span style=\"color: #008000; text-decoration-color: #008000\">         </span>│<span style=\"color: #800000; text-decoration-color: #800000\"> 23.060… </span>│<span style=\"color: #000080; text-decoration-color: #000080\">         </span>│<span style=\"color: #008080; text-decoration-color: #008080\">      </span>│<span style=\"color: #800080; text-decoration-color: #800080\">         </span>│<span style=\"color: #008000; text-decoration-color: #008000\">         </span>│<span style=\"color: #800000; text-decoration-color: #800000\"> 'E',    </span>│<span style=\"color: #000080; text-decoration-color: #000080\">        </span>│<span style=\"color: #008080; text-decoration-color: #008080\"> 'F',    </span>│<span style=\"color: #800080; text-decoration-color: #800080\"> 'F',   </span>│<span style=\"color: #008000; text-decoration-color: #008000\">         </span>│<span style=\"color: #800000; text-decoration-color: #800000\"> file   </span>│\n",
       "│<span style=\"color: #008000; text-decoration-color: #008000\">         </span>│<span style=\"color: #800000; text-decoration-color: #800000\">         </span>│<span style=\"color: #000080; text-decoration-color: #000080\">         </span>│<span style=\"color: #008080; text-decoration-color: #008080\">      </span>│<span style=\"color: #800080; text-decoration-color: #800080\">         </span>│<span style=\"color: #008000; text-decoration-color: #008000\">         </span>│<span style=\"color: #800000; text-decoration-color: #800000\"> 'F',    </span>│<span style=\"color: #000080; text-decoration-color: #000080\">        </span>│<span style=\"color: #008080; text-decoration-color: #008080\"> 'E'])   </span>│<span style=\"color: #800080; text-decoration-color: #800080\"> 'E'])  </span>│<span style=\"color: #008000; text-decoration-color: #008000\">         </span>│<span style=\"color: #800000; text-decoration-color: #800000\"> each   </span>│\n",
       "│<span style=\"color: #008000; text-decoration-color: #008000\">         </span>│<span style=\"color: #800000; text-decoration-color: #800000\">         </span>│<span style=\"color: #000080; text-decoration-color: #000080\">         </span>│<span style=\"color: #008080; text-decoration-color: #008080\">      </span>│<span style=\"color: #800080; text-decoration-color: #800080\">         </span>│<span style=\"color: #008000; text-decoration-color: #008000\">         </span>│<span style=\"color: #800000; text-decoration-color: #800000\"> 'N']    </span>│<span style=\"color: #000080; text-decoration-color: #000080\">        </span>│<span style=\"color: #008080; text-decoration-color: #008080\">         </span>│<span style=\"color: #800080; text-decoration-color: #800080\">        </span>│<span style=\"color: #008000; text-decoration-color: #008000\">         </span>│<span style=\"color: #800000; text-decoration-color: #800000\"> time   </span>│\n",
       "│<span style=\"color: #008000; text-decoration-color: #008000\">         </span>│<span style=\"color: #800000; text-decoration-color: #800000\">         </span>│<span style=\"color: #000080; text-decoration-color: #000080\">         </span>│<span style=\"color: #008080; text-decoration-color: #008080\">      </span>│<span style=\"color: #800080; text-decoration-color: #800080\">         </span>│<span style=\"color: #008000; text-decoration-color: #008000\">         </span>│<span style=\"color: #800000; text-decoration-color: #800000\">         </span>│<span style=\"color: #000080; text-decoration-color: #000080\">        </span>│<span style=\"color: #008080; text-decoration-color: #008080\">         </span>│<span style=\"color: #800080; text-decoration-color: #800080\">        </span>│<span style=\"color: #008000; text-decoration-color: #008000\">         </span>│<span style=\"color: #800000; text-decoration-color: #800000\"> the    </span>│\n",
       "│<span style=\"color: #008000; text-decoration-color: #008000\">         </span>│<span style=\"color: #800000; text-decoration-color: #800000\">         </span>│<span style=\"color: #000080; text-decoration-color: #000080\">         </span>│<span style=\"color: #008080; text-decoration-color: #008080\">      </span>│<span style=\"color: #800080; text-decoration-color: #800080\">         </span>│<span style=\"color: #008000; text-decoration-color: #008000\">         </span>│<span style=\"color: #800000; text-decoration-color: #800000\">         </span>│<span style=\"color: #000080; text-decoration-color: #000080\">        </span>│<span style=\"color: #008080; text-decoration-color: #008080\">         </span>│<span style=\"color: #800080; text-decoration-color: #800080\">        </span>│<span style=\"color: #008000; text-decoration-color: #008000\">         </span>│<span style=\"color: #800000; text-decoration-color: #800000\"> valid… </span>│\n",
       "│<span style=\"color: #008000; text-decoration-color: #008000\">         </span>│<span style=\"color: #800000; text-decoration-color: #800000\">         </span>│<span style=\"color: #000080; text-decoration-color: #000080\">         </span>│<span style=\"color: #008080; text-decoration-color: #008080\">      </span>│<span style=\"color: #800080; text-decoration-color: #800080\">         </span>│<span style=\"color: #008000; text-decoration-color: #008000\">         </span>│<span style=\"color: #800000; text-decoration-color: #800000\">         </span>│<span style=\"color: #000080; text-decoration-color: #000080\">        </span>│<span style=\"color: #008080; text-decoration-color: #008080\">         </span>│<span style=\"color: #800080; text-decoration-color: #800080\">        </span>│<span style=\"color: #008000; text-decoration-color: #008000\">         </span>│<span style=\"color: #800000; text-decoration-color: #800000\"> impro… </span>│\n",
       "└─────────┴─────────┴─────────┴──────┴─────────┴─────────┴─────────┴────────┴─────────┴────────┴─────────┴────────┘\n",
       "</pre>\n"
      ],
      "text/plain": [
       "\u001b[3m                                        PhysNetJax Training Initialization                                         \u001b[0m\n",
       "┏━━━━━━━━━┳━━━━━━━━━┳━━━━━━━━━┳━━━━━━┳━━━━━━━━━┳━━━━━━━━━┳━━━━━━━━━┳━━━━━━━━┳━━━━━━━━━┳━━━━━━━━┳━━━━━━━━━┳━━━━━━━━┓\n",
       "┃\u001b[1m         \u001b[0m┃\u001b[1m         \u001b[0m┃\u001b[1m         \u001b[0m┃\u001b[1m      \u001b[0m┃\u001b[1m         \u001b[0m┃\u001b[1m         \u001b[0m┃\u001b[1m         \u001b[0m┃\u001b[1m        \u001b[0m┃\u001b[1m \u001b[0m\u001b[1mTrain  \u001b[0m\u001b[1m \u001b[0m┃\u001b[1m \u001b[0m\u001b[1mValid \u001b[0m\u001b[1m \u001b[0m┃\u001b[1m         \u001b[0m┃\u001b[1m        \u001b[0m┃\n",
       "┃\u001b[1m         \u001b[0m┃\u001b[1m         \u001b[0m┃\u001b[1m \u001b[0m\u001b[1mPrint  \u001b[0m\u001b[1m \u001b[0m┃\u001b[1m      \u001b[0m┃\u001b[1m         \u001b[0m┃\u001b[1m         \u001b[0m┃\u001b[1m \u001b[0m\u001b[1mData   \u001b[0m\u001b[1m \u001b[0m┃\u001b[1m \u001b[0m\u001b[1mCkpt  \u001b[0m\u001b[1m \u001b[0m┃\u001b[1m \u001b[0m\u001b[1mData   \u001b[0m\u001b[1m \u001b[0m┃\u001b[1m \u001b[0m\u001b[1mData  \u001b[0m\u001b[1m \u001b[0m┃\u001b[1m         \u001b[0m┃\u001b[1m        \u001b[0m┃\n",
       "┃\u001b[1m \u001b[0m\u001b[1mRestart\u001b[0m\u001b[1m \u001b[0m┃\u001b[1m \u001b[0m\u001b[1mConver…\u001b[0m\u001b[1m \u001b[0m┃\u001b[1m \u001b[0m\u001b[1mFreq   \u001b[0m\u001b[1m \u001b[0m┃\u001b[1m \u001b[0m\u001b[1mName\u001b[0m\u001b[1m \u001b[0m┃\u001b[1m \u001b[0m\u001b[1mBest   \u001b[0m\u001b[1m \u001b[0m┃\u001b[1m \u001b[0m\u001b[1mObject…\u001b[0m\u001b[1m \u001b[0m┃\u001b[1m \u001b[0m\u001b[1mKeys   \u001b[0m\u001b[1m \u001b[0m┃\u001b[1m \u001b[0m\u001b[1mDir   \u001b[0m\u001b[1m \u001b[0m┃\u001b[1m \u001b[0m\u001b[1mKeys   \u001b[0m\u001b[1m \u001b[0m┃\u001b[1m \u001b[0m\u001b[1mKeys  \u001b[0m\u001b[1m \u001b[0m┃\u001b[1m \u001b[0m\u001b[1mObject…\u001b[0m\u001b[1m \u001b[0m┃\u001b[1m \u001b[0m\u001b[1mSaving\u001b[0m\u001b[1m \u001b[0m┃\n",
       "┡━━━━━━━━━╇━━━━━━━━━╇━━━━━━━━━╇━━━━━━╇━━━━━━━━━╇━━━━━━━━━╇━━━━━━━━━╇━━━━━━━━╇━━━━━━━━━╇━━━━━━━━╇━━━━━━━━━╇━━━━━━━━┩\n",
       "│\u001b[32m \u001b[0m\u001b[32mFalse  \u001b[0m\u001b[32m \u001b[0m│\u001b[31m \u001b[0m\u001b[31m{'ener…\u001b[0m\u001b[31m \u001b[0m│\u001b[34m \u001b[0m\u001b[34m1      \u001b[0m\u001b[34m \u001b[0m│\u001b[36m \u001b[0m\u001b[36mtest\u001b[0m\u001b[36m \u001b[0m│\u001b[35m \u001b[0m\u001b[35m100000…\u001b[0m\u001b[35m \u001b[0m│\u001b[32m \u001b[0m\u001b[32mvalid_…\u001b[0m\u001b[32m \u001b[0m│\u001b[31m \u001b[0m\u001b[31m['Z',  \u001b[0m\u001b[31m \u001b[0m│\u001b[34m \u001b[0m\u001b[34m/pche…\u001b[0m\u001b[34m \u001b[0m│\u001b[36m \u001b[0m\u001b[36mdict_k…\u001b[0m\u001b[36m \u001b[0m│\u001b[35m \u001b[0m\u001b[35mdict_…\u001b[0m\u001b[35m \u001b[0m│\u001b[32m \u001b[0m\u001b[32mvalid_…\u001b[0m\u001b[32m \u001b[0m│\u001b[31m \u001b[0m\u001b[31mSaving\u001b[0m\u001b[31m \u001b[0m│\n",
       "│\u001b[32m         \u001b[0m│\u001b[31m \u001b[0m\u001b[31m23.060…\u001b[0m\u001b[31m \u001b[0m│\u001b[34m         \u001b[0m│\u001b[36m      \u001b[0m│\u001b[35m         \u001b[0m│\u001b[32m         \u001b[0m│\u001b[31m \u001b[0m\u001b[31m'R',   \u001b[0m\u001b[31m \u001b[0m│\u001b[34m        \u001b[0m│\u001b[36m \u001b[0m\u001b[36m'N',   \u001b[0m\u001b[36m \u001b[0m│\u001b[35m \u001b[0m\u001b[35m'N',  \u001b[0m\u001b[35m \u001b[0m│\u001b[32m         \u001b[0m│\u001b[31m \u001b[0m\u001b[31ma     \u001b[0m\u001b[31m \u001b[0m│\n",
       "│\u001b[32m         \u001b[0m│\u001b[31m \u001b[0m\u001b[31m'force…\u001b[0m\u001b[31m \u001b[0m│\u001b[34m         \u001b[0m│\u001b[36m      \u001b[0m│\u001b[35m         \u001b[0m│\u001b[32m         \u001b[0m│\u001b[31m \u001b[0m\u001b[31m'D',   \u001b[0m\u001b[31m \u001b[0m│\u001b[34m        \u001b[0m│\u001b[36m \u001b[0m\u001b[36m'R',   \u001b[0m\u001b[36m \u001b[0m│\u001b[35m \u001b[0m\u001b[35m'R',  \u001b[0m\u001b[35m \u001b[0m│\u001b[32m         \u001b[0m│\u001b[31m \u001b[0m\u001b[31mresta…\u001b[0m\u001b[31m \u001b[0m│\n",
       "│\u001b[32m         \u001b[0m│\u001b[31m \u001b[0m\u001b[31m23.060…\u001b[0m\u001b[31m \u001b[0m│\u001b[34m         \u001b[0m│\u001b[36m      \u001b[0m│\u001b[35m         \u001b[0m│\u001b[32m         \u001b[0m│\u001b[31m \u001b[0m\u001b[31m'E',   \u001b[0m\u001b[31m \u001b[0m│\u001b[34m        \u001b[0m│\u001b[36m \u001b[0m\u001b[36m'F',   \u001b[0m\u001b[36m \u001b[0m│\u001b[35m \u001b[0m\u001b[35m'F',  \u001b[0m\u001b[35m \u001b[0m│\u001b[32m         \u001b[0m│\u001b[31m \u001b[0m\u001b[31mfile  \u001b[0m\u001b[31m \u001b[0m│\n",
       "│\u001b[32m         \u001b[0m│\u001b[31m         \u001b[0m│\u001b[34m         \u001b[0m│\u001b[36m      \u001b[0m│\u001b[35m         \u001b[0m│\u001b[32m         \u001b[0m│\u001b[31m \u001b[0m\u001b[31m'F',   \u001b[0m\u001b[31m \u001b[0m│\u001b[34m        \u001b[0m│\u001b[36m \u001b[0m\u001b[36m'E'])  \u001b[0m\u001b[36m \u001b[0m│\u001b[35m \u001b[0m\u001b[35m'E']) \u001b[0m\u001b[35m \u001b[0m│\u001b[32m         \u001b[0m│\u001b[31m \u001b[0m\u001b[31meach  \u001b[0m\u001b[31m \u001b[0m│\n",
       "│\u001b[32m         \u001b[0m│\u001b[31m         \u001b[0m│\u001b[34m         \u001b[0m│\u001b[36m      \u001b[0m│\u001b[35m         \u001b[0m│\u001b[32m         \u001b[0m│\u001b[31m \u001b[0m\u001b[31m'N']   \u001b[0m\u001b[31m \u001b[0m│\u001b[34m        \u001b[0m│\u001b[36m         \u001b[0m│\u001b[35m        \u001b[0m│\u001b[32m         \u001b[0m│\u001b[31m \u001b[0m\u001b[31mtime  \u001b[0m\u001b[31m \u001b[0m│\n",
       "│\u001b[32m         \u001b[0m│\u001b[31m         \u001b[0m│\u001b[34m         \u001b[0m│\u001b[36m      \u001b[0m│\u001b[35m         \u001b[0m│\u001b[32m         \u001b[0m│\u001b[31m         \u001b[0m│\u001b[34m        \u001b[0m│\u001b[36m         \u001b[0m│\u001b[35m        \u001b[0m│\u001b[32m         \u001b[0m│\u001b[31m \u001b[0m\u001b[31mthe   \u001b[0m\u001b[31m \u001b[0m│\n",
       "│\u001b[32m         \u001b[0m│\u001b[31m         \u001b[0m│\u001b[34m         \u001b[0m│\u001b[36m      \u001b[0m│\u001b[35m         \u001b[0m│\u001b[32m         \u001b[0m│\u001b[31m         \u001b[0m│\u001b[34m        \u001b[0m│\u001b[36m         \u001b[0m│\u001b[35m        \u001b[0m│\u001b[32m         \u001b[0m│\u001b[31m \u001b[0m\u001b[31mvalid…\u001b[0m\u001b[31m \u001b[0m│\n",
       "│\u001b[32m         \u001b[0m│\u001b[31m         \u001b[0m│\u001b[34m         \u001b[0m│\u001b[36m      \u001b[0m│\u001b[35m         \u001b[0m│\u001b[32m         \u001b[0m│\u001b[31m         \u001b[0m│\u001b[34m        \u001b[0m│\u001b[36m         \u001b[0m│\u001b[35m        \u001b[0m│\u001b[32m         \u001b[0m│\u001b[31m \u001b[0m\u001b[31mimpro…\u001b[0m\u001b[31m \u001b[0m│\n",
       "└─────────┴─────────┴─────────┴──────┴─────────┴─────────┴─────────┴────────┴─────────┴────────┴─────────┴────────┘\n"
      ]
     },
     "metadata": {},
     "output_type": "display_data"
    },
    {
     "name": "stdout",
     "output_type": "stream",
     "text": [
      "model EF(\n",
      "    # attributes\n",
      "    features = 32\n",
      "    max_degree = 3\n",
      "    num_iterations = 2\n",
      "    num_basis_functions = 16\n",
      "    cutoff = 6.0\n",
      "    max_atomic_number = 118\n",
      "    charges = False\n",
      "    natoms = 96\n",
      "    total_charge = 0\n",
      "    n_res = 3\n",
      "    zbl = False\n",
      "    debug = False\n",
      ")\n",
      "Traced<ShapedArray(int32[960], weak_type=True)>with<DynamicJaxprTrace(level=1/0)>\n",
      "/pchem-data/meuwly/boittier/home/pycharmm_test/ckpts/test-c7b5eba7-c942-423c-8e06-bd1312ad087b/epoch-3\n",
      "best!\n",
      "/pchem-data/meuwly/boittier/home/pycharmm_test/ckpts/test-c7b5eba7-c942-423c-8e06-bd1312ad087b/epoch-4\n",
      "best!\n",
      "/pchem-data/meuwly/boittier/home/pycharmm_test/ckpts/test-c7b5eba7-c942-423c-8e06-bd1312ad087b/epoch-5\n",
      "best!\n",
      "/pchem-data/meuwly/boittier/home/pycharmm_test/ckpts/test-c7b5eba7-c942-423c-8e06-bd1312ad087b/epoch-6\n",
      "best!\n",
      "/pchem-data/meuwly/boittier/home/pycharmm_test/ckpts/test-c7b5eba7-c942-423c-8e06-bd1312ad087b/epoch-7\n",
      "best!\n"
     ]
    }
   ],
>>>>>>> 75f2a00960de5adde7409e367e53809c0e45bbe0
   "source": [
    "DEFAULT_DATA_KEYS = [\"Z\", \"R\", \"D\", \"E\", \"F\", \"N\"]\n",
    "\n",
    "model = EF(natoms=NATOMS, charges=False, zbl=False)\n",
    "\n",
    "params = train_model(\n",
    "    train_key,\n",
    "    model,\n",
    "        train_data,\n",
    "        valid_data,\n",
    "    num_epochs=int(1e6),\n",
    "    learning_rate=0.001,\n",
    "    energy_weight=NATOMS,\n",
    "    #charges_weight=1,\n",
    "    #forces_weight=100,\n",
    "    schedule_fn=\"constant\",\n",
    "    optimizer=\"amsgrad\",\n",
    "    batch_size=10,\n",
    "    num_atoms=NATOMS,\n",
    "    data_keys=DEFAULT_DATA_KEYS,\n",
    "   # restart=\"/pchem-data/meuwly/boittier/home/pycharmm_test/ckpts/test-ecdfaea0-2902-403e-8f44-27aba18a1c44/\",\n",
    "    print_freq=1,\n",
    "    objective=\"valid_loss\",\n",
    "    best=1e6,\n",
    "    )"
   ],
   "outputs": []
  },
  {
   "cell_type": "code",
   "execution_count": null,
   "id": "ad0c88ea-44c7-47e4-9b16-0da9534d77e7",
   "metadata": {},
   "source": [
    "files = [\"/pchem-data/meuwly/boittier/home/cf3criegee_27887.npz\"]\n",
    "train_data, valid_data = prepare_datasets(data_key, 25877, 2000,\n",
    "                                          files, \n",
    "                                          clip_esp=False, natoms=8, clean=False)"
   ],
   "outputs": []
  },
  {
   "cell_type": "code",
   "execution_count": 383,
   "id": "c751e96e-d9b2-4e78-a393-8c08e2edf6af",
   "metadata": {},
   "source": [
    "train_data[\"R\"].shape, output[\"R\"].shape"
   ],
   "outputs": []
  },
  {
   "cell_type": "code",
   "execution_count": 384,
   "id": "9d356ac3-ba70-462c-8360-f7ccddbffb10",
   "metadata": {},
   "source": [
    "train_data[\"Z\"].shape, output[\"Z\"].shape"
   ],
   "outputs": []
  },
  {
   "cell_type": "code",
   "execution_count": 413,
   "id": "f7b99c34-fc9e-444f-a7d8-21a111f01766",
   "metadata": {},
   "source": [
    "train_data[\"N\"].shape, output[\"N\"].shape"
   ],
   "outputs": []
  },
  {
   "cell_type": "code",
   "execution_count": 390,
   "id": "16313a9e-84bc-4f8e-857e-ff81b7fa6e5a",
   "metadata": {},
   "source": [
    "train_data.keys()"
   ],
   "outputs": []
  },
  {
   "cell_type": "code",
   "execution_count": 412,
   "id": "87da282b-fad8-42a6-aaed-142b61c58270",
<<<<<<< HEAD
   "metadata": {},
=======
   "metadata": {
    "scrolled": true
   },
   "outputs": [
    {
     "name": "stdout",
     "output_type": "stream",
     "text": [
      "Training Routine\n",
      "Optimizer:\n",
      "  init: <function chain.<locals>.init_fn at 0x14c1b18432e0> init_fn\n",
      "  update: <function chain.<locals>.update_fn at 0x14c1b18431a0> update_fn\n",
      "Transform:\n",
      "  init: <function reduce_on_plateau.<locals>.init_fn at 0x14c1b1843240> init_fn\n",
      "  update: <function reduce_on_plateau.<locals>.update_fn at 0x14c1b1843880> update_fn\n",
      "Schedule_fn: <function constant_schedule.<locals>.<lambda> at 0x14c1b1841300> <lambda>\n",
      "learning_rate: 0.001\n",
      "energy_weight: 200\n",
      "forces_weight: 52.91772105638412\n",
      "dipole_weight: 27.211386024367243\n",
      "charges_weight: 14.399645351950548\n",
      "batch_size: 1\n",
      "num_atoms: 8\n",
      "restart: False\n",
      "conversion: {'energy': 23.060548012069496, 'forces': 23.060548012069496}\n",
      "print_freq: 1\n",
      "name: test\n",
      "best: 1000000.0\n",
      "objective: valid_loss\n",
      "data_keys: ['Z', 'R', 'D', 'E', 'F', 'N']\n",
      "ckpt_dir: /pchem-data/meuwly/boittier/home/pycharmm_test/ckpts\n",
      "Train data keys: dict_keys(['R', 'Z', 'F', 'E', 'N', 'D', 'Q'])\n",
      "Valid data keys: dict_keys(['R', 'Z', 'F', 'E', 'N', 'D', 'Q'])\n",
      "Objective: valid_loss\n",
      "Saving a restart file each time the valid_loss improves.\n",
      "model EF(\n",
      "    # attributes\n",
      "    features = 32\n",
      "    max_degree = 3\n",
      "    num_iterations = 2\n",
      "    num_basis_functions = 16\n",
      "    cutoff = 6.0\n",
      "    max_atomic_number = 118\n",
      "    charges = False\n",
      "    natoms = 100\n",
      "    total_charge = 0\n",
      "    n_res = 3\n",
      "    zbl = True\n",
      "    debug = False\n",
      ")\n"
     ]
    },
    {
     "ename": "TypeError",
     "evalue": "'NoneType' object is not subscriptable",
     "output_type": "error",
     "traceback": [
      "\u001b[0;31m---------------------------------------------------------------------------\u001b[0m",
      "\u001b[0;31mTypeError\u001b[0m                                 Traceback (most recent call last)",
      "Cell \u001b[0;32mIn[412], line 3\u001b[0m\n\u001b[1;32m      1\u001b[0m DEFAULT_DATA_KEYS \u001b[38;5;241m=\u001b[39m [\u001b[38;5;124m\"\u001b[39m\u001b[38;5;124mZ\u001b[39m\u001b[38;5;124m\"\u001b[39m, \u001b[38;5;124m\"\u001b[39m\u001b[38;5;124mR\u001b[39m\u001b[38;5;124m\"\u001b[39m, \u001b[38;5;124m\"\u001b[39m\u001b[38;5;124mD\u001b[39m\u001b[38;5;124m\"\u001b[39m, \u001b[38;5;124m\"\u001b[39m\u001b[38;5;124mE\u001b[39m\u001b[38;5;124m\"\u001b[39m, \u001b[38;5;124m\"\u001b[39m\u001b[38;5;124mF\u001b[39m\u001b[38;5;124m\"\u001b[39m, \u001b[38;5;124m\"\u001b[39m\u001b[38;5;124mN\u001b[39m\u001b[38;5;124m\"\u001b[39m]\n\u001b[0;32m----> 3\u001b[0m params \u001b[38;5;241m=\u001b[39m \u001b[43mtrain_model\u001b[49m\u001b[43m(\u001b[49m\n\u001b[1;32m      4\u001b[0m \u001b[43m    \u001b[49m\u001b[43mtrain_key\u001b[49m\u001b[43m,\u001b[49m\n\u001b[1;32m      5\u001b[0m \u001b[43m    \u001b[49m\u001b[43mmodel\u001b[49m\u001b[43m,\u001b[49m\n\u001b[1;32m      6\u001b[0m \u001b[43m    \u001b[49m\u001b[43mtrain_data\u001b[49m\u001b[43m,\u001b[49m\n\u001b[1;32m      7\u001b[0m \u001b[43m    \u001b[49m\u001b[43mtrain_data\u001b[49m\u001b[43m,\u001b[49m\n\u001b[1;32m      8\u001b[0m \u001b[43m    \u001b[49m\u001b[43mnum_epochs\u001b[49m\u001b[38;5;241;43m=\u001b[39;49m\u001b[38;5;28;43mint\u001b[39;49m\u001b[43m(\u001b[49m\u001b[38;5;241;43m1e6\u001b[39;49m\u001b[43m)\u001b[49m\u001b[43m,\u001b[49m\n\u001b[1;32m      9\u001b[0m \u001b[43m    \u001b[49m\u001b[43mlearning_rate\u001b[49m\u001b[38;5;241;43m=\u001b[39;49m\u001b[38;5;241;43m0.001\u001b[39;49m\u001b[43m,\u001b[49m\n\u001b[1;32m     10\u001b[0m \u001b[43m    \u001b[49m\u001b[43menergy_weight\u001b[49m\u001b[38;5;241;43m=\u001b[39;49m\u001b[43mNATOMS\u001b[49m\u001b[43m,\u001b[49m\n\u001b[1;32m     11\u001b[0m \u001b[43m    \u001b[49m\u001b[38;5;66;43;03m#charges_weight=1,\u001b[39;49;00m\n\u001b[1;32m     12\u001b[0m \u001b[43m    \u001b[49m\u001b[38;5;66;43;03m#forces_weight=100,\u001b[39;49;00m\n\u001b[1;32m     13\u001b[0m \u001b[43m    \u001b[49m\u001b[43mschedule_fn\u001b[49m\u001b[38;5;241;43m=\u001b[39;49m\u001b[38;5;124;43m\"\u001b[39;49m\u001b[38;5;124;43mconstant\u001b[39;49m\u001b[38;5;124;43m\"\u001b[39;49m\u001b[43m,\u001b[49m\n\u001b[1;32m     14\u001b[0m \u001b[43m    \u001b[49m\u001b[43moptimizer\u001b[49m\u001b[38;5;241;43m=\u001b[39;49m\u001b[38;5;124;43m\"\u001b[39;49m\u001b[38;5;124;43mamsgrad\u001b[39;49m\u001b[38;5;124;43m\"\u001b[39;49m\u001b[43m,\u001b[49m\n\u001b[1;32m     15\u001b[0m \u001b[43m    \u001b[49m\u001b[43mbatch_size\u001b[49m\u001b[38;5;241;43m=\u001b[39;49m\u001b[38;5;241;43m1\u001b[39;49m\u001b[43m,\u001b[49m\n\u001b[1;32m     16\u001b[0m \u001b[43m    \u001b[49m\u001b[43mnum_atoms\u001b[49m\u001b[38;5;241;43m=\u001b[39;49m\u001b[38;5;241;43m8\u001b[39;49m\u001b[43m,\u001b[49m\n\u001b[1;32m     17\u001b[0m \u001b[43m    \u001b[49m\u001b[43mdata_keys\u001b[49m\u001b[38;5;241;43m=\u001b[39;49m\u001b[43mDEFAULT_DATA_KEYS\u001b[49m\u001b[43m,\u001b[49m\n\u001b[1;32m     18\u001b[0m \u001b[38;5;66;43;03m#    restart=restart,\u001b[39;49;00m\n\u001b[1;32m     19\u001b[0m \u001b[43m    \u001b[49m\u001b[43mprint_freq\u001b[49m\u001b[38;5;241;43m=\u001b[39;49m\u001b[38;5;241;43m1\u001b[39;49m\u001b[43m,\u001b[49m\n\u001b[1;32m     20\u001b[0m \u001b[43m    \u001b[49m\u001b[43mobjective\u001b[49m\u001b[38;5;241;43m=\u001b[39;49m\u001b[38;5;124;43m\"\u001b[39;49m\u001b[38;5;124;43mvalid_loss\u001b[39;49m\u001b[38;5;124;43m\"\u001b[39;49m\u001b[43m,\u001b[49m\n\u001b[1;32m     21\u001b[0m \u001b[43m    \u001b[49m\u001b[43mbest\u001b[49m\u001b[38;5;241;43m=\u001b[39;49m\u001b[38;5;241;43m1e6\u001b[39;49m\u001b[43m,\u001b[49m\n\u001b[1;32m     22\u001b[0m \u001b[43m    \u001b[49m\u001b[43m)\u001b[49m\n",
      "File \u001b[0;32m~/pycharmm_test/physnetjax/training.py:217\u001b[0m, in \u001b[0;36mtrain_model\u001b[0;34m(key, model, train_data, valid_data, num_epochs, learning_rate, energy_weight, forces_weight, dipole_weight, charges_weight, batch_size, num_atoms, restart, conversion, print_freq, name, best, optimizer, transform, schedule_fn, objective, ckpt_dir, data_keys)\u001b[0m\n\u001b[1;32m    206\u001b[0m train_dipoles_mae \u001b[38;5;241m=\u001b[39m \u001b[38;5;241m0.0\u001b[39m\n\u001b[1;32m    207\u001b[0m \u001b[38;5;28;01mfor\u001b[39;00m i, batch \u001b[38;5;129;01min\u001b[39;00m \u001b[38;5;28menumerate\u001b[39m(train_batches):\n\u001b[1;32m    208\u001b[0m     (\n\u001b[1;32m    209\u001b[0m         params,\n\u001b[1;32m    210\u001b[0m         ema_params,\n\u001b[1;32m    211\u001b[0m         opt_state,\n\u001b[1;32m    212\u001b[0m         transform_state,\n\u001b[1;32m    213\u001b[0m         loss,\n\u001b[1;32m    214\u001b[0m         energy_mae,\n\u001b[1;32m    215\u001b[0m         forces_mae,\n\u001b[1;32m    216\u001b[0m         dipole_mae,\n\u001b[0;32m--> 217\u001b[0m     ) \u001b[38;5;241m=\u001b[39m \u001b[43mtrain_step\u001b[49m\u001b[43m(\u001b[49m\n\u001b[1;32m    218\u001b[0m \u001b[43m        \u001b[49m\u001b[43mmodel_apply\u001b[49m\u001b[38;5;241;43m=\u001b[39;49m\u001b[43mmodel\u001b[49m\u001b[38;5;241;43m.\u001b[39;49m\u001b[43mapply\u001b[49m\u001b[43m,\u001b[49m\n\u001b[1;32m    219\u001b[0m \u001b[43m        \u001b[49m\u001b[43moptimizer_update\u001b[49m\u001b[38;5;241;43m=\u001b[39;49m\u001b[43moptimizer\u001b[49m\u001b[38;5;241;43m.\u001b[39;49m\u001b[43mupdate\u001b[49m\u001b[43m,\u001b[49m\n\u001b[1;32m    220\u001b[0m \u001b[43m        \u001b[49m\u001b[43mtransform_state\u001b[49m\u001b[38;5;241;43m=\u001b[39;49m\u001b[43mtransform_state\u001b[49m\u001b[43m,\u001b[49m\n\u001b[1;32m    221\u001b[0m \u001b[43m        \u001b[49m\u001b[43mbatch\u001b[49m\u001b[38;5;241;43m=\u001b[39;49m\u001b[43mbatch\u001b[49m\u001b[43m,\u001b[49m\n\u001b[1;32m    222\u001b[0m \u001b[43m        \u001b[49m\u001b[43mbatch_size\u001b[49m\u001b[38;5;241;43m=\u001b[39;49m\u001b[43mbatch_size\u001b[49m\u001b[43m,\u001b[49m\n\u001b[1;32m    223\u001b[0m \u001b[43m        \u001b[49m\u001b[43menergy_weight\u001b[49m\u001b[38;5;241;43m=\u001b[39;49m\u001b[43menergy_weight\u001b[49m\u001b[43m,\u001b[49m\n\u001b[1;32m    224\u001b[0m \u001b[43m        \u001b[49m\u001b[43mforces_weight\u001b[49m\u001b[38;5;241;43m=\u001b[39;49m\u001b[43mforces_weight\u001b[49m\u001b[43m,\u001b[49m\n\u001b[1;32m    225\u001b[0m \u001b[43m        \u001b[49m\u001b[43mdipole_weight\u001b[49m\u001b[38;5;241;43m=\u001b[39;49m\u001b[43mdipole_weight\u001b[49m\u001b[43m,\u001b[49m\n\u001b[1;32m    226\u001b[0m \u001b[43m        \u001b[49m\u001b[43mcharges_weight\u001b[49m\u001b[38;5;241;43m=\u001b[39;49m\u001b[43mcharges_weight\u001b[49m\u001b[43m,\u001b[49m\n\u001b[1;32m    227\u001b[0m \u001b[43m        \u001b[49m\u001b[43mopt_state\u001b[49m\u001b[38;5;241;43m=\u001b[39;49m\u001b[43mopt_state\u001b[49m\u001b[43m,\u001b[49m\n\u001b[1;32m    228\u001b[0m \u001b[43m        \u001b[49m\u001b[43mdoCharges\u001b[49m\u001b[38;5;241;43m=\u001b[39;49m\u001b[43mdoCharges\u001b[49m\u001b[43m,\u001b[49m\n\u001b[1;32m    229\u001b[0m \u001b[43m        \u001b[49m\u001b[43mparams\u001b[49m\u001b[38;5;241;43m=\u001b[39;49m\u001b[43mparams\u001b[49m\u001b[43m,\u001b[49m\n\u001b[1;32m    230\u001b[0m \u001b[43m        \u001b[49m\u001b[43mema_params\u001b[49m\u001b[38;5;241;43m=\u001b[39;49m\u001b[43mema_params\u001b[49m\u001b[43m,\u001b[49m\n\u001b[1;32m    231\u001b[0m \u001b[43m        \u001b[49m\u001b[43mdebug\u001b[49m\u001b[38;5;241;43m=\u001b[39;49m\u001b[43mrunInDebug\u001b[49m\u001b[43m,\u001b[49m\n\u001b[1;32m    232\u001b[0m \u001b[43m    \u001b[49m\u001b[43m)\u001b[49m\n\u001b[1;32m    233\u001b[0m     train_loss \u001b[38;5;241m+\u001b[39m\u001b[38;5;241m=\u001b[39m (loss \u001b[38;5;241m-\u001b[39m train_loss) \u001b[38;5;241m/\u001b[39m (i \u001b[38;5;241m+\u001b[39m \u001b[38;5;241m1\u001b[39m)\n\u001b[1;32m    234\u001b[0m     train_energy_mae \u001b[38;5;241m+\u001b[39m\u001b[38;5;241m=\u001b[39m (energy_mae \u001b[38;5;241m-\u001b[39m train_energy_mae) \u001b[38;5;241m/\u001b[39m (i \u001b[38;5;241m+\u001b[39m \u001b[38;5;241m1\u001b[39m)\n",
      "    \u001b[0;31m[... skipping hidden 11 frame]\u001b[0m\n",
      "File \u001b[0;32m~/pycharmm_test/physnetjax/trainstep.py:137\u001b[0m, in \u001b[0;36mtrain_step\u001b[0;34m(model_apply, optimizer_update, transform_state, batch, batch_size, doCharges, energy_weight, forces_weight, dipole_weight, charges_weight, opt_state, params, ema_params, debug)\u001b[0m\n\u001b[1;32m    133\u001b[0m     (loss, (energy, forces, charges, dipole)), grad \u001b[38;5;241m=\u001b[39m jax\u001b[38;5;241m.\u001b[39mvalue_and_grad(\n\u001b[1;32m    134\u001b[0m         loss_fn, has_aux\u001b[38;5;241m=\u001b[39m\u001b[38;5;28;01mTrue\u001b[39;00m\n\u001b[1;32m    135\u001b[0m     )(params)\n\u001b[1;32m    136\u001b[0m \u001b[38;5;28;01melse\u001b[39;00m:\n\u001b[0;32m--> 137\u001b[0m     (loss, (energy, forces)), grad \u001b[38;5;241m=\u001b[39m \u001b[43mjax\u001b[49m\u001b[38;5;241;43m.\u001b[39;49m\u001b[43mvalue_and_grad\u001b[49m\u001b[43m(\u001b[49m\u001b[43mloss_fn\u001b[49m\u001b[43m,\u001b[49m\u001b[43m \u001b[49m\u001b[43mhas_aux\u001b[49m\u001b[38;5;241;43m=\u001b[39;49m\u001b[38;5;28;43;01mTrue\u001b[39;49;00m\u001b[43m)\u001b[49m\u001b[43m(\u001b[49m\n\u001b[1;32m    138\u001b[0m \u001b[43m        \u001b[49m\u001b[43mparams\u001b[49m\n\u001b[1;32m    139\u001b[0m \u001b[43m    \u001b[49m\u001b[43m)\u001b[49m\n\u001b[1;32m    141\u001b[0m updates, opt_state \u001b[38;5;241m=\u001b[39m optimizer_update(grad, opt_state, params)\n\u001b[1;32m    142\u001b[0m \u001b[38;5;66;03m# update the reduce on plateau\u001b[39;00m\n",
      "    \u001b[0;31m[... skipping hidden 8 frame]\u001b[0m\n",
      "File \u001b[0;32m~/pycharmm_test/physnetjax/trainstep.py:113\u001b[0m, in \u001b[0;36mtrain_step.<locals>.loss_fn\u001b[0;34m(params)\u001b[0m\n\u001b[1;32m    112\u001b[0m \u001b[38;5;28;01mdef\u001b[39;00m \u001b[38;5;21mloss_fn\u001b[39m(params):\n\u001b[0;32m--> 113\u001b[0m     output \u001b[38;5;241m=\u001b[39m \u001b[43mmodel_apply\u001b[49m\u001b[43m(\u001b[49m\n\u001b[1;32m    114\u001b[0m \u001b[43m        \u001b[49m\u001b[43mparams\u001b[49m\u001b[43m,\u001b[49m\n\u001b[1;32m    115\u001b[0m \u001b[43m        \u001b[49m\u001b[43matomic_numbers\u001b[49m\u001b[38;5;241;43m=\u001b[39;49m\u001b[43mbatch\u001b[49m\u001b[43m[\u001b[49m\u001b[38;5;124;43m\"\u001b[39;49m\u001b[38;5;124;43mZ\u001b[39;49m\u001b[38;5;124;43m\"\u001b[39;49m\u001b[43m]\u001b[49m\u001b[43m,\u001b[49m\n\u001b[1;32m    116\u001b[0m \u001b[43m        \u001b[49m\u001b[43mpositions\u001b[49m\u001b[38;5;241;43m=\u001b[39;49m\u001b[43mbatch\u001b[49m\u001b[43m[\u001b[49m\u001b[38;5;124;43m\"\u001b[39;49m\u001b[38;5;124;43mR\u001b[39;49m\u001b[38;5;124;43m\"\u001b[39;49m\u001b[43m]\u001b[49m\u001b[43m,\u001b[49m\n\u001b[1;32m    117\u001b[0m \u001b[43m        \u001b[49m\u001b[43mdst_idx\u001b[49m\u001b[38;5;241;43m=\u001b[39;49m\u001b[43mbatch\u001b[49m\u001b[43m[\u001b[49m\u001b[38;5;124;43m\"\u001b[39;49m\u001b[38;5;124;43mdst_idx\u001b[39;49m\u001b[38;5;124;43m\"\u001b[39;49m\u001b[43m]\u001b[49m\u001b[43m,\u001b[49m\n\u001b[1;32m    118\u001b[0m \u001b[43m        \u001b[49m\u001b[43msrc_idx\u001b[49m\u001b[38;5;241;43m=\u001b[39;49m\u001b[43mbatch\u001b[49m\u001b[43m[\u001b[49m\u001b[38;5;124;43m\"\u001b[39;49m\u001b[38;5;124;43msrc_idx\u001b[39;49m\u001b[38;5;124;43m\"\u001b[39;49m\u001b[43m]\u001b[49m\u001b[43m,\u001b[49m\n\u001b[1;32m    119\u001b[0m \u001b[43m        \u001b[49m\u001b[43mbatch_segments\u001b[49m\u001b[38;5;241;43m=\u001b[39;49m\u001b[43mbatch\u001b[49m\u001b[43m[\u001b[49m\u001b[38;5;124;43m\"\u001b[39;49m\u001b[38;5;124;43mbatch_segments\u001b[39;49m\u001b[38;5;124;43m\"\u001b[39;49m\u001b[43m]\u001b[49m\u001b[43m,\u001b[49m\n\u001b[1;32m    120\u001b[0m \u001b[43m        \u001b[49m\u001b[43mbatch_size\u001b[49m\u001b[38;5;241;43m=\u001b[39;49m\u001b[43mbatch_size\u001b[49m\u001b[43m,\u001b[49m\n\u001b[1;32m    121\u001b[0m \u001b[43m        \u001b[49m\u001b[43mbatch_mask\u001b[49m\u001b[38;5;241;43m=\u001b[39;49m\u001b[43mbatch\u001b[49m\u001b[43m[\u001b[49m\u001b[38;5;124;43m\"\u001b[39;49m\u001b[38;5;124;43mbatch_mask\u001b[39;49m\u001b[38;5;124;43m\"\u001b[39;49m\u001b[43m]\u001b[49m\u001b[43m,\u001b[49m\n\u001b[1;32m    122\u001b[0m \u001b[43m    \u001b[49m\u001b[43m)\u001b[49m\n\u001b[1;32m    123\u001b[0m     loss \u001b[38;5;241m=\u001b[39m mean_squared_loss(\n\u001b[1;32m    124\u001b[0m         energy_prediction\u001b[38;5;241m=\u001b[39moutput[\u001b[38;5;124m\"\u001b[39m\u001b[38;5;124menergy\u001b[39m\u001b[38;5;124m\"\u001b[39m],\n\u001b[1;32m    125\u001b[0m         energy_target\u001b[38;5;241m=\u001b[39mbatch[\u001b[38;5;124m\"\u001b[39m\u001b[38;5;124mE\u001b[39m\u001b[38;5;124m\"\u001b[39m],\n\u001b[0;32m   (...)\u001b[0m\n\u001b[1;32m    128\u001b[0m         forces_weight\u001b[38;5;241m=\u001b[39mforces_weight,\n\u001b[1;32m    129\u001b[0m     )\n\u001b[1;32m    130\u001b[0m     \u001b[38;5;28;01mreturn\u001b[39;00m loss, (energy, forces)\n",
      "    \u001b[0;31m[... skipping hidden 6 frame]\u001b[0m\n",
      "File \u001b[0;32m~/pycharmm_test/physnetjax/model.py:460\u001b[0m, in \u001b[0;36mEF.__call__\u001b[0;34m(self, atomic_numbers, positions, dst_idx, src_idx, batch_segments, batch_size, batch_mask, atom_mask)\u001b[0m\n\u001b[1;32m    457\u001b[0m     jax\u001b[38;5;241m.\u001b[39mdebug\u001b[38;5;241m.\u001b[39mprint(\u001b[38;5;124m\"\u001b[39m\u001b[38;5;124matom_mask \u001b[39m\u001b[38;5;132;01m{x}\u001b[39;00m\u001b[38;5;124m\"\u001b[39m, x\u001b[38;5;241m=\u001b[39matom_mask\u001b[38;5;241m.\u001b[39mshape)\n\u001b[1;32m    459\u001b[0m \u001b[38;5;66;03m# Calculate energies and forces\u001b[39;00m\n\u001b[0;32m--> 460\u001b[0m (_, (energy, charges, electrostatics)), forces \u001b[38;5;241m=\u001b[39m \u001b[43menergy_and_forces\u001b[49m\u001b[43m(\u001b[49m\n\u001b[1;32m    461\u001b[0m \u001b[43m    \u001b[49m\u001b[43matomic_numbers\u001b[49m\u001b[43m,\u001b[49m\n\u001b[1;32m    462\u001b[0m \u001b[43m    \u001b[49m\u001b[43mpositions\u001b[49m\u001b[43m,\u001b[49m\n\u001b[1;32m    463\u001b[0m \u001b[43m    \u001b[49m\u001b[43mdst_idx\u001b[49m\u001b[43m,\u001b[49m\n\u001b[1;32m    464\u001b[0m \u001b[43m    \u001b[49m\u001b[43msrc_idx\u001b[49m\u001b[43m,\u001b[49m\n\u001b[1;32m    465\u001b[0m \u001b[43m    \u001b[49m\u001b[43mbatch_segments\u001b[49m\u001b[43m,\u001b[49m\n\u001b[1;32m    466\u001b[0m \u001b[43m    \u001b[49m\u001b[43mbatch_size\u001b[49m\u001b[43m,\u001b[49m\n\u001b[1;32m    467\u001b[0m \u001b[43m    \u001b[49m\u001b[43mbatch_mask\u001b[49m\u001b[43m,\u001b[49m\n\u001b[1;32m    468\u001b[0m \u001b[43m    \u001b[49m\u001b[43matom_mask\u001b[49m\u001b[43m,\u001b[49m\n\u001b[1;32m    469\u001b[0m \u001b[43m\u001b[49m\u001b[43m)\u001b[49m\n\u001b[1;32m    471\u001b[0m \u001b[38;5;66;03m# Apply atom mask to forces\u001b[39;00m\n\u001b[1;32m    472\u001b[0m forces \u001b[38;5;241m=\u001b[39m forces \u001b[38;5;241m*\u001b[39m atom_mask[\u001b[38;5;241m.\u001b[39m\u001b[38;5;241m.\u001b[39m\u001b[38;5;241m.\u001b[39m, \u001b[38;5;28;01mNone\u001b[39;00m]\n",
      "    \u001b[0;31m[... skipping hidden 10 frame]\u001b[0m\n",
      "File \u001b[0;32m~/pycharmm_test/physnetjax/model.py:106\u001b[0m, in \u001b[0;36mEF.energy\u001b[0;34m(self, atomic_numbers, positions, dst_idx, src_idx, batch_segments, batch_size, batch_mask, atom_mask)\u001b[0m\n\u001b[1;32m     93\u001b[0m \u001b[38;5;28;01mif\u001b[39;00m \u001b[38;5;28mself\u001b[39m\u001b[38;5;241m.\u001b[39mcharges:\n\u001b[1;32m     94\u001b[0m     \u001b[38;5;28;01mreturn\u001b[39;00m \u001b[38;5;28mself\u001b[39m\u001b[38;5;241m.\u001b[39m_calculate_with_charges(\n\u001b[1;32m     95\u001b[0m         x,\n\u001b[1;32m     96\u001b[0m         atomic_numbers,\n\u001b[0;32m   (...)\u001b[0m\n\u001b[1;32m    103\u001b[0m         batch_size,\n\u001b[1;32m    104\u001b[0m     )\n\u001b[0;32m--> 106\u001b[0m \u001b[38;5;28;01mreturn\u001b[39;00m \u001b[38;5;28;43mself\u001b[39;49m\u001b[38;5;241;43m.\u001b[39;49m\u001b[43m_calculate_without_charges\u001b[49m\u001b[43m(\u001b[49m\n\u001b[1;32m    107\u001b[0m \u001b[43m    \u001b[49m\u001b[43mx\u001b[49m\u001b[43m,\u001b[49m\u001b[43m \u001b[49m\u001b[43matomic_numbers\u001b[49m\u001b[43m,\u001b[49m\u001b[43m \u001b[49m\u001b[43mbatch_segments\u001b[49m\u001b[43m,\u001b[49m\u001b[43m \u001b[49m\u001b[43mbatch_size\u001b[49m\u001b[43m,\u001b[49m\u001b[43m \u001b[49m\u001b[43matom_mask\u001b[49m\n\u001b[1;32m    108\u001b[0m \u001b[43m\u001b[49m\u001b[43m)\u001b[49m\n",
      "    \u001b[0;31m[... skipping hidden 2 frame]\u001b[0m\n",
      "File \u001b[0;32m~/pycharmm_test/physnetjax/model.py:247\u001b[0m, in \u001b[0;36mEF._calculate_without_charges\u001b[0;34m(self, x, atomic_numbers, batch_segments, batch_size, atom_mask)\u001b[0m\n\u001b[1;32m    238\u001b[0m \u001b[38;5;28;01mdef\u001b[39;00m \u001b[38;5;21m_calculate_without_charges\u001b[39m(\n\u001b[1;32m    239\u001b[0m     \u001b[38;5;28mself\u001b[39m,\n\u001b[1;32m    240\u001b[0m     x: jnp\u001b[38;5;241m.\u001b[39mndarray,\n\u001b[0;32m   (...)\u001b[0m\n\u001b[1;32m    244\u001b[0m     atom_mask: jnp\u001b[38;5;241m.\u001b[39mndarray,\n\u001b[1;32m    245\u001b[0m ) \u001b[38;5;241m-\u001b[39m\u001b[38;5;241m>\u001b[39m Tuple[\u001b[38;5;28mfloat\u001b[39m, jnp\u001b[38;5;241m.\u001b[39mndarray]:\n\u001b[1;32m    246\u001b[0m \u001b[38;5;250m    \u001b[39m\u001b[38;5;124;03m\"\"\"Calculate energies without charge interactions.\"\"\"\u001b[39;00m\n\u001b[0;32m--> 247\u001b[0m     atomic_energies \u001b[38;5;241m=\u001b[39m \u001b[38;5;28;43mself\u001b[39;49m\u001b[38;5;241;43m.\u001b[39;49m\u001b[43m_calculate_atomic_energies\u001b[49m\u001b[43m(\u001b[49m\u001b[43mx\u001b[49m\u001b[43m,\u001b[49m\u001b[43m \u001b[49m\u001b[43matomic_numbers\u001b[49m\u001b[43m,\u001b[49m\u001b[43m \u001b[49m\u001b[43matom_mask\u001b[49m\u001b[43m)\u001b[49m\n\u001b[1;32m    248\u001b[0m     energy \u001b[38;5;241m=\u001b[39m jax\u001b[38;5;241m.\u001b[39mops\u001b[38;5;241m.\u001b[39msegment_sum(\n\u001b[1;32m    249\u001b[0m         atomic_energies,\n\u001b[1;32m    250\u001b[0m         segment_ids\u001b[38;5;241m=\u001b[39mbatch_segments,\n\u001b[1;32m    251\u001b[0m         num_segments\u001b[38;5;241m=\u001b[39mbatch_size,\n\u001b[1;32m    252\u001b[0m     )\n\u001b[1;32m    253\u001b[0m     \u001b[38;5;28;01mreturn\u001b[39;00m \u001b[38;5;241m-\u001b[39m\u001b[38;5;241m1.0\u001b[39m \u001b[38;5;241m*\u001b[39m jnp\u001b[38;5;241m.\u001b[39msum(energy), (energy, \u001b[38;5;28;01mNone\u001b[39;00m, \u001b[38;5;28;01mNone\u001b[39;00m)\n",
      "    \u001b[0;31m[... skipping hidden 2 frame]\u001b[0m\n",
      "File \u001b[0;32m~/pycharmm_test/physnetjax/model.py:319\u001b[0m, in \u001b[0;36mEF._calculate_atomic_energies\u001b[0;34m(self, x, atomic_numbers, atom_mask)\u001b[0m\n\u001b[1;32m    315\u001b[0m atomic_energies \u001b[38;5;241m=\u001b[39m nn\u001b[38;5;241m.\u001b[39mDense(\n\u001b[1;32m    316\u001b[0m     \u001b[38;5;241m1\u001b[39m, use_bias\u001b[38;5;241m=\u001b[39m\u001b[38;5;28;01mFalse\u001b[39;00m, kernel_init\u001b[38;5;241m=\u001b[39mjax\u001b[38;5;241m.\u001b[39mnn\u001b[38;5;241m.\u001b[39minitializers\u001b[38;5;241m.\u001b[39mzeros, dtype\u001b[38;5;241m=\u001b[39mDTYPE\n\u001b[1;32m    317\u001b[0m )(x)\n\u001b[1;32m    318\u001b[0m atomic_energies \u001b[38;5;241m+\u001b[39m\u001b[38;5;241m=\u001b[39m energy_bias[atomic_numbers][\u001b[38;5;241m.\u001b[39m\u001b[38;5;241m.\u001b[39m\u001b[38;5;241m.\u001b[39m, \u001b[38;5;28;01mNone\u001b[39;00m, \u001b[38;5;28;01mNone\u001b[39;00m, \u001b[38;5;28;01mNone\u001b[39;00m]\n\u001b[0;32m--> 319\u001b[0m atomic_energies \u001b[38;5;241m*\u001b[39m\u001b[38;5;241m=\u001b[39m \u001b[43matom_mask\u001b[49m\u001b[43m[\u001b[49m\u001b[38;5;241;43m.\u001b[39;49m\u001b[38;5;241;43m.\u001b[39;49m\u001b[38;5;241;43m.\u001b[39;49m\u001b[43m,\u001b[49m\u001b[43m \u001b[49m\u001b[38;5;28;43;01mNone\u001b[39;49;00m\u001b[43m,\u001b[49m\u001b[43m \u001b[49m\u001b[38;5;28;43;01mNone\u001b[39;49;00m\u001b[43m,\u001b[49m\u001b[43m \u001b[49m\u001b[38;5;28;43;01mNone\u001b[39;49;00m\u001b[43m]\u001b[49m\n\u001b[1;32m    321\u001b[0m \u001b[38;5;28;01mreturn\u001b[39;00m atomic_energies\n",
      "\u001b[0;31mTypeError\u001b[0m: 'NoneType' object is not subscriptable"
     ]
    }
   ],
>>>>>>> 75f2a00960de5adde7409e367e53809c0e45bbe0
   "source": [
    "DEFAULT_DATA_KEYS = [\"Z\", \"R\", \"D\", \"E\", \"F\", \"N\"]\n",
    "\n",
    "params = train_model(\n",
    "    train_key,\n",
    "    model,\n",
    "    train_data,\n",
    "    train_data,\n",
    "    num_epochs=int(1e6),\n",
    "    learning_rate=0.001,\n",
    "    energy_weight=NATOMS,\n",
    "    #charges_weight=1,\n",
    "    #forces_weight=100,\n",
    "    schedule_fn=\"constant\",\n",
    "    optimizer=\"amsgrad\",\n",
    "    batch_size=1,\n",
    "    num_atoms=8,\n",
    "    data_keys=DEFAULT_DATA_KEYS,\n",
    "#    restart=restart,\n",
    "    print_freq=1,\n",
    "    objective=\"valid_loss\",\n",
    "    best=1e6,\n",
    "    )"
   ],
   "outputs": []
  },
  {
   "cell_type": "code",
   "execution_count": null,
   "id": "a0599eb9-ad7d-4174-b776-a13c7bb90d82",
   "metadata": {},
   "source": [],
   "outputs": []
  }
 ],
 "metadata": {
  "kernelspec": {
   "display_name": "physnetjax",
   "language": "python",
   "name": "jaxphyscharmm"
  },
  "language_info": {
   "codemirror_mode": {
    "name": "ipython",
    "version": 3
   },
   "file_extension": ".py",
   "mimetype": "text/x-python",
   "name": "python",
   "nbconvert_exporter": "python",
   "pygments_lexer": "ipython3",
   "version": "3.12.7"
  }
 },
 "nbformat": 4,
 "nbformat_minor": 5
}
