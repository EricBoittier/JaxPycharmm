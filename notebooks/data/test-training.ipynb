{
 "cells": [
  {
   "cell_type": "code",
   "id": "426384c3-5d35-444a-8f0a-48a7ce94795a",
   "metadata": {
    "jupyter": {
     "is_executing": true
    }
   },
   "source": [
    "%load_ext autoreload\n",
    "%autoreload 2\n",
    "import os\n",
    "# Set environment variables\n",
    "os.environ[\"XLA_PYTHON_CLIENT_MEM_FRACTION\"] = \".99\"\n",
    "os.environ[\"CUDA_VISIBLE_DEVICES\"] = \"1\"\n",
    "import jax\n",
    "# from jax import config\n",
    "# config.update('jax_enable_x64', True)\n",
    "# Check JAX configuration\n",
    "devices = jax.local_devices()\n",
    "print(devices)\n",
    "print(jax.default_backend())\n",
    "print(jax.devices())\n",
    "import sys\n",
    "# Add custom path\n",
    "sys.path.append(\"/pchem-data/meuwly/boittier/home/pycharmm_test/src\")\n",
    "# from model import EF\n",
    "# from loss import dipole_calc\n",
    "# from  training import train_model # from model import dipole_calc\n",
    "import jax\n",
    "import optax\n",
    "import e3x\n",
    "# from dcmnet.analysis import create_model_and_params\n",
    "# from data import prepare_batches, prepare_datasets\n",
    "import numpy as np\n",
    "from physnetjax.model import EF\n",
    "from physnetjax.loss import dipole_calc\n",
    "from  physnetjax.training import train_model # from model import dipole_calc\n",
    "from physnetjax.data import prepare_batches, prepare_datasets\n",
    "import orbax\n",
    "from orbax.checkpoint import PyTreeCheckpointer\n",
    "orbax_checkpointer = orbax.checkpoint.PyTreeCheckpointer()\n",
    "import jax\n",
    "import jax.numpy as jnp\n",
    "import flax.linen as nn\n",
    "import networkx as nx\n",
    "import matplotlib.pyplot as plt\n",
    "%load_ext autoreload\n",
    "%autoreload 2\n",
    "import os\n",
    "# Set environment variables\n",
    "os.environ[\"XLA_PYTHON_CLIENT_MEM_FRACTION\"] = \".99\"\n",
    "os.environ[\"CUDA_VISIBLE_DEVICES\"] = \"1\"\n",
    "import jax\n",
    "# from jax import config\n",
    "# config.update('jax_enable_x64', True)\n",
    "# Check JAX configuration\n",
    "devices = jax.local_devices()\n",
    "print(devices)\n",
    "print(jax.default_backend())\n",
    "print(jax.devices())\n",
    "import sys\n",
    "# Add custom path\n",
    "sys.path.append(\"/pchem-data/meuwly/boittier/home/pycharmm_test/src\")\n",
    "# from model import EF\n",
    "# from loss import dipole_calc\n",
    "# from  training import train_model # from model import dipole_calc\n",
    "import jax\n",
    "import optax\n",
    "import e3x\n",
    "# from dcmnet.analysis import create_model_and_params\n",
    "# from data import prepare_batches, prepare_datasets\n",
    "import numpy as np\n",
    "from physnetjax.model import EF\n",
    "from physnetjax.loss import dipole_calc\n",
    "from  physnetjax.training import train_model # from model import dipole_calc\n",
    "from physnetjax.data import prepare_batches, prepare_datasets\n",
    "import orbax\n",
    "from orbax.checkpoint import PyTreeCheckpointer\n",
    "orbax_checkpointer = orbax.checkpoint.PyTreeCheckpointer()\n",
    "# from physnetjax.analysis import *\n",
    "import polars as pl\n",
    "from tensorboard.backend.event_processing.event_accumulator import EventAccumulator\n",
    "from tensorflow.python.summary.summary_iterator import summary_iterator"
   ],
   "outputs": [],
   "execution_count": null
  },
  {
   "cell_type": "code",
   "execution_count": 2,
   "id": "4de7a898-fcf2-4166-9e54-6c9f033bbe06",
   "metadata": {},
   "outputs": [
    {
     "name": "stderr",
     "output_type": "stream",
     "text": [
      "\u001B[32m2024-12-09 07:29:45.979\u001B[0m | \u001B[1mINFO    \u001B[0m | \u001B[36mopenqdc.datasets.base\u001B[0m:\u001B[36mread_preprocess\u001B[0m:\u001B[36m435\u001B[0m - \u001B[1mReading preprocessed data.\u001B[0m\n",
      "\u001B[32m2024-12-09 07:29:45.980\u001B[0m | \u001B[1mINFO    \u001B[0m | \u001B[36mopenqdc.datasets.base\u001B[0m:\u001B[36mread_preprocess\u001B[0m:\u001B[36m436\u001B[0m - \u001B[1mDataset spice with the following units:\n",
      "                     Energy: hartree,\n",
      "                     Distance: bohr,\n",
      "                     Forces: hartree/bohr\u001B[0m\n",
      "\u001B[32m2024-12-09 07:29:47.351\u001B[0m | \u001B[1mINFO    \u001B[0m | \u001B[36mopenqdc.datasets.base\u001B[0m:\u001B[36mread_preprocess\u001B[0m:\u001B[36m452\u001B[0m - \u001B[1mLoaded atomic_inputs with shape (33175288, 5), dtype float32\u001B[0m\n",
      "\u001B[32m2024-12-09 07:29:47.351\u001B[0m | \u001B[1mINFO    \u001B[0m | \u001B[36mopenqdc.datasets.base\u001B[0m:\u001B[36mread_preprocess\u001B[0m:\u001B[36m452\u001B[0m - \u001B[1mLoaded position_idx_range with shape (1110165, 2), dtype int32\u001B[0m\n",
      "\u001B[32m2024-12-09 07:29:47.352\u001B[0m | \u001B[1mINFO    \u001B[0m | \u001B[36mopenqdc.datasets.base\u001B[0m:\u001B[36mread_preprocess\u001B[0m:\u001B[36m452\u001B[0m - \u001B[1mLoaded energies with shape (1110165, 1), dtype float64\u001B[0m\n",
      "\u001B[32m2024-12-09 07:29:47.352\u001B[0m | \u001B[1mINFO    \u001B[0m | \u001B[36mopenqdc.datasets.base\u001B[0m:\u001B[36mread_preprocess\u001B[0m:\u001B[36m452\u001B[0m - \u001B[1mLoaded forces with shape (33175288, 3, 1), dtype float32\u001B[0m\n",
      "\u001B[32m2024-12-09 07:29:47.353\u001B[0m | \u001B[1mINFO    \u001B[0m | \u001B[36mopenqdc.datasets.base\u001B[0m:\u001B[36mread_preprocess\u001B[0m:\u001B[36m452\u001B[0m - \u001B[1mLoaded n_atoms with shape (1110165,), dtype int32\u001B[0m\n",
      "\u001B[32m2024-12-09 07:29:47.353\u001B[0m | \u001B[1mINFO    \u001B[0m | \u001B[36mopenqdc.datasets.base\u001B[0m:\u001B[36mread_preprocess\u001B[0m:\u001B[36m452\u001B[0m - \u001B[1mLoaded subset with shape (1110165,), dtype <U20\u001B[0m\n",
      "\u001B[32m2024-12-09 07:29:47.354\u001B[0m | \u001B[1mINFO    \u001B[0m | \u001B[36mopenqdc.datasets.base\u001B[0m:\u001B[36mread_preprocess\u001B[0m:\u001B[36m452\u001B[0m - \u001B[1mLoaded name with shape (1110165,), dtype <U632\u001B[0m\n",
      "\u001B[32m2024-12-09 07:29:48.436\u001B[0m | \u001B[1mINFO    \u001B[0m | \u001B[36mopenqdc.datasets.statistics\u001B[0m:\u001B[36mrun_calculators\u001B[0m:\u001B[36m153\u001B[0m - \u001B[1mProcessing dataset statistics\u001B[0m\n",
      "\u001B[32m2024-12-09 07:29:48.438\u001B[0m | \u001B[1mINFO    \u001B[0m | \u001B[36mopenqdc.datasets.statistics\u001B[0m:\u001B[36mattempt_load\u001B[0m:\u001B[36m277\u001B[0m - \u001B[1mStatistics for forcescalculatorstats loaded successfully\u001B[0m\n",
      "\u001B[32m2024-12-09 07:29:48.439\u001B[0m | \u001B[1mINFO    \u001B[0m | \u001B[36mopenqdc.datasets.statistics\u001B[0m:\u001B[36mattempt_load\u001B[0m:\u001B[36m277\u001B[0m - \u001B[1mStatistics for totalenergystats loaded successfully\u001B[0m\n",
      "\u001B[32m2024-12-09 07:29:48.440\u001B[0m | \u001B[1mINFO    \u001B[0m | \u001B[36mopenqdc.datasets.statistics\u001B[0m:\u001B[36mattempt_load\u001B[0m:\u001B[36m277\u001B[0m - \u001B[1mStatistics for formationenergystats_formation loaded successfully\u001B[0m\n",
      "\u001B[32m2024-12-09 07:29:48.441\u001B[0m | \u001B[1mINFO    \u001B[0m | \u001B[36mopenqdc.datasets.statistics\u001B[0m:\u001B[36mattempt_load\u001B[0m:\u001B[36m277\u001B[0m - \u001B[1mStatistics for peratomformationenergystats_formation loaded successfully\u001B[0m\n",
      "\u001B[32m2024-12-09 07:29:48.443\u001B[0m | \u001B[1mINFO    \u001B[0m | \u001B[36mopenqdc.datasets.base\u001B[0m:\u001B[36m_convert_data\u001B[0m:\u001B[36m253\u001B[0m - \u001B[1mConverting spice data to the following units:\n",
      "                     Energy: ev,\n",
      "                     Distance: ang,\n",
      "                     Forces: ev/ang\u001B[0m\n",
      "\u001B[32m2024-12-09 07:29:49.736\u001B[0m | \u001B[1mINFO    \u001B[0m | \u001B[36mopenqdc.datasets.base\u001B[0m:\u001B[36mread_preprocess\u001B[0m:\u001B[36m435\u001B[0m - \u001B[1mReading preprocessed data.\u001B[0m\n",
      "\u001B[32m2024-12-09 07:29:49.737\u001B[0m | \u001B[1mINFO    \u001B[0m | \u001B[36mopenqdc.datasets.base\u001B[0m:\u001B[36mread_preprocess\u001B[0m:\u001B[36m436\u001B[0m - \u001B[1mDataset spice with the following units:\n",
      "                     Energy: ev,\n",
      "                     Distance: ang,\n",
      "                     Forces: ev/ang\u001B[0m\n",
      "\u001B[32m2024-12-09 07:29:51.267\u001B[0m | \u001B[1mINFO    \u001B[0m | \u001B[36mopenqdc.datasets.base\u001B[0m:\u001B[36mread_preprocess\u001B[0m:\u001B[36m452\u001B[0m - \u001B[1mLoaded atomic_inputs with shape (33175288, 5), dtype float32\u001B[0m\n",
      "\u001B[32m2024-12-09 07:29:51.268\u001B[0m | \u001B[1mINFO    \u001B[0m | \u001B[36mopenqdc.datasets.base\u001B[0m:\u001B[36mread_preprocess\u001B[0m:\u001B[36m452\u001B[0m - \u001B[1mLoaded position_idx_range with shape (1110165, 2), dtype int32\u001B[0m\n",
      "\u001B[32m2024-12-09 07:29:51.269\u001B[0m | \u001B[1mINFO    \u001B[0m | \u001B[36mopenqdc.datasets.base\u001B[0m:\u001B[36mread_preprocess\u001B[0m:\u001B[36m452\u001B[0m - \u001B[1mLoaded energies with shape (1110165, 1), dtype float64\u001B[0m\n",
      "\u001B[32m2024-12-09 07:29:51.269\u001B[0m | \u001B[1mINFO    \u001B[0m | \u001B[36mopenqdc.datasets.base\u001B[0m:\u001B[36mread_preprocess\u001B[0m:\u001B[36m452\u001B[0m - \u001B[1mLoaded forces with shape (33175288, 3, 1), dtype float32\u001B[0m\n",
      "\u001B[32m2024-12-09 07:29:51.270\u001B[0m | \u001B[1mINFO    \u001B[0m | \u001B[36mopenqdc.datasets.base\u001B[0m:\u001B[36mread_preprocess\u001B[0m:\u001B[36m452\u001B[0m - \u001B[1mLoaded n_atoms with shape (1110165,), dtype int32\u001B[0m\n",
      "\u001B[32m2024-12-09 07:29:51.270\u001B[0m | \u001B[1mINFO    \u001B[0m | \u001B[36mopenqdc.datasets.base\u001B[0m:\u001B[36mread_preprocess\u001B[0m:\u001B[36m452\u001B[0m - \u001B[1mLoaded subset with shape (1110165,), dtype <U20\u001B[0m\n",
      "\u001B[32m2024-12-09 07:29:51.270\u001B[0m | \u001B[1mINFO    \u001B[0m | \u001B[36mopenqdc.datasets.base\u001B[0m:\u001B[36mread_preprocess\u001B[0m:\u001B[36m452\u001B[0m - \u001B[1mLoaded name with shape (1110165,), dtype <U632\u001B[0m\n"
     ]
    }
   ],
   "source": [
    "from openqdc.datasets import Spice\n",
    "from physnetjax.savepad import * \n",
    "\n",
    "NATOMS = 96\n",
    "\n",
    "ds = Spice(\n",
    "    energy_unit=\"ev\",\n",
    "    distance_unit=\"ang\",\n",
    "    # array_format = \"jax\"\n",
    ")\n",
    "ds.read_preprocess()\n",
    "datadicts = [dict(ds[_]) for _ in ds.subsample(5000)]\n",
    "output1 = process_in_memory(datadicts, max_atoms=NATOMS)\n",
    "datadicts = [dict(ds[_]) for _ in ds.subsample(500)]\n",
    "output2 = process_in_memory(datadicts, max_atoms=NATOMS)"
   ]
  },
  {
   "cell_type": "code",
   "execution_count": 3,
   "id": "495fc174-4981-4a84-8fa3-5386274d1d66",
   "metadata": {},
   "outputs": [
    {
     "data": {
      "text/plain": [
       "list"
      ]
     },
     "execution_count": 3,
     "metadata": {},
     "output_type": "execute_result"
    }
   ],
   "source": [
    "type(datadicts)"
   ]
  },
  {
   "cell_type": "code",
   "execution_count": 4,
   "id": "4fa8f8f0-bf79-4ec7-83f5-635c1d75772e",
   "metadata": {},
   "outputs": [
    {
     "name": "stderr",
     "output_type": "stream",
     "text": [
      "2024-12-09 07:29:52.543238: W external/xla/xla/service/gpu/nvptx_compiler.cc:930] The NVIDIA driver's CUDA version is 12.4 which is older than the PTX compiler version 12.6.77. Because the driver is older than the PTX compiler version, XLA is disabling parallel compilation, which may slow down compilation. You should update your NVIDIA driver or use the NVIDIA-provided CUDA forward compatibility packages.\n"
     ]
    }
   ],
   "source": [
    "data_key, train_key = jax.random.split(\n",
    "    jax.random.PRNGKey(42), 2)"
   ]
  },
  {
   "cell_type": "code",
   "execution_count": 5,
   "id": "d0087ff7-f6e3-4ede-b716-6006225ab285",
   "metadata": {},
   "outputs": [],
   "source": [
    "from physnetjax.model import EF\n",
    "from physnetjax.training import train_model \n"
   ]
  },
  {
   "cell_type": "code",
   "execution_count": null,
   "id": "2a076b2a-069d-48fe-9b50-877a3034ca2c",
   "metadata": {
    "scrolled": true
   },
   "outputs": [
    {
     "name": "stdout",
     "output_type": "stream",
     "text": [
      "Training Routine\n",
      "Optimizer:\n",
      "  init: <function chain.<locals>.init_fn at 0x14e284fe7560> init_fn\n",
      "  update: <function chain.<locals>.update_fn at 0x14e284fe72e0> update_fn\n",
      "Transform:\n",
      "  init: <function reduce_on_plateau.<locals>.init_fn at 0x14e284fe7740> init_fn\n",
      "  update: <function reduce_on_plateau.<locals>.update_fn at 0x14e284fe7ba0> update_fn\n",
      "Schedule_fn: <function constant_schedule.<locals>.<lambda> at 0x14e1aaf9cc20> <lambda>\n"
     ]
    },
    {
     "data": {
      "text/html": [
       "<pre style=\"white-space:pre;overflow-x:auto;line-height:normal;font-family:Menlo,'DejaVu Sans Mono',consolas,'Courier New',monospace\"><span style=\"font-style: italic\">                                        PhysNetJax Training Initialization                                         </span>\n",
       "┏━━━━━━━━━━━━━━━┳━━━━━━━━━━━━━━━┳━━━━━━━━━━━━━━━━━━┳━━━━━━━━━━━━━━━━━━┳━━━━━━━━━━━━━━━━━━┳━━━━━━━━━━━━┳━━━━━━━━━━━┓\n",
       "┃<span style=\"font-weight: bold\"> Learning Rate </span>┃<span style=\"font-weight: bold\"> Energy Weight </span>┃<span style=\"font-weight: bold\"> Forces Weight    </span>┃<span style=\"font-weight: bold\"> Dipole Weight    </span>┃<span style=\"font-weight: bold\"> Charges Weight   </span>┃<span style=\"font-weight: bold\"> Batch Size </span>┃<span style=\"font-weight: bold\"> Num Atoms </span>┃\n",
       "┡━━━━━━━━━━━━━━━╇━━━━━━━━━━━━━━━╇━━━━━━━━━━━━━━━━━━╇━━━━━━━━━━━━━━━━━━╇━━━━━━━━━━━━━━━━━━╇━━━━━━━━━━━━╇━━━━━━━━━━━┩\n",
       "│<span style=\"color: #008080; text-decoration-color: #008080\"> 0.001         </span>│<span style=\"color: #800080; text-decoration-color: #800080\"> 96            </span>│<span style=\"color: #008000; text-decoration-color: #008000\"> 52.917721056384… </span>│<span style=\"color: #800000; text-decoration-color: #800000\"> 27.211386024367… </span>│<span style=\"color: #000080; text-decoration-color: #000080\"> 14.399645351950… </span>│<span style=\"color: #008080; text-decoration-color: #008080\"> 10         </span>│<span style=\"color: #800080; text-decoration-color: #800080\"> 96        </span>│\n",
       "└───────────────┴───────────────┴──────────────────┴──────────────────┴──────────────────┴────────────┴───────────┘\n",
       "</pre>\n"
      ],
      "text/plain": [
       "\u001B[3m                                        PhysNetJax Training Initialization                                         \u001B[0m\n",
       "┏━━━━━━━━━━━━━━━┳━━━━━━━━━━━━━━━┳━━━━━━━━━━━━━━━━━━┳━━━━━━━━━━━━━━━━━━┳━━━━━━━━━━━━━━━━━━┳━━━━━━━━━━━━┳━━━━━━━━━━━┓\n",
       "┃\u001B[1m \u001B[0m\u001B[1mLearning Rate\u001B[0m\u001B[1m \u001B[0m┃\u001B[1m \u001B[0m\u001B[1mEnergy Weight\u001B[0m\u001B[1m \u001B[0m┃\u001B[1m \u001B[0m\u001B[1mForces Weight   \u001B[0m\u001B[1m \u001B[0m┃\u001B[1m \u001B[0m\u001B[1mDipole Weight   \u001B[0m\u001B[1m \u001B[0m┃\u001B[1m \u001B[0m\u001B[1mCharges Weight  \u001B[0m\u001B[1m \u001B[0m┃\u001B[1m \u001B[0m\u001B[1mBatch Size\u001B[0m\u001B[1m \u001B[0m┃\u001B[1m \u001B[0m\u001B[1mNum Atoms\u001B[0m\u001B[1m \u001B[0m┃\n",
       "┡━━━━━━━━━━━━━━━╇━━━━━━━━━━━━━━━╇━━━━━━━━━━━━━━━━━━╇━━━━━━━━━━━━━━━━━━╇━━━━━━━━━━━━━━━━━━╇━━━━━━━━━━━━╇━━━━━━━━━━━┩\n",
       "│\u001B[36m \u001B[0m\u001B[36m0.001        \u001B[0m\u001B[36m \u001B[0m│\u001B[35m \u001B[0m\u001B[35m96           \u001B[0m\u001B[35m \u001B[0m│\u001B[32m \u001B[0m\u001B[32m52.917721056384…\u001B[0m\u001B[32m \u001B[0m│\u001B[31m \u001B[0m\u001B[31m27.211386024367…\u001B[0m\u001B[31m \u001B[0m│\u001B[34m \u001B[0m\u001B[34m14.399645351950…\u001B[0m\u001B[34m \u001B[0m│\u001B[36m \u001B[0m\u001B[36m10        \u001B[0m\u001B[36m \u001B[0m│\u001B[35m \u001B[0m\u001B[35m96       \u001B[0m\u001B[35m \u001B[0m│\n",
       "└───────────────┴───────────────┴──────────────────┴──────────────────┴──────────────────┴────────────┴───────────┘\n"
      ]
     },
     "metadata": {},
     "output_type": "display_data"
    },
    {
     "data": {
      "text/html": [
       "<pre style=\"white-space:pre;overflow-x:auto;line-height:normal;font-family:Menlo,'DejaVu Sans Mono',consolas,'Courier New',monospace\"><span style=\"font-style: italic\">                                        PhysNetJax Training Initialization                                         </span>\n",
       "┏━━━━━━━━━┳━━━━━━━━━┳━━━━━━━━━┳━━━━━━┳━━━━━━━━━┳━━━━━━━━━┳━━━━━━━━━┳━━━━━━━━┳━━━━━━━━━┳━━━━━━━━┳━━━━━━━━━┳━━━━━━━━┓\n",
       "┃<span style=\"font-weight: bold\">         </span>┃<span style=\"font-weight: bold\">         </span>┃<span style=\"font-weight: bold\">         </span>┃<span style=\"font-weight: bold\">      </span>┃<span style=\"font-weight: bold\">         </span>┃<span style=\"font-weight: bold\">         </span>┃<span style=\"font-weight: bold\">         </span>┃<span style=\"font-weight: bold\">        </span>┃<span style=\"font-weight: bold\"> Train   </span>┃<span style=\"font-weight: bold\"> Valid  </span>┃<span style=\"font-weight: bold\">         </span>┃<span style=\"font-weight: bold\">        </span>┃\n",
       "┃<span style=\"font-weight: bold\">         </span>┃<span style=\"font-weight: bold\">         </span>┃<span style=\"font-weight: bold\"> Print   </span>┃<span style=\"font-weight: bold\">      </span>┃<span style=\"font-weight: bold\">         </span>┃<span style=\"font-weight: bold\">         </span>┃<span style=\"font-weight: bold\"> Data    </span>┃<span style=\"font-weight: bold\"> Ckpt   </span>┃<span style=\"font-weight: bold\"> Data    </span>┃<span style=\"font-weight: bold\"> Data   </span>┃<span style=\"font-weight: bold\">         </span>┃<span style=\"font-weight: bold\">        </span>┃\n",
       "┃<span style=\"font-weight: bold\"> Restart </span>┃<span style=\"font-weight: bold\"> Conver… </span>┃<span style=\"font-weight: bold\"> Freq    </span>┃<span style=\"font-weight: bold\"> Name </span>┃<span style=\"font-weight: bold\"> Best    </span>┃<span style=\"font-weight: bold\"> Object… </span>┃<span style=\"font-weight: bold\"> Keys    </span>┃<span style=\"font-weight: bold\"> Dir    </span>┃<span style=\"font-weight: bold\"> Keys    </span>┃<span style=\"font-weight: bold\"> Keys   </span>┃<span style=\"font-weight: bold\"> Object… </span>┃<span style=\"font-weight: bold\"> Saving </span>┃\n",
       "┡━━━━━━━━━╇━━━━━━━━━╇━━━━━━━━━╇━━━━━━╇━━━━━━━━━╇━━━━━━━━━╇━━━━━━━━━╇━━━━━━━━╇━━━━━━━━━╇━━━━━━━━╇━━━━━━━━━╇━━━━━━━━┩\n",
       "│<span style=\"color: #008000; text-decoration-color: #008000\"> False   </span>│<span style=\"color: #800000; text-decoration-color: #800000\"> {'ener… </span>│<span style=\"color: #000080; text-decoration-color: #000080\"> 1       </span>│<span style=\"color: #008080; text-decoration-color: #008080\"> test </span>│<span style=\"color: #800080; text-decoration-color: #800080\"> 100000… </span>│<span style=\"color: #008000; text-decoration-color: #008000\"> valid_… </span>│<span style=\"color: #800000; text-decoration-color: #800000\"> ['Z',   </span>│<span style=\"color: #000080; text-decoration-color: #000080\"> /pche… </span>│<span style=\"color: #008080; text-decoration-color: #008080\"> dict_k… </span>│<span style=\"color: #800080; text-decoration-color: #800080\"> dict_… </span>│<span style=\"color: #008000; text-decoration-color: #008000\"> valid_… </span>│<span style=\"color: #800000; text-decoration-color: #800000\"> Saving </span>│\n",
       "│<span style=\"color: #008000; text-decoration-color: #008000\">         </span>│<span style=\"color: #800000; text-decoration-color: #800000\"> 23.060… </span>│<span style=\"color: #000080; text-decoration-color: #000080\">         </span>│<span style=\"color: #008080; text-decoration-color: #008080\">      </span>│<span style=\"color: #800080; text-decoration-color: #800080\">         </span>│<span style=\"color: #008000; text-decoration-color: #008000\">         </span>│<span style=\"color: #800000; text-decoration-color: #800000\"> 'R',    </span>│<span style=\"color: #000080; text-decoration-color: #000080\">        </span>│<span style=\"color: #008080; text-decoration-color: #008080\"> 'N',    </span>│<span style=\"color: #800080; text-decoration-color: #800080\"> 'N',   </span>│<span style=\"color: #008000; text-decoration-color: #008000\">         </span>│<span style=\"color: #800000; text-decoration-color: #800000\"> a      </span>│\n",
       "│<span style=\"color: #008000; text-decoration-color: #008000\">         </span>│<span style=\"color: #800000; text-decoration-color: #800000\"> 'force… </span>│<span style=\"color: #000080; text-decoration-color: #000080\">         </span>│<span style=\"color: #008080; text-decoration-color: #008080\">      </span>│<span style=\"color: #800080; text-decoration-color: #800080\">         </span>│<span style=\"color: #008000; text-decoration-color: #008000\">         </span>│<span style=\"color: #800000; text-decoration-color: #800000\"> 'D',    </span>│<span style=\"color: #000080; text-decoration-color: #000080\">        </span>│<span style=\"color: #008080; text-decoration-color: #008080\"> 'R',    </span>│<span style=\"color: #800080; text-decoration-color: #800080\"> 'R',   </span>│<span style=\"color: #008000; text-decoration-color: #008000\">         </span>│<span style=\"color: #800000; text-decoration-color: #800000\"> resta… </span>│\n",
       "│<span style=\"color: #008000; text-decoration-color: #008000\">         </span>│<span style=\"color: #800000; text-decoration-color: #800000\"> 23.060… </span>│<span style=\"color: #000080; text-decoration-color: #000080\">         </span>│<span style=\"color: #008080; text-decoration-color: #008080\">      </span>│<span style=\"color: #800080; text-decoration-color: #800080\">         </span>│<span style=\"color: #008000; text-decoration-color: #008000\">         </span>│<span style=\"color: #800000; text-decoration-color: #800000\"> 'E',    </span>│<span style=\"color: #000080; text-decoration-color: #000080\">        </span>│<span style=\"color: #008080; text-decoration-color: #008080\"> 'F',    </span>│<span style=\"color: #800080; text-decoration-color: #800080\"> 'F',   </span>│<span style=\"color: #008000; text-decoration-color: #008000\">         </span>│<span style=\"color: #800000; text-decoration-color: #800000\"> file   </span>│\n",
       "│<span style=\"color: #008000; text-decoration-color: #008000\">         </span>│<span style=\"color: #800000; text-decoration-color: #800000\">         </span>│<span style=\"color: #000080; text-decoration-color: #000080\">         </span>│<span style=\"color: #008080; text-decoration-color: #008080\">      </span>│<span style=\"color: #800080; text-decoration-color: #800080\">         </span>│<span style=\"color: #008000; text-decoration-color: #008000\">         </span>│<span style=\"color: #800000; text-decoration-color: #800000\"> 'F',    </span>│<span style=\"color: #000080; text-decoration-color: #000080\">        </span>│<span style=\"color: #008080; text-decoration-color: #008080\"> 'E'])   </span>│<span style=\"color: #800080; text-decoration-color: #800080\"> 'E'])  </span>│<span style=\"color: #008000; text-decoration-color: #008000\">         </span>│<span style=\"color: #800000; text-decoration-color: #800000\"> each   </span>│\n",
       "│<span style=\"color: #008000; text-decoration-color: #008000\">         </span>│<span style=\"color: #800000; text-decoration-color: #800000\">         </span>│<span style=\"color: #000080; text-decoration-color: #000080\">         </span>│<span style=\"color: #008080; text-decoration-color: #008080\">      </span>│<span style=\"color: #800080; text-decoration-color: #800080\">         </span>│<span style=\"color: #008000; text-decoration-color: #008000\">         </span>│<span style=\"color: #800000; text-decoration-color: #800000\"> 'N']    </span>│<span style=\"color: #000080; text-decoration-color: #000080\">        </span>│<span style=\"color: #008080; text-decoration-color: #008080\">         </span>│<span style=\"color: #800080; text-decoration-color: #800080\">        </span>│<span style=\"color: #008000; text-decoration-color: #008000\">         </span>│<span style=\"color: #800000; text-decoration-color: #800000\"> time   </span>│\n",
       "│<span style=\"color: #008000; text-decoration-color: #008000\">         </span>│<span style=\"color: #800000; text-decoration-color: #800000\">         </span>│<span style=\"color: #000080; text-decoration-color: #000080\">         </span>│<span style=\"color: #008080; text-decoration-color: #008080\">      </span>│<span style=\"color: #800080; text-decoration-color: #800080\">         </span>│<span style=\"color: #008000; text-decoration-color: #008000\">         </span>│<span style=\"color: #800000; text-decoration-color: #800000\">         </span>│<span style=\"color: #000080; text-decoration-color: #000080\">        </span>│<span style=\"color: #008080; text-decoration-color: #008080\">         </span>│<span style=\"color: #800080; text-decoration-color: #800080\">        </span>│<span style=\"color: #008000; text-decoration-color: #008000\">         </span>│<span style=\"color: #800000; text-decoration-color: #800000\"> the    </span>│\n",
       "│<span style=\"color: #008000; text-decoration-color: #008000\">         </span>│<span style=\"color: #800000; text-decoration-color: #800000\">         </span>│<span style=\"color: #000080; text-decoration-color: #000080\">         </span>│<span style=\"color: #008080; text-decoration-color: #008080\">      </span>│<span style=\"color: #800080; text-decoration-color: #800080\">         </span>│<span style=\"color: #008000; text-decoration-color: #008000\">         </span>│<span style=\"color: #800000; text-decoration-color: #800000\">         </span>│<span style=\"color: #000080; text-decoration-color: #000080\">        </span>│<span style=\"color: #008080; text-decoration-color: #008080\">         </span>│<span style=\"color: #800080; text-decoration-color: #800080\">        </span>│<span style=\"color: #008000; text-decoration-color: #008000\">         </span>│<span style=\"color: #800000; text-decoration-color: #800000\"> valid… </span>│\n",
       "│<span style=\"color: #008000; text-decoration-color: #008000\">         </span>│<span style=\"color: #800000; text-decoration-color: #800000\">         </span>│<span style=\"color: #000080; text-decoration-color: #000080\">         </span>│<span style=\"color: #008080; text-decoration-color: #008080\">      </span>│<span style=\"color: #800080; text-decoration-color: #800080\">         </span>│<span style=\"color: #008000; text-decoration-color: #008000\">         </span>│<span style=\"color: #800000; text-decoration-color: #800000\">         </span>│<span style=\"color: #000080; text-decoration-color: #000080\">        </span>│<span style=\"color: #008080; text-decoration-color: #008080\">         </span>│<span style=\"color: #800080; text-decoration-color: #800080\">        </span>│<span style=\"color: #008000; text-decoration-color: #008000\">         </span>│<span style=\"color: #800000; text-decoration-color: #800000\"> impro… </span>│\n",
       "└─────────┴─────────┴─────────┴──────┴─────────┴─────────┴─────────┴────────┴─────────┴────────┴─────────┴────────┘\n",
       "</pre>\n"
      ],
      "text/plain": [
       "\u001B[3m                                        PhysNetJax Training Initialization                                         \u001B[0m\n",
       "┏━━━━━━━━━┳━━━━━━━━━┳━━━━━━━━━┳━━━━━━┳━━━━━━━━━┳━━━━━━━━━┳━━━━━━━━━┳━━━━━━━━┳━━━━━━━━━┳━━━━━━━━┳━━━━━━━━━┳━━━━━━━━┓\n",
       "┃\u001B[1m         \u001B[0m┃\u001B[1m         \u001B[0m┃\u001B[1m         \u001B[0m┃\u001B[1m      \u001B[0m┃\u001B[1m         \u001B[0m┃\u001B[1m         \u001B[0m┃\u001B[1m         \u001B[0m┃\u001B[1m        \u001B[0m┃\u001B[1m \u001B[0m\u001B[1mTrain  \u001B[0m\u001B[1m \u001B[0m┃\u001B[1m \u001B[0m\u001B[1mValid \u001B[0m\u001B[1m \u001B[0m┃\u001B[1m         \u001B[0m┃\u001B[1m        \u001B[0m┃\n",
       "┃\u001B[1m         \u001B[0m┃\u001B[1m         \u001B[0m┃\u001B[1m \u001B[0m\u001B[1mPrint  \u001B[0m\u001B[1m \u001B[0m┃\u001B[1m      \u001B[0m┃\u001B[1m         \u001B[0m┃\u001B[1m         \u001B[0m┃\u001B[1m \u001B[0m\u001B[1mData   \u001B[0m\u001B[1m \u001B[0m┃\u001B[1m \u001B[0m\u001B[1mCkpt  \u001B[0m\u001B[1m \u001B[0m┃\u001B[1m \u001B[0m\u001B[1mData   \u001B[0m\u001B[1m \u001B[0m┃\u001B[1m \u001B[0m\u001B[1mData  \u001B[0m\u001B[1m \u001B[0m┃\u001B[1m         \u001B[0m┃\u001B[1m        \u001B[0m┃\n",
       "┃\u001B[1m \u001B[0m\u001B[1mRestart\u001B[0m\u001B[1m \u001B[0m┃\u001B[1m \u001B[0m\u001B[1mConver…\u001B[0m\u001B[1m \u001B[0m┃\u001B[1m \u001B[0m\u001B[1mFreq   \u001B[0m\u001B[1m \u001B[0m┃\u001B[1m \u001B[0m\u001B[1mName\u001B[0m\u001B[1m \u001B[0m┃\u001B[1m \u001B[0m\u001B[1mBest   \u001B[0m\u001B[1m \u001B[0m┃\u001B[1m \u001B[0m\u001B[1mObject…\u001B[0m\u001B[1m \u001B[0m┃\u001B[1m \u001B[0m\u001B[1mKeys   \u001B[0m\u001B[1m \u001B[0m┃\u001B[1m \u001B[0m\u001B[1mDir   \u001B[0m\u001B[1m \u001B[0m┃\u001B[1m \u001B[0m\u001B[1mKeys   \u001B[0m\u001B[1m \u001B[0m┃\u001B[1m \u001B[0m\u001B[1mKeys  \u001B[0m\u001B[1m \u001B[0m┃\u001B[1m \u001B[0m\u001B[1mObject…\u001B[0m\u001B[1m \u001B[0m┃\u001B[1m \u001B[0m\u001B[1mSaving\u001B[0m\u001B[1m \u001B[0m┃\n",
       "┡━━━━━━━━━╇━━━━━━━━━╇━━━━━━━━━╇━━━━━━╇━━━━━━━━━╇━━━━━━━━━╇━━━━━━━━━╇━━━━━━━━╇━━━━━━━━━╇━━━━━━━━╇━━━━━━━━━╇━━━━━━━━┩\n",
       "│\u001B[32m \u001B[0m\u001B[32mFalse  \u001B[0m\u001B[32m \u001B[0m│\u001B[31m \u001B[0m\u001B[31m{'ener…\u001B[0m\u001B[31m \u001B[0m│\u001B[34m \u001B[0m\u001B[34m1      \u001B[0m\u001B[34m \u001B[0m│\u001B[36m \u001B[0m\u001B[36mtest\u001B[0m\u001B[36m \u001B[0m│\u001B[35m \u001B[0m\u001B[35m100000…\u001B[0m\u001B[35m \u001B[0m│\u001B[32m \u001B[0m\u001B[32mvalid_…\u001B[0m\u001B[32m \u001B[0m│\u001B[31m \u001B[0m\u001B[31m['Z',  \u001B[0m\u001B[31m \u001B[0m│\u001B[34m \u001B[0m\u001B[34m/pche…\u001B[0m\u001B[34m \u001B[0m│\u001B[36m \u001B[0m\u001B[36mdict_k…\u001B[0m\u001B[36m \u001B[0m│\u001B[35m \u001B[0m\u001B[35mdict_…\u001B[0m\u001B[35m \u001B[0m│\u001B[32m \u001B[0m\u001B[32mvalid_…\u001B[0m\u001B[32m \u001B[0m│\u001B[31m \u001B[0m\u001B[31mSaving\u001B[0m\u001B[31m \u001B[0m│\n",
       "│\u001B[32m         \u001B[0m│\u001B[31m \u001B[0m\u001B[31m23.060…\u001B[0m\u001B[31m \u001B[0m│\u001B[34m         \u001B[0m│\u001B[36m      \u001B[0m│\u001B[35m         \u001B[0m│\u001B[32m         \u001B[0m│\u001B[31m \u001B[0m\u001B[31m'R',   \u001B[0m\u001B[31m \u001B[0m│\u001B[34m        \u001B[0m│\u001B[36m \u001B[0m\u001B[36m'N',   \u001B[0m\u001B[36m \u001B[0m│\u001B[35m \u001B[0m\u001B[35m'N',  \u001B[0m\u001B[35m \u001B[0m│\u001B[32m         \u001B[0m│\u001B[31m \u001B[0m\u001B[31ma     \u001B[0m\u001B[31m \u001B[0m│\n",
       "│\u001B[32m         \u001B[0m│\u001B[31m \u001B[0m\u001B[31m'force…\u001B[0m\u001B[31m \u001B[0m│\u001B[34m         \u001B[0m│\u001B[36m      \u001B[0m│\u001B[35m         \u001B[0m│\u001B[32m         \u001B[0m│\u001B[31m \u001B[0m\u001B[31m'D',   \u001B[0m\u001B[31m \u001B[0m│\u001B[34m        \u001B[0m│\u001B[36m \u001B[0m\u001B[36m'R',   \u001B[0m\u001B[36m \u001B[0m│\u001B[35m \u001B[0m\u001B[35m'R',  \u001B[0m\u001B[35m \u001B[0m│\u001B[32m         \u001B[0m│\u001B[31m \u001B[0m\u001B[31mresta…\u001B[0m\u001B[31m \u001B[0m│\n",
       "│\u001B[32m         \u001B[0m│\u001B[31m \u001B[0m\u001B[31m23.060…\u001B[0m\u001B[31m \u001B[0m│\u001B[34m         \u001B[0m│\u001B[36m      \u001B[0m│\u001B[35m         \u001B[0m│\u001B[32m         \u001B[0m│\u001B[31m \u001B[0m\u001B[31m'E',   \u001B[0m\u001B[31m \u001B[0m│\u001B[34m        \u001B[0m│\u001B[36m \u001B[0m\u001B[36m'F',   \u001B[0m\u001B[36m \u001B[0m│\u001B[35m \u001B[0m\u001B[35m'F',  \u001B[0m\u001B[35m \u001B[0m│\u001B[32m         \u001B[0m│\u001B[31m \u001B[0m\u001B[31mfile  \u001B[0m\u001B[31m \u001B[0m│\n",
       "│\u001B[32m         \u001B[0m│\u001B[31m         \u001B[0m│\u001B[34m         \u001B[0m│\u001B[36m      \u001B[0m│\u001B[35m         \u001B[0m│\u001B[32m         \u001B[0m│\u001B[31m \u001B[0m\u001B[31m'F',   \u001B[0m\u001B[31m \u001B[0m│\u001B[34m        \u001B[0m│\u001B[36m \u001B[0m\u001B[36m'E'])  \u001B[0m\u001B[36m \u001B[0m│\u001B[35m \u001B[0m\u001B[35m'E']) \u001B[0m\u001B[35m \u001B[0m│\u001B[32m         \u001B[0m│\u001B[31m \u001B[0m\u001B[31meach  \u001B[0m\u001B[31m \u001B[0m│\n",
       "│\u001B[32m         \u001B[0m│\u001B[31m         \u001B[0m│\u001B[34m         \u001B[0m│\u001B[36m      \u001B[0m│\u001B[35m         \u001B[0m│\u001B[32m         \u001B[0m│\u001B[31m \u001B[0m\u001B[31m'N']   \u001B[0m\u001B[31m \u001B[0m│\u001B[34m        \u001B[0m│\u001B[36m         \u001B[0m│\u001B[35m        \u001B[0m│\u001B[32m         \u001B[0m│\u001B[31m \u001B[0m\u001B[31mtime  \u001B[0m\u001B[31m \u001B[0m│\n",
       "│\u001B[32m         \u001B[0m│\u001B[31m         \u001B[0m│\u001B[34m         \u001B[0m│\u001B[36m      \u001B[0m│\u001B[35m         \u001B[0m│\u001B[32m         \u001B[0m│\u001B[31m         \u001B[0m│\u001B[34m        \u001B[0m│\u001B[36m         \u001B[0m│\u001B[35m        \u001B[0m│\u001B[32m         \u001B[0m│\u001B[31m \u001B[0m\u001B[31mthe   \u001B[0m\u001B[31m \u001B[0m│\n",
       "│\u001B[32m         \u001B[0m│\u001B[31m         \u001B[0m│\u001B[34m         \u001B[0m│\u001B[36m      \u001B[0m│\u001B[35m         \u001B[0m│\u001B[32m         \u001B[0m│\u001B[31m         \u001B[0m│\u001B[34m        \u001B[0m│\u001B[36m         \u001B[0m│\u001B[35m        \u001B[0m│\u001B[32m         \u001B[0m│\u001B[31m \u001B[0m\u001B[31mvalid…\u001B[0m\u001B[31m \u001B[0m│\n",
       "│\u001B[32m         \u001B[0m│\u001B[31m         \u001B[0m│\u001B[34m         \u001B[0m│\u001B[36m      \u001B[0m│\u001B[35m         \u001B[0m│\u001B[32m         \u001B[0m│\u001B[31m         \u001B[0m│\u001B[34m        \u001B[0m│\u001B[36m         \u001B[0m│\u001B[35m        \u001B[0m│\u001B[32m         \u001B[0m│\u001B[31m \u001B[0m\u001B[31mimpro…\u001B[0m\u001B[31m \u001B[0m│\n",
       "└─────────┴─────────┴─────────┴──────┴─────────┴─────────┴─────────┴────────┴─────────┴────────┴─────────┴────────┘\n"
      ]
     },
     "metadata": {},
     "output_type": "display_data"
    },
    {
     "name": "stdout",
     "output_type": "stream",
     "text": [
      "model EF(\n",
      "    # attributes\n",
      "    features = 32\n",
      "    max_degree = 3\n",
      "    num_iterations = 2\n",
      "    num_basis_functions = 16\n",
      "    cutoff = 6.0\n",
      "    max_atomic_number = 118\n",
      "    charges = False\n",
      "    natoms = 96\n",
      "    total_charge = 0\n",
      "    n_res = 3\n",
      "    zbl = False\n",
      "    debug = False\n",
      ")\n",
      "Traced<ShapedArray(int32[960], weak_type=True)>with<DynamicJaxprTrace(level=1/0)>\n",
      "/pchem-data/meuwly/boittier/home/pycharmm_test/ckpts/test-c7b5eba7-c942-423c-8e06-bd1312ad087b/epoch-3\n",
      "best!\n",
      "/pchem-data/meuwly/boittier/home/pycharmm_test/ckpts/test-c7b5eba7-c942-423c-8e06-bd1312ad087b/epoch-4\n",
      "best!\n",
      "/pchem-data/meuwly/boittier/home/pycharmm_test/ckpts/test-c7b5eba7-c942-423c-8e06-bd1312ad087b/epoch-5\n",
      "best!\n",
      "/pchem-data/meuwly/boittier/home/pycharmm_test/ckpts/test-c7b5eba7-c942-423c-8e06-bd1312ad087b/epoch-6\n",
      "best!\n",
      "/pchem-data/meuwly/boittier/home/pycharmm_test/ckpts/test-c7b5eba7-c942-423c-8e06-bd1312ad087b/epoch-7\n",
      "best!\n"
     ]
    }
   ],
   "source": [
    "DEFAULT_DATA_KEYS = [\"Z\", \"R\", \"D\", \"E\", \"F\", \"N\"]\n",
    "\n",
    "model = EF(natoms=NATOMS, charges=False, zbl=False)\n",
    "\n",
    "params = train_model(\n",
    "    train_key,\n",
    "    model,\n",
    "    output1,\n",
    "    output2,\n",
    "    num_epochs=int(1e6),\n",
    "    learning_rate=0.001,\n",
    "    energy_weight=NATOMS,\n",
    "    #charges_weight=1,\n",
    "    #forces_weight=100,\n",
    "    schedule_fn=\"constant\",\n",
    "    optimizer=\"amsgrad\",\n",
    "    batch_size=10,\n",
    "    num_atoms=NATOMS,\n",
    "    data_keys=DEFAULT_DATA_KEYS,\n",
    "   # restart=\"/pchem-data/meuwly/boittier/home/pycharmm_test/ckpts/test-ecdfaea0-2902-403e-8f44-27aba18a1c44/\",\n",
    "    print_freq=1,\n",
    "    objective=\"valid_loss\",\n",
    "    best=1e6,\n",
    "    )"
   ]
  },
  {
   "cell_type": "code",
   "execution_count": null,
   "id": "ad0c88ea-44c7-47e4-9b16-0da9534d77e7",
   "metadata": {},
   "outputs": [],
   "source": [
    "files = [\"/pchem-data/meuwly/boittier/home/cf3criegee_27887.npz\"]\n",
    "train_data, valid_data = prepare_datasets(data_key, 25877, 2000,\n",
    "                                          files, \n",
    "                                          clip_esp=False, natoms=8, clean=False)"
   ]
  },
  {
   "cell_type": "code",
   "execution_count": 383,
   "id": "c751e96e-d9b2-4e78-a393-8c08e2edf6af",
   "metadata": {},
   "outputs": [
    {
     "data": {
      "text/plain": [
       "((25877, 8, 3), (10, 100, 3))"
      ]
     },
     "execution_count": 383,
     "metadata": {},
     "output_type": "execute_result"
    }
   ],
   "source": [
    "train_data[\"R\"].shape, output[\"R\"].shape"
   ]
  },
  {
   "cell_type": "code",
   "execution_count": 384,
   "id": "9d356ac3-ba70-462c-8360-f7ccddbffb10",
   "metadata": {},
   "outputs": [
    {
     "data": {
      "text/plain": [
       "((25877, 8), (10, 100))"
      ]
     },
     "execution_count": 384,
     "metadata": {},
     "output_type": "execute_result"
    }
   ],
   "source": [
    "train_data[\"Z\"].shape, output[\"Z\"].shape"
   ]
  },
  {
   "cell_type": "code",
   "execution_count": 413,
   "id": "f7b99c34-fc9e-444f-a7d8-21a111f01766",
   "metadata": {},
   "outputs": [
    {
     "data": {
      "text/plain": [
       "((25877, 1), (10, 1))"
      ]
     },
     "execution_count": 413,
     "metadata": {},
     "output_type": "execute_result"
    }
   ],
   "source": [
    "train_data[\"N\"].shape, output[\"N\"].shape"
   ]
  },
  {
   "cell_type": "code",
   "execution_count": 390,
   "id": "16313a9e-84bc-4f8e-857e-ff81b7fa6e5a",
   "metadata": {},
   "outputs": [
    {
     "data": {
      "text/plain": [
       "dict_keys(['R', 'Z', 'F', 'E', 'N', 'D', 'Q'])"
      ]
     },
     "execution_count": 390,
     "metadata": {},
     "output_type": "execute_result"
    }
   ],
   "source": [
    "train_data.keys()"
   ]
  },
  {
   "cell_type": "code",
   "execution_count": 412,
   "id": "87da282b-fad8-42a6-aaed-142b61c58270",
   "metadata": {},
   "outputs": [
    {
     "name": "stdout",
     "output_type": "stream",
     "text": [
      "Training Routine\n",
      "Optimizer:\n",
      "  init: <function chain.<locals>.init_fn at 0x14c1b18432e0> init_fn\n",
      "  update: <function chain.<locals>.update_fn at 0x14c1b18431a0> update_fn\n",
      "Transform:\n",
      "  init: <function reduce_on_plateau.<locals>.init_fn at 0x14c1b1843240> init_fn\n",
      "  update: <function reduce_on_plateau.<locals>.update_fn at 0x14c1b1843880> update_fn\n",
      "Schedule_fn: <function constant_schedule.<locals>.<lambda> at 0x14c1b1841300> <lambda>\n",
      "learning_rate: 0.001\n",
      "energy_weight: 200\n",
      "forces_weight: 52.91772105638412\n",
      "dipole_weight: 27.211386024367243\n",
      "charges_weight: 14.399645351950548\n",
      "batch_size: 1\n",
      "num_atoms: 8\n",
      "restart: False\n",
      "conversion: {'energy': 23.060548012069496, 'forces': 23.060548012069496}\n",
      "print_freq: 1\n",
      "name: test\n",
      "best: 1000000.0\n",
      "objective: valid_loss\n",
      "data_keys: ['Z', 'R', 'D', 'E', 'F', 'N']\n",
      "ckpt_dir: /pchem-data/meuwly/boittier/home/pycharmm_test/ckpts\n",
      "Train data keys: dict_keys(['R', 'Z', 'F', 'E', 'N', 'D', 'Q'])\n",
      "Valid data keys: dict_keys(['R', 'Z', 'F', 'E', 'N', 'D', 'Q'])\n",
      "Objective: valid_loss\n",
      "Saving a restart file each time the valid_loss improves.\n",
      "model EF(\n",
      "    # attributes\n",
      "    features = 32\n",
      "    max_degree = 3\n",
      "    num_iterations = 2\n",
      "    num_basis_functions = 16\n",
      "    cutoff = 6.0\n",
      "    max_atomic_number = 118\n",
      "    charges = False\n",
      "    natoms = 100\n",
      "    total_charge = 0\n",
      "    n_res = 3\n",
      "    zbl = True\n",
      "    debug = False\n",
      ")\n"
     ]
    },
    {
     "ename": "TypeError",
     "evalue": "'NoneType' object is not subscriptable",
     "output_type": "error",
     "traceback": [
      "\u001B[0;31m---------------------------------------------------------------------------\u001B[0m",
      "\u001B[0;31mTypeError\u001B[0m                                 Traceback (most recent call last)",
      "Cell \u001B[0;32mIn[412], line 3\u001B[0m\n\u001B[1;32m      1\u001B[0m DEFAULT_DATA_KEYS \u001B[38;5;241m=\u001B[39m [\u001B[38;5;124m\"\u001B[39m\u001B[38;5;124mZ\u001B[39m\u001B[38;5;124m\"\u001B[39m, \u001B[38;5;124m\"\u001B[39m\u001B[38;5;124mR\u001B[39m\u001B[38;5;124m\"\u001B[39m, \u001B[38;5;124m\"\u001B[39m\u001B[38;5;124mD\u001B[39m\u001B[38;5;124m\"\u001B[39m, \u001B[38;5;124m\"\u001B[39m\u001B[38;5;124mE\u001B[39m\u001B[38;5;124m\"\u001B[39m, \u001B[38;5;124m\"\u001B[39m\u001B[38;5;124mF\u001B[39m\u001B[38;5;124m\"\u001B[39m, \u001B[38;5;124m\"\u001B[39m\u001B[38;5;124mN\u001B[39m\u001B[38;5;124m\"\u001B[39m]\n\u001B[0;32m----> 3\u001B[0m params \u001B[38;5;241m=\u001B[39m \u001B[43mtrain_model\u001B[49m\u001B[43m(\u001B[49m\n\u001B[1;32m      4\u001B[0m \u001B[43m    \u001B[49m\u001B[43mtrain_key\u001B[49m\u001B[43m,\u001B[49m\n\u001B[1;32m      5\u001B[0m \u001B[43m    \u001B[49m\u001B[43mmodel\u001B[49m\u001B[43m,\u001B[49m\n\u001B[1;32m      6\u001B[0m \u001B[43m    \u001B[49m\u001B[43mtrain_data\u001B[49m\u001B[43m,\u001B[49m\n\u001B[1;32m      7\u001B[0m \u001B[43m    \u001B[49m\u001B[43mtrain_data\u001B[49m\u001B[43m,\u001B[49m\n\u001B[1;32m      8\u001B[0m \u001B[43m    \u001B[49m\u001B[43mnum_epochs\u001B[49m\u001B[38;5;241;43m=\u001B[39;49m\u001B[38;5;28;43mint\u001B[39;49m\u001B[43m(\u001B[49m\u001B[38;5;241;43m1e6\u001B[39;49m\u001B[43m)\u001B[49m\u001B[43m,\u001B[49m\n\u001B[1;32m      9\u001B[0m \u001B[43m    \u001B[49m\u001B[43mlearning_rate\u001B[49m\u001B[38;5;241;43m=\u001B[39;49m\u001B[38;5;241;43m0.001\u001B[39;49m\u001B[43m,\u001B[49m\n\u001B[1;32m     10\u001B[0m \u001B[43m    \u001B[49m\u001B[43menergy_weight\u001B[49m\u001B[38;5;241;43m=\u001B[39;49m\u001B[43mNATOMS\u001B[49m\u001B[43m,\u001B[49m\n\u001B[1;32m     11\u001B[0m \u001B[43m    \u001B[49m\u001B[38;5;66;43;03m#charges_weight=1,\u001B[39;49;00m\n\u001B[1;32m     12\u001B[0m \u001B[43m    \u001B[49m\u001B[38;5;66;43;03m#forces_weight=100,\u001B[39;49;00m\n\u001B[1;32m     13\u001B[0m \u001B[43m    \u001B[49m\u001B[43mschedule_fn\u001B[49m\u001B[38;5;241;43m=\u001B[39;49m\u001B[38;5;124;43m\"\u001B[39;49m\u001B[38;5;124;43mconstant\u001B[39;49m\u001B[38;5;124;43m\"\u001B[39;49m\u001B[43m,\u001B[49m\n\u001B[1;32m     14\u001B[0m \u001B[43m    \u001B[49m\u001B[43moptimizer\u001B[49m\u001B[38;5;241;43m=\u001B[39;49m\u001B[38;5;124;43m\"\u001B[39;49m\u001B[38;5;124;43mamsgrad\u001B[39;49m\u001B[38;5;124;43m\"\u001B[39;49m\u001B[43m,\u001B[49m\n\u001B[1;32m     15\u001B[0m \u001B[43m    \u001B[49m\u001B[43mbatch_size\u001B[49m\u001B[38;5;241;43m=\u001B[39;49m\u001B[38;5;241;43m1\u001B[39;49m\u001B[43m,\u001B[49m\n\u001B[1;32m     16\u001B[0m \u001B[43m    \u001B[49m\u001B[43mnum_atoms\u001B[49m\u001B[38;5;241;43m=\u001B[39;49m\u001B[38;5;241;43m8\u001B[39;49m\u001B[43m,\u001B[49m\n\u001B[1;32m     17\u001B[0m \u001B[43m    \u001B[49m\u001B[43mdata_keys\u001B[49m\u001B[38;5;241;43m=\u001B[39;49m\u001B[43mDEFAULT_DATA_KEYS\u001B[49m\u001B[43m,\u001B[49m\n\u001B[1;32m     18\u001B[0m \u001B[38;5;66;43;03m#    restart=restart,\u001B[39;49;00m\n\u001B[1;32m     19\u001B[0m \u001B[43m    \u001B[49m\u001B[43mprint_freq\u001B[49m\u001B[38;5;241;43m=\u001B[39;49m\u001B[38;5;241;43m1\u001B[39;49m\u001B[43m,\u001B[49m\n\u001B[1;32m     20\u001B[0m \u001B[43m    \u001B[49m\u001B[43mobjective\u001B[49m\u001B[38;5;241;43m=\u001B[39;49m\u001B[38;5;124;43m\"\u001B[39;49m\u001B[38;5;124;43mvalid_loss\u001B[39;49m\u001B[38;5;124;43m\"\u001B[39;49m\u001B[43m,\u001B[49m\n\u001B[1;32m     21\u001B[0m \u001B[43m    \u001B[49m\u001B[43mbest\u001B[49m\u001B[38;5;241;43m=\u001B[39;49m\u001B[38;5;241;43m1e6\u001B[39;49m\u001B[43m,\u001B[49m\n\u001B[1;32m     22\u001B[0m \u001B[43m    \u001B[49m\u001B[43m)\u001B[49m\n",
      "File \u001B[0;32m~/pycharmm_test/physnetjax/training.py:217\u001B[0m, in \u001B[0;36mtrain_model\u001B[0;34m(key, model, train_data, valid_data, num_epochs, learning_rate, energy_weight, forces_weight, dipole_weight, charges_weight, batch_size, num_atoms, restart, conversion, print_freq, name, best, optimizer, transform, schedule_fn, objective, ckpt_dir, data_keys)\u001B[0m\n\u001B[1;32m    206\u001B[0m train_dipoles_mae \u001B[38;5;241m=\u001B[39m \u001B[38;5;241m0.0\u001B[39m\n\u001B[1;32m    207\u001B[0m \u001B[38;5;28;01mfor\u001B[39;00m i, batch \u001B[38;5;129;01min\u001B[39;00m \u001B[38;5;28menumerate\u001B[39m(train_batches):\n\u001B[1;32m    208\u001B[0m     (\n\u001B[1;32m    209\u001B[0m         params,\n\u001B[1;32m    210\u001B[0m         ema_params,\n\u001B[1;32m    211\u001B[0m         opt_state,\n\u001B[1;32m    212\u001B[0m         transform_state,\n\u001B[1;32m    213\u001B[0m         loss,\n\u001B[1;32m    214\u001B[0m         energy_mae,\n\u001B[1;32m    215\u001B[0m         forces_mae,\n\u001B[1;32m    216\u001B[0m         dipole_mae,\n\u001B[0;32m--> 217\u001B[0m     ) \u001B[38;5;241m=\u001B[39m \u001B[43mtrain_step\u001B[49m\u001B[43m(\u001B[49m\n\u001B[1;32m    218\u001B[0m \u001B[43m        \u001B[49m\u001B[43mmodel_apply\u001B[49m\u001B[38;5;241;43m=\u001B[39;49m\u001B[43mmodel\u001B[49m\u001B[38;5;241;43m.\u001B[39;49m\u001B[43mapply\u001B[49m\u001B[43m,\u001B[49m\n\u001B[1;32m    219\u001B[0m \u001B[43m        \u001B[49m\u001B[43moptimizer_update\u001B[49m\u001B[38;5;241;43m=\u001B[39;49m\u001B[43moptimizer\u001B[49m\u001B[38;5;241;43m.\u001B[39;49m\u001B[43mupdate\u001B[49m\u001B[43m,\u001B[49m\n\u001B[1;32m    220\u001B[0m \u001B[43m        \u001B[49m\u001B[43mtransform_state\u001B[49m\u001B[38;5;241;43m=\u001B[39;49m\u001B[43mtransform_state\u001B[49m\u001B[43m,\u001B[49m\n\u001B[1;32m    221\u001B[0m \u001B[43m        \u001B[49m\u001B[43mbatch\u001B[49m\u001B[38;5;241;43m=\u001B[39;49m\u001B[43mbatch\u001B[49m\u001B[43m,\u001B[49m\n\u001B[1;32m    222\u001B[0m \u001B[43m        \u001B[49m\u001B[43mbatch_size\u001B[49m\u001B[38;5;241;43m=\u001B[39;49m\u001B[43mbatch_size\u001B[49m\u001B[43m,\u001B[49m\n\u001B[1;32m    223\u001B[0m \u001B[43m        \u001B[49m\u001B[43menergy_weight\u001B[49m\u001B[38;5;241;43m=\u001B[39;49m\u001B[43menergy_weight\u001B[49m\u001B[43m,\u001B[49m\n\u001B[1;32m    224\u001B[0m \u001B[43m        \u001B[49m\u001B[43mforces_weight\u001B[49m\u001B[38;5;241;43m=\u001B[39;49m\u001B[43mforces_weight\u001B[49m\u001B[43m,\u001B[49m\n\u001B[1;32m    225\u001B[0m \u001B[43m        \u001B[49m\u001B[43mdipole_weight\u001B[49m\u001B[38;5;241;43m=\u001B[39;49m\u001B[43mdipole_weight\u001B[49m\u001B[43m,\u001B[49m\n\u001B[1;32m    226\u001B[0m \u001B[43m        \u001B[49m\u001B[43mcharges_weight\u001B[49m\u001B[38;5;241;43m=\u001B[39;49m\u001B[43mcharges_weight\u001B[49m\u001B[43m,\u001B[49m\n\u001B[1;32m    227\u001B[0m \u001B[43m        \u001B[49m\u001B[43mopt_state\u001B[49m\u001B[38;5;241;43m=\u001B[39;49m\u001B[43mopt_state\u001B[49m\u001B[43m,\u001B[49m\n\u001B[1;32m    228\u001B[0m \u001B[43m        \u001B[49m\u001B[43mdoCharges\u001B[49m\u001B[38;5;241;43m=\u001B[39;49m\u001B[43mdoCharges\u001B[49m\u001B[43m,\u001B[49m\n\u001B[1;32m    229\u001B[0m \u001B[43m        \u001B[49m\u001B[43mparams\u001B[49m\u001B[38;5;241;43m=\u001B[39;49m\u001B[43mparams\u001B[49m\u001B[43m,\u001B[49m\n\u001B[1;32m    230\u001B[0m \u001B[43m        \u001B[49m\u001B[43mema_params\u001B[49m\u001B[38;5;241;43m=\u001B[39;49m\u001B[43mema_params\u001B[49m\u001B[43m,\u001B[49m\n\u001B[1;32m    231\u001B[0m \u001B[43m        \u001B[49m\u001B[43mdebug\u001B[49m\u001B[38;5;241;43m=\u001B[39;49m\u001B[43mrunInDebug\u001B[49m\u001B[43m,\u001B[49m\n\u001B[1;32m    232\u001B[0m \u001B[43m    \u001B[49m\u001B[43m)\u001B[49m\n\u001B[1;32m    233\u001B[0m     train_loss \u001B[38;5;241m+\u001B[39m\u001B[38;5;241m=\u001B[39m (loss \u001B[38;5;241m-\u001B[39m train_loss) \u001B[38;5;241m/\u001B[39m (i \u001B[38;5;241m+\u001B[39m \u001B[38;5;241m1\u001B[39m)\n\u001B[1;32m    234\u001B[0m     train_energy_mae \u001B[38;5;241m+\u001B[39m\u001B[38;5;241m=\u001B[39m (energy_mae \u001B[38;5;241m-\u001B[39m train_energy_mae) \u001B[38;5;241m/\u001B[39m (i \u001B[38;5;241m+\u001B[39m \u001B[38;5;241m1\u001B[39m)\n",
      "    \u001B[0;31m[... skipping hidden 11 frame]\u001B[0m\n",
      "File \u001B[0;32m~/pycharmm_test/physnetjax/trainstep.py:137\u001B[0m, in \u001B[0;36mtrain_step\u001B[0;34m(model_apply, optimizer_update, transform_state, batch, batch_size, doCharges, energy_weight, forces_weight, dipole_weight, charges_weight, opt_state, params, ema_params, debug)\u001B[0m\n\u001B[1;32m    133\u001B[0m     (loss, (energy, forces, charges, dipole)), grad \u001B[38;5;241m=\u001B[39m jax\u001B[38;5;241m.\u001B[39mvalue_and_grad(\n\u001B[1;32m    134\u001B[0m         loss_fn, has_aux\u001B[38;5;241m=\u001B[39m\u001B[38;5;28;01mTrue\u001B[39;00m\n\u001B[1;32m    135\u001B[0m     )(params)\n\u001B[1;32m    136\u001B[0m \u001B[38;5;28;01melse\u001B[39;00m:\n\u001B[0;32m--> 137\u001B[0m     (loss, (energy, forces)), grad \u001B[38;5;241m=\u001B[39m \u001B[43mjax\u001B[49m\u001B[38;5;241;43m.\u001B[39;49m\u001B[43mvalue_and_grad\u001B[49m\u001B[43m(\u001B[49m\u001B[43mloss_fn\u001B[49m\u001B[43m,\u001B[49m\u001B[43m \u001B[49m\u001B[43mhas_aux\u001B[49m\u001B[38;5;241;43m=\u001B[39;49m\u001B[38;5;28;43;01mTrue\u001B[39;49;00m\u001B[43m)\u001B[49m\u001B[43m(\u001B[49m\n\u001B[1;32m    138\u001B[0m \u001B[43m        \u001B[49m\u001B[43mparams\u001B[49m\n\u001B[1;32m    139\u001B[0m \u001B[43m    \u001B[49m\u001B[43m)\u001B[49m\n\u001B[1;32m    141\u001B[0m updates, opt_state \u001B[38;5;241m=\u001B[39m optimizer_update(grad, opt_state, params)\n\u001B[1;32m    142\u001B[0m \u001B[38;5;66;03m# update the reduce on plateau\u001B[39;00m\n",
      "    \u001B[0;31m[... skipping hidden 8 frame]\u001B[0m\n",
      "File \u001B[0;32m~/pycharmm_test/physnetjax/trainstep.py:113\u001B[0m, in \u001B[0;36mtrain_step.<locals>.loss_fn\u001B[0;34m(params)\u001B[0m\n\u001B[1;32m    112\u001B[0m \u001B[38;5;28;01mdef\u001B[39;00m \u001B[38;5;21mloss_fn\u001B[39m(params):\n\u001B[0;32m--> 113\u001B[0m     output \u001B[38;5;241m=\u001B[39m \u001B[43mmodel_apply\u001B[49m\u001B[43m(\u001B[49m\n\u001B[1;32m    114\u001B[0m \u001B[43m        \u001B[49m\u001B[43mparams\u001B[49m\u001B[43m,\u001B[49m\n\u001B[1;32m    115\u001B[0m \u001B[43m        \u001B[49m\u001B[43matomic_numbers\u001B[49m\u001B[38;5;241;43m=\u001B[39;49m\u001B[43mbatch\u001B[49m\u001B[43m[\u001B[49m\u001B[38;5;124;43m\"\u001B[39;49m\u001B[38;5;124;43mZ\u001B[39;49m\u001B[38;5;124;43m\"\u001B[39;49m\u001B[43m]\u001B[49m\u001B[43m,\u001B[49m\n\u001B[1;32m    116\u001B[0m \u001B[43m        \u001B[49m\u001B[43mpositions\u001B[49m\u001B[38;5;241;43m=\u001B[39;49m\u001B[43mbatch\u001B[49m\u001B[43m[\u001B[49m\u001B[38;5;124;43m\"\u001B[39;49m\u001B[38;5;124;43mR\u001B[39;49m\u001B[38;5;124;43m\"\u001B[39;49m\u001B[43m]\u001B[49m\u001B[43m,\u001B[49m\n\u001B[1;32m    117\u001B[0m \u001B[43m        \u001B[49m\u001B[43mdst_idx\u001B[49m\u001B[38;5;241;43m=\u001B[39;49m\u001B[43mbatch\u001B[49m\u001B[43m[\u001B[49m\u001B[38;5;124;43m\"\u001B[39;49m\u001B[38;5;124;43mdst_idx\u001B[39;49m\u001B[38;5;124;43m\"\u001B[39;49m\u001B[43m]\u001B[49m\u001B[43m,\u001B[49m\n\u001B[1;32m    118\u001B[0m \u001B[43m        \u001B[49m\u001B[43msrc_idx\u001B[49m\u001B[38;5;241;43m=\u001B[39;49m\u001B[43mbatch\u001B[49m\u001B[43m[\u001B[49m\u001B[38;5;124;43m\"\u001B[39;49m\u001B[38;5;124;43msrc_idx\u001B[39;49m\u001B[38;5;124;43m\"\u001B[39;49m\u001B[43m]\u001B[49m\u001B[43m,\u001B[49m\n\u001B[1;32m    119\u001B[0m \u001B[43m        \u001B[49m\u001B[43mbatch_segments\u001B[49m\u001B[38;5;241;43m=\u001B[39;49m\u001B[43mbatch\u001B[49m\u001B[43m[\u001B[49m\u001B[38;5;124;43m\"\u001B[39;49m\u001B[38;5;124;43mbatch_segments\u001B[39;49m\u001B[38;5;124;43m\"\u001B[39;49m\u001B[43m]\u001B[49m\u001B[43m,\u001B[49m\n\u001B[1;32m    120\u001B[0m \u001B[43m        \u001B[49m\u001B[43mbatch_size\u001B[49m\u001B[38;5;241;43m=\u001B[39;49m\u001B[43mbatch_size\u001B[49m\u001B[43m,\u001B[49m\n\u001B[1;32m    121\u001B[0m \u001B[43m        \u001B[49m\u001B[43mbatch_mask\u001B[49m\u001B[38;5;241;43m=\u001B[39;49m\u001B[43mbatch\u001B[49m\u001B[43m[\u001B[49m\u001B[38;5;124;43m\"\u001B[39;49m\u001B[38;5;124;43mbatch_mask\u001B[39;49m\u001B[38;5;124;43m\"\u001B[39;49m\u001B[43m]\u001B[49m\u001B[43m,\u001B[49m\n\u001B[1;32m    122\u001B[0m \u001B[43m    \u001B[49m\u001B[43m)\u001B[49m\n\u001B[1;32m    123\u001B[0m     loss \u001B[38;5;241m=\u001B[39m mean_squared_loss(\n\u001B[1;32m    124\u001B[0m         energy_prediction\u001B[38;5;241m=\u001B[39moutput[\u001B[38;5;124m\"\u001B[39m\u001B[38;5;124menergy\u001B[39m\u001B[38;5;124m\"\u001B[39m],\n\u001B[1;32m    125\u001B[0m         energy_target\u001B[38;5;241m=\u001B[39mbatch[\u001B[38;5;124m\"\u001B[39m\u001B[38;5;124mE\u001B[39m\u001B[38;5;124m\"\u001B[39m],\n\u001B[0;32m   (...)\u001B[0m\n\u001B[1;32m    128\u001B[0m         forces_weight\u001B[38;5;241m=\u001B[39mforces_weight,\n\u001B[1;32m    129\u001B[0m     )\n\u001B[1;32m    130\u001B[0m     \u001B[38;5;28;01mreturn\u001B[39;00m loss, (energy, forces)\n",
      "    \u001B[0;31m[... skipping hidden 6 frame]\u001B[0m\n",
      "File \u001B[0;32m~/pycharmm_test/physnetjax/model.py:460\u001B[0m, in \u001B[0;36mEF.__call__\u001B[0;34m(self, atomic_numbers, positions, dst_idx, src_idx, batch_segments, batch_size, batch_mask, atom_mask)\u001B[0m\n\u001B[1;32m    457\u001B[0m     jax\u001B[38;5;241m.\u001B[39mdebug\u001B[38;5;241m.\u001B[39mprint(\u001B[38;5;124m\"\u001B[39m\u001B[38;5;124matom_mask \u001B[39m\u001B[38;5;132;01m{x}\u001B[39;00m\u001B[38;5;124m\"\u001B[39m, x\u001B[38;5;241m=\u001B[39matom_mask\u001B[38;5;241m.\u001B[39mshape)\n\u001B[1;32m    459\u001B[0m \u001B[38;5;66;03m# Calculate energies and forces\u001B[39;00m\n\u001B[0;32m--> 460\u001B[0m (_, (energy, charges, electrostatics)), forces \u001B[38;5;241m=\u001B[39m \u001B[43menergy_and_forces\u001B[49m\u001B[43m(\u001B[49m\n\u001B[1;32m    461\u001B[0m \u001B[43m    \u001B[49m\u001B[43matomic_numbers\u001B[49m\u001B[43m,\u001B[49m\n\u001B[1;32m    462\u001B[0m \u001B[43m    \u001B[49m\u001B[43mpositions\u001B[49m\u001B[43m,\u001B[49m\n\u001B[1;32m    463\u001B[0m \u001B[43m    \u001B[49m\u001B[43mdst_idx\u001B[49m\u001B[43m,\u001B[49m\n\u001B[1;32m    464\u001B[0m \u001B[43m    \u001B[49m\u001B[43msrc_idx\u001B[49m\u001B[43m,\u001B[49m\n\u001B[1;32m    465\u001B[0m \u001B[43m    \u001B[49m\u001B[43mbatch_segments\u001B[49m\u001B[43m,\u001B[49m\n\u001B[1;32m    466\u001B[0m \u001B[43m    \u001B[49m\u001B[43mbatch_size\u001B[49m\u001B[43m,\u001B[49m\n\u001B[1;32m    467\u001B[0m \u001B[43m    \u001B[49m\u001B[43mbatch_mask\u001B[49m\u001B[43m,\u001B[49m\n\u001B[1;32m    468\u001B[0m \u001B[43m    \u001B[49m\u001B[43matom_mask\u001B[49m\u001B[43m,\u001B[49m\n\u001B[1;32m    469\u001B[0m \u001B[43m\u001B[49m\u001B[43m)\u001B[49m\n\u001B[1;32m    471\u001B[0m \u001B[38;5;66;03m# Apply atom mask to forces\u001B[39;00m\n\u001B[1;32m    472\u001B[0m forces \u001B[38;5;241m=\u001B[39m forces \u001B[38;5;241m*\u001B[39m atom_mask[\u001B[38;5;241m.\u001B[39m\u001B[38;5;241m.\u001B[39m\u001B[38;5;241m.\u001B[39m, \u001B[38;5;28;01mNone\u001B[39;00m]\n",
      "    \u001B[0;31m[... skipping hidden 10 frame]\u001B[0m\n",
      "File \u001B[0;32m~/pycharmm_test/physnetjax/model.py:106\u001B[0m, in \u001B[0;36mEF.energy\u001B[0;34m(self, atomic_numbers, positions, dst_idx, src_idx, batch_segments, batch_size, batch_mask, atom_mask)\u001B[0m\n\u001B[1;32m     93\u001B[0m \u001B[38;5;28;01mif\u001B[39;00m \u001B[38;5;28mself\u001B[39m\u001B[38;5;241m.\u001B[39mcharges:\n\u001B[1;32m     94\u001B[0m     \u001B[38;5;28;01mreturn\u001B[39;00m \u001B[38;5;28mself\u001B[39m\u001B[38;5;241m.\u001B[39m_calculate_with_charges(\n\u001B[1;32m     95\u001B[0m         x,\n\u001B[1;32m     96\u001B[0m         atomic_numbers,\n\u001B[0;32m   (...)\u001B[0m\n\u001B[1;32m    103\u001B[0m         batch_size,\n\u001B[1;32m    104\u001B[0m     )\n\u001B[0;32m--> 106\u001B[0m \u001B[38;5;28;01mreturn\u001B[39;00m \u001B[38;5;28;43mself\u001B[39;49m\u001B[38;5;241;43m.\u001B[39;49m\u001B[43m_calculate_without_charges\u001B[49m\u001B[43m(\u001B[49m\n\u001B[1;32m    107\u001B[0m \u001B[43m    \u001B[49m\u001B[43mx\u001B[49m\u001B[43m,\u001B[49m\u001B[43m \u001B[49m\u001B[43matomic_numbers\u001B[49m\u001B[43m,\u001B[49m\u001B[43m \u001B[49m\u001B[43mbatch_segments\u001B[49m\u001B[43m,\u001B[49m\u001B[43m \u001B[49m\u001B[43mbatch_size\u001B[49m\u001B[43m,\u001B[49m\u001B[43m \u001B[49m\u001B[43matom_mask\u001B[49m\n\u001B[1;32m    108\u001B[0m \u001B[43m\u001B[49m\u001B[43m)\u001B[49m\n",
      "    \u001B[0;31m[... skipping hidden 2 frame]\u001B[0m\n",
      "File \u001B[0;32m~/pycharmm_test/physnetjax/model.py:247\u001B[0m, in \u001B[0;36mEF._calculate_without_charges\u001B[0;34m(self, x, atomic_numbers, batch_segments, batch_size, atom_mask)\u001B[0m\n\u001B[1;32m    238\u001B[0m \u001B[38;5;28;01mdef\u001B[39;00m \u001B[38;5;21m_calculate_without_charges\u001B[39m(\n\u001B[1;32m    239\u001B[0m     \u001B[38;5;28mself\u001B[39m,\n\u001B[1;32m    240\u001B[0m     x: jnp\u001B[38;5;241m.\u001B[39mndarray,\n\u001B[0;32m   (...)\u001B[0m\n\u001B[1;32m    244\u001B[0m     atom_mask: jnp\u001B[38;5;241m.\u001B[39mndarray,\n\u001B[1;32m    245\u001B[0m ) \u001B[38;5;241m-\u001B[39m\u001B[38;5;241m>\u001B[39m Tuple[\u001B[38;5;28mfloat\u001B[39m, jnp\u001B[38;5;241m.\u001B[39mndarray]:\n\u001B[1;32m    246\u001B[0m \u001B[38;5;250m    \u001B[39m\u001B[38;5;124;03m\"\"\"Calculate energies without charge interactions.\"\"\"\u001B[39;00m\n\u001B[0;32m--> 247\u001B[0m     atomic_energies \u001B[38;5;241m=\u001B[39m \u001B[38;5;28;43mself\u001B[39;49m\u001B[38;5;241;43m.\u001B[39;49m\u001B[43m_calculate_atomic_energies\u001B[49m\u001B[43m(\u001B[49m\u001B[43mx\u001B[49m\u001B[43m,\u001B[49m\u001B[43m \u001B[49m\u001B[43matomic_numbers\u001B[49m\u001B[43m,\u001B[49m\u001B[43m \u001B[49m\u001B[43matom_mask\u001B[49m\u001B[43m)\u001B[49m\n\u001B[1;32m    248\u001B[0m     energy \u001B[38;5;241m=\u001B[39m jax\u001B[38;5;241m.\u001B[39mops\u001B[38;5;241m.\u001B[39msegment_sum(\n\u001B[1;32m    249\u001B[0m         atomic_energies,\n\u001B[1;32m    250\u001B[0m         segment_ids\u001B[38;5;241m=\u001B[39mbatch_segments,\n\u001B[1;32m    251\u001B[0m         num_segments\u001B[38;5;241m=\u001B[39mbatch_size,\n\u001B[1;32m    252\u001B[0m     )\n\u001B[1;32m    253\u001B[0m     \u001B[38;5;28;01mreturn\u001B[39;00m \u001B[38;5;241m-\u001B[39m\u001B[38;5;241m1.0\u001B[39m \u001B[38;5;241m*\u001B[39m jnp\u001B[38;5;241m.\u001B[39msum(energy), (energy, \u001B[38;5;28;01mNone\u001B[39;00m, \u001B[38;5;28;01mNone\u001B[39;00m)\n",
      "    \u001B[0;31m[... skipping hidden 2 frame]\u001B[0m\n",
      "File \u001B[0;32m~/pycharmm_test/physnetjax/model.py:319\u001B[0m, in \u001B[0;36mEF._calculate_atomic_energies\u001B[0;34m(self, x, atomic_numbers, atom_mask)\u001B[0m\n\u001B[1;32m    315\u001B[0m atomic_energies \u001B[38;5;241m=\u001B[39m nn\u001B[38;5;241m.\u001B[39mDense(\n\u001B[1;32m    316\u001B[0m     \u001B[38;5;241m1\u001B[39m, use_bias\u001B[38;5;241m=\u001B[39m\u001B[38;5;28;01mFalse\u001B[39;00m, kernel_init\u001B[38;5;241m=\u001B[39mjax\u001B[38;5;241m.\u001B[39mnn\u001B[38;5;241m.\u001B[39minitializers\u001B[38;5;241m.\u001B[39mzeros, dtype\u001B[38;5;241m=\u001B[39mDTYPE\n\u001B[1;32m    317\u001B[0m )(x)\n\u001B[1;32m    318\u001B[0m atomic_energies \u001B[38;5;241m+\u001B[39m\u001B[38;5;241m=\u001B[39m energy_bias[atomic_numbers][\u001B[38;5;241m.\u001B[39m\u001B[38;5;241m.\u001B[39m\u001B[38;5;241m.\u001B[39m, \u001B[38;5;28;01mNone\u001B[39;00m, \u001B[38;5;28;01mNone\u001B[39;00m, \u001B[38;5;28;01mNone\u001B[39;00m]\n\u001B[0;32m--> 319\u001B[0m atomic_energies \u001B[38;5;241m*\u001B[39m\u001B[38;5;241m=\u001B[39m \u001B[43matom_mask\u001B[49m\u001B[43m[\u001B[49m\u001B[38;5;241;43m.\u001B[39;49m\u001B[38;5;241;43m.\u001B[39;49m\u001B[38;5;241;43m.\u001B[39;49m\u001B[43m,\u001B[49m\u001B[43m \u001B[49m\u001B[38;5;28;43;01mNone\u001B[39;49;00m\u001B[43m,\u001B[49m\u001B[43m \u001B[49m\u001B[38;5;28;43;01mNone\u001B[39;49;00m\u001B[43m,\u001B[49m\u001B[43m \u001B[49m\u001B[38;5;28;43;01mNone\u001B[39;49;00m\u001B[43m]\u001B[49m\n\u001B[1;32m    321\u001B[0m \u001B[38;5;28;01mreturn\u001B[39;00m atomic_energies\n",
      "\u001B[0;31mTypeError\u001B[0m: 'NoneType' object is not subscriptable"
     ]
    }
   ],
   "source": [
    "DEFAULT_DATA_KEYS = [\"Z\", \"R\", \"D\", \"E\", \"F\", \"N\"]\n",
    "\n",
    "params = train_model(\n",
    "    train_key,\n",
    "    model,\n",
    "    train_data,\n",
    "    train_data,\n",
    "    num_epochs=int(1e6),\n",
    "    learning_rate=0.001,\n",
    "    energy_weight=NATOMS,\n",
    "    #charges_weight=1,\n",
    "    #forces_weight=100,\n",
    "    schedule_fn=\"constant\",\n",
    "    optimizer=\"amsgrad\",\n",
    "    batch_size=1,\n",
    "    num_atoms=8,\n",
    "    data_keys=DEFAULT_DATA_KEYS,\n",
    "#    restart=restart,\n",
    "    print_freq=1,\n",
    "    objective=\"valid_loss\",\n",
    "    best=1e6,\n",
    "    )"
   ]
  },
  {
   "cell_type": "code",
   "execution_count": null,
   "id": "a0599eb9-ad7d-4174-b776-a13c7bb90d82",
   "metadata": {},
   "outputs": [],
   "source": []
  }
 ],
 "metadata": {
  "kernelspec": {
   "display_name": "physnetjax",
   "language": "python",
   "name": "jaxphyscharmm"
  },
  "language_info": {
   "codemirror_mode": {
    "name": "ipython",
    "version": 3
   },
   "file_extension": ".py",
   "mimetype": "text/x-python",
   "name": "python",
   "nbconvert_exporter": "python",
   "pygments_lexer": "ipython3",
   "version": "3.12.7"
  }
 },
 "nbformat": 4,
 "nbformat_minor": 5
}
