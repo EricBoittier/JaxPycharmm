{
 "cells": [
  {
   "cell_type": "code",
   "execution_count": 2,
   "id": "426384c3-5d35-444a-8f0a-48a7ce94795a",
   "metadata": {},
   "source": [
    "%load_ext autoreload\n",
    "%autoreload 2\n",
    "import os\n",
    "# Set environment variables\n",
    "os.environ[\"XLA_PYTHON_CLIENT_MEM_FRACTION\"] = \".99\"\n",
    "os.environ[\"CUDA_VISIBLE_DEVICES\"] = \"1\"\n",
    "import jax\n",
    "# from jax import config\n",
    "# config.update('jax_enable_x64', True)\n",
    "# Check JAX configuration\n",
    "devices = jax.local_devices()\n",
    "print(devices)\n",
    "print(jax.default_backend())\n",
    "print(jax.devices())\n",
    "import sys\n",
    "# Add custom path\n",
    "sys.path.append(\"/pchem-data/meuwly/boittier/home/pycharmm_test/src\")\n",
    "# from model import EF\n",
    "# from loss import dipole_calc\n",
    "# from  training import train_model # from model import dipole_calc\n",
    "import jax\n",
    "import optax\n",
    "import e3x\n",
    "# from dcmnet.analysis import create_model_and_params\n",
    "# from data import prepare_batches, prepare_datasets\n",
    "import numpy as np\n",
    "from physnetjax.model import EF\n",
    "from physnetjax.loss import dipole_calc\n",
    "from  physnetjax.training import train_model # from model import dipole_calc\n",
    "from physnetjax.data import prepare_batches, prepare_datasets\n",
    "import orbax\n",
    "from orbax.checkpoint import PyTreeCheckpointer\n",
    "orbax_checkpointer = orbax.checkpoint.PyTreeCheckpointer()\n",
    "import jax\n",
    "import jax.numpy as jnp\n",
    "import flax.linen as nn\n",
    "import networkx as nx\n",
    "import matplotlib.pyplot as plt\n",
    "%load_ext autoreload\n",
    "%autoreload 2\n",
    "import os\n",
    "# Set environment variables\n",
    "os.environ[\"XLA_PYTHON_CLIENT_MEM_FRACTION\"] = \".99\"\n",
    "os.environ[\"CUDA_VISIBLE_DEVICES\"] = \"1\"\n",
    "import jax\n",
    "# from jax import config\n",
    "# config.update('jax_enable_x64', True)\n",
    "# Check JAX configuration\n",
    "devices = jax.local_devices()\n",
    "print(devices)\n",
    "print(jax.default_backend())\n",
    "print(jax.devices())\n",
    "import sys\n",
    "# Add custom path\n",
    "sys.path.append(\"/pchem-data/meuwly/boittier/home/pycharmm_test/src\")\n",
    "# from model import EF\n",
    "# from loss import dipole_calc\n",
    "# from  training import train_model # from model import dipole_calc\n",
    "import jax\n",
    "import optax\n",
    "import e3x\n",
    "# from dcmnet.analysis import create_model_and_params\n",
    "# from data import prepare_batches, prepare_datasets\n",
    "import numpy as np\n",
    "from physnetjax.model import EF\n",
    "from physnetjax.loss import dipole_calc\n",
    "from  physnetjax.training import train_model # from model import dipole_calc\n",
    "from physnetjax.data import prepare_batches, prepare_datasets\n",
    "import orbax\n",
    "from orbax.checkpoint import PyTreeCheckpointer\n",
    "orbax_checkpointer = orbax.checkpoint.PyTreeCheckpointer()\n",
    "# from physnetjax.analysis import *\n",
    "import polars as pl\n",
    "from tensorboard.backend.event_processing.event_accumulator import EventAccumulator\n",
    "from tensorflow.python.summary.summary_iterator import summary_iterator"
   ],
   "outputs": []
  },
  {
   "cell_type": "code",
   "execution_count": 3,
   "id": "4de7a898-fcf2-4166-9e54-6c9f033bbe06",
   "metadata": {},
   "source": [
    "from openqdc.datasets import Spice\n",
    "from physnetjax.savepad import * \n",
    "\n",
    "ds = Spice(\n",
    "    energy_unit=\"ev\",\n",
    "    distance_unit=\"ang\",\n",
    "    array_format = \"jax\"\n",
    ")\n",
    "ds.read_preprocess()\n",
    "datadicts = [dict(ds[_]) for _ in ds.subsample(10)]\n",
    "output = process_in_memory(datadicts, max_atoms=200)"
   ],
   "outputs": []
  },
  {
   "cell_type": "code",
   "execution_count": 5,
   "id": "94c7acc5-6f38-450b-8a2a-e2439ef2c754",
   "metadata": {},
   "source": [],
   "outputs": []
  },
  {
   "cell_type": "code",
   "execution_count": 12,
   "id": "c6ce46cb-ad63-4227-82d8-d203b213e3f6",
   "metadata": {
    "scrolled": true
   },
   "source": [],
   "outputs": []
  },
  {
   "cell_type": "code",
   "execution_count": 14,
   "id": "495fc174-4981-4a84-8fa3-5386274d1d66",
   "metadata": {},
   "source": [
    "from physnetjax.data import prepare_batches"
   ],
   "outputs": []
  },
  {
   "cell_type": "code",
   "execution_count": 16,
   "id": "4fa8f8f0-bf79-4ec7-83f5-635c1d75772e",
   "metadata": {},
   "source": [
    "data_key, train_key = jax.random.split(\n",
    "    jax.random.PRNGKey(42), 2)"
   ],
   "outputs": []
  },
  {
   "cell_type": "code",
   "execution_count": 17,
   "id": "d309ebf1-f89b-4961-af88-242b104a6b76",
   "metadata": {},
   "source": [
    "test_data = prepare_batches(data_key, output, 1, num_atoms=200)"
   ],
   "outputs": []
  },
  {
   "cell_type": "code",
   "execution_count": null,
   "id": "d0087ff7-f6e3-4ede-b716-6006225ab285",
   "metadata": {},
   "source": [
    "from physnetjax.model import EF\n",
    "from physnetjax.training import train_model \n"
   ],
   "outputs": []
  },
  {
   "cell_type": "code",
   "execution_count": 20,
   "id": "36b20114-b17e-4b81-8a38-25159ce7b081",
   "metadata": {},
   "source": [
    "NATOMS = 200"
   ],
   "outputs": []
  },
  {
   "cell_type": "code",
   "execution_count": 23,
   "id": "2a076b2a-069d-48fe-9b50-877a3034ca2c",
   "metadata": {},
   "source": [
    "DEFAULT_DATA_KEYS = [\"Z\", \"R\", \"D\", \"E\", \"F\", \"N\"]\n",
    "\n",
    "model = EF(natoms=200, charges=False, zbl=False)\n",
    "\n",
    "params = train_model(\n",
    "    train_key,\n",
    "    model,\n",
    "    output,\n",
    "    output,\n",
    "    num_epochs=int(1e6),\n",
    "    learning_rate=0.001,\n",
    "    energy_weight=NATOMS,\n",
    "    #charges_weight=1,\n",
    "    #forces_weight=100,\n",
    "    schedule_fn=\"constant\",\n",
    "    optimizer=\"amsgrad\",\n",
    "    batch_size=1,\n",
    "    num_atoms=200,\n",
    "    data_keys=DEFAULT_DATA_KEYS,\n",
    "#    restart=restart,\n",
    "    print_freq=1,\n",
    "    objective=\"valid_loss\",\n",
    "    best=1e6,\n",
    "    )"
   ],
   "outputs": []
  },
  {
   "cell_type": "code",
   "execution_count": null,
   "id": "ad0c88ea-44c7-47e4-9b16-0da9534d77e7",
   "metadata": {},
   "source": [
    "files = [\"/pchem-data/meuwly/boittier/home/cf3criegee_27887.npz\"]\n",
    "train_data, valid_data = prepare_datasets(data_key, 25877, 2000,\n",
    "                                          files, \n",
    "                                          clip_esp=False, natoms=8, clean=False)"
   ],
   "outputs": []
  },
  {
   "cell_type": "code",
   "execution_count": 383,
   "id": "c751e96e-d9b2-4e78-a393-8c08e2edf6af",
   "metadata": {},
   "source": [
    "train_data[\"R\"].shape, output[\"R\"].shape"
   ],
   "outputs": []
  },
  {
   "cell_type": "code",
   "execution_count": 384,
   "id": "9d356ac3-ba70-462c-8360-f7ccddbffb10",
   "metadata": {},
   "source": [
    "train_data[\"Z\"].shape, output[\"Z\"].shape"
   ],
   "outputs": []
  },
  {
   "cell_type": "code",
   "execution_count": 413,
   "id": "f7b99c34-fc9e-444f-a7d8-21a111f01766",
   "metadata": {},
   "source": [
    "train_data[\"N\"].shape, output[\"N\"].shape"
   ],
   "outputs": []
  },
  {
   "cell_type": "code",
   "execution_count": 390,
   "id": "16313a9e-84bc-4f8e-857e-ff81b7fa6e5a",
   "metadata": {},
   "source": [
    "train_data.keys()"
   ],
   "outputs": []
  },
  {
   "cell_type": "code",
   "execution_count": 412,
   "id": "87da282b-fad8-42a6-aaed-142b61c58270",
   "metadata": {},
   "source": [
    "DEFAULT_DATA_KEYS = [\"Z\", \"R\", \"D\", \"E\", \"F\", \"N\"]\n",
    "\n",
    "params = train_model(\n",
    "    train_key,\n",
    "    model,\n",
    "    train_data,\n",
    "    train_data,\n",
    "    num_epochs=int(1e6),\n",
    "    learning_rate=0.001,\n",
    "    energy_weight=NATOMS,\n",
    "    #charges_weight=1,\n",
    "    #forces_weight=100,\n",
    "    schedule_fn=\"constant\",\n",
    "    optimizer=\"amsgrad\",\n",
    "    batch_size=1,\n",
    "    num_atoms=8,\n",
    "    data_keys=DEFAULT_DATA_KEYS,\n",
    "#    restart=restart,\n",
    "    print_freq=1,\n",
    "    objective=\"valid_loss\",\n",
    "    best=1e6,\n",
    "    )"
   ],
   "outputs": []
  },
  {
   "cell_type": "code",
   "execution_count": null,
   "id": "a0599eb9-ad7d-4174-b776-a13c7bb90d82",
   "metadata": {},
   "source": [],
   "outputs": []
  }
 ],
 "metadata": {
  "kernelspec": {
   "display_name": "physnetjax",
   "language": "python",
   "name": "jaxphyscharmm"
  },
  "language_info": {
   "codemirror_mode": {
    "name": "ipython",
    "version": 3
   },
   "file_extension": ".py",
   "mimetype": "text/x-python",
   "name": "python",
   "nbconvert_exporter": "python",
   "pygments_lexer": "ipython3",
   "version": "3.12.7"
  }
 },
 "nbformat": 4,
 "nbformat_minor": 5
}
