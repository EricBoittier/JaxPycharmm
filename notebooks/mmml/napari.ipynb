{
 "cells": [
  {
   "cell_type": "code",
   "execution_count": 1,
   "id": "7638afc7-b35e-4d51-9a9c-c4e920d94bef",
   "metadata": {
    "scrolled": true
   },
   "outputs": [
    {
     "name": "stdout",
     "output_type": "stream",
     "text": [
      "\u001b[2mUsing Python 3.12.5 environment at: /home/boittier/mmml/.venv\u001b[0m\n",
      "\u001b[2mAudited \u001b[1m1 package\u001b[0m \u001b[2min 11ms\u001b[0m\u001b[0m\n"
     ]
    }
   ],
   "source": [
    "! uv pip install napari[all]"
   ]
  },
  {
   "cell_type": "code",
   "execution_count": 2,
   "id": "470abe15-1390-4032-9e15-f9d8dd891a55",
   "metadata": {},
   "outputs": [
    {
     "name": "stderr",
     "output_type": "stream",
     "text": [
      "WARNING: QStandardPaths: wrong permissions on runtime directory /run/user/1000/, 0755 instead of 0700\n"
     ]
    }
   ],
   "source": [
    "import numpy as np\n",
    "from vispy.io import imread, load_data_file, read_mesh\n",
    "\n",
    "import napari\n",
    "\n",
    "# load the model and texture\n",
    "mesh_path = load_data_file('spot/spot.obj.gz')\n",
    "vertices, faces, _normals, texcoords = read_mesh(mesh_path)\n",
    "n = len(vertices)\n",
    "texture_path = load_data_file('spot/spot.png')\n",
    "texture = imread(texture_path)\n",
    "\n",
    "flat_spot = napari.layers.Surface(\n",
    "    (vertices, faces),\n",
    "    translate=(1, 0, 0),\n",
    "    texture=texture,\n",
    "    texcoords=texcoords,\n",
    "    shading='flat',\n",
    "    name='texture only',\n",
    ")\n",
    "\n",
    "np.random.seed(0)\n",
    "plasma_spot = napari.layers.Surface(\n",
    "    (vertices, faces, np.random.random((3, 3, n))),\n",
    "    texture=texture,\n",
    "    texcoords=texcoords,\n",
    "    colormap='plasma',\n",
    "    shading='smooth',\n",
    "    name='vertex_values and texture',\n",
    ")\n",
    "\n",
    "rainbow_spot = napari.layers.Surface(\n",
    "    (vertices, faces),\n",
    "    translate=(-1, 0, 0),\n",
    "    texture=texture,\n",
    "    texcoords=texcoords,\n",
    "    # the vertices are _roughly_ in [-1, 1] for this model and RGB values just\n",
    "    # get clipped to [0, 1], adding 0.5 brightens it up a little :)\n",
    "    vertex_colors=vertices + 0.5,\n",
    "    shading='none',\n",
    "    name='vertex_colors and texture',\n",
    ")\n",
    "\n",
    "# create the viewer and window\n",
    "viewer = napari.Viewer(ndisplay=3)\n",
    "viewer.add_layer(flat_spot)\n",
    "viewer.add_layer(plasma_spot)\n",
    "viewer.add_layer(rainbow_spot)\n",
    "\n",
    "viewer.camera.center = (0.0, 0.0, 0.0)\n",
    "viewer.camera.angles = (25.0, -50.0, -125.0)\n",
    "viewer.camera.zoom = 150\n",
    "\n",
    "\n",
    "if __name__ == '__main__':\n",
    "    napari.run()"
   ]
  },
  {
   "cell_type": "code",
   "execution_count": null,
   "id": "9cf1dd7a-c6b0-49b8-a6cf-35dc5affcf11",
   "metadata": {},
   "outputs": [],
   "source": []
  }
 ],
 "metadata": {
  "kernelspec": {
   "display_name": "mmml",
   "language": "python",
   "name": "mmml"
  },
  "language_info": {
   "codemirror_mode": {
    "name": "ipython",
    "version": 3
   },
   "file_extension": ".py",
   "mimetype": "text/x-python",
   "name": "python",
   "nbconvert_exporter": "python",
   "pygments_lexer": "ipython3",
   "version": "3.12.5"
  }
 },
 "nbformat": 4,
 "nbformat_minor": 5
}
