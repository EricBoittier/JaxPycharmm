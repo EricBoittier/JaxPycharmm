{
 "cells": [
  {
   "cell_type": "code",
   "execution_count": 2,
   "id": "96861abd-2663-433b-be76-a7aa457eb56e",
   "metadata": {},
   "outputs": [
    {
     "data": {
      "text/html": [
       "<pre style=\"white-space:pre;overflow-x:auto;line-height:normal;font-family:Menlo,'DejaVu Sans Mono',consolas,'Courier New',monospace\"></pre>\n"
      ],
      "text/plain": []
     },
     "metadata": {},
     "output_type": "display_data"
    }
   ],
   "source": [
    "import time\n",
    "from rich.panel import Panel\n",
    "from rich.live import Live\n",
    "\n",
    "import asciichartpy as acp\n",
    "import numpy as np\n",
    "\n",
    "\n",
    "def simple_sine(s):\n",
    "    return np.sin(2 * np.pi * (0.1 * s))\n",
    "\n",
    "def get_panel(data):\n",
    "    return Panel(acp.plot(data), expand=False, title=\"~~ [bold][yellow]waves[/bold][/yellow] ~~\")\n",
    "\n",
    "with Live(refresh_per_second=4) as live:\n",
    "    d = []\n",
    "    for i in range(1000):\n",
    "        time.sleep(0.1)\n",
    "        d.append(simple_sine(i))\n",
    "        # pass only X latest \n",
    "        live.update(get_panel(d[-50:]))"
   ]
  },
  {
   "cell_type": "code",
   "execution_count": 3,
   "id": "b510db3f-51e7-43f3-954d-b0f5defedbe3",
   "metadata": {},
   "outputs": [],
   "source": [
    "from optax import ScaleByAmsgradState\n"
   ]
  },
  {
   "cell_type": "code",
   "execution_count": 5,
   "id": "354c0433-2a38-4fbe-ab34-d18165f6d659",
   "metadata": {},
   "outputs": [
    {
     "data": {
      "text/plain": [
       "\u001B[0;31mInit signature:\u001B[0m\n",
       "\u001B[0mScaleByAmsgradState\u001B[0m\u001B[0;34m(\u001B[0m\u001B[0;34m\u001B[0m\n",
       "\u001B[0;34m\u001B[0m    \u001B[0mcount\u001B[0m\u001B[0;34m:\u001B[0m \u001B[0mUnion\u001B[0m\u001B[0;34m[\u001B[0m\u001B[0mjax\u001B[0m\u001B[0;34m.\u001B[0m\u001B[0mArray\u001B[0m\u001B[0;34m,\u001B[0m \u001B[0mnumpy\u001B[0m\u001B[0;34m.\u001B[0m\u001B[0mndarray\u001B[0m\u001B[0;34m,\u001B[0m \u001B[0mnumpy\u001B[0m\u001B[0;34m.\u001B[0m\u001B[0mbool\u001B[0m\u001B[0;34m,\u001B[0m \u001B[0mnumpy\u001B[0m\u001B[0;34m.\u001B[0m\u001B[0mnumber\u001B[0m\u001B[0;34m]\u001B[0m\u001B[0;34m,\u001B[0m\u001B[0;34m\u001B[0m\n",
       "\u001B[0;34m\u001B[0m    \u001B[0mmu\u001B[0m\u001B[0;34m:\u001B[0m \u001B[0mUnion\u001B[0m\u001B[0;34m[\u001B[0m\u001B[0mjax\u001B[0m\u001B[0;34m.\u001B[0m\u001B[0mArray\u001B[0m\u001B[0;34m,\u001B[0m \u001B[0mnumpy\u001B[0m\u001B[0;34m.\u001B[0m\u001B[0mndarray\u001B[0m\u001B[0;34m,\u001B[0m \u001B[0mnumpy\u001B[0m\u001B[0;34m.\u001B[0m\u001B[0mbool\u001B[0m\u001B[0;34m,\u001B[0m \u001B[0mnumpy\u001B[0m\u001B[0;34m.\u001B[0m\u001B[0mnumber\u001B[0m\u001B[0;34m,\u001B[0m \u001B[0mIterable\u001B[0m\u001B[0;34m[\u001B[0m\u001B[0mForwardRef\u001B[0m\u001B[0;34m(\u001B[0m\u001B[0;34m'ArrayTree'\u001B[0m\u001B[0;34m)\u001B[0m\u001B[0;34m]\u001B[0m\u001B[0;34m,\u001B[0m \u001B[0mMapping\u001B[0m\u001B[0;34m[\u001B[0m\u001B[0mAny\u001B[0m\u001B[0;34m,\u001B[0m \u001B[0mForwardRef\u001B[0m\u001B[0;34m(\u001B[0m\u001B[0;34m'ArrayTree'\u001B[0m\u001B[0;34m)\u001B[0m\u001B[0;34m]\u001B[0m\u001B[0;34m]\u001B[0m\u001B[0;34m,\u001B[0m\u001B[0;34m\u001B[0m\n",
       "\u001B[0;34m\u001B[0m    \u001B[0mnu\u001B[0m\u001B[0;34m:\u001B[0m \u001B[0mUnion\u001B[0m\u001B[0;34m[\u001B[0m\u001B[0mjax\u001B[0m\u001B[0;34m.\u001B[0m\u001B[0mArray\u001B[0m\u001B[0;34m,\u001B[0m \u001B[0mnumpy\u001B[0m\u001B[0;34m.\u001B[0m\u001B[0mndarray\u001B[0m\u001B[0;34m,\u001B[0m \u001B[0mnumpy\u001B[0m\u001B[0;34m.\u001B[0m\u001B[0mbool\u001B[0m\u001B[0;34m,\u001B[0m \u001B[0mnumpy\u001B[0m\u001B[0;34m.\u001B[0m\u001B[0mnumber\u001B[0m\u001B[0;34m,\u001B[0m \u001B[0mIterable\u001B[0m\u001B[0;34m[\u001B[0m\u001B[0mForwardRef\u001B[0m\u001B[0;34m(\u001B[0m\u001B[0;34m'ArrayTree'\u001B[0m\u001B[0;34m)\u001B[0m\u001B[0;34m]\u001B[0m\u001B[0;34m,\u001B[0m \u001B[0mMapping\u001B[0m\u001B[0;34m[\u001B[0m\u001B[0mAny\u001B[0m\u001B[0;34m,\u001B[0m \u001B[0mForwardRef\u001B[0m\u001B[0;34m(\u001B[0m\u001B[0;34m'ArrayTree'\u001B[0m\u001B[0;34m)\u001B[0m\u001B[0;34m]\u001B[0m\u001B[0;34m]\u001B[0m\u001B[0;34m,\u001B[0m\u001B[0;34m\u001B[0m\n",
       "\u001B[0;34m\u001B[0m    \u001B[0mnu_max\u001B[0m\u001B[0;34m:\u001B[0m \u001B[0mUnion\u001B[0m\u001B[0;34m[\u001B[0m\u001B[0mjax\u001B[0m\u001B[0;34m.\u001B[0m\u001B[0mArray\u001B[0m\u001B[0;34m,\u001B[0m \u001B[0mnumpy\u001B[0m\u001B[0;34m.\u001B[0m\u001B[0mndarray\u001B[0m\u001B[0;34m,\u001B[0m \u001B[0mnumpy\u001B[0m\u001B[0;34m.\u001B[0m\u001B[0mbool\u001B[0m\u001B[0;34m,\u001B[0m \u001B[0mnumpy\u001B[0m\u001B[0;34m.\u001B[0m\u001B[0mnumber\u001B[0m\u001B[0;34m,\u001B[0m \u001B[0mIterable\u001B[0m\u001B[0;34m[\u001B[0m\u001B[0mForwardRef\u001B[0m\u001B[0;34m(\u001B[0m\u001B[0;34m'ArrayTree'\u001B[0m\u001B[0;34m)\u001B[0m\u001B[0;34m]\u001B[0m\u001B[0;34m,\u001B[0m \u001B[0mMapping\u001B[0m\u001B[0;34m[\u001B[0m\u001B[0mAny\u001B[0m\u001B[0;34m,\u001B[0m \u001B[0mForwardRef\u001B[0m\u001B[0;34m(\u001B[0m\u001B[0;34m'ArrayTree'\u001B[0m\u001B[0;34m)\u001B[0m\u001B[0;34m]\u001B[0m\u001B[0;34m]\u001B[0m\u001B[0;34m,\u001B[0m\u001B[0;34m\u001B[0m\n",
       "\u001B[0;34m\u001B[0m\u001B[0;34m)\u001B[0m\u001B[0;34m\u001B[0m\u001B[0;34m\u001B[0m\u001B[0m\n",
       "\u001B[0;31mDocstring:\u001B[0m      State for the AMSGrad algorithm.\n",
       "\u001B[0;31mFile:\u001B[0m           ~/miniforge3/envs/jaxphyscharmm/lib/python3.12/site-packages/optax/_src/transform.py\n",
       "\u001B[0;31mType:\u001B[0m           type\n",
       "\u001B[0;31mSubclasses:\u001B[0m     "
      ]
     },
     "metadata": {},
     "output_type": "display_data"
    }
   ],
   "source": [
    "ScaleByAmsgradState?"
   ]
  },
  {
   "cell_type": "code",
   "execution_count": null,
   "id": "bbce8360-3780-4e39-9641-f6df013440fc",
   "metadata": {},
   "outputs": [],
   "source": []
  }
 ],
 "metadata": {
  "kernelspec": {
   "display_name": "physnetjax",
   "language": "python",
   "name": "jaxphyscharmm"
  },
  "language_info": {
   "codemirror_mode": {
    "name": "ipython",
    "version": 3
   },
   "file_extension": ".py",
   "mimetype": "text/x-python",
   "name": "python",
   "nbconvert_exporter": "python",
   "pygments_lexer": "ipython3",
   "version": "3.12.7"
  }
 },
 "nbformat": 4,
 "nbformat_minor": 5
}
