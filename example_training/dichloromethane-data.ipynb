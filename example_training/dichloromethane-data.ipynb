{
 "cells": [
  {
   "cell_type": "code",
   "execution_count": 1,
   "id": "02d977d6-225b-4759-b366-fccc92ea9e67",
   "metadata": {},
   "outputs": [
    {
     "name": "stdout",
     "output_type": "stream",
     "text": [
      "[CudaDevice(id=0)]\n",
      "gpu\n",
      "[CudaDevice(id=0)]\n"
     ]
    },
    {
     "name": "stderr",
     "output_type": "stream",
     "text": [
      "2025-02-07 17:37:28.268733: E external/local_xla/xla/stream_executor/cuda/cuda_fft.cc:477] Unable to register cuFFT factory: Attempting to register factory for plugin cuFFT when one has already been registered\n",
      "WARNING: All log messages before absl::InitializeLog() is called are written to STDERR\n",
      "E0000 00:00:1738946248.290424   84260 cuda_dnn.cc:8310] Unable to register cuDNN factory: Attempting to register factory for plugin cuDNN when one has already been registered\n",
      "E0000 00:00:1738946248.297192   84260 cuda_blas.cc:1418] Unable to register cuBLAS factory: Attempting to register factory for plugin cuBLAS when one has already been registered\n"
     ]
    }
   ],
   "source": [
    "import os\n",
    "\n",
    "# Set environment variables\n",
    "os.environ[\"XLA_PYTHON_CLIENT_MEM_FRACTION\"] = \".99\"\n",
    "os.environ[\"CUDA_VISIBLE_DEVICES\"] = \"0\"\n",
    "import jax\n",
    "\n",
    "# from jax import config\n",
    "# config.update('jax_enable_x64', True)\n",
    "\n",
    "# Check JAX configuration\n",
    "devices = jax.local_devices()\n",
    "print(devices)\n",
    "print(jax.default_backend())\n",
    "print(jax.devices())\n",
    "\n",
    "import sys\n",
    "\n",
    "# Add custom path\n",
    "sys.path.append(\"/pchem-data/meuwly/boittier/home/pycharmm_test/physnetjax\")\n",
    "\n",
    "import e3x\n",
    "import jax\n",
    "import numpy as np\n",
    "import optax\n",
    "import orbax\n",
    "\n",
    "from physnetjax.data.data import prepare_datasets\n",
    "from physnetjax.training.loss import dipole_calc\n",
    "from physnetjax.models.model import EF\n",
    "from physnetjax.training.training import train_model  # from model import dipole_calc\n",
    "\n",
    "orbax_checkpointer = orbax.checkpoint.PyTreeCheckpointer()\n",
    "\n",
    "data_key, train_key = jax.random.split(jax.random.PRNGKey(42), 2)\n",
    "\n",
    "from pathlib import Path"
   ]
  },
  {
   "cell_type": "code",
   "execution_count": 17,
   "id": "b31b5cda-a2d8-468e-8e02-1866adfe964a",
   "metadata": {},
   "outputs": [
    {
     "data": {
      "text/plain": [
       "16799.2"
      ]
     },
     "execution_count": 17,
     "metadata": {},
     "output_type": "execute_result"
    }
   ],
   "source": [
    "# files = list(Path(\"/pchem-data/meuwly/boittier/home/pycharmm_test/data/basepairs\").glob(\"*.npz\"))\n",
    "NATOMS = 10\n",
    "files = [\n",
    "    Path(\"/pchem-data/meuwly/boittier/home/dcm_dimers_MP2_20999.npz\"),\n",
    "\n",
    "]\n",
    "\n",
    "\n",
    "20999 * .8"
   ]
  },
  {
   "cell_type": "code",
   "execution_count": 18,
   "id": "aeee0ac4-dd93-4221-af65-b11e384ff24e",
   "metadata": {},
   "outputs": [
    {
     "data": {
      "text/html": [
       "<pre style=\"white-space:pre;overflow-x:auto;line-height:normal;font-family:Menlo,'DejaVu Sans Mono',consolas,'Courier New',monospace\"><span style=\"font-style: italic\">                                   dcm_dimers_MP2_20999.npz                                    </span>\n",
       "┏━━━━━━━━━━┳━━━━━━━━━━┳━━━━━━━━━━┳━━━━━━━━━━━━┳━━━━━━━━━━━━━┳━━━━━━━━━━━━━━━━┳━━━━━━━━━━━━━━━━┓\n",
       "┃<span style=\"font-weight: bold\"> N        </span>┃<span style=\"font-weight: bold\"> E        </span>┃<span style=\"font-weight: bold\"> Q        </span>┃<span style=\"font-weight: bold\"> D          </span>┃<span style=\"font-weight: bold\"> Z           </span>┃<span style=\"font-weight: bold\"> R              </span>┃<span style=\"font-weight: bold\"> F              </span>┃\n",
       "┡━━━━━━━━━━╇━━━━━━━━━━╇━━━━━━━━━━╇━━━━━━━━━━━━╇━━━━━━━━━━━━━╇━━━━━━━━━━━━━━━━╇━━━━━━━━━━━━━━━━┩\n",
       "│<span style=\"color: #808080; text-decoration-color: #808080\"> (20999,) </span>│<span style=\"color: #ff0000; text-decoration-color: #ff0000\"> (20999,) </span>│<span style=\"color: #00ff00; text-decoration-color: #00ff00\"> (20999,) </span>│<span style=\"color: #00d7d7; text-decoration-color: #00d7d7\"> (20999, 3) </span>│<span style=\"color: #ffff00; text-decoration-color: #ffff00\"> (20999, 10) </span>│<span style=\"color: #0000ff; text-decoration-color: #0000ff\"> (20999, 10, 3) </span>│<span style=\"color: #ff00ff; text-decoration-color: #ff00ff\"> (20999, 10, 3) </span>│\n",
       "└──────────┴──────────┴──────────┴────────────┴─────────────┴────────────────┴────────────────┘\n",
       "</pre>\n"
      ],
      "text/plain": [
       "\u001b[3m                                   dcm_dimers_MP2_20999.npz                                    \u001b[0m\n",
       "┏━━━━━━━━━━┳━━━━━━━━━━┳━━━━━━━━━━┳━━━━━━━━━━━━┳━━━━━━━━━━━━━┳━━━━━━━━━━━━━━━━┳━━━━━━━━━━━━━━━━┓\n",
       "┃\u001b[1m \u001b[0m\u001b[1mN       \u001b[0m\u001b[1m \u001b[0m┃\u001b[1m \u001b[0m\u001b[1mE       \u001b[0m\u001b[1m \u001b[0m┃\u001b[1m \u001b[0m\u001b[1mQ       \u001b[0m\u001b[1m \u001b[0m┃\u001b[1m \u001b[0m\u001b[1mD         \u001b[0m\u001b[1m \u001b[0m┃\u001b[1m \u001b[0m\u001b[1mZ          \u001b[0m\u001b[1m \u001b[0m┃\u001b[1m \u001b[0m\u001b[1mR             \u001b[0m\u001b[1m \u001b[0m┃\u001b[1m \u001b[0m\u001b[1mF             \u001b[0m\u001b[1m \u001b[0m┃\n",
       "┡━━━━━━━━━━╇━━━━━━━━━━╇━━━━━━━━━━╇━━━━━━━━━━━━╇━━━━━━━━━━━━━╇━━━━━━━━━━━━━━━━╇━━━━━━━━━━━━━━━━┩\n",
       "│\u001b[90m \u001b[0m\u001b[90m(20999,)\u001b[0m\u001b[90m \u001b[0m│\u001b[91m \u001b[0m\u001b[91m(20999,)\u001b[0m\u001b[91m \u001b[0m│\u001b[92m \u001b[0m\u001b[92m(20999,)\u001b[0m\u001b[92m \u001b[0m│\u001b[38;5;44m \u001b[0m\u001b[38;5;44m(20999, 3)\u001b[0m\u001b[38;5;44m \u001b[0m│\u001b[93m \u001b[0m\u001b[93m(20999, 10)\u001b[0m\u001b[93m \u001b[0m│\u001b[94m \u001b[0m\u001b[94m(20999, 10, 3)\u001b[0m\u001b[94m \u001b[0m│\u001b[95m \u001b[0m\u001b[95m(20999, 10, 3)\u001b[0m\u001b[95m \u001b[0m│\n",
       "└──────────┴──────────┴──────────┴────────────┴─────────────┴────────────────┴────────────────┘\n"
      ]
     },
     "metadata": {},
     "output_type": "display_data"
    },
    {
     "name": "stdout",
     "output_type": "stream",
     "text": [
      "dataR (20999, 10, 3)\n",
      "dataE [-16.64463665 -16.84494252 -16.68936279 -16.69383745 -16.74775377\n",
      " -16.79686463 -16.70671807 -16.6819525  -16.70375592 -16.71621446]\n",
      "dataE [1040.44527237 1040.2449665  1040.40054624 1040.39607157 1040.34215526\n",
      " 1040.29304439 1040.38319095 1040.40795653 1040.3861531  1040.37369456]\n",
      "D (20999, 3)\n",
      "Q 1 (20999,) 20999\n",
      "Q (20999,)\n"
     ]
    }
   ],
   "source": [
    "train_data, valid_data = prepare_datasets(\n",
    "    data_key,\n",
    "    16800,\n",
    "     4199,\n",
    "    files,\n",
    "    clip_esp=False,\n",
    "    natoms=NATOMS,\n",
    "    clean=False,\n",
    "    subtract_atom_energies=True,\n",
    "    verbose=True,\n",
    ")\n",
    "\n",
    "ntest = len(valid_data[\"E\"]) // 2\n",
    "test_data = {k: v[ntest:] for k, v in valid_data.items()}\n",
    "valid_data = {k: v[:ntest] for k, v in valid_data.items()}\n",
    "\n"
   ]
  },
  {
   "cell_type": "code",
   "execution_count": 19,
   "id": "f60aa568-20e0-4681-be12-e4989cf85c48",
   "metadata": {},
   "outputs": [],
   "source": [
    "model = EF(\n",
    "    # attributes\n",
    "    features=128,\n",
    "    max_degree=0,\n",
    "    num_iterations=5,\n",
    "    num_basis_functions=64,\n",
    "    cutoff=10.0,\n",
    "    max_atomic_number=18,\n",
    "    charges=False,\n",
    "    natoms=NATOMS,\n",
    "    total_charge=0,\n",
    "    n_res=3,\n",
    "    zbl=False,\n",
    "    debug=False,\n",
    ")\n",
    "\n"
   ]
  },
  {
   "cell_type": "code",
   "execution_count": null,
   "id": "e5399f9e-cab5-4213-afb7-b1696e71b97e",
   "metadata": {},
   "outputs": [
    {
     "data": {
      "text/html": [
       "<pre style=\"white-space:pre;overflow-x:auto;line-height:normal;font-family:Menlo,'DejaVu Sans Mono',consolas,'Courier New',monospace\"><span style=\"font-style: italic\">                                            Train Data                                             </span>\n",
       "┏━━━━━━━━━━━━━━━━┳━━━━━━━━━━━━━┳━━━━━━━━━━━━━━━━┳━━━━━━━━━━━━┳━━━━━━━━━━━━┳━━━━━━━━━━━━┳━━━━━━━━━━┓\n",
       "┃<span style=\"font-weight: bold\"> R              </span>┃<span style=\"font-weight: bold\"> Z           </span>┃<span style=\"font-weight: bold\"> F              </span>┃<span style=\"font-weight: bold\"> E          </span>┃<span style=\"font-weight: bold\"> N          </span>┃<span style=\"font-weight: bold\"> D          </span>┃<span style=\"font-weight: bold\"> Q        </span>┃\n",
       "┡━━━━━━━━━━━━━━━━╇━━━━━━━━━━━━━╇━━━━━━━━━━━━━━━━╇━━━━━━━━━━━━╇━━━━━━━━━━━━╇━━━━━━━━━━━━╇━━━━━━━━━━┩\n",
       "│<span style=\"color: #808080; text-decoration-color: #808080\"> (16800, 10, 3) </span>│<span style=\"color: #ff0000; text-decoration-color: #ff0000\"> (16800, 10) </span>│<span style=\"color: #00ff00; text-decoration-color: #00ff00\"> (16800, 10, 3) </span>│<span style=\"color: #00d7d7; text-decoration-color: #00d7d7\"> (16800, 1) </span>│<span style=\"color: #ffff00; text-decoration-color: #ffff00\"> (16800, 1) </span>│<span style=\"color: #0000ff; text-decoration-color: #0000ff\"> (16800, 3) </span>│<span style=\"color: #ff00ff; text-decoration-color: #ff00ff\"> (16800,) </span>│\n",
       "└────────────────┴─────────────┴────────────────┴────────────┴────────────┴────────────┴──────────┘\n",
       "</pre>\n"
      ],
      "text/plain": [
       "\u001b[3m                                            Train Data                                             \u001b[0m\n",
       "┏━━━━━━━━━━━━━━━━┳━━━━━━━━━━━━━┳━━━━━━━━━━━━━━━━┳━━━━━━━━━━━━┳━━━━━━━━━━━━┳━━━━━━━━━━━━┳━━━━━━━━━━┓\n",
       "┃\u001b[1m \u001b[0m\u001b[1mR             \u001b[0m\u001b[1m \u001b[0m┃\u001b[1m \u001b[0m\u001b[1mZ          \u001b[0m\u001b[1m \u001b[0m┃\u001b[1m \u001b[0m\u001b[1mF             \u001b[0m\u001b[1m \u001b[0m┃\u001b[1m \u001b[0m\u001b[1mE         \u001b[0m\u001b[1m \u001b[0m┃\u001b[1m \u001b[0m\u001b[1mN         \u001b[0m\u001b[1m \u001b[0m┃\u001b[1m \u001b[0m\u001b[1mD         \u001b[0m\u001b[1m \u001b[0m┃\u001b[1m \u001b[0m\u001b[1mQ       \u001b[0m\u001b[1m \u001b[0m┃\n",
       "┡━━━━━━━━━━━━━━━━╇━━━━━━━━━━━━━╇━━━━━━━━━━━━━━━━╇━━━━━━━━━━━━╇━━━━━━━━━━━━╇━━━━━━━━━━━━╇━━━━━━━━━━┩\n",
       "│\u001b[90m \u001b[0m\u001b[90m(16800, 10, 3)\u001b[0m\u001b[90m \u001b[0m│\u001b[91m \u001b[0m\u001b[91m(16800, 10)\u001b[0m\u001b[91m \u001b[0m│\u001b[92m \u001b[0m\u001b[92m(16800, 10, 3)\u001b[0m\u001b[92m \u001b[0m│\u001b[38;5;44m \u001b[0m\u001b[38;5;44m(16800, 1)\u001b[0m\u001b[38;5;44m \u001b[0m│\u001b[93m \u001b[0m\u001b[93m(16800, 1)\u001b[0m\u001b[93m \u001b[0m│\u001b[94m \u001b[0m\u001b[94m(16800, 3)\u001b[0m\u001b[94m \u001b[0m│\u001b[95m \u001b[0m\u001b[95m(16800,)\u001b[0m\u001b[95m \u001b[0m│\n",
       "└────────────────┴─────────────┴────────────────┴────────────┴────────────┴────────────┴──────────┘\n"
      ]
     },
     "metadata": {},
     "output_type": "display_data"
    },
    {
     "data": {
      "text/html": [
       "<pre style=\"white-space:pre;overflow-x:auto;line-height:normal;font-family:Menlo,'DejaVu Sans Mono',consolas,'Courier New',monospace\"><span style=\"font-style: italic\">                                      Validation Data                                       </span>\n",
       "┏━━━━━━━━━━━━━━━┳━━━━━━━━━━━━┳━━━━━━━━━━━━━━━┳━━━━━━━━━━━┳━━━━━━━━━━━┳━━━━━━━━━━━┳━━━━━━━━━┓\n",
       "┃<span style=\"font-weight: bold\"> R             </span>┃<span style=\"font-weight: bold\"> Z          </span>┃<span style=\"font-weight: bold\"> F             </span>┃<span style=\"font-weight: bold\"> E         </span>┃<span style=\"font-weight: bold\"> N         </span>┃<span style=\"font-weight: bold\"> D         </span>┃<span style=\"font-weight: bold\"> Q       </span>┃\n",
       "┡━━━━━━━━━━━━━━━╇━━━━━━━━━━━━╇━━━━━━━━━━━━━━━╇━━━━━━━━━━━╇━━━━━━━━━━━╇━━━━━━━━━━━╇━━━━━━━━━┩\n",
       "│<span style=\"color: #808080; text-decoration-color: #808080\"> (2099, 10, 3) </span>│<span style=\"color: #ff0000; text-decoration-color: #ff0000\"> (2099, 10) </span>│<span style=\"color: #00ff00; text-decoration-color: #00ff00\"> (2099, 10, 3) </span>│<span style=\"color: #00d7d7; text-decoration-color: #00d7d7\"> (2099, 1) </span>│<span style=\"color: #ffff00; text-decoration-color: #ffff00\"> (2099, 1) </span>│<span style=\"color: #0000ff; text-decoration-color: #0000ff\"> (2099, 3) </span>│<span style=\"color: #ff00ff; text-decoration-color: #ff00ff\"> (2099,) </span>│\n",
       "└───────────────┴────────────┴───────────────┴───────────┴───────────┴───────────┴─────────┘\n",
       "</pre>\n"
      ],
      "text/plain": [
       "\u001b[3m                                      Validation Data                                       \u001b[0m\n",
       "┏━━━━━━━━━━━━━━━┳━━━━━━━━━━━━┳━━━━━━━━━━━━━━━┳━━━━━━━━━━━┳━━━━━━━━━━━┳━━━━━━━━━━━┳━━━━━━━━━┓\n",
       "┃\u001b[1m \u001b[0m\u001b[1mR            \u001b[0m\u001b[1m \u001b[0m┃\u001b[1m \u001b[0m\u001b[1mZ         \u001b[0m\u001b[1m \u001b[0m┃\u001b[1m \u001b[0m\u001b[1mF            \u001b[0m\u001b[1m \u001b[0m┃\u001b[1m \u001b[0m\u001b[1mE        \u001b[0m\u001b[1m \u001b[0m┃\u001b[1m \u001b[0m\u001b[1mN        \u001b[0m\u001b[1m \u001b[0m┃\u001b[1m \u001b[0m\u001b[1mD        \u001b[0m\u001b[1m \u001b[0m┃\u001b[1m \u001b[0m\u001b[1mQ      \u001b[0m\u001b[1m \u001b[0m┃\n",
       "┡━━━━━━━━━━━━━━━╇━━━━━━━━━━━━╇━━━━━━━━━━━━━━━╇━━━━━━━━━━━╇━━━━━━━━━━━╇━━━━━━━━━━━╇━━━━━━━━━┩\n",
       "│\u001b[90m \u001b[0m\u001b[90m(2099, 10, 3)\u001b[0m\u001b[90m \u001b[0m│\u001b[91m \u001b[0m\u001b[91m(2099, 10)\u001b[0m\u001b[91m \u001b[0m│\u001b[92m \u001b[0m\u001b[92m(2099, 10, 3)\u001b[0m\u001b[92m \u001b[0m│\u001b[38;5;44m \u001b[0m\u001b[38;5;44m(2099, 1)\u001b[0m\u001b[38;5;44m \u001b[0m│\u001b[93m \u001b[0m\u001b[93m(2099, 1)\u001b[0m\u001b[93m \u001b[0m│\u001b[94m \u001b[0m\u001b[94m(2099, 3)\u001b[0m\u001b[94m \u001b[0m│\u001b[95m \u001b[0m\u001b[95m(2099,)\u001b[0m\u001b[95m \u001b[0m│\n",
       "└───────────────┴────────────┴───────────────┴───────────┴───────────┴───────────┴─────────┘\n"
      ]
     },
     "metadata": {},
     "output_type": "display_data"
    },
    {
     "name": "stdout",
     "output_type": "stream",
     "text": [
      "Using default (fat) batching method\n"
     ]
    },
    {
     "data": {
      "text/html": [
       "<pre style=\"white-space:pre;overflow-x:auto;line-height:normal;font-family:Menlo,'DejaVu Sans Mono',consolas,'Courier New',monospace\">Training Routine\n",
       "</pre>\n"
      ],
      "text/plain": [
       "Training Routine\n"
      ]
     },
     "metadata": {},
     "output_type": "display_data"
    },
    {
     "data": {
      "text/html": [
       "<pre style=\"white-space:pre;overflow-x:auto;line-height:normal;font-family:Menlo,'DejaVu Sans Mono',consolas,'Courier New',monospace\">                       .,,uod8B8bou,,.\n",
       "              ..,uod8BBBBBBBBBBBBBBBBRPFT?l!i:.\n",
       "         ,=m8BBBBBBBBBBBBBBBRPFT?!||||||||||||||\n",
       "         !<span style=\"color: #808000; text-decoration-color: #808000\">...</span>:!TVBBBRPFT||||||||||!!^^<span style=\"color: #008000; text-decoration-color: #008000\">\"\"</span>'   ||||\n",
       "         !<span style=\"color: #808000; text-decoration-color: #808000\">......</span>.:!?|||||!!^^<span style=\"color: #008000; text-decoration-color: #008000\">\"\"</span>'            ||||\n",
       "         !<span style=\"color: #808000; text-decoration-color: #808000\">.........</span>||||                     ||||\n",
       "         !<span style=\"color: #808000; text-decoration-color: #808000\">.........</span>||||  ##                 ||||\n",
       "         !<span style=\"color: #808000; text-decoration-color: #808000\">.........</span>||||      PhysNet        ||||\n",
       "         !<span style=\"color: #808000; text-decoration-color: #808000\">.........</span>||||      JAX            ||||\n",
       "         !<span style=\"color: #808000; text-decoration-color: #808000\">.........</span>||||                     ||||\n",
       "         !<span style=\"color: #808000; text-decoration-color: #808000\">.........</span>||||                     ||||\n",
       "         `<span style=\"color: #808000; text-decoration-color: #808000\">.........</span>||||                    ,||||\n",
       "          .;<span style=\"color: #808000; text-decoration-color: #808000\">......</span>.||||               _.-!!|||||\n",
       "   .,uodWBBBBb<span style=\"color: #808000; text-decoration-color: #808000\">...</span>..||||       _.-!!|||||||||!:'\n",
       "!YBBBBBBBBBBBBBBb..!|||:..-!!|||||||!iof68BBBBBb<span style=\"color: #808000; text-decoration-color: #808000\">...</span>.\n",
       "!..YBBBBBBBBBBBBBBb!!||||||||!iof68BBBBBBRPFT?!::   `.\n",
       "!<span style=\"color: #808000; text-decoration-color: #808000\">...</span>.YBBBBBBBBBBBBBBbaaitf68BBBBBBRPFT?!:::::::::     `.\n",
       "!<span style=\"color: #808000; text-decoration-color: #808000\">......</span>YBBBBBBBBBBBBBBBBBBBRPFT?!::::::;:!^\"`;:::       `.\n",
       "!<span style=\"color: #808000; text-decoration-color: #808000\">......</span>..YBBBBBBBBBBRPFT?!::::::::::^<span style=\"color: #008000; text-decoration-color: #008000\">''</span><span style=\"color: #808000; text-decoration-color: #808000\">...</span>::::::;         iBBbo.\n",
       "`<span style=\"color: #808000; text-decoration-color: #808000\">.........</span>.YBRPFT?!::::::::::::::::::::::::;iof68bo.      WBBBBbo.\n",
       "  `<span style=\"color: #808000; text-decoration-color: #808000\">.........</span>.:::::::::::::::::::::::;iof688888888888b.     `YBBBP^'\n",
       "    `<span style=\"color: #808000; text-decoration-color: #808000\">......</span>..::::::::::::::::;iof688888888888888888888b.     `\n",
       "      `<span style=\"color: #808000; text-decoration-color: #808000\">......</span>:::::::::;iof688888888888888888888888888888b.\n",
       "        `<span style=\"color: #808000; text-decoration-color: #808000\">...</span>.:::;iof688888888888888888888888888888888899fT!\n",
       "          `..::!8888888888888888888888888888888899fT|!^\"'\n",
       "            `<span style=\"color: #008000; text-decoration-color: #008000\">' !!988888888888888888888888899fT|!^\"'</span>\n",
       "                `!!8888888888888888899fT|!^\"'\n",
       "                  `!988888888899fT|!^\"'\n",
       "                    `!9899fT|!^\"'\n",
       "                      `!^\"'\n",
       "</pre>\n"
      ],
      "text/plain": [
       "                       .,,uod8B8bou,,.\n",
       "              ..,uod8BBBBBBBBBBBBBBBBRPFT?l!i:.\n",
       "         ,=m8BBBBBBBBBBBBBBBRPFT?!||||||||||||||\n",
       "         !\u001b[33m...\u001b[0m:!TVBBBRPFT||||||||||!!^^\u001b[32m\"\"\u001b[0m'   ||||\n",
       "         !\u001b[33m...\u001b[0m\u001b[33m...\u001b[0m.:!?|||||!!^^\u001b[32m\"\"\u001b[0m'            ||||\n",
       "         !\u001b[33m...\u001b[0m\u001b[33m...\u001b[0m\u001b[33m...\u001b[0m||||                     ||||\n",
       "         !\u001b[33m...\u001b[0m\u001b[33m...\u001b[0m\u001b[33m...\u001b[0m||||  ##                 ||||\n",
       "         !\u001b[33m...\u001b[0m\u001b[33m...\u001b[0m\u001b[33m...\u001b[0m||||      PhysNet        ||||\n",
       "         !\u001b[33m...\u001b[0m\u001b[33m...\u001b[0m\u001b[33m...\u001b[0m||||      JAX            ||||\n",
       "         !\u001b[33m...\u001b[0m\u001b[33m...\u001b[0m\u001b[33m...\u001b[0m||||                     ||||\n",
       "         !\u001b[33m...\u001b[0m\u001b[33m...\u001b[0m\u001b[33m...\u001b[0m||||                     ||||\n",
       "         `\u001b[33m...\u001b[0m\u001b[33m...\u001b[0m\u001b[33m...\u001b[0m||||                    ,||||\n",
       "          .;\u001b[33m...\u001b[0m\u001b[33m...\u001b[0m.||||               _.-!!|||||\n",
       "   .,uodWBBBBb\u001b[33m...\u001b[0m..||||       _.-!!|||||||||!:'\n",
       "!YBBBBBBBBBBBBBBb..!|||:..-!!|||||||!iof68BBBBBb\u001b[33m...\u001b[0m.\n",
       "!..YBBBBBBBBBBBBBBb!!||||||||!iof68BBBBBBRPFT?!::   `.\n",
       "!\u001b[33m...\u001b[0m.YBBBBBBBBBBBBBBbaaitf68BBBBBBRPFT?!:::::::::     `.\n",
       "!\u001b[33m...\u001b[0m\u001b[33m...\u001b[0mYBBBBBBBBBBBBBBBBBBBRPFT?!::::::;:!^\"`;:::       `.\n",
       "!\u001b[33m...\u001b[0m\u001b[33m...\u001b[0m..YBBBBBBBBBBRPFT?!::::::::::^\u001b[32m''\u001b[0m\u001b[33m...\u001b[0m::::::;         iBBbo.\n",
       "`\u001b[33m...\u001b[0m\u001b[33m...\u001b[0m\u001b[33m...\u001b[0m.YBRPFT?!::::::::::::::::::::::::;iof68bo.      WBBBBbo.\n",
       "  `\u001b[33m...\u001b[0m\u001b[33m...\u001b[0m\u001b[33m...\u001b[0m.:::::::::::::::::::::::;iof688888888888b.     `YBBBP^'\n",
       "    `\u001b[33m...\u001b[0m\u001b[33m...\u001b[0m..::::::::::::::::;iof688888888888888888888b.     `\n",
       "      `\u001b[33m...\u001b[0m\u001b[33m...\u001b[0m:::::::::;iof688888888888888888888888888888b.\n",
       "        `\u001b[33m...\u001b[0m.:::;iof688888888888888888888888888888888899fT!\n",
       "          `..::!8888888888888888888888888888888899fT|!^\"'\n",
       "            `\u001b[32m' !!988888888888888888888888899fT|!^\"'\u001b[0m\n",
       "                `!!8888888888888888899fT|!^\"'\n",
       "                  `!988888888899fT|!^\"'\n",
       "                    `!9899fT|!^\"'\n",
       "                      `!^\"'\n"
      ]
     },
     "metadata": {},
     "output_type": "display_data"
    },
    {
     "data": {
      "text/html": [
       "<pre style=\"white-space:pre;overflow-x:auto;line-height:normal;font-family:Menlo,'DejaVu Sans Mono',consolas,'Courier New',monospace\">DATA_PATH: <span style=\"color: #800080; text-decoration-color: #800080\">/pchem-data/meuwly/boittier/home/pycharmm_test/</span><span style=\"color: #ff00ff; text-decoration-color: #ff00ff\">data</span>\n",
       "</pre>\n"
      ],
      "text/plain": [
       "DATA_PATH: \u001b[35m/pchem-data/meuwly/boittier/home/pycharmm_test/\u001b[0m\u001b[95mdata\u001b[0m\n"
      ]
     },
     "metadata": {},
     "output_type": "display_data"
    },
    {
     "data": {
      "text/html": [
       "<pre style=\"white-space:pre;overflow-x:auto;line-height:normal;font-family:Menlo,'DejaVu Sans Mono',consolas,'Courier New',monospace\">LOGS_PATH: <span style=\"color: #800080; text-decoration-color: #800080\">/pchem-data/meuwly/boittier/home/pycharmm_test/</span><span style=\"color: #ff00ff; text-decoration-color: #ff00ff\">logs</span>\n",
       "</pre>\n"
      ],
      "text/plain": [
       "LOGS_PATH: \u001b[35m/pchem-data/meuwly/boittier/home/pycharmm_test/\u001b[0m\u001b[95mlogs\u001b[0m\n"
      ]
     },
     "metadata": {},
     "output_type": "display_data"
    },
    {
     "data": {
      "text/html": [
       "<pre style=\"white-space:pre;overflow-x:auto;line-height:normal;font-family:Menlo,'DejaVu Sans Mono',consolas,'Courier New',monospace\">ANALYSIS_PATH: <span style=\"color: #800080; text-decoration-color: #800080\">/pchem-data/meuwly/boittier/home/pycharmm_test/</span><span style=\"color: #ff00ff; text-decoration-color: #ff00ff\">analysis</span>\n",
       "</pre>\n"
      ],
      "text/plain": [
       "ANALYSIS_PATH: \u001b[35m/pchem-data/meuwly/boittier/home/pycharmm_test/\u001b[0m\u001b[95manalysis\u001b[0m\n"
      ]
     },
     "metadata": {},
     "output_type": "display_data"
    },
    {
     "data": {
      "text/html": [
       "<pre style=\"white-space:pre;overflow-x:auto;line-height:normal;font-family:Menlo,'DejaVu Sans Mono',consolas,'Courier New',monospace\">MAIN_PATH: <span style=\"color: #800080; text-decoration-color: #800080\">/pchem-data/meuwly/boittier/home/</span><span style=\"color: #ff00ff; text-decoration-color: #ff00ff\">pycharmm_test</span>\n",
       "</pre>\n"
      ],
      "text/plain": [
       "MAIN_PATH: \u001b[35m/pchem-data/meuwly/boittier/home/\u001b[0m\u001b[95mpycharmm_test\u001b[0m\n"
      ]
     },
     "metadata": {},
     "output_type": "display_data"
    },
    {
     "data": {
      "text/html": [
       "<pre style=\"white-space:pre;overflow-x:auto;line-height:normal;font-family:Menlo,'DejaVu Sans Mono',consolas,'Courier New',monospace\">PYCHARMM_DIR: <span style=\"color: #800080; text-decoration-color: #800080; font-style: italic\">None</span>\n",
       "</pre>\n"
      ],
      "text/plain": [
       "PYCHARMM_DIR: \u001b[3;35mNone\u001b[0m\n"
      ]
     },
     "metadata": {},
     "output_type": "display_data"
    },
    {
     "data": {
      "text/html": [
       "<pre style=\"white-space:pre;overflow-x:auto;line-height:normal;font-family:Menlo,'DejaVu Sans Mono',consolas,'Courier New',monospace\">Start Time:  <span style=\"color: #00ff00; text-decoration-color: #00ff00; font-weight: bold\">16:54:41</span>\n",
       "</pre>\n"
      ],
      "text/plain": [
       "Start Time:  \u001b[1;92m16:54:41\u001b[0m\n"
      ]
     },
     "metadata": {},
     "output_type": "display_data"
    },
    {
     "data": {
      "text/html": [
       "<pre style=\"white-space:pre;overflow-x:auto;line-height:normal;font-family:Menlo,'DejaVu Sans Mono',consolas,'Courier New',monospace\"><span style=\"font-style: italic\">                                                Optimizer Arguments                                                </span>\n",
       "┏━━━━━━━━━━━┳━━━━━━━━━━━━━┳━━━━━━━━━━━━━┳━━━━━━━━━━━━━┳━━━━━━━━━━━┳━━━━━━━━━━━━━┳━━━━━━━━━━━━┳━━━━━┳━━━━━━┳━━━━━━━┓\n",
       "┃<span style=\"font-weight: bold\"> optimizer </span>┃<span style=\"font-weight: bold\"> optimized_… </span>┃<span style=\"font-weight: bold\"> schedule_fn </span>┃<span style=\"font-weight: bold\"> scheduling… </span>┃<span style=\"font-weight: bold\"> transform </span>┃<span style=\"font-weight: bold\"> reduce_tra… </span>┃<span style=\"font-weight: bold\"> clip_glob… </span>┃<span style=\"font-weight: bold\"> b1  </span>┃<span style=\"font-weight: bold\"> b2   </span>┃<span style=\"font-weight: bold\"> eps   </span>┃\n",
       "┡━━━━━━━━━━━╇━━━━━━━━━━━━━╇━━━━━━━━━━━━━╇━━━━━━━━━━━━━╇━━━━━━━━━━━╇━━━━━━━━━━━━━╇━━━━━━━━━━━━╇━━━━━╇━━━━━━╇━━━━━━━┩\n",
       "│<span style=\"color: #808080; text-decoration-color: #808080\"> amsgrad   </span>│<span style=\"color: #ff0000; text-decoration-color: #ff0000\"> GradientTr… </span>│<span style=\"color: #00ff00; text-decoration-color: #00ff00\"> constant    </span>│<span style=\"color: #00d7d7; text-decoration-color: #00d7d7\"> &lt;function   </span>│<span style=\"color: #ffff00; text-decoration-color: #ffff00\"> None      </span>│<span style=\"color: #0000ff; text-decoration-color: #0000ff\"> GradientTr… </span>│<span style=\"color: #ff00ff; text-decoration-color: #ff00ff\"> 10.0       </span>│<span style=\"color: #00ffff; text-decoration-color: #00ffff\"> 0.9 </span>│<span style=\"color: #ffffff; text-decoration-color: #ffffff\"> 0.99 </span>│<span style=\"color: #d7af5f; text-decoration-color: #d7af5f\"> 0.001 </span>│\n",
       "│<span style=\"color: #808080; text-decoration-color: #808080\">           </span>│<span style=\"color: #ff0000; text-decoration-color: #ff0000\"> chain.&lt;loc… </span>│<span style=\"color: #00ff00; text-decoration-color: #00ff00\">             </span>│<span style=\"color: #00d7d7; text-decoration-color: #00d7d7\"> constant_s… </span>│<span style=\"color: #ffff00; text-decoration-color: #ffff00\">           </span>│<span style=\"color: #0000ff; text-decoration-color: #0000ff\"> reduce_on_… </span>│<span style=\"color: #ff00ff; text-decoration-color: #ff00ff\">            </span>│<span style=\"color: #00ffff; text-decoration-color: #00ffff\">     </span>│<span style=\"color: #ffffff; text-decoration-color: #ffffff\">      </span>│<span style=\"color: #d7af5f; text-decoration-color: #d7af5f\">       </span>│\n",
       "│<span style=\"color: #808080; text-decoration-color: #808080\">           </span>│<span style=\"color: #ff0000; text-decoration-color: #ff0000\"> at          </span>│<span style=\"color: #00ff00; text-decoration-color: #00ff00\">             </span>│<span style=\"color: #00d7d7; text-decoration-color: #00d7d7\"> at          </span>│<span style=\"color: #ffff00; text-decoration-color: #ffff00\">           </span>│<span style=\"color: #0000ff; text-decoration-color: #0000ff\"> at          </span>│<span style=\"color: #ff00ff; text-decoration-color: #ff00ff\">            </span>│<span style=\"color: #00ffff; text-decoration-color: #00ffff\">     </span>│<span style=\"color: #ffffff; text-decoration-color: #ffffff\">      </span>│<span style=\"color: #d7af5f; text-decoration-color: #d7af5f\">       </span>│\n",
       "│<span style=\"color: #808080; text-decoration-color: #808080\">           </span>│<span style=\"color: #ff0000; text-decoration-color: #ff0000\"> 0x14ea29ad… </span>│<span style=\"color: #00ff00; text-decoration-color: #00ff00\">             </span>│<span style=\"color: #00d7d7; text-decoration-color: #00d7d7\"> 0x14ea29ad… </span>│<span style=\"color: #ffff00; text-decoration-color: #ffff00\">           </span>│<span style=\"color: #0000ff; text-decoration-color: #0000ff\"> 0x14ea29ad… </span>│<span style=\"color: #ff00ff; text-decoration-color: #ff00ff\">            </span>│<span style=\"color: #00ffff; text-decoration-color: #00ffff\">     </span>│<span style=\"color: #ffffff; text-decoration-color: #ffffff\">      </span>│<span style=\"color: #d7af5f; text-decoration-color: #d7af5f\">       </span>│\n",
       "│<span style=\"color: #808080; text-decoration-color: #808080\">           </span>│<span style=\"color: #ff0000; text-decoration-color: #ff0000\"> update=&lt;fu… </span>│<span style=\"color: #00ff00; text-decoration-color: #00ff00\">             </span>│<span style=\"color: #00d7d7; text-decoration-color: #00d7d7\">             </span>│<span style=\"color: #ffff00; text-decoration-color: #ffff00\">           </span>│<span style=\"color: #0000ff; text-decoration-color: #0000ff\"> update=&lt;fu… </span>│<span style=\"color: #ff00ff; text-decoration-color: #ff00ff\">            </span>│<span style=\"color: #00ffff; text-decoration-color: #00ffff\">     </span>│<span style=\"color: #ffffff; text-decoration-color: #ffffff\">      </span>│<span style=\"color: #d7af5f; text-decoration-color: #d7af5f\">       </span>│\n",
       "│<span style=\"color: #808080; text-decoration-color: #808080\">           </span>│<span style=\"color: #ff0000; text-decoration-color: #ff0000\"> chain.&lt;loc… </span>│<span style=\"color: #00ff00; text-decoration-color: #00ff00\">             </span>│<span style=\"color: #00d7d7; text-decoration-color: #00d7d7\">             </span>│<span style=\"color: #ffff00; text-decoration-color: #ffff00\">           </span>│<span style=\"color: #0000ff; text-decoration-color: #0000ff\"> reduce_on_… </span>│<span style=\"color: #ff00ff; text-decoration-color: #ff00ff\">            </span>│<span style=\"color: #00ffff; text-decoration-color: #00ffff\">     </span>│<span style=\"color: #ffffff; text-decoration-color: #ffffff\">      </span>│<span style=\"color: #d7af5f; text-decoration-color: #d7af5f\">       </span>│\n",
       "│<span style=\"color: #808080; text-decoration-color: #808080\">           </span>│<span style=\"color: #ff0000; text-decoration-color: #ff0000\"> at          </span>│<span style=\"color: #00ff00; text-decoration-color: #00ff00\">             </span>│<span style=\"color: #00d7d7; text-decoration-color: #00d7d7\">             </span>│<span style=\"color: #ffff00; text-decoration-color: #ffff00\">           </span>│<span style=\"color: #0000ff; text-decoration-color: #0000ff\"> at          </span>│<span style=\"color: #ff00ff; text-decoration-color: #ff00ff\">            </span>│<span style=\"color: #00ffff; text-decoration-color: #00ffff\">     </span>│<span style=\"color: #ffffff; text-decoration-color: #ffffff\">      </span>│<span style=\"color: #d7af5f; text-decoration-color: #d7af5f\">       </span>│\n",
       "│<span style=\"color: #808080; text-decoration-color: #808080\">           </span>│<span style=\"color: #ff0000; text-decoration-color: #ff0000\"> 0x14ea29ad… </span>│<span style=\"color: #00ff00; text-decoration-color: #00ff00\">             </span>│<span style=\"color: #00d7d7; text-decoration-color: #00d7d7\">             </span>│<span style=\"color: #ffff00; text-decoration-color: #ffff00\">           </span>│<span style=\"color: #0000ff; text-decoration-color: #0000ff\"> 0x14ea29ad… </span>│<span style=\"color: #ff00ff; text-decoration-color: #ff00ff\">            </span>│<span style=\"color: #00ffff; text-decoration-color: #00ffff\">     </span>│<span style=\"color: #ffffff; text-decoration-color: #ffffff\">      </span>│<span style=\"color: #d7af5f; text-decoration-color: #d7af5f\">       </span>│\n",
       "└───────────┴─────────────┴─────────────┴─────────────┴───────────┴─────────────┴────────────┴─────┴──────┴───────┘\n",
       "</pre>\n"
      ],
      "text/plain": [
       "\u001b[3m                                                Optimizer Arguments                                                \u001b[0m\n",
       "┏━━━━━━━━━━━┳━━━━━━━━━━━━━┳━━━━━━━━━━━━━┳━━━━━━━━━━━━━┳━━━━━━━━━━━┳━━━━━━━━━━━━━┳━━━━━━━━━━━━┳━━━━━┳━━━━━━┳━━━━━━━┓\n",
       "┃\u001b[1m \u001b[0m\u001b[1moptimizer\u001b[0m\u001b[1m \u001b[0m┃\u001b[1m \u001b[0m\u001b[1moptimized_…\u001b[0m\u001b[1m \u001b[0m┃\u001b[1m \u001b[0m\u001b[1mschedule_fn\u001b[0m\u001b[1m \u001b[0m┃\u001b[1m \u001b[0m\u001b[1mscheduling…\u001b[0m\u001b[1m \u001b[0m┃\u001b[1m \u001b[0m\u001b[1mtransform\u001b[0m\u001b[1m \u001b[0m┃\u001b[1m \u001b[0m\u001b[1mreduce_tra…\u001b[0m\u001b[1m \u001b[0m┃\u001b[1m \u001b[0m\u001b[1mclip_glob…\u001b[0m\u001b[1m \u001b[0m┃\u001b[1m \u001b[0m\u001b[1mb1 \u001b[0m\u001b[1m \u001b[0m┃\u001b[1m \u001b[0m\u001b[1mb2  \u001b[0m\u001b[1m \u001b[0m┃\u001b[1m \u001b[0m\u001b[1meps  \u001b[0m\u001b[1m \u001b[0m┃\n",
       "┡━━━━━━━━━━━╇━━━━━━━━━━━━━╇━━━━━━━━━━━━━╇━━━━━━━━━━━━━╇━━━━━━━━━━━╇━━━━━━━━━━━━━╇━━━━━━━━━━━━╇━━━━━╇━━━━━━╇━━━━━━━┩\n",
       "│\u001b[90m \u001b[0m\u001b[90mamsgrad  \u001b[0m\u001b[90m \u001b[0m│\u001b[91m \u001b[0m\u001b[91mGradientTr…\u001b[0m\u001b[91m \u001b[0m│\u001b[92m \u001b[0m\u001b[92mconstant   \u001b[0m\u001b[92m \u001b[0m│\u001b[38;5;44m \u001b[0m\u001b[38;5;44m<function  \u001b[0m\u001b[38;5;44m \u001b[0m│\u001b[93m \u001b[0m\u001b[93mNone     \u001b[0m\u001b[93m \u001b[0m│\u001b[94m \u001b[0m\u001b[94mGradientTr…\u001b[0m\u001b[94m \u001b[0m│\u001b[95m \u001b[0m\u001b[95m10.0      \u001b[0m\u001b[95m \u001b[0m│\u001b[96m \u001b[0m\u001b[96m0.9\u001b[0m\u001b[96m \u001b[0m│\u001b[97m \u001b[0m\u001b[97m0.99\u001b[0m\u001b[97m \u001b[0m│\u001b[38;5;179m \u001b[0m\u001b[38;5;179m0.001\u001b[0m\u001b[38;5;179m \u001b[0m│\n",
       "│\u001b[90m           \u001b[0m│\u001b[91m \u001b[0m\u001b[91mchain.<loc…\u001b[0m\u001b[91m \u001b[0m│\u001b[92m             \u001b[0m│\u001b[38;5;44m \u001b[0m\u001b[38;5;44mconstant_s…\u001b[0m\u001b[38;5;44m \u001b[0m│\u001b[93m           \u001b[0m│\u001b[94m \u001b[0m\u001b[94mreduce_on_…\u001b[0m\u001b[94m \u001b[0m│\u001b[95m            \u001b[0m│\u001b[96m     \u001b[0m│\u001b[97m      \u001b[0m│\u001b[38;5;179m       \u001b[0m│\n",
       "│\u001b[90m           \u001b[0m│\u001b[91m \u001b[0m\u001b[91mat         \u001b[0m\u001b[91m \u001b[0m│\u001b[92m             \u001b[0m│\u001b[38;5;44m \u001b[0m\u001b[38;5;44mat         \u001b[0m\u001b[38;5;44m \u001b[0m│\u001b[93m           \u001b[0m│\u001b[94m \u001b[0m\u001b[94mat         \u001b[0m\u001b[94m \u001b[0m│\u001b[95m            \u001b[0m│\u001b[96m     \u001b[0m│\u001b[97m      \u001b[0m│\u001b[38;5;179m       \u001b[0m│\n",
       "│\u001b[90m           \u001b[0m│\u001b[91m \u001b[0m\u001b[91m0x14ea29ad…\u001b[0m\u001b[91m \u001b[0m│\u001b[92m             \u001b[0m│\u001b[38;5;44m \u001b[0m\u001b[38;5;44m0x14ea29ad…\u001b[0m\u001b[38;5;44m \u001b[0m│\u001b[93m           \u001b[0m│\u001b[94m \u001b[0m\u001b[94m0x14ea29ad…\u001b[0m\u001b[94m \u001b[0m│\u001b[95m            \u001b[0m│\u001b[96m     \u001b[0m│\u001b[97m      \u001b[0m│\u001b[38;5;179m       \u001b[0m│\n",
       "│\u001b[90m           \u001b[0m│\u001b[91m \u001b[0m\u001b[91mupdate=<fu…\u001b[0m\u001b[91m \u001b[0m│\u001b[92m             \u001b[0m│\u001b[38;5;44m             \u001b[0m│\u001b[93m           \u001b[0m│\u001b[94m \u001b[0m\u001b[94mupdate=<fu…\u001b[0m\u001b[94m \u001b[0m│\u001b[95m            \u001b[0m│\u001b[96m     \u001b[0m│\u001b[97m      \u001b[0m│\u001b[38;5;179m       \u001b[0m│\n",
       "│\u001b[90m           \u001b[0m│\u001b[91m \u001b[0m\u001b[91mchain.<loc…\u001b[0m\u001b[91m \u001b[0m│\u001b[92m             \u001b[0m│\u001b[38;5;44m             \u001b[0m│\u001b[93m           \u001b[0m│\u001b[94m \u001b[0m\u001b[94mreduce_on_…\u001b[0m\u001b[94m \u001b[0m│\u001b[95m            \u001b[0m│\u001b[96m     \u001b[0m│\u001b[97m      \u001b[0m│\u001b[38;5;179m       \u001b[0m│\n",
       "│\u001b[90m           \u001b[0m│\u001b[91m \u001b[0m\u001b[91mat         \u001b[0m\u001b[91m \u001b[0m│\u001b[92m             \u001b[0m│\u001b[38;5;44m             \u001b[0m│\u001b[93m           \u001b[0m│\u001b[94m \u001b[0m\u001b[94mat         \u001b[0m\u001b[94m \u001b[0m│\u001b[95m            \u001b[0m│\u001b[96m     \u001b[0m│\u001b[97m      \u001b[0m│\u001b[38;5;179m       \u001b[0m│\n",
       "│\u001b[90m           \u001b[0m│\u001b[91m \u001b[0m\u001b[91m0x14ea29ad…\u001b[0m\u001b[91m \u001b[0m│\u001b[92m             \u001b[0m│\u001b[38;5;44m             \u001b[0m│\u001b[93m           \u001b[0m│\u001b[94m \u001b[0m\u001b[94m0x14ea29ad…\u001b[0m\u001b[94m \u001b[0m│\u001b[95m            \u001b[0m│\u001b[96m     \u001b[0m│\u001b[97m      \u001b[0m│\u001b[38;5;179m       \u001b[0m│\n",
       "└───────────┴─────────────┴─────────────┴─────────────┴───────────┴─────────────┴────────────┴─────┴──────┴───────┘\n"
      ]
     },
     "metadata": {},
     "output_type": "display_data"
    },
    {
     "data": {
      "text/html": [
       "<pre style=\"white-space:pre;overflow-x:auto;line-height:normal;font-family:Menlo,'DejaVu Sans Mono',consolas,'Courier New',monospace\"><span style=\"font-style: italic\">                                    Training Parameters                                    </span>\n",
       "┏━━━━━━━━━━━━━━━┳━━━━━━━━━━━━━━━┳━━━━━━━━━━━━━━━┳━━━━━━━━━━━━━━━━┳━━━━━━━━━━━━┳━━━━━━━━━━━┓\n",
       "┃<span style=\"font-weight: bold\"> energy_weight </span>┃<span style=\"font-weight: bold\"> forces_weight </span>┃<span style=\"font-weight: bold\"> dipole_weight </span>┃<span style=\"font-weight: bold\"> charges_weight </span>┃<span style=\"font-weight: bold\"> batch_size </span>┃<span style=\"font-weight: bold\"> num_atoms </span>┃\n",
       "┡━━━━━━━━━━━━━━━╇━━━━━━━━━━━━━━━╇━━━━━━━━━━━━━━━╇━━━━━━━━━━━━━━━━╇━━━━━━━━━━━━╇━━━━━━━━━━━┩\n",
       "│<span style=\"color: #808080; text-decoration-color: #808080\"> 1             </span>│<span style=\"color: #ff0000; text-decoration-color: #ff0000\"> 52.91         </span>│<span style=\"color: #00ff00; text-decoration-color: #00ff00\"> 27.21         </span>│<span style=\"color: #00d7d7; text-decoration-color: #00d7d7\"> 14.39          </span>│<span style=\"color: #ffff00; text-decoration-color: #ffff00\"> 1          </span>│<span style=\"color: #0000ff; text-decoration-color: #0000ff\"> 10        </span>│\n",
       "└───────────────┴───────────────┴───────────────┴────────────────┴────────────┴───────────┘\n",
       "</pre>\n"
      ],
      "text/plain": [
       "\u001b[3m                                    Training Parameters                                    \u001b[0m\n",
       "┏━━━━━━━━━━━━━━━┳━━━━━━━━━━━━━━━┳━━━━━━━━━━━━━━━┳━━━━━━━━━━━━━━━━┳━━━━━━━━━━━━┳━━━━━━━━━━━┓\n",
       "┃\u001b[1m \u001b[0m\u001b[1menergy_weight\u001b[0m\u001b[1m \u001b[0m┃\u001b[1m \u001b[0m\u001b[1mforces_weight\u001b[0m\u001b[1m \u001b[0m┃\u001b[1m \u001b[0m\u001b[1mdipole_weight\u001b[0m\u001b[1m \u001b[0m┃\u001b[1m \u001b[0m\u001b[1mcharges_weight\u001b[0m\u001b[1m \u001b[0m┃\u001b[1m \u001b[0m\u001b[1mbatch_size\u001b[0m\u001b[1m \u001b[0m┃\u001b[1m \u001b[0m\u001b[1mnum_atoms\u001b[0m\u001b[1m \u001b[0m┃\n",
       "┡━━━━━━━━━━━━━━━╇━━━━━━━━━━━━━━━╇━━━━━━━━━━━━━━━╇━━━━━━━━━━━━━━━━╇━━━━━━━━━━━━╇━━━━━━━━━━━┩\n",
       "│\u001b[90m \u001b[0m\u001b[90m1            \u001b[0m\u001b[90m \u001b[0m│\u001b[91m \u001b[0m\u001b[91m52.91        \u001b[0m\u001b[91m \u001b[0m│\u001b[92m \u001b[0m\u001b[92m27.21        \u001b[0m\u001b[92m \u001b[0m│\u001b[38;5;44m \u001b[0m\u001b[38;5;44m14.39         \u001b[0m\u001b[38;5;44m \u001b[0m│\u001b[93m \u001b[0m\u001b[93m1         \u001b[0m\u001b[93m \u001b[0m│\u001b[94m \u001b[0m\u001b[94m10       \u001b[0m\u001b[94m \u001b[0m│\n",
       "└───────────────┴───────────────┴───────────────┴────────────────┴────────────┴───────────┘\n"
      ]
     },
     "metadata": {},
     "output_type": "display_data"
    },
    {
     "data": {
      "text/html": [
       "<pre style=\"white-space:pre;overflow-x:auto;line-height:normal;font-family:Menlo,'DejaVu Sans Mono',consolas,'Courier New',monospace\"><span style=\"font-style: italic\">                           Training Style                            </span>\n",
       "┏━━━━━━━━━┳━━━━━━━━━━━┳━━━━━━━━━━━━━━━━━━━━━━━━━━━━━━━━┳━━━━━━━━━━━━┓\n",
       "┃<span style=\"font-weight: bold\"> restart </span>┃<span style=\"font-weight: bold\"> best      </span>┃<span style=\"font-weight: bold\"> data_keys                      </span>┃<span style=\"font-weight: bold\"> objective  </span>┃\n",
       "┡━━━━━━━━━╇━━━━━━━━━━━╇━━━━━━━━━━━━━━━━━━━━━━━━━━━━━━━━╇━━━━━━━━━━━━┩\n",
       "│<span style=\"color: #808080; text-decoration-color: #808080\"> False   </span>│<span style=\"color: #ff0000; text-decoration-color: #ff0000\"> 1000000.0 </span>│<span style=\"color: #00ff00; text-decoration-color: #00ff00\"> ('Z', 'R', 'D', 'E', 'F', 'N') </span>│<span style=\"color: #00d7d7; text-decoration-color: #00d7d7\"> valid_loss </span>│\n",
       "└─────────┴───────────┴────────────────────────────────┴────────────┘\n",
       "</pre>\n"
      ],
      "text/plain": [
       "\u001b[3m                           Training Style                            \u001b[0m\n",
       "┏━━━━━━━━━┳━━━━━━━━━━━┳━━━━━━━━━━━━━━━━━━━━━━━━━━━━━━━━┳━━━━━━━━━━━━┓\n",
       "┃\u001b[1m \u001b[0m\u001b[1mrestart\u001b[0m\u001b[1m \u001b[0m┃\u001b[1m \u001b[0m\u001b[1mbest     \u001b[0m\u001b[1m \u001b[0m┃\u001b[1m \u001b[0m\u001b[1mdata_keys                     \u001b[0m\u001b[1m \u001b[0m┃\u001b[1m \u001b[0m\u001b[1mobjective \u001b[0m\u001b[1m \u001b[0m┃\n",
       "┡━━━━━━━━━╇━━━━━━━━━━━╇━━━━━━━━━━━━━━━━━━━━━━━━━━━━━━━━╇━━━━━━━━━━━━┩\n",
       "│\u001b[90m \u001b[0m\u001b[90mFalse  \u001b[0m\u001b[90m \u001b[0m│\u001b[91m \u001b[0m\u001b[91m1000000.0\u001b[0m\u001b[91m \u001b[0m│\u001b[92m \u001b[0m\u001b[92m('Z', 'R', 'D', 'E', 'F', 'N')\u001b[0m\u001b[92m \u001b[0m│\u001b[38;5;44m \u001b[0m\u001b[38;5;44mvalid_loss\u001b[0m\u001b[38;5;44m \u001b[0m│\n",
       "└─────────┴───────────┴────────────────────────────────┴────────────┘\n"
      ]
     },
     "metadata": {},
     "output_type": "display_data"
    },
    {
     "name": "stderr",
     "output_type": "stream",
     "text": [
      "2025-02-07 18:04:56.966424: E external/xla/xla/service/slow_operation_alarm.cc:73] \n",
      "********************************\n",
      "[Compiling module jit_prepare_batches_jit] Very slow compile? If you want to file a bug, run with envvar XLA_FLAGS=--xla_dump_to=/tmp/foo and attach the results.\n",
      "********************************\n",
      "2025-02-07 18:05:07.660600: E external/xla/xla/service/slow_operation_alarm.cc:140] The operation took 2m10.694253991s\n",
      "\n",
      "********************************\n",
      "[Compiling module jit_prepare_batches_jit] Very slow compile? If you want to file a bug, run with envvar XLA_FLAGS=--xla_dump_to=/tmp/foo and attach the results.\n",
      "********************************\n"
     ]
    },
    {
     "data": {
      "text/html": [
       "<pre style=\"white-space:pre;overflow-x:auto;line-height:normal;font-family:Menlo,'DejaVu Sans Mono',consolas,'Courier New',monospace\"><span style=\"font-style: italic\">                                                Validation Batch[0]                                                </span>\n",
       "┏━━━━━━━━┳━━━━━━━━┳━━━━━━━━━┳━━━━━━┳━━━━━━━━━┳━━━━━━━┳━━━━━━━━━━━┳━━━━━━━━━━━━┳━━━━━━━━━━━━━━━┳━━━━━━━━━┳━━━━━━━━━┓\n",
       "┃<span style=\"font-weight: bold\"> D      </span>┃<span style=\"font-weight: bold\"> E      </span>┃<span style=\"font-weight: bold\"> F       </span>┃<span style=\"font-weight: bold\"> N    </span>┃<span style=\"font-weight: bold\"> R       </span>┃<span style=\"font-weight: bold\"> Z     </span>┃<span style=\"font-weight: bold\"> atom_mask </span>┃<span style=\"font-weight: bold\"> batch_mask </span>┃<span style=\"font-weight: bold\"> batch_segmen… </span>┃<span style=\"font-weight: bold\"> dst_idx </span>┃<span style=\"font-weight: bold\"> src_idx </span>┃\n",
       "┡━━━━━━━━╇━━━━━━━━╇━━━━━━━━━╇━━━━━━╇━━━━━━━━━╇━━━━━━━╇━━━━━━━━━━━╇━━━━━━━━━━━━╇━━━━━━━━━━━━━━━╇━━━━━━━━━╇━━━━━━━━━┩\n",
       "│<span style=\"color: #808080; text-decoration-color: #808080\"> (1, 3) </span>│<span style=\"color: #ff0000; text-decoration-color: #ff0000\"> (1, 1) </span>│<span style=\"color: #00ff00; text-decoration-color: #00ff00\"> (10, 3) </span>│<span style=\"color: #00d7d7; text-decoration-color: #00d7d7\"> (1,) </span>│<span style=\"color: #ffff00; text-decoration-color: #ffff00\"> (10, 3) </span>│<span style=\"color: #0000ff; text-decoration-color: #0000ff\"> (10,) </span>│<span style=\"color: #ff00ff; text-decoration-color: #ff00ff\"> (10,)     </span>│<span style=\"color: #00ffff; text-decoration-color: #00ffff\"> (90,)      </span>│<span style=\"color: #ffffff; text-decoration-color: #ffffff\"> (10,)         </span>│<span style=\"color: #d7af5f; text-decoration-color: #d7af5f\"> (90,)   </span>│<span style=\"color: #00d75f; text-decoration-color: #00d75f\"> (90,)   </span>│\n",
       "└────────┴────────┴─────────┴──────┴─────────┴───────┴───────────┴────────────┴───────────────┴─────────┴─────────┘\n",
       "</pre>\n"
      ],
      "text/plain": [
       "\u001b[3m                                                Validation Batch[0]                                                \u001b[0m\n",
       "┏━━━━━━━━┳━━━━━━━━┳━━━━━━━━━┳━━━━━━┳━━━━━━━━━┳━━━━━━━┳━━━━━━━━━━━┳━━━━━━━━━━━━┳━━━━━━━━━━━━━━━┳━━━━━━━━━┳━━━━━━━━━┓\n",
       "┃\u001b[1m \u001b[0m\u001b[1mD     \u001b[0m\u001b[1m \u001b[0m┃\u001b[1m \u001b[0m\u001b[1mE     \u001b[0m\u001b[1m \u001b[0m┃\u001b[1m \u001b[0m\u001b[1mF      \u001b[0m\u001b[1m \u001b[0m┃\u001b[1m \u001b[0m\u001b[1mN   \u001b[0m\u001b[1m \u001b[0m┃\u001b[1m \u001b[0m\u001b[1mR      \u001b[0m\u001b[1m \u001b[0m┃\u001b[1m \u001b[0m\u001b[1mZ    \u001b[0m\u001b[1m \u001b[0m┃\u001b[1m \u001b[0m\u001b[1matom_mask\u001b[0m\u001b[1m \u001b[0m┃\u001b[1m \u001b[0m\u001b[1mbatch_mask\u001b[0m\u001b[1m \u001b[0m┃\u001b[1m \u001b[0m\u001b[1mbatch_segmen…\u001b[0m\u001b[1m \u001b[0m┃\u001b[1m \u001b[0m\u001b[1mdst_idx\u001b[0m\u001b[1m \u001b[0m┃\u001b[1m \u001b[0m\u001b[1msrc_idx\u001b[0m\u001b[1m \u001b[0m┃\n",
       "┡━━━━━━━━╇━━━━━━━━╇━━━━━━━━━╇━━━━━━╇━━━━━━━━━╇━━━━━━━╇━━━━━━━━━━━╇━━━━━━━━━━━━╇━━━━━━━━━━━━━━━╇━━━━━━━━━╇━━━━━━━━━┩\n",
       "│\u001b[90m \u001b[0m\u001b[90m(1, 3)\u001b[0m\u001b[90m \u001b[0m│\u001b[91m \u001b[0m\u001b[91m(1, 1)\u001b[0m\u001b[91m \u001b[0m│\u001b[92m \u001b[0m\u001b[92m(10, 3)\u001b[0m\u001b[92m \u001b[0m│\u001b[38;5;44m \u001b[0m\u001b[38;5;44m(1,)\u001b[0m\u001b[38;5;44m \u001b[0m│\u001b[93m \u001b[0m\u001b[93m(10, 3)\u001b[0m\u001b[93m \u001b[0m│\u001b[94m \u001b[0m\u001b[94m(10,)\u001b[0m\u001b[94m \u001b[0m│\u001b[95m \u001b[0m\u001b[95m(10,)    \u001b[0m\u001b[95m \u001b[0m│\u001b[96m \u001b[0m\u001b[96m(90,)     \u001b[0m\u001b[96m \u001b[0m│\u001b[97m \u001b[0m\u001b[97m(10,)        \u001b[0m\u001b[97m \u001b[0m│\u001b[38;5;179m \u001b[0m\u001b[38;5;179m(90,)  \u001b[0m\u001b[38;5;179m \u001b[0m│\u001b[38;5;41m \u001b[0m\u001b[38;5;41m(90,)  \u001b[0m\u001b[38;5;41m \u001b[0m│\n",
       "└────────┴────────┴─────────┴──────┴─────────┴───────┴───────────┴────────────┴───────────────┴─────────┴─────────┘\n"
      ]
     },
     "metadata": {},
     "output_type": "display_data"
    },
    {
     "name": "stdout",
     "output_type": "stream",
     "text": [
      "Extra Validation Info:\n",
      "Z: Array[2099, 10] i32 n=20990 (82Kb) x∈[0, 17] μ=7.984 σ=7.304 cpu:0\n",
      "R: Array[2099, 10, 3] n=62970 (0.2Mb) x∈[-17.787, 17.716] μ=0.017 σ=8.742 cpu:0\n",
      "E: Array[2099, 1] 8.2Kb x∈[1.040e+03, 2.081e+03] μ=1.978e+03 σ=310.847 cpu:0\n",
      "N: Array[2099, 1] i32 8.2Kb x∈[5, 10] μ=9.505 σ=1.494 cpu:0\n",
      "F: Array[2099, 10, 3] n=62970 (0.2Mb) x∈[-4.273, 4.306] μ=-3.711e-10 σ=0.737 cpu:0\n"
     ]
    },
    {
     "data": {
      "text/html": [
       "<pre style=\"white-space:pre;overflow-x:auto;line-height:normal;font-family:Menlo,'DejaVu Sans Mono',consolas,'Courier New',monospace\"><span style=\"font-style: italic\">                                                                       Model Attributes                                                                        </span>\n",
       "┏━━━━━━━━━━┳━━━━━━━━━━━━┳━━━━━━━━━━━━━━━━┳━━━━━━━━━━━━━━━━━━━━━┳━━━━━━━━┳━━━━━━━━━━━━━━━━━━━┳━━━━━━━━━┳━━━━━━━━┳━━━━━━━━━━━━━━┳━━━━━━━┳━━━━━━━┳━━━━━━━┳━━━━━━━┓\n",
       "┃<span style=\"font-weight: bold\"> features </span>┃<span style=\"font-weight: bold\"> max_degree </span>┃<span style=\"font-weight: bold\"> num_iterations </span>┃<span style=\"font-weight: bold\"> num_basis_functions </span>┃<span style=\"font-weight: bold\"> cutoff </span>┃<span style=\"font-weight: bold\"> max_atomic_number </span>┃<span style=\"font-weight: bold\"> charges </span>┃<span style=\"font-weight: bold\"> natoms </span>┃<span style=\"font-weight: bold\"> total_charge </span>┃<span style=\"font-weight: bold\"> n_res </span>┃<span style=\"font-weight: bold\"> zbl   </span>┃<span style=\"font-weight: bold\"> debug </span>┃<span style=\"font-weight: bold\"> efa   </span>┃\n",
       "┡━━━━━━━━━━╇━━━━━━━━━━━━╇━━━━━━━━━━━━━━━━╇━━━━━━━━━━━━━━━━━━━━━╇━━━━━━━━╇━━━━━━━━━━━━━━━━━━━╇━━━━━━━━━╇━━━━━━━━╇━━━━━━━━━━━━━━╇━━━━━━━╇━━━━━━━╇━━━━━━━╇━━━━━━━┩\n",
       "│<span style=\"color: #808080; text-decoration-color: #808080\"> 128      </span>│<span style=\"color: #ff0000; text-decoration-color: #ff0000\"> 0          </span>│<span style=\"color: #00ff00; text-decoration-color: #00ff00\"> 5              </span>│<span style=\"color: #00d7d7; text-decoration-color: #00d7d7\"> 64                  </span>│<span style=\"color: #ffff00; text-decoration-color: #ffff00\"> 10.0   </span>│<span style=\"color: #0000ff; text-decoration-color: #0000ff\"> 18                </span>│<span style=\"color: #ff00ff; text-decoration-color: #ff00ff\"> False   </span>│<span style=\"color: #00ffff; text-decoration-color: #00ffff\"> 10     </span>│<span style=\"color: #ffffff; text-decoration-color: #ffffff\"> 0            </span>│<span style=\"color: #d7af5f; text-decoration-color: #d7af5f\"> 3     </span>│<span style=\"color: #00d75f; text-decoration-color: #00d75f\"> False </span>│<span style=\"color: #d7d7af; text-decoration-color: #d7d7af\"> False </span>│<span style=\"color: #00ffff; text-decoration-color: #00ffff\"> False </span>│\n",
       "└──────────┴────────────┴────────────────┴─────────────────────┴────────┴───────────────────┴─────────┴────────┴──────────────┴───────┴───────┴───────┴───────┘\n",
       "</pre>\n"
      ],
      "text/plain": [
       "\u001b[3m                                                                       Model Attributes                                                                        \u001b[0m\n",
       "┏━━━━━━━━━━┳━━━━━━━━━━━━┳━━━━━━━━━━━━━━━━┳━━━━━━━━━━━━━━━━━━━━━┳━━━━━━━━┳━━━━━━━━━━━━━━━━━━━┳━━━━━━━━━┳━━━━━━━━┳━━━━━━━━━━━━━━┳━━━━━━━┳━━━━━━━┳━━━━━━━┳━━━━━━━┓\n",
       "┃\u001b[1m \u001b[0m\u001b[1mfeatures\u001b[0m\u001b[1m \u001b[0m┃\u001b[1m \u001b[0m\u001b[1mmax_degree\u001b[0m\u001b[1m \u001b[0m┃\u001b[1m \u001b[0m\u001b[1mnum_iterations\u001b[0m\u001b[1m \u001b[0m┃\u001b[1m \u001b[0m\u001b[1mnum_basis_functions\u001b[0m\u001b[1m \u001b[0m┃\u001b[1m \u001b[0m\u001b[1mcutoff\u001b[0m\u001b[1m \u001b[0m┃\u001b[1m \u001b[0m\u001b[1mmax_atomic_number\u001b[0m\u001b[1m \u001b[0m┃\u001b[1m \u001b[0m\u001b[1mcharges\u001b[0m\u001b[1m \u001b[0m┃\u001b[1m \u001b[0m\u001b[1mnatoms\u001b[0m\u001b[1m \u001b[0m┃\u001b[1m \u001b[0m\u001b[1mtotal_charge\u001b[0m\u001b[1m \u001b[0m┃\u001b[1m \u001b[0m\u001b[1mn_res\u001b[0m\u001b[1m \u001b[0m┃\u001b[1m \u001b[0m\u001b[1mzbl  \u001b[0m\u001b[1m \u001b[0m┃\u001b[1m \u001b[0m\u001b[1mdebug\u001b[0m\u001b[1m \u001b[0m┃\u001b[1m \u001b[0m\u001b[1mefa  \u001b[0m\u001b[1m \u001b[0m┃\n",
       "┡━━━━━━━━━━╇━━━━━━━━━━━━╇━━━━━━━━━━━━━━━━╇━━━━━━━━━━━━━━━━━━━━━╇━━━━━━━━╇━━━━━━━━━━━━━━━━━━━╇━━━━━━━━━╇━━━━━━━━╇━━━━━━━━━━━━━━╇━━━━━━━╇━━━━━━━╇━━━━━━━╇━━━━━━━┩\n",
       "│\u001b[90m \u001b[0m\u001b[90m128     \u001b[0m\u001b[90m \u001b[0m│\u001b[91m \u001b[0m\u001b[91m0         \u001b[0m\u001b[91m \u001b[0m│\u001b[92m \u001b[0m\u001b[92m5             \u001b[0m\u001b[92m \u001b[0m│\u001b[38;5;44m \u001b[0m\u001b[38;5;44m64                 \u001b[0m\u001b[38;5;44m \u001b[0m│\u001b[93m \u001b[0m\u001b[93m10.0  \u001b[0m\u001b[93m \u001b[0m│\u001b[94m \u001b[0m\u001b[94m18               \u001b[0m\u001b[94m \u001b[0m│\u001b[95m \u001b[0m\u001b[95mFalse  \u001b[0m\u001b[95m \u001b[0m│\u001b[96m \u001b[0m\u001b[96m10    \u001b[0m\u001b[96m \u001b[0m│\u001b[97m \u001b[0m\u001b[97m0           \u001b[0m\u001b[97m \u001b[0m│\u001b[38;5;179m \u001b[0m\u001b[38;5;179m3    \u001b[0m\u001b[38;5;179m \u001b[0m│\u001b[38;5;41m \u001b[0m\u001b[38;5;41mFalse\u001b[0m\u001b[38;5;41m \u001b[0m│\u001b[38;5;187m \u001b[0m\u001b[38;5;187mFalse\u001b[0m\u001b[38;5;187m \u001b[0m│\u001b[96m \u001b[0m\u001b[96mFalse\u001b[0m\u001b[96m \u001b[0m│\n",
       "└──────────┴────────────┴────────────────┴─────────────────────┴────────┴───────────────────┴─────────┴────────┴──────────────┴───────┴───────┴───────┴───────┘\n"
      ]
     },
     "metadata": {},
     "output_type": "display_data"
    },
    {
     "name": "stdout",
     "output_type": "stream",
     "text": [
      "Running on 1 devices: [CudaDevice(id=0)]\n",
      "Data sharding for R\n",
      "Data sharding for Z\n"
     ]
    },
    {
     "data": {
      "text/html": [
       "<pre style=\"white-space:pre;overflow-x:auto;line-height:normal;font-family:Menlo,'DejaVu Sans Mono',consolas,'Courier New',monospace\"><span style=\"color: #ffffff; text-decoration-color: #ffffff; background-color: #393b79\">         </span>\n",
       "<span style=\"color: #ffffff; text-decoration-color: #ffffff; background-color: #393b79\">         </span>\n",
       "<span style=\"color: #ffffff; text-decoration-color: #ffffff; background-color: #393b79\">         </span>\n",
       "<span style=\"color: #ffffff; text-decoration-color: #ffffff; background-color: #393b79\">         </span>\n",
       "<span style=\"color: #ffffff; text-decoration-color: #ffffff; background-color: #393b79\">         </span>\n",
       "<span style=\"color: #ffffff; text-decoration-color: #ffffff; background-color: #393b79\">  GPU 0  </span>\n",
       "<span style=\"color: #ffffff; text-decoration-color: #ffffff; background-color: #393b79\">         </span>\n",
       "<span style=\"color: #ffffff; text-decoration-color: #ffffff; background-color: #393b79\">         </span>\n",
       "<span style=\"color: #ffffff; text-decoration-color: #ffffff; background-color: #393b79\">         </span>\n",
       "<span style=\"color: #ffffff; text-decoration-color: #ffffff; background-color: #393b79\">         </span>\n",
       "<span style=\"color: #ffffff; text-decoration-color: #ffffff; background-color: #393b79\">         </span>\n",
       "</pre>\n"
      ],
      "text/plain": [
       "\u001b[38;2;255;255;255;48;2;57;59;121m         \u001b[0m\n",
       "\u001b[38;2;255;255;255;48;2;57;59;121m         \u001b[0m\n",
       "\u001b[38;2;255;255;255;48;2;57;59;121m         \u001b[0m\n",
       "\u001b[38;2;255;255;255;48;2;57;59;121m         \u001b[0m\n",
       "\u001b[38;2;255;255;255;48;2;57;59;121m         \u001b[0m\n",
       "\u001b[38;2;255;255;255;48;2;57;59;121m  \u001b[0m\u001b[38;2;255;255;255;48;2;57;59;121mGPU 0\u001b[0m\u001b[38;2;255;255;255;48;2;57;59;121m  \u001b[0m\n",
       "\u001b[38;2;255;255;255;48;2;57;59;121m         \u001b[0m\n",
       "\u001b[38;2;255;255;255;48;2;57;59;121m         \u001b[0m\n",
       "\u001b[38;2;255;255;255;48;2;57;59;121m         \u001b[0m\n",
       "\u001b[38;2;255;255;255;48;2;57;59;121m         \u001b[0m\n",
       "\u001b[38;2;255;255;255;48;2;57;59;121m         \u001b[0m\n"
      ]
     },
     "metadata": {},
     "output_type": "display_data"
    },
    {
     "name": "stdout",
     "output_type": "stream",
     "text": [
      "Data sharding for F\n",
      "Data sharding for E\n"
     ]
    },
    {
     "data": {
      "text/html": [
       "<pre style=\"white-space:pre;overflow-x:auto;line-height:normal;font-family:Menlo,'DejaVu Sans Mono',consolas,'Courier New',monospace\"><span style=\"color: #ffffff; text-decoration-color: #ffffff; background-color: #393b79\">         </span>\n",
       "<span style=\"color: #ffffff; text-decoration-color: #ffffff; background-color: #393b79\">         </span>\n",
       "<span style=\"color: #ffffff; text-decoration-color: #ffffff; background-color: #393b79\">         </span>\n",
       "<span style=\"color: #ffffff; text-decoration-color: #ffffff; background-color: #393b79\">         </span>\n",
       "<span style=\"color: #ffffff; text-decoration-color: #ffffff; background-color: #393b79\">         </span>\n",
       "<span style=\"color: #ffffff; text-decoration-color: #ffffff; background-color: #393b79\">  GPU 0  </span>\n",
       "<span style=\"color: #ffffff; text-decoration-color: #ffffff; background-color: #393b79\">         </span>\n",
       "<span style=\"color: #ffffff; text-decoration-color: #ffffff; background-color: #393b79\">         </span>\n",
       "<span style=\"color: #ffffff; text-decoration-color: #ffffff; background-color: #393b79\">         </span>\n",
       "<span style=\"color: #ffffff; text-decoration-color: #ffffff; background-color: #393b79\">         </span>\n",
       "<span style=\"color: #ffffff; text-decoration-color: #ffffff; background-color: #393b79\">         </span>\n",
       "</pre>\n"
      ],
      "text/plain": [
       "\u001b[38;2;255;255;255;48;2;57;59;121m         \u001b[0m\n",
       "\u001b[38;2;255;255;255;48;2;57;59;121m         \u001b[0m\n",
       "\u001b[38;2;255;255;255;48;2;57;59;121m         \u001b[0m\n",
       "\u001b[38;2;255;255;255;48;2;57;59;121m         \u001b[0m\n",
       "\u001b[38;2;255;255;255;48;2;57;59;121m         \u001b[0m\n",
       "\u001b[38;2;255;255;255;48;2;57;59;121m  \u001b[0m\u001b[38;2;255;255;255;48;2;57;59;121mGPU 0\u001b[0m\u001b[38;2;255;255;255;48;2;57;59;121m  \u001b[0m\n",
       "\u001b[38;2;255;255;255;48;2;57;59;121m         \u001b[0m\n",
       "\u001b[38;2;255;255;255;48;2;57;59;121m         \u001b[0m\n",
       "\u001b[38;2;255;255;255;48;2;57;59;121m         \u001b[0m\n",
       "\u001b[38;2;255;255;255;48;2;57;59;121m         \u001b[0m\n",
       "\u001b[38;2;255;255;255;48;2;57;59;121m         \u001b[0m\n"
      ]
     },
     "metadata": {},
     "output_type": "display_data"
    },
    {
     "name": "stdout",
     "output_type": "stream",
     "text": [
      "Data sharding for N\n"
     ]
    },
    {
     "data": {
      "text/html": [
       "<pre style=\"white-space:pre;overflow-x:auto;line-height:normal;font-family:Menlo,'DejaVu Sans Mono',consolas,'Courier New',monospace\"><span style=\"color: #ffffff; text-decoration-color: #ffffff; background-color: #393b79\">         </span>\n",
       "<span style=\"color: #ffffff; text-decoration-color: #ffffff; background-color: #393b79\">         </span>\n",
       "<span style=\"color: #ffffff; text-decoration-color: #ffffff; background-color: #393b79\">         </span>\n",
       "<span style=\"color: #ffffff; text-decoration-color: #ffffff; background-color: #393b79\">         </span>\n",
       "<span style=\"color: #ffffff; text-decoration-color: #ffffff; background-color: #393b79\">         </span>\n",
       "<span style=\"color: #ffffff; text-decoration-color: #ffffff; background-color: #393b79\">  GPU 0  </span>\n",
       "<span style=\"color: #ffffff; text-decoration-color: #ffffff; background-color: #393b79\">         </span>\n",
       "<span style=\"color: #ffffff; text-decoration-color: #ffffff; background-color: #393b79\">         </span>\n",
       "<span style=\"color: #ffffff; text-decoration-color: #ffffff; background-color: #393b79\">         </span>\n",
       "<span style=\"color: #ffffff; text-decoration-color: #ffffff; background-color: #393b79\">         </span>\n",
       "<span style=\"color: #ffffff; text-decoration-color: #ffffff; background-color: #393b79\">         </span>\n",
       "</pre>\n"
      ],
      "text/plain": [
       "\u001b[38;2;255;255;255;48;2;57;59;121m         \u001b[0m\n",
       "\u001b[38;2;255;255;255;48;2;57;59;121m         \u001b[0m\n",
       "\u001b[38;2;255;255;255;48;2;57;59;121m         \u001b[0m\n",
       "\u001b[38;2;255;255;255;48;2;57;59;121m         \u001b[0m\n",
       "\u001b[38;2;255;255;255;48;2;57;59;121m         \u001b[0m\n",
       "\u001b[38;2;255;255;255;48;2;57;59;121m  \u001b[0m\u001b[38;2;255;255;255;48;2;57;59;121mGPU 0\u001b[0m\u001b[38;2;255;255;255;48;2;57;59;121m  \u001b[0m\n",
       "\u001b[38;2;255;255;255;48;2;57;59;121m         \u001b[0m\n",
       "\u001b[38;2;255;255;255;48;2;57;59;121m         \u001b[0m\n",
       "\u001b[38;2;255;255;255;48;2;57;59;121m         \u001b[0m\n",
       "\u001b[38;2;255;255;255;48;2;57;59;121m         \u001b[0m\n",
       "\u001b[38;2;255;255;255;48;2;57;59;121m         \u001b[0m\n"
      ]
     },
     "metadata": {},
     "output_type": "display_data"
    },
    {
     "name": "stdout",
     "output_type": "stream",
     "text": [
      "Data sharding for D\n"
     ]
    },
    {
     "data": {
      "text/html": [
       "<pre style=\"white-space:pre;overflow-x:auto;line-height:normal;font-family:Menlo,'DejaVu Sans Mono',consolas,'Courier New',monospace\"><span style=\"color: #ffffff; text-decoration-color: #ffffff; background-color: #393b79\">         </span>\n",
       "<span style=\"color: #ffffff; text-decoration-color: #ffffff; background-color: #393b79\">         </span>\n",
       "<span style=\"color: #ffffff; text-decoration-color: #ffffff; background-color: #393b79\">         </span>\n",
       "<span style=\"color: #ffffff; text-decoration-color: #ffffff; background-color: #393b79\">         </span>\n",
       "<span style=\"color: #ffffff; text-decoration-color: #ffffff; background-color: #393b79\">         </span>\n",
       "<span style=\"color: #ffffff; text-decoration-color: #ffffff; background-color: #393b79\">  GPU 0  </span>\n",
       "<span style=\"color: #ffffff; text-decoration-color: #ffffff; background-color: #393b79\">         </span>\n",
       "<span style=\"color: #ffffff; text-decoration-color: #ffffff; background-color: #393b79\">         </span>\n",
       "<span style=\"color: #ffffff; text-decoration-color: #ffffff; background-color: #393b79\">         </span>\n",
       "<span style=\"color: #ffffff; text-decoration-color: #ffffff; background-color: #393b79\">         </span>\n",
       "<span style=\"color: #ffffff; text-decoration-color: #ffffff; background-color: #393b79\">         </span>\n",
       "</pre>\n"
      ],
      "text/plain": [
       "\u001b[38;2;255;255;255;48;2;57;59;121m         \u001b[0m\n",
       "\u001b[38;2;255;255;255;48;2;57;59;121m         \u001b[0m\n",
       "\u001b[38;2;255;255;255;48;2;57;59;121m         \u001b[0m\n",
       "\u001b[38;2;255;255;255;48;2;57;59;121m         \u001b[0m\n",
       "\u001b[38;2;255;255;255;48;2;57;59;121m         \u001b[0m\n",
       "\u001b[38;2;255;255;255;48;2;57;59;121m  \u001b[0m\u001b[38;2;255;255;255;48;2;57;59;121mGPU 0\u001b[0m\u001b[38;2;255;255;255;48;2;57;59;121m  \u001b[0m\n",
       "\u001b[38;2;255;255;255;48;2;57;59;121m         \u001b[0m\n",
       "\u001b[38;2;255;255;255;48;2;57;59;121m         \u001b[0m\n",
       "\u001b[38;2;255;255;255;48;2;57;59;121m         \u001b[0m\n",
       "\u001b[38;2;255;255;255;48;2;57;59;121m         \u001b[0m\n",
       "\u001b[38;2;255;255;255;48;2;57;59;121m         \u001b[0m\n"
      ]
     },
     "metadata": {},
     "output_type": "display_data"
    },
    {
     "name": "stdout",
     "output_type": "stream",
     "text": [
      "Data sharding for Q\n"
     ]
    },
    {
     "data": {
      "text/html": [
       "<pre style=\"white-space:pre;overflow-x:auto;line-height:normal;font-family:Menlo,'DejaVu Sans Mono',consolas,'Courier New',monospace\"><span style=\"color: #ffffff; text-decoration-color: #ffffff; background-color: #393b79\">  GPU 0  </span>\n",
       "<span style=\"color: #ffffff; text-decoration-color: #ffffff; background-color: #393b79\">         </span>\n",
       "</pre>\n"
      ],
      "text/plain": [
       "\u001b[38;2;255;255;255;48;2;57;59;121m  \u001b[0m\u001b[38;2;255;255;255;48;2;57;59;121mGPU 0\u001b[0m\u001b[38;2;255;255;255;48;2;57;59;121m  \u001b[0m\n",
       "\u001b[38;2;255;255;255;48;2;57;59;121m         \u001b[0m\n"
      ]
     },
     "metadata": {},
     "output_type": "display_data"
    },
    {
     "name": "stdout",
     "output_type": "stream",
     "text": [
      "Data sharding\n"
     ]
    }
   ],
   "source": [
    "DEFAULT_DATA_KEYS = [\"Z\", \"R\", \"D\", \"E\", \"F\", \"N\"]\n",
    "\n",
    "params = train_model(\n",
    "    train_key,\n",
    "    model,\n",
    "    train_data,\n",
    "    valid_data,\n",
    "    num_epochs=10, #int(1e6),\n",
    "    learning_rate=0.001,\n",
    "    energy_weight=1,\n",
    "    # charges_weight=1,\n",
    "    # forces_weight=100,\n",
    "    schedule_fn=\"constant\",\n",
    "    optimizer=\"amsgrad\",\n",
    "    batch_size=1,\n",
    "    num_atoms=NATOMS,\n",
    "    data_keys=DEFAULT_DATA_KEYS,\n",
    "    # restart=restart,\n",
    "    name=\"dichloromethane\",\n",
    "    print_freq=1,\n",
    "    objective=\"valid_loss\",\n",
    "    best=1e6,\n",
    "    batch_method=\"default\",\n",
    ")\n"
   ]
  },
  {
   "cell_type": "code",
   "execution_count": null,
   "id": "791a875d-b8ba-4d11-a57d-5bdebca20583",
   "metadata": {},
   "outputs": [],
   "source": []
  }
 ],
 "metadata": {
  "kernelspec": {
   "display_name": "physnetjax",
   "language": "python",
   "name": "jaxphyscharmm"
  },
  "language_info": {
   "codemirror_mode": {
    "name": "ipython",
    "version": 3
   },
   "file_extension": ".py",
   "mimetype": "text/x-python",
   "name": "python",
   "nbconvert_exporter": "python",
   "pygments_lexer": "ipython3",
   "version": "3.12.7"
  }
 },
 "nbformat": 4,
 "nbformat_minor": 5
}
