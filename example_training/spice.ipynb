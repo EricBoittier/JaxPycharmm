{
 "cells": [
  {
   "cell_type": "code",
   "execution_count": 1,
   "id": "initial_id",
   "metadata": {
    "jupyter": {
     "is_executing": true
    },
    "scrolled": true
   },
   "source": [
    "! uv pip install lovely-jax\n",
    "\n",
    "import os\n",
    "os.environ[\"XLA_PYTHON_CLIENT_MEM_FRACTION\"] = \".99\"\n",
    "\n",
    "import lovely_jax as lj\n",
    "\n",
    "lj.monkey_patch()\n",
    "\n",
    "import jax\n",
    "from openqdc.datasets import SpiceV2 as Spice\n",
    "\n",
    "from physnetjax.data.datasets import process_in_memory\n",
    "from physnetjax.models.model import EF\n",
    "from physnetjax.training.training import train_model\n",
    "\n",
    "# Configurable Constants\n",
    "NATOMS = 110\n",
    "DEFAULT_DATA_KEYS = [\"Z\", \"R\", \"D\", \"E\", \"F\", \"N\"]\n",
    "RANDOM_SEED = 42\n",
    "BATCH_SIZE = 20\n",
    "\n",
    "# # Environment configuration\n",
    "# os.environ[\"XLA_PYTHON_CLIENT_MEM_FRACTION\"] = \".99\"\n",
    "# os.environ[\"CUDA_VISIBLE_DEVICES\"] = \"1\"\n",
    "\n",
    "# JAX Configuration Check\n",
    "def check_jax_configuration():\n",
    "    devices = jax.local_devices()\n",
    "    print(\"Devices:\", devices)\n",
    "    print(\"Default Backend:\", jax.default_backend())\n",
    "    print(\"All Devices:\", jax.devices())\n",
    "\n",
    "\n",
    "check_jax_configuration()\n",
    "\n",
    "\n",
    "\n"
   ],
   "outputs": []
  },
  {
   "cell_type": "code",
   "execution_count": 2,
   "id": "d98e6ce78ad8b0b8",
   "metadata": {},
   "source": [
    "batch_kwargs = {\n",
    "    \"batch_shape\" : int((BATCH_SIZE - 1) * NATOMS),\n",
    "    \"nb_len\" : int((NATOMS * (NATOMS - 1) * (BATCH_SIZE - 1)) // 1.6)\n",
    "}\n",
    "\n",
    "print(batch_kwargs)\n",
    "\n",
    "\n",
    "batch_method = \"advanced\"\n",
    "if batch_method == \"advanced\" and isinstance(batch_kwargs, dict) and \\\n",
    "    \"batch_shape\" in batch_kwargs and \"nb_len\" in batch_kwargs:\n",
    "    print(\"Using advanced batching method\")\n",
    "    from physnetjax.data.batches import prepare_batches_advanced_minibatching\n",
    "    def _prepare_batches(x):\n",
    "        return prepare_batches_advanced_minibatching(\n",
    "        x[\"key\"],\n",
    "        x[\"data\"],\n",
    "        x[\"batch_size\"],\n",
    "        batch_kwargs[\"batch_shape\"],\n",
    "        batch_kwargs[\"nb_len\"],\n",
    "        num_atoms=x[\"num_atoms\"],\n",
    "        data_keys=x[\"data_keys\"],\n",
    "    )\n",
    "else:\n",
    "    print(\"Using default batching method\")\n",
    "    from physnetjax.data.batches import get_prepare_batches_fn\n",
    "    _prepare_batches = get_prepare_batches_fn()\n",
    "\n",
    "\n",
    "prepare_spice_dataset?"
   ],
   "outputs": []
  },
  {
   "cell_type": "code",
   "execution_count": 3,
   "id": "891ac9d4-e86c-4812-b128-06d45f622094",
   "metadata": {},
   "source": [
    "# Constants\n",
    "NATOMS = 110\n",
    "# total number of samples, SpiceV2 = 2008628\n",
    "NTRAIN = 100000\n",
    "NVALID = 500\n",
    "DATA_KEYS = (\"Z\", \"R\", \"E\", \"F\", \"N\")\n",
    "RANDOM_SEED = 42\n",
    "BATCH_SIZE = 32\n",
    "\n",
    "\n",
    "# Dataset preparation\n",
    "def prepare_spice_dataset(\n",
    "    dataset, subsample_size, max_atoms, ignore_indices=None, key=jax.random.PRNGKey(42)\n",
    "):\n",
    "    \"\"\"Prepare the dataset by preprocessing and subsampling.\"\"\"\n",
    "    key = key[0] if len(key) > 1 else key\n",
    "    indices = dataset.subsample(subsample_size, seed=key)\n",
    "    if ignore_indices is not None:\n",
    "        indices = [_ for _ in indices if _ not in ignore_indices]\n",
    "    d = [dict(ds[_]) for _ in indices]\n",
    "    res = process_in_memory(d, max_atoms=max_atoms, openqdc=True)\n",
    "    return res, indices\n",
    "\n",
    "\n",
    "ds = Spice(energy_unit=\"ev\", distance_unit=\"ang\", array_format=\"jax\")\n",
    "ds.read_preprocess()\n",
    "\n",
    "\n",
    "# Random key initialization\n",
    "data_key, train_key = jax.random.split(jax.random.PRNGKey(RANDOM_SEED), 2)\n",
    "\n",
    "\n",
    "# load the validation set\n",
    "validation_set, validation_set_idxs = prepare_spice_dataset(\n",
    "    ds,\n",
    "    subsample_size=NVALID,\n",
    "    max_atoms=NATOMS,\n",
    "    key=data_key,\n",
    ")\n",
    "\n",
    "# # get a new data key\n",
    "# data_key, _ = jax.random.split(data_key, 2)\n",
    "# # load the training set\n",
    "# training_set, training_set_idxs = prepare_spice_dataset(\n",
    "#     ds,\n",
    "#     subsample_size=NTRAIN,\n",
    "#     max_atoms=NATOMS,\n",
    "#     key=data_key,\n",
    "#     ignore_indices=validation_set_idxs,\n",
    "# )\n"
   ],
   "outputs": []
  },
  {
   "cell_type": "code",
   "execution_count": 4,
   "id": "d92ffac2-20c4-490e-8382-55079e906601",
   "metadata": {},
   "source": [
    "from argparse import ArgumentParser\n",
    "from pathlib import Path\n",
    "from physnetjax.analysis.plot_run import plot_run\n",
    "import polars as pl\n",
    "import matplotlib.pyplot as plt\n",
    "from physnetjax.directories import LOGS_PATH, BASE_CKPT_DIR\n",
    "from physnetjax.logger.tensorboard_interface import process_tensorboard_logs\n",
    "\n",
    "logs_path = BASE_CKPT_DIR / \"test-6276dc44-fdba-4835-960b-d42df1b1800a\" / \"tfevents\"\n",
    "key = logs_path.parent.name\n",
    "df = process_tensorboard_logs(logs_path)\n",
    "\n",
    "# pretty print polars dataframe with rich\n",
    "from rich.console import Console\n",
    "\n",
    "console = Console()\n",
    "console.print(df)\n",
    "\n",
    "fig, ax = plt.subplots(5, 2, figsize=(12, 12))\n",
    "plot_run(df, ax, 1, key, log=True)\n",
    "# save the plot\n",
    "save_path = LOGS_PATH / key / \"tf_logs.png\"\n",
    "# make the directory if it does not exist\n",
    "save_path.parent.mkdir(exist_ok=True, parents=True)\n",
    "fig.savefig(save_path, bbox_inches=\"tight\")\n",
    "# save the dataframe as a csv\n",
    "df.write_csv(LOGS_PATH / key / \"tf_logs.csv\")\n"
   ],
   "outputs": []
  },
  {
   "cell_type": "code",
   "execution_count": 5,
   "id": "636d2f79-b700-49fe-b9cc-690ec9f54ff4",
   "metadata": {},
   "source": [
    "key, shuffle_key = jax.random.split(data_key)\n",
    "\n",
    "kwargs = {\n",
    "    \"key\": shuffle_key,\n",
    "    \"data\": validation_set,\n",
    "    \"batch_size\": BATCH_SIZE,\n",
    "    \"num_atoms\": NATOMS,\n",
    "    \"data_keys\": DATA_KEYS,\n",
    "}\n",
    "\n",
    "\n",
    "valid_batches = _prepare_batches(kwargs)\n",
    "\n",
    "\n",
    "# kwargs = {\n",
    "#     \"key\": shuffle_key,\n",
    "#     \"data\": train_data,\n",
    "#     \"batch_size\": batch_size,\n",
    "#     \"num_atoms\": num_atoms,\n",
    "#     \"data_keys\": data_keys,\n",
    "# }\n",
    "\n",
    "\n",
    "# train_batches = _prepare_batches(kwargs)"
   ],
   "outputs": []
  },
  {
   "cell_type": "code",
   "execution_count": 6,
   "id": "ca15218b-bea8-4370-9fc1-98d964b95d23",
   "metadata": {},
   "source": [
    "b = valid_batches[0]\n",
    "b.keys()"
   ],
   "outputs": []
  },
  {
   "cell_type": "code",
   "execution_count": 7,
   "id": "054c2b5c-4b60-478c-9919-ccf9abd85eeb",
   "metadata": {},
   "source": [
    "jax.numpy.array(b[\"F\"]).v, b[\"batch_mask\"]"
   ],
   "outputs": []
  },
  {
   "cell_type": "code",
   "execution_count": 8,
   "id": "7f72e54b-a333-49bd-8b7e-429830cf62bf",
   "metadata": {
    "scrolled": true
   },
   "source": [
    "fig = plt.figure(figsize=(200,2.5))\n",
    "n_rows = 5\n",
    "\n",
    "ax1 = plt.subplot(n_rows, 1, 1)\n",
    "ax1.matshow(b[\"R\"].T, cmap=\"bwr\")\n",
    "ax1.set_axis_off()\n",
    "\n",
    "ax2 = plt.subplot(n_rows, 1, 2,)\n",
    "ax2.matshow(b[\"Z\"][...,None].T, cmap=\"rainbow\", vmin=0, vmax=35)\n",
    "ax2.set_axis_off()\n",
    "\n",
    "ax3 = plt.subplot(n_rows, 1, 3, )\n",
    "ax3.matshow(b[\"F\"].T, cmap=\"bwr\", vmin=-0.1, vmax=0.1)\n",
    "ax3.set_axis_off()\n",
    "\n",
    "ax4 = plt.subplot(n_rows, 1, 4,)\n",
    "ax4.matshow(b[\"atom_mask\"][None,...], cmap=\"Set2\")\n",
    "ax4.set_axis_off()\n",
    "\n",
    "ax5 = plt.subplot(n_rows, 1, 5,)\n",
    "ax5.matshow(b[\"batch_segments\"][None,...], cmap=\"Set2\")\n",
    "ax5.set_axis_off()\n",
    "\n",
    "plt.tight_layout()\n",
    "plt.show()"
   ],
   "outputs": []
  },
  {
   "cell_type": "code",
   "execution_count": 9,
   "id": "b35f0b6a-ae52-41a3-932b-870aa9a49d1e",
   "metadata": {},
   "source": [
    "from physnetjax.restart.restart import get_last\n",
    "\n",
    "restart = BASE_CKPT_DIR / \"test-6276dc44-fdba-4835-960b-d42df1b1800a\" \n",
    "restart = get_last(restart)\n",
    "restart"
   ],
   "outputs": []
  },
  {
   "cell_type": "code",
   "execution_count": 10,
   "id": "fee23cbd-301a-4c11-8b2f-409aaca22667",
   "metadata": {},
   "source": [
    "from physnetjax.restart.restart import get_params_model\n",
    "\n",
    "params, model = get_params_model(restart, natoms=110)"
   ],
   "outputs": []
  },
  {
   "cell_type": "code",
   "execution_count": 11,
   "id": "a4cd0a05-fb79-4f6f-9fbc-bd209100e42a",
   "metadata": {},
   "source": [
    "model.natoms = NATOMS\n",
    "print(model)\n",
    "from physnetjax.analysis.analysis import plot_stats\n",
    "output = plot_stats(valid_batches, model, params, _set=\"Test\", \n",
    "               do_kde=True, batch_size=32)\n"
   ],
   "outputs": []
  },
  {
   "cell_type": "code",
   "execution_count": 12,
   "id": "e17f7cdb-5a4a-4d42-b98a-9f1f296a2c14",
   "metadata": {},
   "source": [
    "import numpy as np\n",
    "energies = np.array([_[\"E\"] for _ in valid_batches])\n",
    "# energies.flatten()"
   ],
   "outputs": []
  },
  {
   "cell_type": "code",
   "execution_count": 13,
   "id": "f750a114-338d-4867-be96-ac2c53a5021f",
   "metadata": {},
   "source": [
    "output.keys()\n",
    "_idx = output[\"predEs\"].nonzero()[0]\n",
    "for i, (a,b) in enumerate(zip(output[\"predEs\"][_idx], output[\"Es\"][_idx])):\n",
    "    print( i // 32 , i % 32, a, b)"
   ],
   "outputs": []
  },
  {
   "cell_type": "code",
   "execution_count": 14,
   "id": "a85dc068-751d-46d0-b7d1-0738a11def41",
   "metadata": {
    "scrolled": true
   },
   "source": [
    "ns = np.vstack([_[\"N\"] for _ in valid_batches])\n",
    "nonzero = np.nonzero(ns.flatten())[0]\n",
    "plt.hist(ns.flatten()[nonzero])\n",
    "ns, energies"
   ],
   "outputs": []
  },
  {
   "cell_type": "code",
   "execution_count": 12,
   "id": "17df79d9-6ffc-4efb-ad8b-d8dcea445a5c",
   "metadata": {
    "scrolled": true
   },
   "source": [
    "# plt.hist(output2[\"E\"])\n",
    "# ds._e0s_dispatcher[output2[\"Z\"][0]]\n",
    "print(ds[0][\"energies\"], 512.6264  * 0.0367492929)\n",
    "print(ds[0][\"energies\"] - ds[0][\"e0\"].sum() * 0.0367492929  )\n",
    "print(ds[0][\"e0\"].sum() - 512.6264 )\n",
    "print(ds[0])\n",
    "ds[0][\"e0\"].sum() * 0.0367492929, [np.array([ds._e0s_dispatcher[int(_)].mean for _ in ds[0][\"atomic_numbers\"] if _ != 0]).sum() ]"
   ],
   "outputs": []
  },
  {
   "cell_type": "code",
   "execution_count": 13,
   "id": "bd45f83d-0c48-4af3-88cf-b1c583376de9",
   "metadata": {},
   "source": [
    "forces = np.vstack([_[\"F\"] for _ in valid_batches])\n",
    "nonzero = np.nonzero(forces.flatten())[0]\n",
    "plt.hist(forces.flatten()[nonzero])\n",
    "# forces"
   ],
   "outputs": []
  },
  {
   "cell_type": "code",
   "execution_count": null,
   "id": "8440561f-cee5-4ef7-9fef-b2116966b27d",
   "metadata": {},
   "source": [
    "from physnetjax.utils import get_last, get_files, get_params_model\n",
    "from physnetjax.analysis import plot_stats\n",
    "NATOMS = 110\n",
    "model.natoms = NATOMS\n",
    "\n",
    "output = plot_stats(combined, model, params, _set=\"Test\", \n",
    "               do_kde=True, batch_size=batch_size)"
   ],
   "outputs": []
  },
  {
   "cell_type": "code",
   "execution_count": null,
   "id": "1b4a6dc3-a30e-41ac-8ea5-78291bf21c03",
   "metadata": {},
   "source": [],
   "outputs": []
  },
  {
   "cell_type": "code",
   "execution_count": null,
   "id": "88897f77-ff4f-46e8-b30f-3fc193ca6a8f",
   "metadata": {},
   "source": [],
   "outputs": []
  },
  {
   "cell_type": "markdown",
   "id": "b989bffb-07fc-421f-a8b2-5d31c286e6b7",
   "metadata": {},
   "source": [
    "# Example training"
   ]
  },
  {
   "cell_type": "code",
   "execution_count": 1,
   "id": "2dd11332-0c09-4154-bcde-d66a4a087ca3",
   "metadata": {
    "scrolled": true
   },
   "source": [
    "# Model initialization\n",
    "model = EF(\n",
    "    features=128,\n",
    "    max_degree=0,\n",
    "    num_iterations=5,\n",
    "    num_basis_functions=16,\n",
    "    cutoff=5.0,\n",
    "    max_atomic_number=70,\n",
    "    charges=False,\n",
    "    natoms=NATOMS,\n",
    "    total_charge=0,\n",
    "    n_res=2,\n",
    "    zbl=False,\n",
    ")\n",
    "\n",
    "\n",
    "# Model training\n",
    "params = train_model(\n",
    "    train_key,\n",
    "    model,\n",
    "    output1,\n",
    "    output2,\n",
    "    num_epochs= int(10**2),\n",
    "    learning_rate=0.001,\n",
    "    energy_weight=1,\n",
    "    schedule_fn=\"constant\",\n",
    "    optimizer=\"amsgrad\",\n",
    "    batch_size=BATCH_SIZE,\n",
    "    num_atoms=NATOMS,\n",
    "    data_keys=DEFAULT_DATA_KEYS,\n",
    "    print_freq=1,\n",
    "    objective=\"valid_loss\",\n",
    "    best=1e6,\n",
    "    batch_method=\"advanced\",\n",
    "    batch_args_dict=batch_kwargs,\n",
    ")"
   ],
   "outputs": []
  },
  {
   "cell_type": "code",
   "execution_count": null,
   "id": "59eac6fe-2cbb-4fad-92bd-25e612c09612",
   "metadata": {},
   "source": [],
   "outputs": []
  }
 ],
 "metadata": {
  "kernelspec": {
   "display_name": "physnetjax",
   "language": "python",
   "name": "jaxphyscharmm"
  },
  "language_info": {
   "codemirror_mode": {
    "name": "ipython",
    "version": 3
   },
   "file_extension": ".py",
   "mimetype": "text/x-python",
   "name": "python",
   "nbconvert_exporter": "python",
   "pygments_lexer": "ipython3",
   "version": "3.12.7"
  }
 },
 "nbformat": 4,
 "nbformat_minor": 5
}
